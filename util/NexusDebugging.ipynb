{
 "cells": [
  {
   "cell_type": "code",
   "execution_count": 3,
   "metadata": {},
   "outputs": [],
   "source": [
    "import toytree\n",
    "import dendropy"
   ]
  },
  {
   "cell_type": "code",
   "execution_count": 27,
   "metadata": {},
   "outputs": [],
   "source": [
    "nex = \"/home/isaac/tmp/julia/SAADs_Toy_Dataset/Coracina/Corcina_Run1_maxcred.tre\"\n",
    "#nex = \"/home/isaac/tmp/julia/SAADs_Toy_Dataset/Nesoenas/Nesoenas_Cytb_prelimnary_maxcred.tre\"\n",
    "#nex = \"/home/isaac/tmp/julia/SAADs_Toy_Dataset/Zosterops/Zosterops_Indian_Atlantic_maxcred.tre\"\n",
    "#xtre = toytree.tree(nex)\n",
    "tree = dendropy.Tree.get(file=open(nex, \"r\"), schema=\"nexus\")\n",
    "tree.write(path=\"output.tre\", schema=\"nexus\")"
   ]
  },
  {
   "cell_type": "code",
   "execution_count": 26,
   "metadata": {},
   "outputs": [],
   "source": [
    "xtre = toytree.tree(nex, tree_format=10)\n",
    "xtre.write(nex, tree_format=10)"
   ]
  },
  {
   "cell_type": "code",
   "execution_count": 46,
   "metadata": {},
   "outputs": [
    {
     "name": "stdout",
     "output_type": "stream",
     "text": [
      "['2109_Nesoenas_picturata_Reunion', '352779_Nesoenas_picturata_Madagascar', '352781_Nesoenas_picturata_Madagascar', '423_Columba_livia_Utah', '427328_Nesoenas_picturata_Madagascar', '429308_Nesoenas_picturata_Madagascar', '433029_Nesoenas_picturata_Madagascar', '436422_Nesoenas_picturata_Madagascar', '436498_Nesoenas_picturata_Madagascar', '436499_Nesoenas_picturata_Madagascar', '438650_Nesoenas_picturata_Madagascar', '47282_Streptopelia_orientalis_Russia', '503_Nesoenas_picturata_Reunion', '59755_Columba_rupestris_Mongolia', '873_Nesoenas_picturata_Reunion', 'AJB556_Columba_oenops_Peru', 'ATP86136_Columba_plumbea_Brazil', 'B1798_Columba_leucocephala_Florida', 'B2096_Columba_speciosa_Mexico', 'B34209_Columba_guinea_South_Africa', 'B34209_Streptopelia_senegalensis_South_Africa', 'B34270_Streptopelia_semitorquata_South_Africa', 'B34271_Streptopelia_capicola_South_Africa', 'B4024_Reinwardtoena_browni_Captive', 'B793_Leptotila_rufaxilla_Peru', 'B995_Geotrygon_montana_Peru', 'CC1_Nesoenas_picturata_Madagascar', 'CC2_Columba_arquatrix_South_Africa', 'DAB236_Streptopelia_turtur_Kazakhstan', 'DHC1_Columba_fasciata_Utah', 'DHC5_Leptotila_verrauxi_Texas', 'DW4712_Streptopelia_chinensis_Philippines', 'KPJ5_Zenaida_asiatica_Arizona', 'KPJ5_Zenaida_macroura_Arizona', 'L563_Nesoenas_picturata_Seychelles', 'L565_Nesoenas_picturata_Mauritius', 'L566_Nesoenas_picturata_Seychelles', 'L591_Nesoenas_picturata_Aldabra', 'L592_Nesoenas_picturata_Aldabra', 'L593_Nesoenas_picturata_Aldabra', 'L594_Nesoenas_picturata_Aldabra', 'L595_Nesoenas_picturata_Aldabra', 'L597_Nesoenas_picturata_Aldabra', 'L598_Nesoenas_picturata_Aldabra', 'L600_Nesoenas_picturata_Aldabra', 'L615A_Nesoenas_picturata_Comoros', 'L616A_Nesoenas_picturata_Comoros', 'MKL82_Macropygia_mackinlayi_Solomon', 'PRS2168_Streptopelia_vinacea_Central_Africa_Rep', 'SDK1_Columba_pulchrichollis_Captive', 'SDK1_Streptopelia_bitorquata_Captive', 'SDK1_Streptopelia_decaocto_Netherlands', 'SDK1_Streptopelia_decipiens_Cameroon', 'SDK1_Streptopelia_roseogrisea_Cameroon', 'SDK2_Streptopelia_tranquebarica_Captive', 'SDK_4_Streptopelia_hypopyrrha_Cameroon', 'SEA074_Macropygia_tenurirostris_Philippines', 'SML1045_Columba_subvinacea_Peru', 'TA_Columba_palumbus_Captive', 'TA_Nesoenas_mayeri_Captive']\n"
     ]
    },
    {
     "data": {
      "text/plain": [
       "'[\"2109_Nesoenas_picturata_Reunion\", \"352779_Nesoenas_picturata_Madagascar\", \"352781_Nesoenas_picturata_Madagascar\", \"423_Columba_livia_Utah\", \"427328_Nesoenas_picturata_Madagascar\", \"429308_Nesoenas_picturata_Madagascar\", \"433029_Nesoenas_picturata_Madagascar\", \"436422_Nesoenas_picturata_Madagascar\", \"436498_Nesoenas_picturata_Madagascar\", \"436499_Nesoenas_picturata_Madagascar\", \"438650_Nesoenas_picturata_Madagascar\", \"47282_Streptopelia_orientalis_Russia\", \"503_Nesoenas_picturata_Reunion\", \"59755_Columba_rupestris_Mongolia\", \"873_Nesoenas_picturata_Reunion\", \"AJB556_Columba_oenops_Peru\", \"ATP86136_Columba_plumbea_Brazil\", \"B1798_Columba_leucocephala_Florida\", \"B2096_Columba_speciosa_Mexico\", \"B34209_Columba_guinea_South_Africa\", \"B34209_Streptopelia_senegalensis_South_Africa\", \"B34270_Streptopelia_semitorquata_South_Africa\", \"B34271_Streptopelia_capicola_South_Africa\", \"B4024_Reinwardtoena_browni_Captive\", \"B793_Leptotila_rufaxilla_Peru\", \"B995_Geotrygon_montana_Peru\", \"CC1_Nesoenas_picturata_Madagascar\", \"CC2_Columba_arquatrix_South_Africa\", \"DAB236_Streptopelia_turtur_Kazakhstan\", \"DHC1_Columba_fasciata_Utah\", \"DHC5_Leptotila_verrauxi_Texas\", \"DW4712_Streptopelia_chinensis_Philippines\", \"KPJ5_Zenaida_asiatica_Arizona\", \"KPJ5_Zenaida_macroura_Arizona\", \"L563_Nesoenas_picturata_Seychelles\", \"L565_Nesoenas_picturata_Mauritius\", \"L566_Nesoenas_picturata_Seychelles\", \"L591_Nesoenas_picturata_Aldabra\", \"L592_Nesoenas_picturata_Aldabra\", \"L593_Nesoenas_picturata_Aldabra\", \"L594_Nesoenas_picturata_Aldabra\", \"L595_Nesoenas_picturata_Aldabra\", \"L597_Nesoenas_picturata_Aldabra\", \"L598_Nesoenas_picturata_Aldabra\", \"L600_Nesoenas_picturata_Aldabra\", \"L615A_Nesoenas_picturata_Comoros\", \"L616A_Nesoenas_picturata_Comoros\", \"MKL82_Macropygia_mackinlayi_Solomon\", \"PRS2168_Streptopelia_vinacea_Central_Africa_Rep\", \"SDK1_Columba_pulchrichollis_Captive\", \"SDK1_Streptopelia_bitorquata_Captive\", \"SDK1_Streptopelia_decaocto_Netherlands\", \"SDK1_Streptopelia_decipiens_Cameroon\", \"SDK1_Streptopelia_roseogrisea_Cameroon\", \"SDK2_Streptopelia_tranquebarica_Captive\", \"SDK_4_Streptopelia_hypopyrrha_Cameroon\", \"SEA074_Macropygia_tenurirostris_Philippines\", \"SML1045_Columba_subvinacea_Peru\", \"TA_Columba_palumbus_Captive\", \"TA_Nesoenas_mayeri_Captive\"]'"
      ]
     },
     "execution_count": 46,
     "metadata": {},
     "output_type": "execute_result"
    }
   ],
   "source": [
    "#nex = \"/home/isaac/tmp/julia/SAADs_Toy_Dataset/Coracina/Corcina_Run1_maxcred.tre\"\n",
    "nex = \"/home/isaac/tmp/julia/SAADs_Toy_Dataset/Nesoenas/Nesoenas_Cytb_prelimnary_maxcred.tre\"\n",
    "\n",
    "lines = open(nex).read().split(\"\\n\")[5:65]\n",
    "lines = [x.strip().split(\".\")[0] for x in lines]\n",
    "print(lines)\n",
    "str(lines).replace(\"\\'\", \"\\\"\")"
   ]
  },
  {
   "cell_type": "code",
   "execution_count": 57,
   "metadata": {},
   "outputs": [
    {
     "data": {
      "text/plain": [
       "'(r2:0.2311195,(r1:0.18127275,r0:0.18127275)3:0.049846749999999995);'"
      ]
     },
     "execution_count": 57,
     "metadata": {},
     "output_type": "execute_result"
    }
   ],
   "source": [
    "tre = toytree.rtree.coaltree(3)\n",
    "tre.write(tree_format=10)"
   ]
  }
 ],
 "metadata": {
  "kernelspec": {
   "display_name": "Python 3",
   "language": "python",
   "name": "python3"
  },
  "language_info": {
   "codemirror_mode": {
    "name": "ipython",
    "version": 3
   },
   "file_extension": ".py",
   "mimetype": "text/x-python",
   "name": "python",
   "nbconvert_exporter": "python",
   "pygments_lexer": "ipython3",
   "version": "3.8.6"
  }
 },
 "nbformat": 4,
 "nbformat_minor": 4
}
