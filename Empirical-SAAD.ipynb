{
 "cells": [
  {
   "cell_type": "code",
   "execution_count": 1,
   "metadata": {},
   "outputs": [
    {
     "name": "stderr",
     "output_type": "stream",
     "text": [
      "┌ Info: Precompiling Revise [295af30f-e4ad-537b-8983-00126c2a3abe]\n",
      "└ @ Base loading.jl:1278\n",
      "┌ Info: Precompiling Plots [91a5bcdd-55d7-5caf-9e0b-520d859cae80]\n",
      "└ @ Base loading.jl:1278\n",
      "┌ Info: Precompiling DataFrames [a93c6f00-e57d-5684-b7b6-d8193f3e46c0]\n",
      "└ @ Base loading.jl:1278\n",
      "┌ Info: Precompiling PyCall [438e738f-606a-5dbb-bf0a-cddfbfd45ab0]\n",
      "└ @ Base loading.jl:1278\n",
      "┌ Info: Precompiling Debugger [31a5f54b-26ea-5ae9-a837-f05ce5417438]\n",
      "└ @ Base loading.jl:1278\n",
      "┌ Info: Precompiling XLSX [fdbf4ff8-1666-58a4-91e7-1b58723a45e0]\n",
      "└ @ Base loading.jl:1278\n",
      "┌ Info: Precompiling Suppressor [fd094767-a336-5f1f-9728-57cf17d0bbfb]\n",
      "└ @ Base loading.jl:1278\n",
      "┌ Info: Precompiling Distributions [31c24e10-a181-5473-b8eb-7969acd0382f]\n",
      "└ @ Base loading.jl:1278\n"
     ]
    },
    {
     "name": "stdout",
     "output_type": "stream",
     "text": [
      "[\"@\", \"@v#.#\", \"@stdlib\"]"
     ]
    },
    {
     "name": "stderr",
     "output_type": "stream",
     "text": [
      "┌ Info: Precompiling Phylo [aea672f4-3940-5932-aa44-993d1c3ff149]\n",
      "└ @ Base loading.jl:1278\n"
     ]
    },
    {
     "data": {
      "text/plain": [
       "\"/home/isaac/.julia/packages/Phylo/0WXtf/src/Phylo.jl\""
      ]
     },
     "execution_count": 1,
     "metadata": {},
     "output_type": "execute_result"
    }
   ],
   "source": [
    "using Revise, Plots, DataFrames, Random, PyCall, Debugger, XLSX, Glob, Suppressor, Distributions\n",
    "#Only have to do this once\n",
    "#pushfirst!(LOAD_PATH, \"/home/isaac/SAAD\")\n",
    "\n",
    "print(LOAD_PATH)\n",
    "using Phylo\n",
    "pathof(Phylo)"
   ]
  },
  {
   "cell_type": "code",
   "execution_count": 2,
   "metadata": {},
   "outputs": [
    {
     "name": "stdout",
     "output_type": "stream",
     "text": [
      "\u001b[32m\u001b[1mStatus\u001b[22m\u001b[39m `~/.julia/environments/v1.5/Project.toml`\n",
      " \u001b[90m [aea672f4] \u001b[39m\u001b[37mPhylo v0.4.21\u001b[39m\n"
     ]
    }
   ],
   "source": [
    "# Update the Phylo package\n",
    "# pkg> up Phylo@v0.4.21\n",
    "using Pkg\n",
    "Pkg.status(\"Phylo\")"
   ]
  },
  {
   "cell_type": "markdown",
   "metadata": {},
   "source": [
    "## Sample name to species mappings per island\n",
    "There's a lot of heterogeneity in the sample name to species mappings so it might just be easiest, since there are relatively few samples, to do it by hand for now."
   ]
  },
  {
   "cell_type": "code",
   "execution_count": 3,
   "metadata": {},
   "outputs": [
    {
     "data": {
      "text/plain": [
       "Dict{String,Dict{Any,Any}} with 3 entries:\n",
       "  \"Mauritius\" => Dict{Any,Any}(\"Falco punctatus\"=>[\"punct103_F_punctatus\", \"pun…\n",
       "  \"Reunion\"   => Dict{Any,Any}(\"Saxicola tectes\"=>[\"Saxicola_tectes_REUNION_EU1…\n",
       "  \"Rodrigues\" => Dict{Any,Any}(\"Foudia flavicans\"=>[\"F_flavicans_M30_Rodrigues\"…"
      ]
     },
     "execution_count": 3,
     "metadata": {},
     "output_type": "execute_result"
    }
   ],
   "source": [
    "samps = Dict(\"Reunion\"=>Dict(), \"Mauritius\"=>Dict(), \"Rodrigues\"=>Dict())\n",
    "\n",
    "## Add Reunion samples\n",
    "samps[\"Reunion\"][\"Coracina newtoni\"] = [\"HM002973\"]\n",
    "samps[\"Reunion\"][\"Hypsipetes borbonicus\"] = [\"Hypsipetes_borbonicus_REUNION_AY590733\",\n",
    "                                                        \"Hypsipetes_borbonicus_REUNION_AY590734\"]\n",
    "samps[\"Reunion\"][\"Saxicola tectes\"] = [\"Saxicola_tectes_REUNION_EU190909\",\n",
    "                                                    \"Saxicola_tectes_REUNION_EU190910\",\n",
    "                                                    \"Saxicola_tectes_REUNION_EU190911\",\n",
    "                                                    \"Saxicola_tectes_REUNION_EU190912\",\n",
    "                                                    \"Saxicola_tectes_REUNION_EU421119\"]\n",
    "samps[\"Reunion\"][\"Terpsiphone bourbonnensis\"] = [\"Terpsiphone_bourbonnensis_bourbonnensis_222\",\n",
    "                                                              \"Terpsiphone_bourbonnensis_bourbonnensis_255\",\n",
    "                                                              \"Terpsiphone_bourbonnensis_bourbonnensis_302\",\n",
    "                                                              \"Terpsiphone_bourbonnensis_bourbonnensis_353\",\n",
    "                                                              \"Terpsiphone_bourbonnensis_bourbonnensis_38\",\n",
    "                                                              \"Terpsiphone_bourbonnensis_bourbonnensis_90\"]\n",
    "samps[\"Reunion\"][\"Zosterops borbonicus\"] = [\"Zosterops_borbonicus_REUNION_BWM46\",\n",
    "                                                        \"Zosterops_borbonicus_REUNION_BWM47\",\n",
    "                                                        \"Zosterops_borbonicus_REUNION_BWM54\",\n",
    "                                                        \"Zosterops_borbonicus_borbonicus_LK056802\"]\n",
    "samps[\"Reunion\"][\"Zosterops olivaceus\"] = [\"Zosterops_olivaceus_REUNION_BWM49\",\n",
    "                                                        \"Zosterops_olivaceus_REUNION_BWM55a\"]\n",
    "samps[\"Reunion\"][\"Circus maillardi\"] = [\"DB24_C_maillardi_Reunion\",\n",
    "                                                    \"DB25_C_maillardi_Reunion\"]\n",
    "# Underscores for agreement with changes in the sample names in the nexus files\n",
    "samps[\"Reunion\"][\"Nesoenas picturata\"] = [\"_2109_Nesoenas_picturata_Reunion\",\n",
    "                                                        \"_503_Nesoenas_picturata_Reunion\",\n",
    "                                                        \"_873_Nesoenas_picturata_Reunion\"]\n",
    "samps[\"Reunion\"][\"Aerodramus francicus\"] = [\"LC1_Aerodramus_francicus_cytb_Reunion\",\n",
    "                                                        \"SEOR1_Aerodramus_francicus_Reunion\"]\n",
    "\n",
    "# UPDATE (Sept 2022): Phedina for analysis with the Phedina_BEAST_tree_Dec2020-MauriceOnly.tre\n",
    "# which only included sequence data for 2 samples from Mauritius. This is the Note on that:\n",
    "#\n",
    "# Phedina borbonica has abundances but not sequence yet, so if we consider them as undiverged from\n",
    "# Mauritius, then these samples can serve as a proxy for Reunion divergence.\n",
    "# samps[\"Reunion\"][\"Phedina borbonica\"] = [\"M96a_Phedina_borbonica\", \"M97a_Phedina_borbonica\"]\n",
    "samps[\"Reunion\"][\"Phedina borbonica\"] = [\"BW_CDS2543_Phedina_borbonica_Reunion\",\n",
    "                                          \"BW_CDS1901_Phedina_borbonica_Reunion\"]\n",
    "\n",
    "## Add Mauritius samples\n",
    "samps[\"Mauritius\"][\"Coracina typica\"] = [\"HM002988\"]\n",
    "samps[\"Mauritius\"][\"Foudia rubra\"] = [\"F_rubra_M21_Mauritius\",\"Mau1Hybrid\",\n",
    "                                        \"Mau3MauMother\", \"Mau2Hybrid\",\n",
    "                                        \"Mau5\", \"Mau7\", \"Mau8\", \"Mau9\", \"Mau6\"]\n",
    "samps[\"Mauritius\"][\"Hypsipetes olivaceus\"] = [\"Hypsipetes_olivaceus_MAURITIUS_AY590735\",\n",
    "                                                \"Hypsipetes_olivaceus_MAURITIUS_AY590736\"]\n",
    "samps[\"Mauritius\"][\"Psittacula eques\"] = [\"Psittacula_echo_MAURITIUS_AY220113\",\n",
    "                                        \"Psittacula_echo_MAURITIUS_LN614518 \"]\n",
    "samps[\"Mauritius\"][\"Terpsiphone bourbonnensis\"] = [\"Terpsiphone_bourbonnensis_desolata\"]\n",
    "samps[\"Mauritius\"][\"Zosterops chloronothos\"] = [\"Zosterops_chloronothus_MAURITIUS_BWM28\",\n",
    "                                                \"Zosterops_chloronothus_MAURITIUS_BWM29\"]\n",
    "samps[\"Mauritius\"][\"Zosterops mauritianus\"] = [\"Zosterops_mauritianus_MAURITIUS_BWM17\",\n",
    "                                                \"Zosterops_mauritianus_MAURITIUS_BWM24\",\n",
    "                                                \"Zosterops_mauritianus_MAURITIUS_BWM25\",\n",
    "                                                \"Zosterops_mauritianus_MAURITIUS_LK056799\",\n",
    "                                                \"Zosterops_mauritianus_MAURITIUS_LK056800\",\n",
    "                                                \"Zosterops_mauritianus_MAURITIUS_LK056801 \"]\n",
    "samps[\"Mauritius\"][\"Falco punctatus\"] = [\"punct103_F_punctatus\",\n",
    "                                            \"punct116_F_punctatus\",\n",
    "                                            \"punct62_F_punctatus\"]\n",
    "samps[\"Mauritius\"][\"Nesoenas mayeri\"] = [\"TA_Nesoenas_mayeri_Captive\"]\n",
    "samps[\"Mauritius\"][\"Nesoenas picturata\"] = [\"L565_Nesoenas_picturata_Mauritius\"]\n",
    "samps[\"Mauritius\"][\"Aerodramus francicus\"] = [\"DHC52_Aerodramus_francicus_Mauritius\",\n",
    "                                                \"DHC53_Aerodramus_francicus_Mauritius\"]\n",
    "\n",
    "# UPDATE (Sept 2022): Phedina for analysis with the Phedina_BEAST_tree_Dec2020-MauriceOnly.tre\n",
    "# which only included sequence data for 2 samples from Mauritius.\n",
    "#samps[\"Mauritius\"][\"Phedina borbonica\"] = [\"M96a_Phedina_borbonica\", \"M97a_Phedina_borbonica\"]\n",
    "samps[\"Mauritius\"][\"Phedina borbonica\"] = [\"BW_95_Phedina_borbonica_Maurice\",\n",
    "                                            \"BW_91_Phedina_borbonica_Maurice\",\n",
    "                                            \"BW_93_Phedina_borbonica_Maurice\",\n",
    "                                            \"BW_94_Phedina_borbonica_Maurice\",\n",
    "                                            \"BW_97_Phedina_borbonica_Maurice\",\n",
    "                                            \"BW_92_Phedina_borbonica_Maurice\",\n",
    "                                            \"BW_98_Phedina_borbonica_Maurice\"]\n",
    "\n",
    "## Add Rodrigues samples\n",
    "samps[\"Rodrigues\"][\"Acrocephalus rodericanus\"] = [\"Acrocephalus_rodericanus_RODRIGUES_L556\",\n",
    "                                                    \"Acrocephalus_rodericanus_RODRIGUES_L568\"]\n",
    "samps[\"Rodrigues\"][\"Foudia flavicans\"] = [\"F_flavicans_M30_Rodrigues\",\n",
    "                                            \"F_flavicans_M32_Rodrigues\",\n",
    "                                            \"F_flavicans_M34_Rodrigues\"]\n",
    "samps"
   ]
  },
  {
   "cell_type": "markdown",
   "metadata": {},
   "source": [
    "# Do it all\n"
   ]
  },
  {
   "cell_type": "code",
   "execution_count": 84,
   "metadata": {},
   "outputs": [],
   "source": [
    "function plot_saad(island)\n",
    "    df = load_sheet()\n",
    "    df = get_abunds(df, island)\n",
    "    df = read_nexus(df)\n",
    "    df = get_mrcas(df, island)\n",
    "    plot_saad!(df, \"SAADs\", island)\n",
    "end\n",
    "plot()\n",
    "plot_saad(\"Reunion\")\n",
    "plot_saad(\"Mauritius\")\n",
    "png(\"Mascarene_SAAD\")\n",
    "#plot_saad(\"Rodrigues\")"
   ]
  },
  {
   "cell_type": "markdown",
   "metadata": {},
   "source": [
    "## Get abundance data"
   ]
  },
  {
   "cell_type": "code",
   "execution_count": 98,
   "metadata": {
    "scrolled": true
   },
   "outputs": [
    {
     "data": {
      "text/html": [
       "<div class=\"data-frame\"><p>35 rows × 9 columns (omitted printing of 2 columns)</p><table class=\"data-frame\"><thead><tr><th></th><th>Island</th><th>Genus</th><th>Species</th><th>Subspecies</th><th>1</th><th>2</th><th>Absolute</th></tr><tr><th></th><th title=\"Any\">Any</th><th title=\"Any\">Any</th><th title=\"Any\">Any</th><th title=\"Any\">Any</th><th title=\"Any\">Any</th><th title=\"Any\">Any</th><th title=\"Any\">Any</th></tr></thead><tbody><tr><th>1</th><td>Reunion</td><td>Coracina</td><td>newtoni</td><td><em>missing</em></td><td><em>missing</em></td><td><em>missing</em></td><td>88.0</td></tr><tr><th>2</th><td>Reunion</td><td>Hypsipetes</td><td>borbonicus</td><td><em>missing</em></td><td><em>missing</em></td><td><em>missing</em></td><td><em>missing</em></td></tr><tr><th>3</th><td>Reunion</td><td>Saxicola</td><td>tectes</td><td><em>missing</em></td><td><em>missing</em></td><td><em>missing</em></td><td>180000.0</td></tr><tr><th>4</th><td>Reunion</td><td>Terpsiphone</td><td>bourbonnensis</td><td>bourbonnensis</td><td><em>missing</em></td><td><em>missing</em></td><td>49500.0</td></tr><tr><th>5</th><td>Reunion</td><td>Zosterops</td><td>borbonicus</td><td><em>missing</em></td><td><em>missing</em></td><td><em>missing</em></td><td><em>missing</em></td></tr><tr><th>6</th><td>Reunion</td><td>Zosterops</td><td>olivaceus</td><td><em>missing</em></td><td><em>missing</em></td><td><em>missing</em></td><td>150000.0</td></tr><tr><th>7</th><td>Reunion</td><td>Circus </td><td>maillardi</td><td><em>missing</em></td><td><em>missing</em></td><td><em>missing</em></td><td><em>missing</em></td></tr><tr><th>8</th><td>Reunion</td><td>Nesoenas </td><td>picturata</td><td><em>missing</em></td><td><em>missing</em></td><td><em>missing</em></td><td>198000.0</td></tr><tr><th>9</th><td>Reunion</td><td>Aerodramus</td><td>francicus</td><td><em>missing</em></td><td><em>missing</em></td><td><em>missing</em></td><td>26354.0</td></tr><tr><th>10</th><td>Reunion</td><td>Phedina </td><td>borbonica</td><td><em>missing</em></td><td><em>missing</em></td><td><em>missing</em></td><td>400.0</td></tr><tr><th>11</th><td>Reunion</td><td>Fregilupus</td><td>varius</td><td><em>missing</em></td><td><em>missing</em></td><td><em>missing</em></td><td>EXTINCT</td></tr><tr><th>12</th><td>Reunion</td><td>Mascarinus</td><td>mascarinus</td><td><em>missing</em></td><td><em>missing</em></td><td><em>missing</em></td><td>EXTINCT</td></tr><tr><th>13</th><td>Reunion</td><td>Psittacula</td><td>eques</td><td>eques</td><td><em>missing</em></td><td><em>missing</em></td><td>EXTINCT</td></tr><tr><th>14</th><td><em>missing</em></td><td><em>missing</em></td><td><em>missing</em></td><td><em>missing</em></td><td><em>missing</em></td><td><em>missing</em></td><td><em>missing</em></td></tr><tr><th>15</th><td><em>missing</em></td><td><em>missing</em></td><td><em>missing</em></td><td><em>missing</em></td><td><em>missing</em></td><td><em>missing</em></td><td><em>missing</em></td></tr><tr><th>16</th><td>Mauritius</td><td>Coracina</td><td>typica</td><td><em>missing</em></td><td><em>missing</em></td><td><em>missing</em></td><td>520.0</td></tr><tr><th>17</th><td>Mauritius</td><td>Foudia</td><td>rubra</td><td><em>missing</em></td><td><em>missing</em></td><td><em>missing</em></td><td><em>missing</em></td></tr><tr><th>18</th><td>Mauritius</td><td>Hypsipetes</td><td>olivaceus</td><td><em>missing</em></td><td><em>missing</em></td><td><em>missing</em></td><td>560.0</td></tr><tr><th>19</th><td>Mauritius</td><td>Psittacula</td><td>eques</td><td>echo</td><td><em>missing</em></td><td><em>missing</em></td><td>533.0</td></tr><tr><th>20</th><td>Mauritius</td><td>Terpsiphone</td><td>bourbonnensis</td><td>desolata</td><td><em>missing</em></td><td><em>missing</em></td><td><em>missing</em></td></tr><tr><th>21</th><td>Mauritius</td><td>Zosterops</td><td>chloronothos</td><td><em>missing</em></td><td><em>missing</em></td><td><em>missing</em></td><td><em>missing</em></td></tr><tr><th>22</th><td>Mauritius</td><td>Zosterops</td><td>mauritianus</td><td><em>missing</em></td><td><em>missing</em></td><td><em>missing</em></td><td><em>missing</em></td></tr><tr><th>23</th><td>Mauritius</td><td>Falco </td><td>punctatus</td><td><em>missing</em></td><td><em>missing</em></td><td><em>missing</em></td><td><em>missing</em></td></tr><tr><th>24</th><td>Mauritius</td><td>Nesoenas</td><td>mayeri</td><td><em>missing</em></td><td><em>missing</em></td><td><em>missing</em></td><td><em>missing</em></td></tr><tr><th>25</th><td>Mauritius</td><td>Nesoenas </td><td>picturata</td><td>picturata</td><td><em>missing</em></td><td><em>missing</em></td><td><em>missing</em></td></tr><tr><th>26</th><td>Mauritius</td><td>Aerodramus</td><td>francicus</td><td><em>missing</em></td><td><em>missing</em></td><td><em>missing</em></td><td>4172.0</td></tr><tr><th>27</th><td>Mauritius</td><td>Phedina </td><td>borbonica</td><td><em>missing</em></td><td><em>missing</em></td><td><em>missing</em></td><td>300.0</td></tr><tr><th>28</th><td>Mauritius</td><td>Raphus</td><td>cucullatus</td><td><em>missing</em></td><td><em>missing</em></td><td><em>missing</em></td><td>EXTINCT</td></tr><tr><th>29</th><td>Mauritius</td><td>Otus</td><td>sauzieri</td><td><em>missing</em></td><td><em>missing</em></td><td><em>missing</em></td><td>EXTINCT</td></tr><tr><th>30</th><td><em>missing</em></td><td><em>missing</em></td><td><em>missing</em></td><td><em>missing</em></td><td><em>missing</em></td><td><em>missing</em></td><td><em>missing</em></td></tr><tr><th>&vellip;</th><td>&vellip;</td><td>&vellip;</td><td>&vellip;</td><td>&vellip;</td><td>&vellip;</td><td>&vellip;</td><td>&vellip;</td></tr></tbody></table></div>"
      ],
      "text/latex": [
       "\\begin{tabular}{r|cccccccc}\n",
       "\t& Island & Genus & Species & Subspecies & 1 & 2 & Absolute & \\\\\n",
       "\t\\hline\n",
       "\t& Any & Any & Any & Any & Any & Any & Any & \\\\\n",
       "\t\\hline\n",
       "\t1 & Reunion & Coracina & newtoni & \\emph{missing} & \\emph{missing} & \\emph{missing} & 88.0 & $\\dots$ \\\\\n",
       "\t2 & Reunion & Hypsipetes & borbonicus & \\emph{missing} & \\emph{missing} & \\emph{missing} & \\emph{missing} & $\\dots$ \\\\\n",
       "\t3 & Reunion & Saxicola & tectes & \\emph{missing} & \\emph{missing} & \\emph{missing} & 180000.0 & $\\dots$ \\\\\n",
       "\t4 & Reunion & Terpsiphone & bourbonnensis & bourbonnensis & \\emph{missing} & \\emph{missing} & 49500.0 & $\\dots$ \\\\\n",
       "\t5 & Reunion & Zosterops & borbonicus & \\emph{missing} & \\emph{missing} & \\emph{missing} & \\emph{missing} & $\\dots$ \\\\\n",
       "\t6 & Reunion & Zosterops & olivaceus & \\emph{missing} & \\emph{missing} & \\emph{missing} & 150000.0 & $\\dots$ \\\\\n",
       "\t7 & Reunion & Circus  & maillardi & \\emph{missing} & \\emph{missing} & \\emph{missing} & \\emph{missing} & $\\dots$ \\\\\n",
       "\t8 & Reunion & Nesoenas  & picturata & \\emph{missing} & \\emph{missing} & \\emph{missing} & 198000.0 & $\\dots$ \\\\\n",
       "\t9 & Reunion & Aerodramus & francicus & \\emph{missing} & \\emph{missing} & \\emph{missing} & 26354.0 & $\\dots$ \\\\\n",
       "\t10 & Reunion & Phedina  & borbonica & \\emph{missing} & \\emph{missing} & \\emph{missing} & 400.0 & $\\dots$ \\\\\n",
       "\t11 & Reunion & Fregilupus & varius & \\emph{missing} & \\emph{missing} & \\emph{missing} & EXTINCT & $\\dots$ \\\\\n",
       "\t12 & Reunion & Mascarinus & mascarinus & \\emph{missing} & \\emph{missing} & \\emph{missing} & EXTINCT & $\\dots$ \\\\\n",
       "\t13 & Reunion & Psittacula & eques & eques & \\emph{missing} & \\emph{missing} & EXTINCT & $\\dots$ \\\\\n",
       "\t14 & \\emph{missing} & \\emph{missing} & \\emph{missing} & \\emph{missing} & \\emph{missing} & \\emph{missing} & \\emph{missing} & $\\dots$ \\\\\n",
       "\t15 & \\emph{missing} & \\emph{missing} & \\emph{missing} & \\emph{missing} & \\emph{missing} & \\emph{missing} & \\emph{missing} & $\\dots$ \\\\\n",
       "\t16 & Mauritius & Coracina & typica & \\emph{missing} & \\emph{missing} & \\emph{missing} & 520.0 & $\\dots$ \\\\\n",
       "\t17 & Mauritius & Foudia & rubra & \\emph{missing} & \\emph{missing} & \\emph{missing} & \\emph{missing} & $\\dots$ \\\\\n",
       "\t18 & Mauritius & Hypsipetes & olivaceus & \\emph{missing} & \\emph{missing} & \\emph{missing} & 560.0 & $\\dots$ \\\\\n",
       "\t19 & Mauritius & Psittacula & eques & echo & \\emph{missing} & \\emph{missing} & 533.0 & $\\dots$ \\\\\n",
       "\t20 & Mauritius & Terpsiphone & bourbonnensis & desolata & \\emph{missing} & \\emph{missing} & \\emph{missing} & $\\dots$ \\\\\n",
       "\t21 & Mauritius & Zosterops & chloronothos & \\emph{missing} & \\emph{missing} & \\emph{missing} & \\emph{missing} & $\\dots$ \\\\\n",
       "\t22 & Mauritius & Zosterops & mauritianus & \\emph{missing} & \\emph{missing} & \\emph{missing} & \\emph{missing} & $\\dots$ \\\\\n",
       "\t23 & Mauritius & Falco  & punctatus & \\emph{missing} & \\emph{missing} & \\emph{missing} & \\emph{missing} & $\\dots$ \\\\\n",
       "\t24 & Mauritius & Nesoenas & mayeri & \\emph{missing} & \\emph{missing} & \\emph{missing} & \\emph{missing} & $\\dots$ \\\\\n",
       "\t25 & Mauritius & Nesoenas  & picturata & picturata & \\emph{missing} & \\emph{missing} & \\emph{missing} & $\\dots$ \\\\\n",
       "\t26 & Mauritius & Aerodramus & francicus & \\emph{missing} & \\emph{missing} & \\emph{missing} & 4172.0 & $\\dots$ \\\\\n",
       "\t27 & Mauritius & Phedina  & borbonica & \\emph{missing} & \\emph{missing} & \\emph{missing} & 300.0 & $\\dots$ \\\\\n",
       "\t28 & Mauritius & Raphus & cucullatus & \\emph{missing} & \\emph{missing} & \\emph{missing} & EXTINCT & $\\dots$ \\\\\n",
       "\t29 & Mauritius & Otus & sauzieri & \\emph{missing} & \\emph{missing} & \\emph{missing} & EXTINCT & $\\dots$ \\\\\n",
       "\t30 & \\emph{missing} & \\emph{missing} & \\emph{missing} & \\emph{missing} & \\emph{missing} & \\emph{missing} & \\emph{missing} & $\\dots$ \\\\\n",
       "\t$\\dots$ & $\\dots$ & $\\dots$ & $\\dots$ & $\\dots$ & $\\dots$ & $\\dots$ & $\\dots$ &  \\\\\n",
       "\\end{tabular}\n"
      ],
      "text/plain": [
       "\u001b[1m35×9 DataFrame\u001b[0m\n",
       "\u001b[1m Row \u001b[0m│\u001b[1m Island    \u001b[0m\u001b[1m Genus        \u001b[0m\u001b[1m Species       \u001b[0m\u001b[1m Subspecies    \u001b[0m\u001b[1m 1       \u001b[0m\u001b[1m 2      \u001b[0m ⋯\n",
       "\u001b[1m     \u001b[0m│\u001b[90m Any       \u001b[0m\u001b[90m Any          \u001b[0m\u001b[90m Any           \u001b[0m\u001b[90m Any           \u001b[0m\u001b[90m Any     \u001b[0m\u001b[90m Any    \u001b[0m ⋯\n",
       "─────┼──────────────────────────────────────────────────────────────────────────\n",
       "   1 │ Reunion    Coracina      newtoni       \u001b[90m missing       \u001b[0m\u001b[90m missing \u001b[0m\u001b[90m missing\u001b[0m ⋯\n",
       "   2 │ Reunion    Hypsipetes    borbonicus    \u001b[90m missing       \u001b[0m\u001b[90m missing \u001b[0m\u001b[90m missing\u001b[0m\n",
       "   3 │ Reunion    Saxicola      tectes        \u001b[90m missing       \u001b[0m\u001b[90m missing \u001b[0m\u001b[90m missing\u001b[0m\n",
       "   4 │ Reunion    Terpsiphone   bourbonnensis  bourbonnensis \u001b[90m missing \u001b[0m\u001b[90m missing\u001b[0m\n",
       "   5 │ Reunion    Zosterops     borbonicus    \u001b[90m missing       \u001b[0m\u001b[90m missing \u001b[0m\u001b[90m missing\u001b[0m ⋯\n",
       "   6 │ Reunion    Zosterops     olivaceus     \u001b[90m missing       \u001b[0m\u001b[90m missing \u001b[0m\u001b[90m missing\u001b[0m\n",
       "   7 │ Reunion    Circus        maillardi     \u001b[90m missing       \u001b[0m\u001b[90m missing \u001b[0m\u001b[90m missing\u001b[0m\n",
       "   8 │ Reunion    Nesoenas      picturata     \u001b[90m missing       \u001b[0m\u001b[90m missing \u001b[0m\u001b[90m missing\u001b[0m\n",
       "   9 │ Reunion    Aerodramus    francicus     \u001b[90m missing       \u001b[0m\u001b[90m missing \u001b[0m\u001b[90m missing\u001b[0m ⋯\n",
       "  10 │ Reunion    Phedina       borbonica     \u001b[90m missing       \u001b[0m\u001b[90m missing \u001b[0m\u001b[90m missing\u001b[0m\n",
       "  11 │ Reunion    Fregilupus    varius        \u001b[90m missing       \u001b[0m\u001b[90m missing \u001b[0m\u001b[90m missing\u001b[0m\n",
       "  ⋮  │     ⋮           ⋮              ⋮              ⋮           ⋮        ⋮    ⋱\n",
       "  26 │ Mauritius  Aerodramus    francicus     \u001b[90m missing       \u001b[0m\u001b[90m missing \u001b[0m\u001b[90m missing\u001b[0m\n",
       "  27 │ Mauritius  Phedina       borbonica     \u001b[90m missing       \u001b[0m\u001b[90m missing \u001b[0m\u001b[90m missing\u001b[0m ⋯\n",
       "  28 │ Mauritius  Raphus        cucullatus    \u001b[90m missing       \u001b[0m\u001b[90m missing \u001b[0m\u001b[90m missing\u001b[0m\n",
       "  29 │ Mauritius  Otus          sauzieri      \u001b[90m missing       \u001b[0m\u001b[90m missing \u001b[0m\u001b[90m missing\u001b[0m\n",
       "  30 │\u001b[90m missing   \u001b[0m\u001b[90m missing      \u001b[0m\u001b[90m missing       \u001b[0m\u001b[90m missing       \u001b[0m\u001b[90m missing \u001b[0m\u001b[90m missing\u001b[0m\n",
       "  31 │ Rodrigues  Acrocephalus  rodericanus   \u001b[90m missing       \u001b[0m\u001b[90m missing \u001b[0m\u001b[90m missing\u001b[0m ⋯\n",
       "  32 │ Rodrigues  Foudia        flavicans     \u001b[90m missing       \u001b[0m\u001b[90m missing \u001b[0m\u001b[90m missing\u001b[0m\n",
       "  33 │ Rodrigues  Psittacula    exsul         \u001b[90m missing       \u001b[0m\u001b[90m missing \u001b[0m\u001b[90m missing\u001b[0m\n",
       "  34 │ Rodrigues  Otus          murivorus     \u001b[90m missing       \u001b[0m\u001b[90m missing \u001b[0m\u001b[90m missing\u001b[0m\n",
       "  35 │ Rodrigues  Pezophaps     solitaria     \u001b[90m missing       \u001b[0m\u001b[90m missing \u001b[0m\u001b[90m missing\u001b[0m ⋯\n",
       "\u001b[36m                                                   3 columns and 14 rows omitted\u001b[0m"
      ]
     },
     "execution_count": 98,
     "metadata": {},
     "output_type": "execute_result"
    }
   ],
   "source": [
    "function load_sheet()\n",
    "    xlf = \"/home/isaac/SAAD/SAADs_Toy_Dataset/ToyDataset_Master_Sheet_V3.xlsx\"\n",
    "    xf = XLSX.readxlsx(xlf)\n",
    "    dat = xf[\"Sheet1!A13:I47\"]\n",
    "    df = DataFrame(dat, :auto)\n",
    "    n=[\"Island\",\n",
    "            \"Genus\",\n",
    "            \"Species\",\n",
    "            \"Subspecies\",\n",
    "            \"1\", \"2\",\n",
    "            \"Absolute\",\n",
    "            \"Minimum\",\n",
    "            \"Maximum\"]\n",
    "    df = rename!(df, n)\n",
    "    return df\n",
    "end\n",
    "load_sheet()"
   ]
  },
  {
   "cell_type": "code",
   "execution_count": 26,
   "metadata": {},
   "outputs": [
    {
     "data": {
      "text/html": [
       "<div class=\"data-frame\"><p>10 rows × 6 columns</p><table class=\"data-frame\"><thead><tr><th></th><th>Genus</th><th>Species</th><th>Subspecies</th><th>Absolute</th><th>Minimum</th><th>Maximum</th></tr><tr><th></th><th title=\"Any\">Any</th><th title=\"Any\">Any</th><th title=\"Any\">Any</th><th title=\"Any\">Any</th><th title=\"Any\">Any</th><th title=\"Any\">Any</th></tr></thead><tbody><tr><th>1</th><td>Coracina</td><td>newtoni</td><td><em>missing</em></td><td>88</td><td>88</td><td>88</td></tr><tr><th>2</th><td>Hypsipetes</td><td>borbonicus</td><td><em>missing</em></td><td><em>missing</em></td><td>20500</td><td>50000</td></tr><tr><th>3</th><td>Saxicola</td><td>tectes</td><td><em>missing</em></td><td>180000</td><td>180000</td><td>180000</td></tr><tr><th>4</th><td>Terpsiphone</td><td>bourbonnensis</td><td>bourbonnensis</td><td>49500</td><td>49500</td><td>49500</td></tr><tr><th>5</th><td>Zosterops</td><td>borbonicus</td><td><em>missing</em></td><td><em>missing</em></td><td>465000</td><td>550000</td></tr><tr><th>6</th><td>Zosterops</td><td>olivaceus</td><td><em>missing</em></td><td>150000</td><td>150000</td><td>150000</td></tr><tr><th>7</th><td>Circus </td><td>maillardi</td><td><em>missing</em></td><td><em>missing</em></td><td>200</td><td>560</td></tr><tr><th>8</th><td>Nesoenas </td><td>picturata</td><td><em>missing</em></td><td>198000</td><td>198000</td><td>198000</td></tr><tr><th>9</th><td>Aerodramus</td><td>francicus</td><td><em>missing</em></td><td>26354</td><td>26354</td><td>26354</td></tr><tr><th>10</th><td>Phedina </td><td>borbonica</td><td><em>missing</em></td><td>400</td><td>400</td><td>400</td></tr></tbody></table></div>"
      ],
      "text/latex": [
       "\\begin{tabular}{r|cccccc}\n",
       "\t& Genus & Species & Subspecies & Absolute & Minimum & Maximum\\\\\n",
       "\t\\hline\n",
       "\t& Any & Any & Any & Any & Any & Any\\\\\n",
       "\t\\hline\n",
       "\t1 & Coracina & newtoni & \\emph{missing} & 88 & 88 & 88 \\\\\n",
       "\t2 & Hypsipetes & borbonicus & \\emph{missing} & \\emph{missing} & 20500 & 50000 \\\\\n",
       "\t3 & Saxicola & tectes & \\emph{missing} & 180000 & 180000 & 180000 \\\\\n",
       "\t4 & Terpsiphone & bourbonnensis & bourbonnensis & 49500 & 49500 & 49500 \\\\\n",
       "\t5 & Zosterops & borbonicus & \\emph{missing} & \\emph{missing} & 465000 & 550000 \\\\\n",
       "\t6 & Zosterops & olivaceus & \\emph{missing} & 150000 & 150000 & 150000 \\\\\n",
       "\t7 & Circus  & maillardi & \\emph{missing} & \\emph{missing} & 200 & 560 \\\\\n",
       "\t8 & Nesoenas  & picturata & \\emph{missing} & 198000 & 198000 & 198000 \\\\\n",
       "\t9 & Aerodramus & francicus & \\emph{missing} & 26354 & 26354 & 26354 \\\\\n",
       "\t10 & Phedina  & borbonica & \\emph{missing} & 400 & 400 & 400 \\\\\n",
       "\\end{tabular}\n"
      ],
      "text/plain": [
       "\u001b[1m10×6 DataFrame\u001b[0m\n",
       "\u001b[1m Row \u001b[0m│\u001b[1m Genus       \u001b[0m\u001b[1m Species       \u001b[0m\u001b[1m Subspecies    \u001b[0m\u001b[1m Absolute \u001b[0m\u001b[1m Minimum \u001b[0m\u001b[1m Maximum \u001b[0m\n",
       "\u001b[1m     \u001b[0m│\u001b[90m Any         \u001b[0m\u001b[90m Any           \u001b[0m\u001b[90m Any           \u001b[0m\u001b[90m Any      \u001b[0m\u001b[90m Any     \u001b[0m\u001b[90m Any     \u001b[0m\n",
       "─────┼───────────────────────────────────────────────────────────────────────\n",
       "   1 │ Coracina     newtoni       \u001b[90m missing       \u001b[0m 88        88       88\n",
       "   2 │ Hypsipetes   borbonicus    \u001b[90m missing       \u001b[0m\u001b[90m missing  \u001b[0m 20500    50000\n",
       "   3 │ Saxicola     tectes        \u001b[90m missing       \u001b[0m 180000    180000   180000\n",
       "   4 │ Terpsiphone  bourbonnensis  bourbonnensis  49500     49500    49500\n",
       "   5 │ Zosterops    borbonicus    \u001b[90m missing       \u001b[0m\u001b[90m missing  \u001b[0m 465000   550000\n",
       "   6 │ Zosterops    olivaceus     \u001b[90m missing       \u001b[0m 150000    150000   150000\n",
       "   7 │ Circus       maillardi     \u001b[90m missing       \u001b[0m\u001b[90m missing  \u001b[0m 200      560\n",
       "   8 │ Nesoenas     picturata     \u001b[90m missing       \u001b[0m 198000    198000   198000\n",
       "   9 │ Aerodramus   francicus     \u001b[90m missing       \u001b[0m 26354     26354    26354\n",
       "  10 │ Phedina      borbonica     \u001b[90m missing       \u001b[0m 400       400      400"
      ]
     },
     "execution_count": 26,
     "metadata": {},
     "output_type": "execute_result"
    }
   ],
   "source": [
    "# Island options are: Reunion, Mauritius, Rodrigues\n",
    "df = load_sheet()\n",
    "function get_abunds(df, island)\n",
    "    # Get rows relevant to this island\n",
    "    rdf = df[isequal.(df.Island, island), :]\n",
    "    # Subsample the data to retain only columns of interest\n",
    "    rdf = rdf[:, [:Genus, :Species, :Subspecies, :Absolute, :Minimum, :Maximum]]\n",
    "    # Fix max and min values to == Absolute, so we can use\n",
    "    # these columns for sampling abundances\n",
    "    for i in 1:nrow(rdf)\n",
    "        if !ismissing(rdf[!, :Absolute][i])\n",
    "            rdf[!, :Minimum][i] = rdf[!, :Absolute][i]\n",
    "            rdf[!, :Maximum][i] = rdf[!, :Absolute][i]\n",
    "        end\n",
    "    end\n",
    "    # Drop extinct\n",
    "    rdf = rdf[rdf.Minimum .!= \"EXTINCT\", :]\n",
    "    return rdf\n",
    "end\n",
    "df = get_abunds(df, \"Reunion\")"
   ]
  },
  {
   "cell_type": "markdown",
   "metadata": {},
   "source": [
    "## Read nexus\n",
    "Identify files with wacky nexus formatting. Success is indicated by `1` and failure by `0`, then you have to go through and figure out what the exact issue is with each file."
   ]
  },
  {
   "cell_type": "code",
   "execution_count": 50,
   "metadata": {},
   "outputs": [
    {
     "name": "stdout",
     "output_type": "stream",
     "text": [
      "Coracina\t1\t/home/isaac/SAAD/SAADs_Toy_Dataset/Coracina/Corcina_Run1_maxcred.tre\n",
      "Hypsipetes\t1\t/home/isaac/SAAD/SAADs_Toy_Dataset/Hypsipetes/Hypsipetes_maxcred_Lerner_rate.tre\n",
      "Saxicola\t1\t/home/isaac/SAAD/SAADs_Toy_Dataset/Saxicola/Saxicola_maxcred.tre\n",
      "Terpsiphone\t1\t/home/isaac/SAAD/SAADs_Toy_Dataset/Terpsiphone/Terpsiphone_Ben_run1_2_maxcred.tre\n",
      "Zosterops\t1\t/home/isaac/SAAD/SAADs_Toy_Dataset/Zosterops/Zosterops_Indian_Atlantic_maxcred.tre\n",
      "Zosterops\t1\t/home/isaac/SAAD/SAADs_Toy_Dataset/Zosterops/Zosterops_Indian_Atlantic_maxcred.tre\n",
      "Circus\t1\t/home/isaac/SAAD/SAADs_Toy_Dataset/Circus/Sortie_TreeAnnotator_Circus_All_maxcred.tre\n",
      "Nesoenas\t1\t/home/isaac/SAAD/SAADs_Toy_Dataset/Nesoenas/Nesoenas_Cytb_prelimnary_maxcred.tre\n",
      "Aerodramus\t1\t/home/isaac/SAAD/SAADs_Toy_Dataset/Aerodramus/Ben_Revised_Aerodramus_maxcred.tre\n",
      "Phedina\t1\t/home/isaac/SAAD/SAADs_Toy_Dataset/Phedina/Phedina_V3_BEAST_tree_maxcred.tre\n"
     ]
    },
    {
     "data": {
      "text/html": [
       "<div class=\"data-frame\"><p>10 rows × 7 columns</p><table class=\"data-frame\"><thead><tr><th></th><th>Genus</th><th>Species</th><th>Subspecies</th><th>Absolute</th><th>Minimum</th><th>Maximum</th><th>Tree</th></tr><tr><th></th><th title=\"Any\">Any</th><th title=\"Any\">Any</th><th title=\"Any\">Any</th><th title=\"Any\">Any</th><th title=\"Any\">Any</th><th title=\"Any\">Any</th><th title=\"Any\">Any</th></tr></thead><tbody><tr><th>1</th><td>Coracina</td><td>newtoni</td><td><em>missing</em></td><td>88</td><td>88</td><td>88</td><td>LinkTree{OneRoot,String,LinkNode{OneRoot,String,Dict{String,Any},LinkBranch{OneRoot,String,Dict{String,Any},Float64}},LinkBranch{OneRoot,String,Dict{String,Any},Float64},Dict{String,Any}} with 75 tips, 149 nodes and 148 branches.\\nLeaf names are HM002967, HM002956, HM002982, HM002955, HM002957, ... [69 omitted] ... and EF052686\\n</td></tr><tr><th>2</th><td>Hypsipetes</td><td>borbonicus</td><td><em>missing</em></td><td><em>missing</em></td><td>20500</td><td>50000</td><td>LinkTree{OneRoot,String,LinkNode{OneRoot,String,Dict{String,Any},LinkBranch{OneRoot,String,Dict{String,Any},Float64}},LinkBranch{OneRoot,String,Dict{String,Any},Float64},Dict{String,Any}} with 56 tips, 111 nodes and 110 branches.\\nLeaf names are Ixos_mcclellandii_China_GU112699, Ixos_mcclellandii__GQ242113, Ixos_rufigularis_Philippines_AY590752, Hypsipetes_parvirostris_moheliensis_COMOROS_AY590748, Hypsipetes_parvirostris_moheliensis_COMOROS_AY590738, ... [50 omitted] ... and Criniger_barbatus_Ghana_AY590760\\n</td></tr><tr><th>3</th><td>Saxicola</td><td>tectes</td><td><em>missing</em></td><td>180000</td><td>180000</td><td>180000</td><td>LinkTree{OneRoot,String,LinkNode{OneRoot,String,Dict{String,Any},LinkBranch{OneRoot,String,Dict{String,Any},Float64}},LinkBranch{OneRoot,String,Dict{String,Any},Float64},Dict{String,Any}} with 46 tips, 91 nodes and 90 branches.\\nLeaf names are Saxicola_caprata_Indonesia_EU421124, Saxicola_caprata_Indonesia_CytB_EU421122_, Saxicola_caprata_Indonesia_CytB_EU421123, Saxicola_caprata_Indonesia_CytB_HM633373_, Saxicola_insignis_Nepal_CytB_EU421117_, ... [40 omitted] ... and Saxicola_torquata_Nepal_CytB_EU421088_\\n</td></tr><tr><th>4</th><td>Terpsiphone</td><td>bourbonnensis</td><td>bourbonnensis</td><td>49500</td><td>49500</td><td>49500</td><td>LinkTree{OneRoot,String,LinkNode{OneRoot,String,Dict{String,Any},LinkBranch{OneRoot,String,Dict{String,Any},Float64}},LinkBranch{OneRoot,String,Dict{String,Any},Float64},Dict{String,Any}} with 34 tips, 67 nodes and 66 branches.\\nLeaf names are Terpsiphone_cinnamomea, Terpsiphone_mutata_comorensis, Terpsiphone_mutata_419_Madagascar, Terpsiphone_mutata_106_Mayotte, Terpsiphone_mutata_71_Mayotte, ... [28 omitted] ... and ZMUC_139450\\n</td></tr><tr><th>5</th><td>Zosterops</td><td>borbonicus</td><td><em>missing</em></td><td><em>missing</em></td><td>465000</td><td>550000</td><td>LinkTree{OneRoot,String,LinkNode{OneRoot,String,Dict{String,Any},LinkBranch{OneRoot,String,Dict{String,Any},Float64}},LinkBranch{OneRoot,String,Dict{String,Any},Float64},Dict{String,Any}} with 253 tips, 505 nodes and 504 branches.\\nLeaf names are Zosterops_nigrorum_02663, Zosterops_nigrorum_AY228085, Zosterops_nigrorum_aureiloris_Philippines_DQ328356, Zosterops_nigrorum_JN614902, Zosterops_nigrorum_aureiloris_Philippines_DQ328355, ... [247 omitted] ... and Sy_atricapilla_B13476\\n</td></tr><tr><th>6</th><td>Zosterops</td><td>olivaceus</td><td><em>missing</em></td><td>150000</td><td>150000</td><td>150000</td><td>LinkTree{OneRoot,String,LinkNode{OneRoot,String,Dict{String,Any},LinkBranch{OneRoot,String,Dict{String,Any},Float64}},LinkBranch{OneRoot,String,Dict{String,Any},Float64},Dict{String,Any}} with 253 tips, 505 nodes and 504 branches.\\nLeaf names are Zosterops_nigrorum_02663, Zosterops_nigrorum_AY228085, Zosterops_nigrorum_aureiloris_Philippines_DQ328356, Zosterops_nigrorum_JN614902, Zosterops_nigrorum_aureiloris_Philippines_DQ328355, ... [247 omitted] ... and Sy_atricapilla_B13476\\n</td></tr><tr><th>7</th><td>Circus </td><td>maillardi</td><td><em>missing</em></td><td><em>missing</em></td><td>200</td><td>560</td><td>LinkTree{OneRoot,String,LinkNode{OneRoot,String,Dict{String,Any},LinkBranch{OneRoot,String,Dict{String,Any},Float64}},LinkBranch{OneRoot,String,Dict{String,Any},Float64},Dict{String,Any}} with 36 tips, 71 nodes and 70 branches.\\nLeaf names are CAS86159_A_striatus_USA, NC118_A_haplochorous_NewCaledonia, NRM20076228_C_macrourus_Sweden, DB03_C_maurus_SouthAfrica, DB36_C_maurus_SouthAfrica, ... [30 omitted] ... and MACN2075_C_buffoni_Argentina\\n</td></tr><tr><th>8</th><td>Nesoenas </td><td>picturata</td><td><em>missing</em></td><td>198000</td><td>198000</td><td>198000</td><td>LinkTree{OneRoot,String,LinkNode{OneRoot,String,Dict{String,Any},LinkBranch{OneRoot,String,Dict{String,Any},Float64}},LinkBranch{OneRoot,String,Dict{String,Any},Float64},Dict{String,Any}} with 60 tips, 119 nodes and 118 branches.\\nLeaf names are B34270_Streptopelia_semitorquata_South_Africa, SDK1_Streptopelia_decipiens_Cameroon, SDK1_Streptopelia_roseogrisea_Cameroon, SDK1_Streptopelia_decaocto_Netherlands, SDK1_Streptopelia_bitorquata_Captive, ... [54 omitted] ... and B2096_Columba_speciosa_Mexico\\n</td></tr><tr><th>9</th><td>Aerodramus</td><td>francicus</td><td><em>missing</em></td><td>26354</td><td>26354</td><td>26354</td><td>LinkTree{OneRoot,String,LinkNode{OneRoot,String,Dict{String,Any},LinkBranch{OneRoot,String,Dict{String,Any},Float64}},LinkBranch{OneRoot,String,Dict{String,Any},Float64},Dict{String,Any}} with 33 tips, 65 nodes and 64 branches.\\nLeaf names are CTC_Apus_melba_South_Africa, CMNH37000_Aerodramus_whiteheadi_Mindanao, DHC04_Aerodramus_fuciphagus_germani_Sabah, DMT048_Aerodramus_salangana_Sabah, DMT047_Aerodramus_salangana_Sabah, ... [27 omitted] ... and FMNH358312_Collocalia_troglodytes_Sibuyan\\n</td></tr><tr><th>10</th><td>Phedina </td><td>borbonica</td><td><em>missing</em></td><td>400</td><td>400</td><td>400</td><td>LinkTree{OneRoot,String,LinkNode{OneRoot,String,Dict{String,Any},LinkBranch{OneRoot,String,Dict{String,Any},Float64}},LinkBranch{OneRoot,String,Dict{String,Any},Float64},Dict{String,Any}} with 19 tips, 37 nodes and 36 branches.\\nLeaf names are FM213535_Phedina_brazzae, ANS2983_Riparia_cincta, BW_SMG20183_Phedina_borbonica_Madagascar, BW_436517_Phedina_borbonica_Madagascar_Antsiranana, BW_434744_Phedina_borbonica_Madagascar_Fianarantsoa, ... [13 omitted] ... and BW_CDS1901_Phedina_borbonica_Reunion\\n</td></tr></tbody></table></div>"
      ],
      "text/latex": [
       "\\begin{tabular}{r|ccccccc}\n",
       "\t& Genus & Species & Subspecies & Absolute & Minimum & Maximum & Tree\\\\\n",
       "\t\\hline\n",
       "\t& Any & Any & Any & Any & Any & Any & Any\\\\\n",
       "\t\\hline\n",
       "\t1 & Coracina & newtoni & \\emph{missing} & 88 & 88 & 88 & LinkTree\\{OneRoot,String,LinkNode\\{OneRoot,String,Dict\\{String,Any\\},LinkBranch\\{OneRoot,String,Dict\\{String,Any\\},Float64\\}\\},LinkBranch\\{OneRoot,String,Dict\\{String,Any\\},Float64\\},Dict\\{String,Any\\}\\} with 75 tips, 149 nodes and 148 branches.\\textbackslash{}nLeaf names are HM002967, HM002956, HM002982, HM002955, HM002957, ... [69 omitted] ... and EF052686\\textbackslash{}n \\\\\n",
       "\t2 & Hypsipetes & borbonicus & \\emph{missing} & \\emph{missing} & 20500 & 50000 & LinkTree\\{OneRoot,String,LinkNode\\{OneRoot,String,Dict\\{String,Any\\},LinkBranch\\{OneRoot,String,Dict\\{String,Any\\},Float64\\}\\},LinkBranch\\{OneRoot,String,Dict\\{String,Any\\},Float64\\},Dict\\{String,Any\\}\\} with 56 tips, 111 nodes and 110 branches.\\textbackslash{}nLeaf names are Ixos\\_mcclellandii\\_China\\_GU112699, Ixos\\_mcclellandii\\_\\_GQ242113, Ixos\\_rufigularis\\_Philippines\\_AY590752, Hypsipetes\\_parvirostris\\_moheliensis\\_COMOROS\\_AY590748, Hypsipetes\\_parvirostris\\_moheliensis\\_COMOROS\\_AY590738, ... [50 omitted] ... and Criniger\\_barbatus\\_Ghana\\_AY590760\\textbackslash{}n \\\\\n",
       "\t3 & Saxicola & tectes & \\emph{missing} & 180000 & 180000 & 180000 & LinkTree\\{OneRoot,String,LinkNode\\{OneRoot,String,Dict\\{String,Any\\},LinkBranch\\{OneRoot,String,Dict\\{String,Any\\},Float64\\}\\},LinkBranch\\{OneRoot,String,Dict\\{String,Any\\},Float64\\},Dict\\{String,Any\\}\\} with 46 tips, 91 nodes and 90 branches.\\textbackslash{}nLeaf names are Saxicola\\_caprata\\_Indonesia\\_EU421124, Saxicola\\_caprata\\_Indonesia\\_CytB\\_EU421122\\_, Saxicola\\_caprata\\_Indonesia\\_CytB\\_EU421123, Saxicola\\_caprata\\_Indonesia\\_CytB\\_HM633373\\_, Saxicola\\_insignis\\_Nepal\\_CytB\\_EU421117\\_, ... [40 omitted] ... and Saxicola\\_torquata\\_Nepal\\_CytB\\_EU421088\\_\\textbackslash{}n \\\\\n",
       "\t4 & Terpsiphone & bourbonnensis & bourbonnensis & 49500 & 49500 & 49500 & LinkTree\\{OneRoot,String,LinkNode\\{OneRoot,String,Dict\\{String,Any\\},LinkBranch\\{OneRoot,String,Dict\\{String,Any\\},Float64\\}\\},LinkBranch\\{OneRoot,String,Dict\\{String,Any\\},Float64\\},Dict\\{String,Any\\}\\} with 34 tips, 67 nodes and 66 branches.\\textbackslash{}nLeaf names are Terpsiphone\\_cinnamomea, Terpsiphone\\_mutata\\_comorensis, Terpsiphone\\_mutata\\_419\\_Madagascar, Terpsiphone\\_mutata\\_106\\_Mayotte, Terpsiphone\\_mutata\\_71\\_Mayotte, ... [28 omitted] ... and ZMUC\\_139450\\textbackslash{}n \\\\\n",
       "\t5 & Zosterops & borbonicus & \\emph{missing} & \\emph{missing} & 465000 & 550000 & LinkTree\\{OneRoot,String,LinkNode\\{OneRoot,String,Dict\\{String,Any\\},LinkBranch\\{OneRoot,String,Dict\\{String,Any\\},Float64\\}\\},LinkBranch\\{OneRoot,String,Dict\\{String,Any\\},Float64\\},Dict\\{String,Any\\}\\} with 253 tips, 505 nodes and 504 branches.\\textbackslash{}nLeaf names are Zosterops\\_nigrorum\\_02663, Zosterops\\_nigrorum\\_AY228085, Zosterops\\_nigrorum\\_aureiloris\\_Philippines\\_DQ328356, Zosterops\\_nigrorum\\_JN614902, Zosterops\\_nigrorum\\_aureiloris\\_Philippines\\_DQ328355, ... [247 omitted] ... and Sy\\_atricapilla\\_B13476\\textbackslash{}n \\\\\n",
       "\t6 & Zosterops & olivaceus & \\emph{missing} & 150000 & 150000 & 150000 & LinkTree\\{OneRoot,String,LinkNode\\{OneRoot,String,Dict\\{String,Any\\},LinkBranch\\{OneRoot,String,Dict\\{String,Any\\},Float64\\}\\},LinkBranch\\{OneRoot,String,Dict\\{String,Any\\},Float64\\},Dict\\{String,Any\\}\\} with 253 tips, 505 nodes and 504 branches.\\textbackslash{}nLeaf names are Zosterops\\_nigrorum\\_02663, Zosterops\\_nigrorum\\_AY228085, Zosterops\\_nigrorum\\_aureiloris\\_Philippines\\_DQ328356, Zosterops\\_nigrorum\\_JN614902, Zosterops\\_nigrorum\\_aureiloris\\_Philippines\\_DQ328355, ... [247 omitted] ... and Sy\\_atricapilla\\_B13476\\textbackslash{}n \\\\\n",
       "\t7 & Circus  & maillardi & \\emph{missing} & \\emph{missing} & 200 & 560 & LinkTree\\{OneRoot,String,LinkNode\\{OneRoot,String,Dict\\{String,Any\\},LinkBranch\\{OneRoot,String,Dict\\{String,Any\\},Float64\\}\\},LinkBranch\\{OneRoot,String,Dict\\{String,Any\\},Float64\\},Dict\\{String,Any\\}\\} with 36 tips, 71 nodes and 70 branches.\\textbackslash{}nLeaf names are CAS86159\\_A\\_striatus\\_USA, NC118\\_A\\_haplochorous\\_NewCaledonia, NRM20076228\\_C\\_macrourus\\_Sweden, DB03\\_C\\_maurus\\_SouthAfrica, DB36\\_C\\_maurus\\_SouthAfrica, ... [30 omitted] ... and MACN2075\\_C\\_buffoni\\_Argentina\\textbackslash{}n \\\\\n",
       "\t8 & Nesoenas  & picturata & \\emph{missing} & 198000 & 198000 & 198000 & LinkTree\\{OneRoot,String,LinkNode\\{OneRoot,String,Dict\\{String,Any\\},LinkBranch\\{OneRoot,String,Dict\\{String,Any\\},Float64\\}\\},LinkBranch\\{OneRoot,String,Dict\\{String,Any\\},Float64\\},Dict\\{String,Any\\}\\} with 60 tips, 119 nodes and 118 branches.\\textbackslash{}nLeaf names are B34270\\_Streptopelia\\_semitorquata\\_South\\_Africa, SDK1\\_Streptopelia\\_decipiens\\_Cameroon, SDK1\\_Streptopelia\\_roseogrisea\\_Cameroon, SDK1\\_Streptopelia\\_decaocto\\_Netherlands, SDK1\\_Streptopelia\\_bitorquata\\_Captive, ... [54 omitted] ... and B2096\\_Columba\\_speciosa\\_Mexico\\textbackslash{}n \\\\\n",
       "\t9 & Aerodramus & francicus & \\emph{missing} & 26354 & 26354 & 26354 & LinkTree\\{OneRoot,String,LinkNode\\{OneRoot,String,Dict\\{String,Any\\},LinkBranch\\{OneRoot,String,Dict\\{String,Any\\},Float64\\}\\},LinkBranch\\{OneRoot,String,Dict\\{String,Any\\},Float64\\},Dict\\{String,Any\\}\\} with 33 tips, 65 nodes and 64 branches.\\textbackslash{}nLeaf names are CTC\\_Apus\\_melba\\_South\\_Africa, CMNH37000\\_Aerodramus\\_whiteheadi\\_Mindanao, DHC04\\_Aerodramus\\_fuciphagus\\_germani\\_Sabah, DMT048\\_Aerodramus\\_salangana\\_Sabah, DMT047\\_Aerodramus\\_salangana\\_Sabah, ... [27 omitted] ... and FMNH358312\\_Collocalia\\_troglodytes\\_Sibuyan\\textbackslash{}n \\\\\n",
       "\t10 & Phedina  & borbonica & \\emph{missing} & 400 & 400 & 400 & LinkTree\\{OneRoot,String,LinkNode\\{OneRoot,String,Dict\\{String,Any\\},LinkBranch\\{OneRoot,String,Dict\\{String,Any\\},Float64\\}\\},LinkBranch\\{OneRoot,String,Dict\\{String,Any\\},Float64\\},Dict\\{String,Any\\}\\} with 19 tips, 37 nodes and 36 branches.\\textbackslash{}nLeaf names are FM213535\\_Phedina\\_brazzae, ANS2983\\_Riparia\\_cincta, BW\\_SMG20183\\_Phedina\\_borbonica\\_Madagascar, BW\\_436517\\_Phedina\\_borbonica\\_Madagascar\\_Antsiranana, BW\\_434744\\_Phedina\\_borbonica\\_Madagascar\\_Fianarantsoa, ... [13 omitted] ... and BW\\_CDS1901\\_Phedina\\_borbonica\\_Reunion\\textbackslash{}n \\\\\n",
       "\\end{tabular}\n"
      ],
      "text/plain": [
       "\u001b[1m10×7 DataFrame\u001b[0m\n",
       "\u001b[1m Row \u001b[0m│\u001b[1m Genus       \u001b[0m\u001b[1m Species       \u001b[0m\u001b[1m Subspecies    \u001b[0m\u001b[1m Absolute \u001b[0m\u001b[1m Minimum \u001b[0m\u001b[1m Maximum \u001b[0m\u001b[1m \u001b[0m ⋯\n",
       "\u001b[1m     \u001b[0m│\u001b[90m Any         \u001b[0m\u001b[90m Any           \u001b[0m\u001b[90m Any           \u001b[0m\u001b[90m Any      \u001b[0m\u001b[90m Any     \u001b[0m\u001b[90m Any     \u001b[0m\u001b[90m \u001b[0m ⋯\n",
       "─────┼──────────────────────────────────────────────────────────────────────────\n",
       "   1 │ Coracina     newtoni       \u001b[90m missing       \u001b[0m 88        88       88        ⋯\n",
       "   2 │ Hypsipetes   borbonicus    \u001b[90m missing       \u001b[0m\u001b[90m missing  \u001b[0m 20500    50000\n",
       "   3 │ Saxicola     tectes        \u001b[90m missing       \u001b[0m 180000    180000   180000\n",
       "   4 │ Terpsiphone  bourbonnensis  bourbonnensis  49500     49500    49500\n",
       "   5 │ Zosterops    borbonicus    \u001b[90m missing       \u001b[0m\u001b[90m missing  \u001b[0m 465000   550000    ⋯\n",
       "   6 │ Zosterops    olivaceus     \u001b[90m missing       \u001b[0m 150000    150000   150000\n",
       "   7 │ Circus       maillardi     \u001b[90m missing       \u001b[0m\u001b[90m missing  \u001b[0m 200      560\n",
       "   8 │ Nesoenas     picturata     \u001b[90m missing       \u001b[0m 198000    198000   198000\n",
       "   9 │ Aerodramus   francicus     \u001b[90m missing       \u001b[0m 26354     26354    26354     ⋯\n",
       "  10 │ Phedina      borbonica     \u001b[90m missing       \u001b[0m 400       400      400\n",
       "\u001b[36m                                                                1 column omitted\u001b[0m"
      ]
     },
     "execution_count": 50,
     "metadata": {},
     "output_type": "execute_result"
    }
   ],
   "source": [
    "function read_nexus(df, verbose=false)\n",
    "    datapath = \"/home/isaac/SAAD/SAADs_Toy_Dataset/\"\n",
    "    trees = []\n",
    "    ts = []\n",
    "    for i in 1:nrow(df)\n",
    "        genus = strip(df[!, :Genus][i])\n",
    "        dir = string(datapath, genus, \"/\")\n",
    "        tree_file = glob(\"*_maxcred*\", dir)[1]\n",
    "        # Suppress warnings cuz they annoying\n",
    "        @suppress begin\n",
    "            try\n",
    "                ts = open(parsenexus, Phylo.path(tree_file))\n",
    "            catch\n",
    "                ts.trees = Dict()\n",
    "            end\n",
    "        end\n",
    "        if verbose\n",
    "            println(genus, \"\\t\", string(length(ts.trees)), \"\\t\", tree_file)\n",
    "            \n",
    "        end\n",
    "        append!(trees, ts[\"TREE1\"])\n",
    "    end\n",
    "    df.Tree = trees\n",
    "    return df\n",
    "end\n",
    "df = read_nexus(df, true)"
   ]
  },
  {
   "cell_type": "markdown",
   "metadata": {},
   "source": [
    "### Load one wacky file at a time and debug the errors\n",
    "These are all fixed now, but here are the files with errors and what the problem was and how to fix it."
   ]
  },
  {
   "cell_type": "code",
   "execution_count": 59,
   "metadata": {},
   "outputs": [],
   "source": [
    "\n",
    "#tree_file = \"/home/isaac/tmp/julia/SAADs_Toy_Dataset/Coracina/Corcina_Run1_maxcred.tre\"\n",
    "## periods in taxa names\n",
    "\n",
    "#tree_file = \"/home/isaac/tmp/julia/SAADs_Toy_Dataset/Nesoenas/Nesoenas_Cytb_prelimnary_maxcred.tre\"\n",
    "## taxa names that start with integers\n",
    "\n",
    "#tree_file = \"/home/isaac/tmp/julia/SAADs_Toy_Dataset/Zosterops/Zosterops_Indian_Atlantic_maxcred.tre\"\n",
    "## periods in taxa names and negative branch lengths\n",
    "## `Branch length must be positive or missing (no recorded length), not -0.014269626686655101`\n",
    "## In the file replace:\n",
    "##    6012426177374,0.0154596216054}]:-0.014269626686655101,221[&height=9.134447316442538E-7\n",
    "## with:\n",
    "##    6012426177374,0.0154596216054},221[&height=9.134447316442538E-7\n",
    "\n",
    "#tree_file = \"/home/isaac/SAAD/SAADs_Toy_Dataset/Foudia/Sorite_treeannotator_foudia_maxcred.tre\"\n",
    "## periods in taxa names\n",
    "\n",
    "#tree_file = \"/home/isaac/SAAD/SAADs_Toy_Dataset/Phedina/Phedina_V3_BEAST_tree_maxcred.tre\"\n",
    "## '-' in sample names. HELLISH to debug.\n",
    "## ┌ Warning: Taxa list length (22) and ntax (19) do not match\n",
    "## └ @ Phylo /home/isaac/.julia/packages/Phylo/0WXtf/src/newick.jl:436\n",
    "## ┌ Info: Created a tree called \"TREE1\"\n",
    "## └ @ Phylo /home/isaac/.julia/packages/Phylo/0WXtf/src/newick.jl:495\n",
    "## ┌ Warning: Wrong number of roots for OneRoot tree (2)\n",
    "## └ @ Phylo /home/isaac/.julia/packages/Phylo/0WXtf/src/LinkTree.jl:223\n",
    "## Tree Tree does not validate!\n",
    "\n",
    "#ts = open(parsenexus, Phylo.path(tree_file))"
   ]
  },
  {
   "cell_type": "markdown",
   "metadata": {},
   "source": [
    "## Get clade age per species"
   ]
  },
  {
   "cell_type": "markdown",
   "metadata": {},
   "source": [
    "### Function to get mrca from a set of samples"
   ]
  },
  {
   "cell_type": "code",
   "execution_count": 71,
   "metadata": {},
   "outputs": [
    {
     "name": "stdout",
     "output_type": "stream",
     "text": [
      "[\"HM002973\"]\n"
     ]
    },
    {
     "name": "stderr",
     "output_type": "stream",
     "text": [
      "┌ Info: Created a tree called \"TREE1\"\n",
      "└ @ Phylo /home/isaac/.julia/packages/Phylo/0WXtf/src/newick.jl:495\n"
     ]
    },
    {
     "name": "stdout",
     "output_type": "stream",
     "text": [
      "LinkNode{OneRoot,String,Dict{String,Any},LinkBranch{OneRoot,String,Dict{String,Any},Float64}}[LinkNode HM002973, a tip of the tree with an incoming connection (branch 16).\n",
      "]\n"
     ]
    },
    {
     "data": {
      "text/plain": [
       "LinkNode Node 83, an internal node with 1 inbound and 2 outbound connections (branches 18 and 15, 16)\n"
      ]
     },
     "execution_count": 71,
     "metadata": {},
     "output_type": "execute_result"
    }
   ],
   "source": [
    "genus, species = df[!, [:Genus, :Species]][1, :]\n",
    "genus = strip(genus)\n",
    "names = samps[\"Reunion\"][string(genus, \" \", species)]\n",
    "println(names)\n",
    "#ts = open(parsenexus, Phylo.path(\"/home/isaac/SAAD/SAADs_Toy_Dataset/Saxicola/Saxicola_maxcred.tre\"))\n",
    "ts = open(parsenexus, Phylo.path(\"/home/isaac/SAAD/SAADs_Toy_Dataset/Coracina/Corcina_Run1_maxcred.tre\"))\n",
    "\n",
    "tre = ts[\"TREE1\"]\n",
    "function getmrca(tre, names, verbose=false)\n",
    "    lfs = [x for x in getleaves(tre) if x.name in names]\n",
    "    if verbose\n",
    "        println(lfs)\n",
    "    end\n",
    "    anc = [getancestors(tre, x) for x in lfs]\n",
    "    mrca = intersect(anc...)[1]\n",
    "end\n",
    "getmrca(tre, names, true)"
   ]
  },
  {
   "cell_type": "code",
   "execution_count": 93,
   "metadata": {},
   "outputs": [
    {
     "name": "stdout",
     "output_type": "stream",
     "text": [
      "Coracina\tLinkNode Node 83, an internal node with 1 inbound and 2 outbound connections (branches 18 and 15, 16)\n",
      "Foudia\tLinkNode Node 209, an internal node with 1 inbound and 2 outbound connections (branches 184 and 181, 182)\n",
      "Hypsipetes\tLinkNode Node 83, an internal node with 1 inbound and 2 outbound connections (branches 56 and 53, 54)\n",
      "Psittacula\tLinkNode Node 220, an internal node with 1 inbound and 2 outbound connections (branches 141 and 131, 132)\n",
      "Terpsiphone\tLinkNode Node 40, an internal node with 1 inbound and 2 outbound connections (branches 25 and 11, 12)\n",
      "Zosterops\tLinkNode Node 390, an internal node with 1 inbound and 2 outbound connections (branches 277 and 273, 274)\n",
      "Zosterops\tLinkNode Node 388, an internal node with 1 inbound and 2 outbound connections (branches 272 and 269, 270)\n",
      "Falco\tLinkNode Node 52, an internal node with 1 inbound and 2 outbound connections (branches 34 and 31, 32)\n",
      "Nesoenas\tLinkNode Node 86, an internal node with 1 inbound and 2 outbound connections (branches 55 and 51, 52)\n",
      "Nesoenas\tLinkNode Node 63, an internal node with 1 inbound and 2 outbound connections (branches 12 and 5, 6)\n",
      "Aerodramus\tLinkNode Node 36, an internal node with 1 inbound and 2 outbound connections (branches 10 and 5, 6)\n",
      "Phedina\tLinkNode Node 30, an internal node with 1 inbound and 2 outbound connections (branches 25 and 21, 22)\n"
     ]
    },
    {
     "data": {
      "text/html": [
       "<div class=\"data-frame\"><p>12 rows × 8 columns (omitted printing of 1 columns)</p><table class=\"data-frame\"><thead><tr><th></th><th>Genus</th><th>Species</th><th>Subspecies</th><th>Absolute</th><th>Minimum</th><th>Maximum</th><th>Tree</th></tr><tr><th></th><th title=\"Any\">Any</th><th title=\"Any\">Any</th><th title=\"Any\">Any</th><th title=\"Any\">Any</th><th title=\"Any\">Any</th><th title=\"Any\">Any</th><th title=\"Any\">Any</th></tr></thead><tbody><tr><th>1</th><td>Coracina</td><td>typica</td><td><em>missing</em></td><td>520</td><td>520</td><td>520</td><td>LinkTree{OneRoot,String,LinkNode{OneRoot,String,Dict{String,Any},LinkBranch{OneRoot,String,Dict{String,Any},Float64}},LinkBranch{OneRoot,String,Dict{String,Any},Float64},Dict{String,Any}} with 75 tips, 149 nodes and 148 branches.\\nLeaf names are HM002967, HM002956, HM002982, HM002955, HM002957, ... [69 omitted] ... and EF052686\\n</td></tr><tr><th>2</th><td>Foudia</td><td>rubra</td><td><em>missing</em></td><td><em>missing</em></td><td>216</td><td>244</td><td>LinkTree{OneRoot,String,LinkNode{OneRoot,String,Dict{String,Any},LinkBranch{OneRoot,String,Dict{String,Any},Float64}},LinkBranch{OneRoot,String,Dict{String,Any},Float64},Dict{String,Any}} with 118 tips, 235 nodes and 234 branches.\\nLeaf names are Ploceus_sakalava_424_Mad, Ploceus_sakalava_425_Mad, Quelea_quelea_Africa, Euplectes_afer_Africa, Euplectes_nigroventris_Africa, ... [112 omitted] ... and Ploceus_philippensis_118656_Asia\\n</td></tr><tr><th>3</th><td>Hypsipetes</td><td>olivaceus</td><td><em>missing</em></td><td>560</td><td>560</td><td>560</td><td>LinkTree{OneRoot,String,LinkNode{OneRoot,String,Dict{String,Any},LinkBranch{OneRoot,String,Dict{String,Any},Float64}},LinkBranch{OneRoot,String,Dict{String,Any},Float64},Dict{String,Any}} with 56 tips, 111 nodes and 110 branches.\\nLeaf names are Ixos_mcclellandii_China_GU112699, Ixos_mcclellandii__GQ242113, Ixos_rufigularis_Philippines_AY590752, Hypsipetes_parvirostris_moheliensis_COMOROS_AY590748, Hypsipetes_parvirostris_moheliensis_COMOROS_AY590738, ... [50 omitted] ... and Criniger_barbatus_Ghana_AY590760\\n</td></tr><tr><th>4</th><td>Psittacula</td><td>eques</td><td>echo</td><td>533</td><td>533</td><td>533</td><td>LinkTree{OneRoot,String,LinkNode{OneRoot,String,Dict{String,Any},LinkBranch{OneRoot,String,Dict{String,Any},Float64}},LinkBranch{OneRoot,String,Dict{String,Any},Float64},Dict{String,Any}} with 154 tips, 307 nodes and 306 branches.\\nLeaf names are Psittacus_erithacus_SAOTOME_PrincipeIsl_AY082076, Psittacus_timneh_3_AY082082, Psittacus_timneh_1_AY082080, Psittacus_timneh_2_AY082081, Psittacus_erithacus_PRINCIPEIsl_Gabon_GP_AY082077, ... [148 omitted] ... and Loriculus_stigmatus_GQ996503\\n</td></tr><tr><th>5</th><td>Terpsiphone</td><td>bourbonnensis</td><td>desolata</td><td><em>missing</em></td><td>200</td><td>446</td><td>LinkTree{OneRoot,String,LinkNode{OneRoot,String,Dict{String,Any},LinkBranch{OneRoot,String,Dict{String,Any},Float64}},LinkBranch{OneRoot,String,Dict{String,Any},Float64},Dict{String,Any}} with 34 tips, 67 nodes and 66 branches.\\nLeaf names are Terpsiphone_cinnamomea, Terpsiphone_mutata_comorensis, Terpsiphone_mutata_419_Madagascar, Terpsiphone_mutata_106_Mayotte, Terpsiphone_mutata_71_Mayotte, ... [28 omitted] ... and ZMUC_139450\\n</td></tr><tr><th>6</th><td>Zosterops</td><td>chloronothos</td><td><em>missing</em></td><td><em>missing</em></td><td>191</td><td>327</td><td>LinkTree{OneRoot,String,LinkNode{OneRoot,String,Dict{String,Any},LinkBranch{OneRoot,String,Dict{String,Any},Float64}},LinkBranch{OneRoot,String,Dict{String,Any},Float64},Dict{String,Any}} with 253 tips, 505 nodes and 504 branches.\\nLeaf names are Zosterops_nigrorum_02663, Zosterops_nigrorum_AY228085, Zosterops_nigrorum_aureiloris_Philippines_DQ328356, Zosterops_nigrorum_JN614902, Zosterops_nigrorum_aureiloris_Philippines_DQ328355, ... [247 omitted] ... and Sy_atricapilla_B13476\\n</td></tr><tr><th>7</th><td>Zosterops</td><td>mauritianus</td><td><em>missing</em></td><td><em>missing</em></td><td>68000</td><td>136000</td><td>LinkTree{OneRoot,String,LinkNode{OneRoot,String,Dict{String,Any},LinkBranch{OneRoot,String,Dict{String,Any},Float64}},LinkBranch{OneRoot,String,Dict{String,Any},Float64},Dict{String,Any}} with 253 tips, 505 nodes and 504 branches.\\nLeaf names are Zosterops_nigrorum_02663, Zosterops_nigrorum_AY228085, Zosterops_nigrorum_aureiloris_Philippines_DQ328356, Zosterops_nigrorum_JN614902, Zosterops_nigrorum_aureiloris_Philippines_DQ328355, ... [247 omitted] ... and Sy_atricapilla_B13476\\n</td></tr><tr><th>8</th><td>Falco </td><td>punctatus</td><td><em>missing</em></td><td><em>missing</em></td><td>350</td><td>500</td><td>LinkTree{OneRoot,String,LinkNode{OneRoot,String,Dict{String,Any},LinkBranch{OneRoot,String,Dict{String,Any},Float64}},LinkBranch{OneRoot,String,Dict{String,Any},Float64},Dict{String,Any}} with 36 tips, 71 nodes and 70 branches.\\nLeaf names are Falco37_F_peregrinus, Falco43_F_peregrinus, TPF176_F_peregrinus, CAS90993_F_peregrinus, ZMUC115766_F_peregrinus, ... [30 omitted] ... and MNHNalopex_F_alopex\\n</td></tr><tr><th>9</th><td>Nesoenas</td><td>mayeri</td><td><em>missing</em></td><td><em>missing</em></td><td>380</td><td>365</td><td>LinkTree{OneRoot,String,LinkNode{OneRoot,String,Dict{String,Any},LinkBranch{OneRoot,String,Dict{String,Any},Float64}},LinkBranch{OneRoot,String,Dict{String,Any},Float64},Dict{String,Any}} with 60 tips, 119 nodes and 118 branches.\\nLeaf names are B34270_Streptopelia_semitorquata_South_Africa, SDK1_Streptopelia_decipiens_Cameroon, SDK1_Streptopelia_roseogrisea_Cameroon, SDK1_Streptopelia_decaocto_Netherlands, SDK1_Streptopelia_bitorquata_Captive, ... [54 omitted] ... and B2096_Columba_speciosa_Mexico\\n</td></tr><tr><th>10</th><td>Nesoenas </td><td>picturata</td><td>picturata</td><td><em>missing</em></td><td>200000</td><td>600000</td><td>LinkTree{OneRoot,String,LinkNode{OneRoot,String,Dict{String,Any},LinkBranch{OneRoot,String,Dict{String,Any},Float64}},LinkBranch{OneRoot,String,Dict{String,Any},Float64},Dict{String,Any}} with 60 tips, 119 nodes and 118 branches.\\nLeaf names are B34270_Streptopelia_semitorquata_South_Africa, SDK1_Streptopelia_decipiens_Cameroon, SDK1_Streptopelia_roseogrisea_Cameroon, SDK1_Streptopelia_decaocto_Netherlands, SDK1_Streptopelia_bitorquata_Captive, ... [54 omitted] ... and B2096_Columba_speciosa_Mexico\\n</td></tr><tr><th>11</th><td>Aerodramus</td><td>francicus</td><td><em>missing</em></td><td>4172</td><td>4172</td><td>4172</td><td>LinkTree{OneRoot,String,LinkNode{OneRoot,String,Dict{String,Any},LinkBranch{OneRoot,String,Dict{String,Any},Float64}},LinkBranch{OneRoot,String,Dict{String,Any},Float64},Dict{String,Any}} with 33 tips, 65 nodes and 64 branches.\\nLeaf names are CTC_Apus_melba_South_Africa, CMNH37000_Aerodramus_whiteheadi_Mindanao, DHC04_Aerodramus_fuciphagus_germani_Sabah, DMT048_Aerodramus_salangana_Sabah, DMT047_Aerodramus_salangana_Sabah, ... [27 omitted] ... and FMNH358312_Collocalia_troglodytes_Sibuyan\\n</td></tr><tr><th>12</th><td>Phedina </td><td>borbonica</td><td><em>missing</em></td><td>300</td><td>300</td><td>300</td><td>LinkTree{OneRoot,String,LinkNode{OneRoot,String,Dict{String,Any},LinkBranch{OneRoot,String,Dict{String,Any},Float64}},LinkBranch{OneRoot,String,Dict{String,Any},Float64},Dict{String,Any}} with 19 tips, 37 nodes and 36 branches.\\nLeaf names are FM213535_Phedina_brazzae, ANS2983_Riparia_cincta, BW_SMG20183_Phedina_borbonica_Madagascar, BW_436517_Phedina_borbonica_Madagascar_Antsiranana, BW_434744_Phedina_borbonica_Madagascar_Fianarantsoa, ... [13 omitted] ... and BW_CDS1901_Phedina_borbonica_Reunion\\n</td></tr></tbody></table></div>"
      ],
      "text/latex": [
       "\\begin{tabular}{r|cccccccc}\n",
       "\t& Genus & Species & Subspecies & Absolute & Minimum & Maximum & Tree & \\\\\n",
       "\t\\hline\n",
       "\t& Any & Any & Any & Any & Any & Any & Any & \\\\\n",
       "\t\\hline\n",
       "\t1 & Coracina & typica & \\emph{missing} & 520 & 520 & 520 & LinkTree\\{OneRoot,String,LinkNode\\{OneRoot,String,Dict\\{String,Any\\},LinkBranch\\{OneRoot,String,Dict\\{String,Any\\},Float64\\}\\},LinkBranch\\{OneRoot,String,Dict\\{String,Any\\},Float64\\},Dict\\{String,Any\\}\\} with 75 tips, 149 nodes and 148 branches.\\textbackslash{}nLeaf names are HM002967, HM002956, HM002982, HM002955, HM002957, ... [69 omitted] ... and EF052686\\textbackslash{}n & $\\dots$ \\\\\n",
       "\t2 & Foudia & rubra & \\emph{missing} & \\emph{missing} & 216 & 244 & LinkTree\\{OneRoot,String,LinkNode\\{OneRoot,String,Dict\\{String,Any\\},LinkBranch\\{OneRoot,String,Dict\\{String,Any\\},Float64\\}\\},LinkBranch\\{OneRoot,String,Dict\\{String,Any\\},Float64\\},Dict\\{String,Any\\}\\} with 118 tips, 235 nodes and 234 branches.\\textbackslash{}nLeaf names are Ploceus\\_sakalava\\_424\\_Mad, Ploceus\\_sakalava\\_425\\_Mad, Quelea\\_quelea\\_Africa, Euplectes\\_afer\\_Africa, Euplectes\\_nigroventris\\_Africa, ... [112 omitted] ... and Ploceus\\_philippensis\\_118656\\_Asia\\textbackslash{}n & $\\dots$ \\\\\n",
       "\t3 & Hypsipetes & olivaceus & \\emph{missing} & 560 & 560 & 560 & LinkTree\\{OneRoot,String,LinkNode\\{OneRoot,String,Dict\\{String,Any\\},LinkBranch\\{OneRoot,String,Dict\\{String,Any\\},Float64\\}\\},LinkBranch\\{OneRoot,String,Dict\\{String,Any\\},Float64\\},Dict\\{String,Any\\}\\} with 56 tips, 111 nodes and 110 branches.\\textbackslash{}nLeaf names are Ixos\\_mcclellandii\\_China\\_GU112699, Ixos\\_mcclellandii\\_\\_GQ242113, Ixos\\_rufigularis\\_Philippines\\_AY590752, Hypsipetes\\_parvirostris\\_moheliensis\\_COMOROS\\_AY590748, Hypsipetes\\_parvirostris\\_moheliensis\\_COMOROS\\_AY590738, ... [50 omitted] ... and Criniger\\_barbatus\\_Ghana\\_AY590760\\textbackslash{}n & $\\dots$ \\\\\n",
       "\t4 & Psittacula & eques & echo & 533 & 533 & 533 & LinkTree\\{OneRoot,String,LinkNode\\{OneRoot,String,Dict\\{String,Any\\},LinkBranch\\{OneRoot,String,Dict\\{String,Any\\},Float64\\}\\},LinkBranch\\{OneRoot,String,Dict\\{String,Any\\},Float64\\},Dict\\{String,Any\\}\\} with 154 tips, 307 nodes and 306 branches.\\textbackslash{}nLeaf names are Psittacus\\_erithacus\\_SAOTOME\\_PrincipeIsl\\_AY082076, Psittacus\\_timneh\\_3\\_AY082082, Psittacus\\_timneh\\_1\\_AY082080, Psittacus\\_timneh\\_2\\_AY082081, Psittacus\\_erithacus\\_PRINCIPEIsl\\_Gabon\\_GP\\_AY082077, ... [148 omitted] ... and Loriculus\\_stigmatus\\_GQ996503\\textbackslash{}n & $\\dots$ \\\\\n",
       "\t5 & Terpsiphone & bourbonnensis & desolata & \\emph{missing} & 200 & 446 & LinkTree\\{OneRoot,String,LinkNode\\{OneRoot,String,Dict\\{String,Any\\},LinkBranch\\{OneRoot,String,Dict\\{String,Any\\},Float64\\}\\},LinkBranch\\{OneRoot,String,Dict\\{String,Any\\},Float64\\},Dict\\{String,Any\\}\\} with 34 tips, 67 nodes and 66 branches.\\textbackslash{}nLeaf names are Terpsiphone\\_cinnamomea, Terpsiphone\\_mutata\\_comorensis, Terpsiphone\\_mutata\\_419\\_Madagascar, Terpsiphone\\_mutata\\_106\\_Mayotte, Terpsiphone\\_mutata\\_71\\_Mayotte, ... [28 omitted] ... and ZMUC\\_139450\\textbackslash{}n & $\\dots$ \\\\\n",
       "\t6 & Zosterops & chloronothos & \\emph{missing} & \\emph{missing} & 191 & 327 & LinkTree\\{OneRoot,String,LinkNode\\{OneRoot,String,Dict\\{String,Any\\},LinkBranch\\{OneRoot,String,Dict\\{String,Any\\},Float64\\}\\},LinkBranch\\{OneRoot,String,Dict\\{String,Any\\},Float64\\},Dict\\{String,Any\\}\\} with 253 tips, 505 nodes and 504 branches.\\textbackslash{}nLeaf names are Zosterops\\_nigrorum\\_02663, Zosterops\\_nigrorum\\_AY228085, Zosterops\\_nigrorum\\_aureiloris\\_Philippines\\_DQ328356, Zosterops\\_nigrorum\\_JN614902, Zosterops\\_nigrorum\\_aureiloris\\_Philippines\\_DQ328355, ... [247 omitted] ... and Sy\\_atricapilla\\_B13476\\textbackslash{}n & $\\dots$ \\\\\n",
       "\t7 & Zosterops & mauritianus & \\emph{missing} & \\emph{missing} & 68000 & 136000 & LinkTree\\{OneRoot,String,LinkNode\\{OneRoot,String,Dict\\{String,Any\\},LinkBranch\\{OneRoot,String,Dict\\{String,Any\\},Float64\\}\\},LinkBranch\\{OneRoot,String,Dict\\{String,Any\\},Float64\\},Dict\\{String,Any\\}\\} with 253 tips, 505 nodes and 504 branches.\\textbackslash{}nLeaf names are Zosterops\\_nigrorum\\_02663, Zosterops\\_nigrorum\\_AY228085, Zosterops\\_nigrorum\\_aureiloris\\_Philippines\\_DQ328356, Zosterops\\_nigrorum\\_JN614902, Zosterops\\_nigrorum\\_aureiloris\\_Philippines\\_DQ328355, ... [247 omitted] ... and Sy\\_atricapilla\\_B13476\\textbackslash{}n & $\\dots$ \\\\\n",
       "\t8 & Falco  & punctatus & \\emph{missing} & \\emph{missing} & 350 & 500 & LinkTree\\{OneRoot,String,LinkNode\\{OneRoot,String,Dict\\{String,Any\\},LinkBranch\\{OneRoot,String,Dict\\{String,Any\\},Float64\\}\\},LinkBranch\\{OneRoot,String,Dict\\{String,Any\\},Float64\\},Dict\\{String,Any\\}\\} with 36 tips, 71 nodes and 70 branches.\\textbackslash{}nLeaf names are Falco37\\_F\\_peregrinus, Falco43\\_F\\_peregrinus, TPF176\\_F\\_peregrinus, CAS90993\\_F\\_peregrinus, ZMUC115766\\_F\\_peregrinus, ... [30 omitted] ... and MNHNalopex\\_F\\_alopex\\textbackslash{}n & $\\dots$ \\\\\n",
       "\t9 & Nesoenas & mayeri & \\emph{missing} & \\emph{missing} & 380 & 365 & LinkTree\\{OneRoot,String,LinkNode\\{OneRoot,String,Dict\\{String,Any\\},LinkBranch\\{OneRoot,String,Dict\\{String,Any\\},Float64\\}\\},LinkBranch\\{OneRoot,String,Dict\\{String,Any\\},Float64\\},Dict\\{String,Any\\}\\} with 60 tips, 119 nodes and 118 branches.\\textbackslash{}nLeaf names are B34270\\_Streptopelia\\_semitorquata\\_South\\_Africa, SDK1\\_Streptopelia\\_decipiens\\_Cameroon, SDK1\\_Streptopelia\\_roseogrisea\\_Cameroon, SDK1\\_Streptopelia\\_decaocto\\_Netherlands, SDK1\\_Streptopelia\\_bitorquata\\_Captive, ... [54 omitted] ... and B2096\\_Columba\\_speciosa\\_Mexico\\textbackslash{}n & $\\dots$ \\\\\n",
       "\t10 & Nesoenas  & picturata & picturata & \\emph{missing} & 200000 & 600000 & LinkTree\\{OneRoot,String,LinkNode\\{OneRoot,String,Dict\\{String,Any\\},LinkBranch\\{OneRoot,String,Dict\\{String,Any\\},Float64\\}\\},LinkBranch\\{OneRoot,String,Dict\\{String,Any\\},Float64\\},Dict\\{String,Any\\}\\} with 60 tips, 119 nodes and 118 branches.\\textbackslash{}nLeaf names are B34270\\_Streptopelia\\_semitorquata\\_South\\_Africa, SDK1\\_Streptopelia\\_decipiens\\_Cameroon, SDK1\\_Streptopelia\\_roseogrisea\\_Cameroon, SDK1\\_Streptopelia\\_decaocto\\_Netherlands, SDK1\\_Streptopelia\\_bitorquata\\_Captive, ... [54 omitted] ... and B2096\\_Columba\\_speciosa\\_Mexico\\textbackslash{}n & $\\dots$ \\\\\n",
       "\t11 & Aerodramus & francicus & \\emph{missing} & 4172 & 4172 & 4172 & LinkTree\\{OneRoot,String,LinkNode\\{OneRoot,String,Dict\\{String,Any\\},LinkBranch\\{OneRoot,String,Dict\\{String,Any\\},Float64\\}\\},LinkBranch\\{OneRoot,String,Dict\\{String,Any\\},Float64\\},Dict\\{String,Any\\}\\} with 33 tips, 65 nodes and 64 branches.\\textbackslash{}nLeaf names are CTC\\_Apus\\_melba\\_South\\_Africa, CMNH37000\\_Aerodramus\\_whiteheadi\\_Mindanao, DHC04\\_Aerodramus\\_fuciphagus\\_germani\\_Sabah, DMT048\\_Aerodramus\\_salangana\\_Sabah, DMT047\\_Aerodramus\\_salangana\\_Sabah, ... [27 omitted] ... and FMNH358312\\_Collocalia\\_troglodytes\\_Sibuyan\\textbackslash{}n & $\\dots$ \\\\\n",
       "\t12 & Phedina  & borbonica & \\emph{missing} & 300 & 300 & 300 & LinkTree\\{OneRoot,String,LinkNode\\{OneRoot,String,Dict\\{String,Any\\},LinkBranch\\{OneRoot,String,Dict\\{String,Any\\},Float64\\}\\},LinkBranch\\{OneRoot,String,Dict\\{String,Any\\},Float64\\},Dict\\{String,Any\\}\\} with 19 tips, 37 nodes and 36 branches.\\textbackslash{}nLeaf names are FM213535\\_Phedina\\_brazzae, ANS2983\\_Riparia\\_cincta, BW\\_SMG20183\\_Phedina\\_borbonica\\_Madagascar, BW\\_436517\\_Phedina\\_borbonica\\_Madagascar\\_Antsiranana, BW\\_434744\\_Phedina\\_borbonica\\_Madagascar\\_Fianarantsoa, ... [13 omitted] ... and BW\\_CDS1901\\_Phedina\\_borbonica\\_Reunion\\textbackslash{}n & $\\dots$ \\\\\n",
       "\\end{tabular}\n"
      ],
      "text/plain": [
       "\u001b[1m12×8 DataFrame\u001b[0m\n",
       "\u001b[1m Row \u001b[0m│\u001b[1m Genus       \u001b[0m\u001b[1m Species       \u001b[0m\u001b[1m Subspecies \u001b[0m\u001b[1m Absolute \u001b[0m\u001b[1m Minimum \u001b[0m\u001b[1m Maximum \u001b[0m\u001b[1m Tre\u001b[0m ⋯\n",
       "\u001b[1m     \u001b[0m│\u001b[90m Any         \u001b[0m\u001b[90m Any           \u001b[0m\u001b[90m Any        \u001b[0m\u001b[90m Any      \u001b[0m\u001b[90m Any     \u001b[0m\u001b[90m Any     \u001b[0m\u001b[90m Any\u001b[0m ⋯\n",
       "─────┼──────────────────────────────────────────────────────────────────────────\n",
       "   1 │ Coracina     typica        \u001b[90m missing    \u001b[0m 520       520      520      Lin ⋯\n",
       "   2 │ Foudia       rubra         \u001b[90m missing    \u001b[0m\u001b[90m missing  \u001b[0m 216      244      Lin\n",
       "   3 │ Hypsipetes   olivaceus     \u001b[90m missing    \u001b[0m 560       560      560      Lin\n",
       "   4 │ Psittacula   eques          echo        533       533      533      Lin\n",
       "   5 │ Terpsiphone  bourbonnensis  desolata   \u001b[90m missing  \u001b[0m 200      446      Lin ⋯\n",
       "   6 │ Zosterops    chloronothos  \u001b[90m missing    \u001b[0m\u001b[90m missing  \u001b[0m 191      327      Lin\n",
       "   7 │ Zosterops    mauritianus   \u001b[90m missing    \u001b[0m\u001b[90m missing  \u001b[0m 68000    136000   Lin\n",
       "   8 │ Falco        punctatus     \u001b[90m missing    \u001b[0m\u001b[90m missing  \u001b[0m 350      500      Lin\n",
       "   9 │ Nesoenas     mayeri        \u001b[90m missing    \u001b[0m\u001b[90m missing  \u001b[0m 380      365      Lin ⋯\n",
       "  10 │ Nesoenas     picturata      picturata  \u001b[90m missing  \u001b[0m 200000   600000   Lin\n",
       "  11 │ Aerodramus   francicus     \u001b[90m missing    \u001b[0m 4172      4172     4172     Lin\n",
       "  12 │ Phedina      borbonica     \u001b[90m missing    \u001b[0m 300       300      300      Lin\n",
       "\u001b[36m                                                               2 columns omitted\u001b[0m"
      ]
     },
     "execution_count": 93,
     "metadata": {},
     "output_type": "execute_result"
    }
   ],
   "source": [
    "function get_mrcas(df, island, verbose=false)\n",
    "    mrcas = []\n",
    "    for i in 1:nrow(df)\n",
    "        genus, species = df[!, [:Genus, :Species]][i, :]\n",
    "        # Strip whitespace for Circus\n",
    "        genus = strip(genus)\n",
    "        names = samps[island][string(genus, \" \", species)]\n",
    "        tre = df[!, :Tree][i]\n",
    "        mrca = getmrca(tre, names, false)\n",
    "        if verbose\n",
    "            print(genus, \"\\t\", mrca)\n",
    "        end\n",
    "        append!(mrcas, [mrca])\n",
    "    end\n",
    "    df.mrca = mrcas\n",
    "    df\n",
    "end\n",
    "get_mrcas(df, \"Mauritius\", true)"
   ]
  },
  {
   "cell_type": "markdown",
   "metadata": {},
   "source": [
    "## Plot age/abundance distribution"
   ]
  },
  {
   "cell_type": "code",
   "execution_count": 74,
   "metadata": {},
   "outputs": [
    {
     "data": {
      "text/plain": [
       "Dict{String,Any} with 13 entries:\n",
       "  \"rate_95%_HPD\"   => [0.0220463, 0.0348106]\n",
       "  \"length_median\"  => 0.292188\n",
       "  \"rate\"           => 0.028767\n",
       "  \"length_range\"   => [0.000686635, 1.07179]\n",
       "  \"height_range\"   => [0.254319, 1.51263]\n",
       "  \"length\"         => 0.303683\n",
       "  \"height\"         => 0.71934\n",
       "  \"rate_median\"    => 0.0289808\n",
       "  \"length_95%_HPD\" => [0.0679723, 0.555027]\n",
       "  \"rate_range\"     => [0.0113824, 0.0580734]\n",
       "  \"height_95%_HPD\" => [0.471138, 0.980443]\n",
       "  \"height_median\"  => 0.711639\n",
       "  \"posterior\"      => 0.997195"
      ]
     },
     "execution_count": 74,
     "metadata": {},
     "output_type": "execute_result"
    }
   ],
   "source": [
    "ages = [x.mrca.data for x in eachrow(df)]\n",
    "ages[1]"
   ]
  },
  {
   "cell_type": "code",
   "execution_count": 79,
   "metadata": {},
   "outputs": [
    {
     "data": {
      "text/plain": [
       "([0.7193396464076218, 0.06748956554590739, 0.37037593356333487, 0.02815927511276756, 0.12171336597321285, 0.10180970562703719, 0.022642568761800347, 0.05794101756357291, 0.06006412791448501, 0.013465923260989924], Any[88, 20500, 180000, 49500, 465000, 150000, 200, 198000, 26354, 400])"
      ]
     },
     "execution_count": 79,
     "metadata": {},
     "output_type": "execute_result"
    }
   ],
   "source": [
    "function getdata(df)\n",
    "    ages = [x.mrca.data[\"height\"] for x in eachrow(df)]\n",
    "    abunds = df[!, :Minimum]\n",
    "    return ages, abunds\n",
    "end\n",
    "\n",
    "function plot_saad(df, title=\"\", label=\"\")\n",
    "    ages, abunds = getdata(df)\n",
    "    scatter(ages, abunds, xaxis=(\"Age (Mya)\"),\n",
    "                        yaxis=(\"Abundance (log10)\", :log),\n",
    "#                        c=distinguishable_colors(10),\n",
    "#                        c=colormap(\"Blues\", 10),\n",
    "                        title=title,\n",
    "                        label=label)\n",
    "end\n",
    "\n",
    "function plot_saad!(df, title=\"\", label=\"\")\n",
    "    ages, abunds = getdata(df)\n",
    "    scatter!(ages, abunds,\n",
    "            xaxis=(\"Age (Mya)\"),\n",
    "            yaxis=(\"Abundance (log10)\", :log),\n",
    "            title=title,\n",
    "            label=label)\n",
    "end\n",
    "\n",
    "plot_saad(df, \"SAADs\", \"Reunion\")\n",
    "plot_saad!(df, \"SAADs\", \"Mauritius\")\n",
    "\n",
    "getdata(df)"
   ]
  },
  {
   "cell_type": "markdown",
   "metadata": {},
   "source": [
    "## Experiment with plotting CIs\n",
    "### Uniform sampling of ages and abundance"
   ]
  },
  {
   "cell_type": "code",
   "execution_count": 77,
   "metadata": {},
   "outputs": [
    {
     "ename": "LoadError",
     "evalue": "\u001b[91mUndefVarError: abunds not defined\u001b[39m",
     "output_type": "error",
     "traceback": [
      "\u001b[91mUndefVarError: abunds not defined\u001b[39m",
      "",
      "Stacktrace:",
      " [1] top-level scope at In[77]:3",
      " [2] include_string(::Function, ::Module, ::String, ::String) at ./loading.jl:1091"
     ]
    }
   ],
   "source": [
    "mi, ma = ages[1][\"height_range\"]\n",
    "heights = rand(Uniform(mi, ma), 5)\n",
    "abund = rand(Uniform(abunds[1][1], abunds[1][2].+0.000000001), 5)\n",
    "scatter(heights, abund)"
   ]
  },
  {
   "cell_type": "code",
   "execution_count": 101,
   "metadata": {},
   "outputs": [
    {
     "name": "stdout",
     "output_type": "stream",
     "text": [
      "Tuple{Any,Any}[(88.0, 88.0), (20500.0, 50000.0), (180000.0, 180000.0), (49500.0, 49500.0), (465000.0, 550000.0), (150000.0, 150000.0), (200.0, 560.0), (198000.0, 198000.0), (26354.0, 26354.0), (400.0, 400.0)]"
     ]
    },
    {
     "data": {
      "image/svg+xml": [
       "<?xml version=\"1.0\" encoding=\"utf-8\"?>\n",
       "<svg xmlns=\"http://www.w3.org/2000/svg\" xmlns:xlink=\"http://www.w3.org/1999/xlink\" width=\"600\" height=\"400\" viewBox=\"0 0 2400 1600\">\n",
       "<defs>\n",
       "  <clipPath id=\"clip020\">\n",
       "    <rect x=\"0\" y=\"0\" width=\"2400\" height=\"1600\"/>\n",
       "  </clipPath>\n",
       "</defs>\n",
       "<path clip-path=\"url(#clip020)\" d=\"\n",
       "M0 1600 L2400 1600 L2400 0 L0 0  Z\n",
       "  \" fill=\"#ffffff\" fill-rule=\"evenodd\" fill-opacity=\"1\"/>\n",
       "<defs>\n",
       "  <clipPath id=\"clip021\">\n",
       "    <rect x=\"480\" y=\"0\" width=\"1681\" height=\"1600\"/>\n",
       "  </clipPath>\n",
       "</defs>\n",
       "<path clip-path=\"url(#clip020)\" d=\"\n",
       "M222.69 1423.18 L2352.76 1423.18 L2352.76 47.2441 L222.69 47.2441  Z\n",
       "  \" fill=\"#ffffff\" fill-rule=\"evenodd\" fill-opacity=\"1\"/>\n",
       "<defs>\n",
       "  <clipPath id=\"clip022\">\n",
       "    <rect x=\"222\" y=\"47\" width=\"2131\" height=\"1377\"/>\n",
       "  </clipPath>\n",
       "</defs>\n",
       "<polyline clip-path=\"url(#clip022)\" style=\"stroke:#000000; stroke-linecap:butt; stroke-linejoin:round; stroke-width:2; stroke-opacity:0.1; fill:none\" points=\"\n",
       "  276.04,1423.18 276.04,47.2441 \n",
       "  \"/>\n",
       "<polyline clip-path=\"url(#clip022)\" style=\"stroke:#000000; stroke-linecap:butt; stroke-linejoin:round; stroke-width:2; stroke-opacity:0.1; fill:none\" points=\"\n",
       "  812.234,1423.18 812.234,47.2441 \n",
       "  \"/>\n",
       "<polyline clip-path=\"url(#clip022)\" style=\"stroke:#000000; stroke-linecap:butt; stroke-linejoin:round; stroke-width:2; stroke-opacity:0.1; fill:none\" points=\"\n",
       "  1348.43,1423.18 1348.43,47.2441 \n",
       "  \"/>\n",
       "<polyline clip-path=\"url(#clip022)\" style=\"stroke:#000000; stroke-linecap:butt; stroke-linejoin:round; stroke-width:2; stroke-opacity:0.1; fill:none\" points=\"\n",
       "  1884.62,1423.18 1884.62,47.2441 \n",
       "  \"/>\n",
       "<polyline clip-path=\"url(#clip020)\" style=\"stroke:#000000; stroke-linecap:butt; stroke-linejoin:round; stroke-width:4; stroke-opacity:1; fill:none\" points=\"\n",
       "  222.69,1423.18 2352.76,1423.18 \n",
       "  \"/>\n",
       "<polyline clip-path=\"url(#clip020)\" style=\"stroke:#000000; stroke-linecap:butt; stroke-linejoin:round; stroke-width:4; stroke-opacity:1; fill:none\" points=\"\n",
       "  276.04,1423.18 276.04,1404.28 \n",
       "  \"/>\n",
       "<polyline clip-path=\"url(#clip020)\" style=\"stroke:#000000; stroke-linecap:butt; stroke-linejoin:round; stroke-width:4; stroke-opacity:1; fill:none\" points=\"\n",
       "  812.234,1423.18 812.234,1404.28 \n",
       "  \"/>\n",
       "<polyline clip-path=\"url(#clip020)\" style=\"stroke:#000000; stroke-linecap:butt; stroke-linejoin:round; stroke-width:4; stroke-opacity:1; fill:none\" points=\"\n",
       "  1348.43,1423.18 1348.43,1404.28 \n",
       "  \"/>\n",
       "<polyline clip-path=\"url(#clip020)\" style=\"stroke:#000000; stroke-linecap:butt; stroke-linejoin:round; stroke-width:4; stroke-opacity:1; fill:none\" points=\"\n",
       "  1884.62,1423.18 1884.62,1404.28 \n",
       "  \"/>\n",
       "<path clip-path=\"url(#clip020)\" d=\"M253.424 1454.1 Q249.813 1454.1 247.984 1457.66 Q246.179 1461.2 246.179 1468.33 Q246.179 1475.44 247.984 1479.01 Q249.813 1482.55 253.424 1482.55 Q257.058 1482.55 258.864 1479.01 Q260.693 1475.44 260.693 1468.33 Q260.693 1461.2 258.864 1457.66 Q257.058 1454.1 253.424 1454.1 M253.424 1450.39 Q259.234 1450.39 262.29 1455 Q265.369 1459.58 265.369 1468.33 Q265.369 1477.06 262.29 1481.67 Q259.234 1486.25 253.424 1486.25 Q247.614 1486.25 244.535 1481.67 Q241.48 1477.06 241.48 1468.33 Q241.48 1459.58 244.535 1455 Q247.614 1450.39 253.424 1450.39 Z\" fill=\"#000000\" fill-rule=\"evenodd\" fill-opacity=\"1\" /><path clip-path=\"url(#clip020)\" d=\"M273.586 1479.7 L278.47 1479.7 L278.47 1485.58 L273.586 1485.58 L273.586 1479.7 Z\" fill=\"#000000\" fill-rule=\"evenodd\" fill-opacity=\"1\" /><path clip-path=\"url(#clip020)\" d=\"M298.655 1454.1 Q295.044 1454.1 293.216 1457.66 Q291.41 1461.2 291.41 1468.33 Q291.41 1475.44 293.216 1479.01 Q295.044 1482.55 298.655 1482.55 Q302.29 1482.55 304.095 1479.01 Q305.924 1475.44 305.924 1468.33 Q305.924 1461.2 304.095 1457.66 Q302.29 1454.1 298.655 1454.1 M298.655 1450.39 Q304.466 1450.39 307.521 1455 Q310.6 1459.58 310.6 1468.33 Q310.6 1477.06 307.521 1481.67 Q304.466 1486.25 298.655 1486.25 Q292.845 1486.25 289.767 1481.67 Q286.711 1477.06 286.711 1468.33 Q286.711 1459.58 289.767 1455 Q292.845 1450.39 298.655 1450.39 Z\" fill=\"#000000\" fill-rule=\"evenodd\" fill-opacity=\"1\" /><path clip-path=\"url(#clip020)\" d=\"M790.116 1454.1 Q786.505 1454.1 784.676 1457.66 Q782.87 1461.2 782.87 1468.33 Q782.87 1475.44 784.676 1479.01 Q786.505 1482.55 790.116 1482.55 Q793.75 1482.55 795.555 1479.01 Q797.384 1475.44 797.384 1468.33 Q797.384 1461.2 795.555 1457.66 Q793.75 1454.1 790.116 1454.1 M790.116 1450.39 Q795.926 1450.39 798.981 1455 Q802.06 1459.58 802.06 1468.33 Q802.06 1477.06 798.981 1481.67 Q795.926 1486.25 790.116 1486.25 Q784.306 1486.25 781.227 1481.67 Q778.171 1477.06 778.171 1468.33 Q778.171 1459.58 781.227 1455 Q784.306 1450.39 790.116 1450.39 Z\" fill=\"#000000\" fill-rule=\"evenodd\" fill-opacity=\"1\" /><path clip-path=\"url(#clip020)\" d=\"M810.278 1479.7 L815.162 1479.7 L815.162 1485.58 L810.278 1485.58 L810.278 1479.7 Z\" fill=\"#000000\" fill-rule=\"evenodd\" fill-opacity=\"1\" /><path clip-path=\"url(#clip020)\" d=\"M825.393 1451.02 L843.75 1451.02 L843.75 1454.96 L829.676 1454.96 L829.676 1463.43 Q830.694 1463.08 831.713 1462.92 Q832.731 1462.73 833.75 1462.73 Q839.537 1462.73 842.916 1465.9 Q846.296 1469.08 846.296 1474.49 Q846.296 1480.07 842.824 1483.17 Q839.352 1486.25 833.032 1486.25 Q830.856 1486.25 828.588 1485.88 Q826.342 1485.51 823.935 1484.77 L823.935 1480.07 Q826.018 1481.2 828.24 1481.76 Q830.463 1482.32 832.939 1482.32 Q836.944 1482.32 839.282 1480.21 Q841.62 1478.1 841.62 1474.49 Q841.62 1470.88 839.282 1468.77 Q836.944 1466.67 832.939 1466.67 Q831.065 1466.67 829.19 1467.08 Q827.338 1467.5 825.393 1468.38 L825.393 1451.02 Z\" fill=\"#000000\" fill-rule=\"evenodd\" fill-opacity=\"1\" /><path clip-path=\"url(#clip020)\" d=\"M1315.58 1481.64 L1323.22 1481.64 L1323.22 1455.28 L1314.91 1456.95 L1314.91 1452.69 L1323.17 1451.02 L1327.85 1451.02 L1327.85 1481.64 L1335.49 1481.64 L1335.49 1485.58 L1315.58 1485.58 L1315.58 1481.64 Z\" fill=\"#000000\" fill-rule=\"evenodd\" fill-opacity=\"1\" /><path clip-path=\"url(#clip020)\" d=\"M1344.93 1479.7 L1349.82 1479.7 L1349.82 1485.58 L1344.93 1485.58 L1344.93 1479.7 Z\" fill=\"#000000\" fill-rule=\"evenodd\" fill-opacity=\"1\" /><path clip-path=\"url(#clip020)\" d=\"M1370 1454.1 Q1366.39 1454.1 1364.56 1457.66 Q1362.76 1461.2 1362.76 1468.33 Q1362.76 1475.44 1364.56 1479.01 Q1366.39 1482.55 1370 1482.55 Q1373.64 1482.55 1375.44 1479.01 Q1377.27 1475.44 1377.27 1468.33 Q1377.27 1461.2 1375.44 1457.66 Q1373.64 1454.1 1370 1454.1 M1370 1450.39 Q1375.81 1450.39 1378.87 1455 Q1381.95 1459.58 1381.95 1468.33 Q1381.95 1477.06 1378.87 1481.67 Q1375.81 1486.25 1370 1486.25 Q1364.19 1486.25 1361.11 1481.67 Q1358.06 1477.06 1358.06 1468.33 Q1358.06 1459.58 1361.11 1455 Q1364.19 1450.39 1370 1450.39 Z\" fill=\"#000000\" fill-rule=\"evenodd\" fill-opacity=\"1\" /><path clip-path=\"url(#clip020)\" d=\"M1852.27 1481.64 L1859.91 1481.64 L1859.91 1455.28 L1851.6 1456.95 L1851.6 1452.69 L1859.86 1451.02 L1864.54 1451.02 L1864.54 1481.64 L1872.18 1481.64 L1872.18 1485.58 L1852.27 1485.58 L1852.27 1481.64 Z\" fill=\"#000000\" fill-rule=\"evenodd\" fill-opacity=\"1\" /><path clip-path=\"url(#clip020)\" d=\"M1881.62 1479.7 L1886.51 1479.7 L1886.51 1485.58 L1881.62 1485.58 L1881.62 1479.7 Z\" fill=\"#000000\" fill-rule=\"evenodd\" fill-opacity=\"1\" /><path clip-path=\"url(#clip020)\" d=\"M1896.74 1451.02 L1915.1 1451.02 L1915.1 1454.96 L1901.02 1454.96 L1901.02 1463.43 Q1902.04 1463.08 1903.06 1462.92 Q1904.08 1462.73 1905.1 1462.73 Q1910.88 1462.73 1914.26 1465.9 Q1917.64 1469.08 1917.64 1474.49 Q1917.64 1480.07 1914.17 1483.17 Q1910.7 1486.25 1904.38 1486.25 Q1902.2 1486.25 1899.93 1485.88 Q1897.69 1485.51 1895.28 1484.77 L1895.28 1480.07 Q1897.36 1481.2 1899.59 1481.76 Q1901.81 1482.32 1904.29 1482.32 Q1908.29 1482.32 1910.63 1480.21 Q1912.97 1478.1 1912.97 1474.49 Q1912.97 1470.88 1910.63 1468.77 Q1908.29 1466.67 1904.29 1466.67 Q1902.41 1466.67 1900.54 1467.08 Q1898.68 1467.5 1896.74 1468.38 L1896.74 1451.02 Z\" fill=\"#000000\" fill-rule=\"evenodd\" fill-opacity=\"1\" /><path clip-path=\"url(#clip020)\" d=\"M1146.34 1526.86 L1137.62 1550.51 L1155.09 1550.51 L1146.34 1526.86 M1142.71 1520.52 L1150 1520.52 L1168.11 1568.04 L1161.43 1568.04 L1157.1 1555.85 L1135.68 1555.85 L1131.35 1568.04 L1124.57 1568.04 L1142.71 1520.52 Z\" fill=\"#000000\" fill-rule=\"evenodd\" fill-opacity=\"1\" /><path clip-path=\"url(#clip020)\" d=\"M1198.25 1549.81 Q1198.25 1543.44 1195.61 1539.94 Q1193 1536.44 1188.26 1536.44 Q1183.55 1536.44 1180.91 1539.94 Q1178.3 1543.44 1178.3 1549.81 Q1178.3 1556.14 1180.91 1559.64 Q1183.55 1563.14 1188.26 1563.14 Q1193 1563.14 1195.61 1559.64 Q1198.25 1556.14 1198.25 1549.81 M1204.11 1563.62 Q1204.11 1572.72 1200.07 1577.15 Q1196.03 1581.6 1187.69 1581.6 Q1184.6 1581.6 1181.86 1581.13 Q1179.12 1580.68 1176.55 1579.72 L1176.55 1574.03 Q1179.12 1575.43 1181.64 1576.1 Q1184.15 1576.76 1186.76 1576.76 Q1192.52 1576.76 1195.39 1573.74 Q1198.25 1570.75 1198.25 1564.67 L1198.25 1561.77 Q1196.44 1564.92 1193.61 1566.48 Q1190.77 1568.04 1186.83 1568.04 Q1180.27 1568.04 1176.26 1563.05 Q1172.25 1558.05 1172.25 1549.81 Q1172.25 1541.53 1176.26 1536.53 Q1180.27 1531.54 1186.83 1531.54 Q1190.77 1531.54 1193.61 1533.1 Q1196.44 1534.66 1198.25 1537.81 L1198.25 1532.4 L1204.11 1532.4 L1204.11 1563.62 Z\" fill=\"#000000\" fill-rule=\"evenodd\" fill-opacity=\"1\" /><path clip-path=\"url(#clip020)\" d=\"M1246.66 1548.76 L1246.66 1551.62 L1219.74 1551.62 Q1220.12 1557.67 1223.37 1560.85 Q1226.64 1564 1232.47 1564 Q1235.84 1564 1238.99 1563.17 Q1242.18 1562.35 1245.3 1560.69 L1245.3 1566.23 Q1242.14 1567.57 1238.83 1568.27 Q1235.52 1568.97 1232.12 1568.97 Q1223.59 1568.97 1218.59 1564 Q1213.63 1559.04 1213.63 1550.57 Q1213.63 1541.82 1218.34 1536.69 Q1223.08 1531.54 1231.1 1531.54 Q1238.29 1531.54 1242.46 1536.18 Q1246.66 1540.8 1246.66 1548.76 M1240.81 1547.04 Q1240.74 1542.23 1238.1 1539.37 Q1235.49 1536.5 1231.16 1536.5 Q1226.26 1536.5 1223.3 1539.27 Q1220.37 1542.04 1219.93 1547.07 L1240.81 1547.04 Z\" fill=\"#000000\" fill-rule=\"evenodd\" fill-opacity=\"1\" /><path clip-path=\"url(#clip020)\" d=\"M1291.07 1518.58 Q1286.8 1525.9 1284.73 1533.06 Q1282.66 1540.23 1282.66 1547.58 Q1282.66 1554.93 1284.73 1562.16 Q1286.83 1569.35 1291.07 1576.64 L1285.97 1576.64 Q1281.2 1569.16 1278.81 1561.93 Q1276.46 1554.71 1276.46 1547.58 Q1276.46 1540.48 1278.81 1533.29 Q1281.17 1526.09 1285.97 1518.58 L1291.07 1518.58 Z\" fill=\"#000000\" fill-rule=\"evenodd\" fill-opacity=\"1\" /><path clip-path=\"url(#clip020)\" d=\"M1302.68 1520.52 L1312.26 1520.52 L1324.39 1552.86 L1336.58 1520.52 L1346.16 1520.52 L1346.16 1568.04 L1339.89 1568.04 L1339.89 1526.32 L1327.64 1558.91 L1321.17 1558.91 L1308.92 1526.32 L1308.92 1568.04 L1302.68 1568.04 L1302.68 1520.52 Z\" fill=\"#000000\" fill-rule=\"evenodd\" fill-opacity=\"1\" /><path clip-path=\"url(#clip020)\" d=\"M1373.5 1571.35 Q1371.02 1577.72 1368.66 1579.66 Q1366.31 1581.6 1362.36 1581.6 L1357.68 1581.6 L1357.68 1576.7 L1361.12 1576.7 Q1363.54 1576.7 1364.88 1575.56 Q1366.21 1574.41 1367.84 1570.14 L1368.89 1567.47 L1354.47 1532.4 L1360.67 1532.4 L1371.81 1560.28 L1382.95 1532.4 L1389.16 1532.4 L1373.5 1571.35 Z\" fill=\"#000000\" fill-rule=\"evenodd\" fill-opacity=\"1\" /><path clip-path=\"url(#clip020)\" d=\"M1413.45 1550.12 Q1406.35 1550.12 1403.61 1551.75 Q1400.87 1553.37 1400.87 1557.29 Q1400.87 1560.4 1402.91 1562.25 Q1404.98 1564.07 1408.51 1564.07 Q1413.38 1564.07 1416.31 1560.63 Q1419.27 1557.16 1419.27 1551.43 L1419.27 1550.12 L1413.45 1550.12 M1425.13 1547.71 L1425.13 1568.04 L1419.27 1568.04 L1419.27 1562.63 Q1417.27 1565.88 1414.27 1567.44 Q1411.28 1568.97 1406.95 1568.97 Q1401.48 1568.97 1398.23 1565.91 Q1395.02 1562.82 1395.02 1557.67 Q1395.02 1551.65 1399.03 1548.6 Q1403.07 1545.54 1411.06 1545.54 L1419.27 1545.54 L1419.27 1544.97 Q1419.27 1540.93 1416.6 1538.73 Q1413.96 1536.5 1409.15 1536.5 Q1406.09 1536.5 1403.2 1537.23 Q1400.3 1537.97 1397.63 1539.43 L1397.63 1534.02 Q1400.84 1532.78 1403.87 1532.17 Q1406.89 1531.54 1409.75 1531.54 Q1417.49 1531.54 1421.31 1535.55 Q1425.13 1539.56 1425.13 1547.71 Z\" fill=\"#000000\" fill-rule=\"evenodd\" fill-opacity=\"1\" /><path clip-path=\"url(#clip020)\" d=\"M1436.27 1518.58 L1441.36 1518.58 Q1446.13 1526.09 1448.49 1533.29 Q1450.88 1540.48 1450.88 1547.58 Q1450.88 1554.71 1448.49 1561.93 Q1446.13 1569.16 1441.36 1576.64 L1436.27 1576.64 Q1440.5 1569.35 1442.57 1562.16 Q1444.67 1554.93 1444.67 1547.58 Q1444.67 1540.23 1442.57 1533.06 Q1440.5 1525.9 1436.27 1518.58 Z\" fill=\"#000000\" fill-rule=\"evenodd\" fill-opacity=\"1\" /><polyline clip-path=\"url(#clip022)\" style=\"stroke:#000000; stroke-linecap:butt; stroke-linejoin:round; stroke-width:2; stroke-opacity:0.1; fill:none\" points=\"\n",
       "  222.69,1365.25 2352.76,1365.25 \n",
       "  \"/>\n",
       "<polyline clip-path=\"url(#clip022)\" style=\"stroke:#000000; stroke-linecap:butt; stroke-linejoin:round; stroke-width:2; stroke-opacity:0.1; fill:none\" points=\"\n",
       "  222.69,681.283 2352.76,681.283 \n",
       "  \"/>\n",
       "<polyline clip-path=\"url(#clip020)\" style=\"stroke:#000000; stroke-linecap:butt; stroke-linejoin:round; stroke-width:4; stroke-opacity:1; fill:none\" points=\"\n",
       "  222.69,1423.18 222.69,47.2441 \n",
       "  \"/>\n",
       "<polyline clip-path=\"url(#clip020)\" style=\"stroke:#000000; stroke-linecap:butt; stroke-linejoin:round; stroke-width:4; stroke-opacity:1; fill:none\" points=\"\n",
       "  222.69,1365.25 241.588,1365.25 \n",
       "  \"/>\n",
       "<polyline clip-path=\"url(#clip020)\" style=\"stroke:#000000; stroke-linecap:butt; stroke-linejoin:round; stroke-width:4; stroke-opacity:1; fill:none\" points=\"\n",
       "  222.69,681.283 241.588,681.283 \n",
       "  \"/>\n",
       "<path clip-path=\"url(#clip020)\" d=\"M117.565 1385.04 L125.203 1385.04 L125.203 1358.68 L116.893 1360.35 L116.893 1356.09 L125.157 1354.42 L129.833 1354.42 L129.833 1385.04 L137.472 1385.04 L137.472 1388.98 L117.565 1388.98 L117.565 1385.04 Z\" fill=\"#000000\" fill-rule=\"evenodd\" fill-opacity=\"1\" /><path clip-path=\"url(#clip020)\" d=\"M156.916 1357.5 Q153.305 1357.5 151.476 1361.06 Q149.671 1364.6 149.671 1371.73 Q149.671 1378.84 151.476 1382.41 Q153.305 1385.95 156.916 1385.95 Q160.55 1385.95 162.356 1382.41 Q164.185 1378.84 164.185 1371.73 Q164.185 1364.6 162.356 1361.06 Q160.55 1357.5 156.916 1357.5 M156.916 1353.79 Q162.726 1353.79 165.782 1358.4 Q168.861 1362.98 168.861 1371.73 Q168.861 1380.46 165.782 1385.07 Q162.726 1389.65 156.916 1389.65 Q151.106 1389.65 148.027 1385.07 Q144.972 1380.46 144.972 1371.73 Q144.972 1362.98 148.027 1358.4 Q151.106 1353.79 156.916 1353.79 Z\" fill=\"#000000\" fill-rule=\"evenodd\" fill-opacity=\"1\" /><path clip-path=\"url(#clip020)\" d=\"M173.431 1358.37 L186.69 1358.37 L186.69 1361.57 L168.861 1361.57 L168.861 1358.37 Q171.023 1356.13 174.747 1352.37 Q178.49 1348.59 179.449 1347.5 Q181.274 1345.45 181.988 1344.04 Q182.722 1342.61 182.722 1341.24 Q182.722 1339 181.142 1337.59 Q179.581 1336.18 177.061 1336.18 Q175.274 1336.18 173.28 1336.8 Q171.306 1337.42 169.049 1338.68 L169.049 1334.84 Q171.343 1333.92 173.337 1333.45 Q175.33 1332.98 176.986 1332.98 Q181.349 1332.98 183.944 1335.16 Q186.54 1337.35 186.54 1340.99 Q186.54 1342.72 185.882 1344.29 Q185.242 1345.83 183.531 1347.93 Q183.06 1348.48 180.54 1351.09 Q178.02 1353.69 173.431 1358.37 Z\" fill=\"#000000\" fill-rule=\"evenodd\" fill-opacity=\"1\" /><path clip-path=\"url(#clip020)\" d=\"M114.931 701.075 L122.57 701.075 L122.57 674.709 L114.26 676.376 L114.26 672.117 L122.524 670.45 L127.2 670.45 L127.2 701.075 L134.839 701.075 L134.839 705.01 L114.931 705.01 L114.931 701.075 Z\" fill=\"#000000\" fill-rule=\"evenodd\" fill-opacity=\"1\" /><path clip-path=\"url(#clip020)\" d=\"M154.283 673.529 Q150.672 673.529 148.843 677.094 Q147.038 680.635 147.038 687.765 Q147.038 694.871 148.843 698.436 Q150.672 701.978 154.283 701.978 Q157.917 701.978 159.723 698.436 Q161.552 694.871 161.552 687.765 Q161.552 680.635 159.723 677.094 Q157.917 673.529 154.283 673.529 M154.283 669.825 Q160.093 669.825 163.149 674.432 Q166.227 679.015 166.227 687.765 Q166.227 696.492 163.149 701.098 Q160.093 705.682 154.283 705.682 Q148.473 705.682 145.394 701.098 Q142.339 696.492 142.339 687.765 Q142.339 679.015 145.394 674.432 Q148.473 669.825 154.283 669.825 Z\" fill=\"#000000\" fill-rule=\"evenodd\" fill-opacity=\"1\" /><path clip-path=\"url(#clip020)\" d=\"M178.904 652.83 L169.312 667.82 L178.904 667.82 L178.904 652.83 M177.907 649.52 L182.684 649.52 L182.684 667.82 L186.69 667.82 L186.69 670.98 L182.684 670.98 L182.684 677.6 L178.904 677.6 L178.904 670.98 L166.227 670.98 L166.227 667.312 L177.907 649.52 Z\" fill=\"#000000\" fill-rule=\"evenodd\" fill-opacity=\"1\" /><path clip-path=\"url(#clip020)\" d=\"M22.818 1020.92 L46.4666 1029.64 L46.4666 1012.17 L22.818 1020.92 M16.4842 1024.55 L16.4842 1017.26 L64.0042 999.15 L64.0042 1005.83 L51.8138 1010.16 L51.8138 1031.58 L64.0042 1035.91 L64.0042 1042.69 L16.4842 1024.55 Z\" fill=\"#000000\" fill-rule=\"evenodd\" fill-opacity=\"1\" /><path clip-path=\"url(#clip020)\" d=\"M46.212 966.876 Q39.7508 966.876 36.0905 969.55 Q32.3984 972.191 32.3984 976.838 Q32.3984 981.485 36.0905 984.159 Q39.7508 986.801 46.212 986.801 Q52.6732 986.801 56.3653 984.159 Q60.0256 981.485 60.0256 976.838 Q60.0256 972.191 56.3653 969.55 Q52.6732 966.876 46.212 966.876 M33.7671 986.801 Q30.5842 984.955 29.0564 982.154 Q27.4968 979.321 27.4968 975.406 Q27.4968 968.913 32.6531 964.871 Q37.8093 960.797 46.212 960.797 Q54.6147 960.797 59.771 964.871 Q64.9272 968.913 64.9272 975.406 Q64.9272 979.321 63.3994 982.154 Q61.8398 984.955 58.657 986.801 L64.0042 986.801 L64.0042 992.689 L14.479 992.689 L14.479 986.801 L33.7671 986.801 Z\" fill=\"#000000\" fill-rule=\"evenodd\" fill-opacity=\"1\" /><path clip-path=\"url(#clip020)\" d=\"M49.9359 951.694 L28.3562 951.694 L28.3562 945.837 L49.7131 945.837 Q54.7739 945.837 57.3202 943.864 Q59.8346 941.891 59.8346 937.944 Q59.8346 933.201 56.8109 930.464 Q53.7872 927.695 48.5673 927.695 L28.3562 927.695 L28.3562 921.839 L64.0042 921.839 L64.0042 927.695 L58.5296 927.695 Q61.7762 929.828 63.3676 932.66 Q64.9272 935.461 64.9272 939.185 Q64.9272 945.328 61.1078 948.511 Q57.2883 951.694 49.9359 951.694 M27.4968 936.957 L27.4968 936.957 Z\" fill=\"#000000\" fill-rule=\"evenodd\" fill-opacity=\"1\" /><path clip-path=\"url(#clip020)\" d=\"M42.4881 880.143 L64.0042 880.143 L64.0042 886 L42.679 886 Q37.6183 886 35.1038 887.973 Q32.5894 889.946 32.5894 893.893 Q32.5894 898.636 35.6131 901.373 Q38.6368 904.11 43.8567 904.11 L64.0042 904.11 L64.0042 909.998 L28.3562 909.998 L28.3562 904.11 L33.8944 904.11 Q30.6797 902.009 29.0883 899.177 Q27.4968 896.312 27.4968 892.588 Q27.4968 886.445 31.3163 883.294 Q35.1038 880.143 42.4881 880.143 Z\" fill=\"#000000\" fill-rule=\"evenodd\" fill-opacity=\"1\" /><path clip-path=\"url(#clip020)\" d=\"M33.7671 845.004 L14.479 845.004 L14.479 839.148 L64.0042 839.148 L64.0042 845.004 L58.657 845.004 Q61.8398 846.851 63.3994 849.683 Q64.9272 852.484 64.9272 856.431 Q64.9272 862.892 59.771 866.966 Q54.6147 871.008 46.212 871.008 Q37.8093 871.008 32.6531 866.966 Q27.4968 862.892 27.4968 856.431 Q27.4968 852.484 29.0564 849.683 Q30.5842 846.851 33.7671 845.004 M46.212 864.961 Q52.6732 864.961 56.3653 862.319 Q60.0256 859.646 60.0256 854.999 Q60.0256 850.352 56.3653 847.678 Q52.6732 845.004 46.212 845.004 Q39.7508 845.004 36.0905 847.678 Q32.3984 850.352 32.3984 854.999 Q32.3984 859.646 36.0905 862.319 Q39.7508 864.961 46.212 864.961 Z\" fill=\"#000000\" fill-rule=\"evenodd\" fill-opacity=\"1\" /><path clip-path=\"url(#clip020)\" d=\"M46.0847 810.884 Q46.0847 817.982 47.7079 820.719 Q49.3312 823.457 53.2461 823.457 Q56.3653 823.457 58.2114 821.42 Q60.0256 819.351 60.0256 815.818 Q60.0256 810.948 56.5881 808.02 Q53.1188 805.06 47.3897 805.06 L46.0847 805.06 L46.0847 810.884 M43.6657 799.203 L64.0042 799.203 L64.0042 805.06 L58.5933 805.06 Q61.8398 807.065 63.3994 810.057 Q64.9272 813.049 64.9272 817.377 Q64.9272 822.852 61.8716 826.098 Q58.7843 829.313 53.6281 829.313 Q47.6125 829.313 44.5569 825.303 Q41.5014 821.26 41.5014 813.271 L41.5014 805.06 L40.9285 805.06 Q36.8862 805.06 34.6901 807.733 Q32.4621 810.375 32.4621 815.181 Q32.4621 818.237 33.1941 821.133 Q33.9262 824.029 35.3903 826.703 L29.9795 826.703 Q28.7381 823.488 28.1334 820.465 Q27.4968 817.441 27.4968 814.576 Q27.4968 806.842 31.5072 803.023 Q35.5176 799.203 43.6657 799.203 Z\" fill=\"#000000\" fill-rule=\"evenodd\" fill-opacity=\"1\" /><path clip-path=\"url(#clip020)\" d=\"M42.4881 757.508 L64.0042 757.508 L64.0042 763.364 L42.679 763.364 Q37.6183 763.364 35.1038 765.338 Q32.5894 767.311 32.5894 771.258 Q32.5894 776 35.6131 778.737 Q38.6368 781.475 43.8567 781.475 L64.0042 781.475 L64.0042 787.363 L28.3562 787.363 L28.3562 781.475 L33.8944 781.475 Q30.6797 779.374 29.0883 776.541 Q27.4968 773.677 27.4968 769.953 Q27.4968 763.81 31.3163 760.659 Q35.1038 757.508 42.4881 757.508 Z\" fill=\"#000000\" fill-rule=\"evenodd\" fill-opacity=\"1\" /><path clip-path=\"url(#clip020)\" d=\"M29.7248 720.173 L35.1993 720.173 Q33.8307 722.656 33.1623 725.17 Q32.4621 727.653 32.4621 730.199 Q32.4621 735.896 36.0905 739.047 Q39.6872 742.198 46.212 742.198 Q52.7369 742.198 56.3653 739.047 Q59.9619 735.896 59.9619 730.199 Q59.9619 727.653 59.2935 725.17 Q58.5933 722.656 57.2247 720.173 L62.6355 720.173 Q63.7814 722.624 64.3543 725.266 Q64.9272 727.875 64.9272 730.836 Q64.9272 738.888 59.8664 743.631 Q54.8057 748.373 46.212 748.373 Q37.491 748.373 32.4939 743.599 Q27.4968 738.793 27.4968 730.454 Q27.4968 727.748 28.0697 725.17 Q28.6108 722.592 29.7248 720.173 Z\" fill=\"#000000\" fill-rule=\"evenodd\" fill-opacity=\"1\" /><path clip-path=\"url(#clip020)\" d=\"M44.7161 679.496 L47.5806 679.496 L47.5806 706.423 Q53.6281 706.041 56.8109 702.795 Q59.9619 699.516 59.9619 693.692 Q59.9619 690.318 59.1344 687.167 Q58.3069 683.984 56.6518 680.865 L62.1899 680.865 Q63.5267 684.016 64.227 687.326 Q64.9272 690.636 64.9272 694.042 Q64.9272 702.572 59.9619 707.569 Q54.9967 712.534 46.5303 712.534 Q37.7774 712.534 32.6531 707.824 Q27.4968 703.081 27.4968 695.06 Q27.4968 687.867 32.1438 683.697 Q36.7589 679.496 44.7161 679.496 M42.9973 685.353 Q38.1912 685.416 35.3266 688.058 Q32.4621 690.668 32.4621 694.997 Q32.4621 699.898 35.2312 702.858 Q38.0002 705.786 43.0292 706.232 L42.9973 685.353 Z\" fill=\"#000000\" fill-rule=\"evenodd\" fill-opacity=\"1\" /><path clip-path=\"url(#clip020)\" d=\"M14.5426 635.095 Q21.8632 639.36 29.0246 641.429 Q36.186 643.498 43.5384 643.498 Q50.8908 643.498 58.1159 641.429 Q65.3091 639.329 72.5979 635.095 L72.5979 640.188 Q65.1182 644.962 57.8931 647.349 Q50.668 649.705 43.5384 649.705 Q36.4406 649.705 29.2474 647.349 Q22.0542 644.994 14.5426 640.188 L14.5426 635.095 Z\" fill=\"#000000\" fill-rule=\"evenodd\" fill-opacity=\"1\" /><path clip-path=\"url(#clip020)\" d=\"M14.479 623.733 L14.479 617.876 L64.0042 617.876 L64.0042 623.733 L14.479 623.733 Z\" fill=\"#000000\" fill-rule=\"evenodd\" fill-opacity=\"1\" /><path clip-path=\"url(#clip020)\" d=\"M32.4621 591.809 Q32.4621 596.519 36.1542 599.256 Q39.8145 601.994 46.212 601.994 Q52.6095 601.994 56.3017 599.288 Q59.9619 596.551 59.9619 591.809 Q59.9619 587.13 56.2698 584.392 Q52.5777 581.655 46.212 581.655 Q39.8781 581.655 36.186 584.392 Q32.4621 587.13 32.4621 591.809 M27.4968 591.809 Q27.4968 584.17 32.4621 579.809 Q37.4273 575.449 46.212 575.449 Q54.9649 575.449 59.9619 579.809 Q64.9272 584.17 64.9272 591.809 Q64.9272 599.479 59.9619 603.84 Q54.9649 608.168 46.212 608.168 Q37.4273 608.168 32.4621 603.84 Q27.4968 599.479 27.4968 591.809 Z\" fill=\"#000000\" fill-rule=\"evenodd\" fill-opacity=\"1\" /><path clip-path=\"url(#clip020)\" d=\"M45.7664 542.283 Q39.4007 542.283 35.8996 544.925 Q32.3984 547.535 32.3984 552.277 Q32.3984 556.988 35.8996 559.63 Q39.4007 562.24 45.7664 562.24 Q52.1003 562.24 55.6014 559.63 Q59.1026 556.988 59.1026 552.277 Q59.1026 547.535 55.6014 544.925 Q52.1003 542.283 45.7664 542.283 M59.58 536.427 Q68.683 536.427 73.1071 540.469 Q77.5631 544.511 77.5631 552.85 Q77.5631 555.938 77.0857 558.675 Q76.6401 561.412 75.6852 563.99 L69.9879 563.99 Q71.3884 561.412 72.0568 558.898 Q72.7252 556.383 72.7252 553.773 Q72.7252 548.012 69.7015 545.148 Q66.7096 542.283 60.6303 542.283 L57.7339 542.283 Q60.885 544.098 62.4446 546.93 Q64.0042 549.763 64.0042 553.71 Q64.0042 560.266 59.0071 564.277 Q54.01 568.287 45.7664 568.287 Q37.491 568.287 32.4939 564.277 Q27.4968 560.266 27.4968 553.71 Q27.4968 549.763 29.0564 546.93 Q30.616 544.098 33.7671 542.283 L28.3562 542.283 L28.3562 536.427 L59.58 536.427 Z\" fill=\"#000000\" fill-rule=\"evenodd\" fill-opacity=\"1\" /><path clip-path=\"url(#clip020)\" d=\"M58.5933 522.422 L58.5933 511.919 L22.3406 511.919 L24.6323 523.345 L18.7758 523.345 L16.4842 511.983 L16.4842 505.553 L58.5933 505.553 L58.5933 495.05 L64.0042 495.05 L64.0042 522.422 L58.5933 522.422 Z\" fill=\"#000000\" fill-rule=\"evenodd\" fill-opacity=\"1\" /><path clip-path=\"url(#clip020)\" d=\"M20.7174 468.314 Q20.7174 473.279 25.6189 475.794 Q30.4887 478.276 40.2919 478.276 Q50.0633 478.276 54.9649 475.794 Q59.8346 473.279 59.8346 468.314 Q59.8346 463.317 54.9649 460.834 Q50.0633 458.32 40.2919 458.32 Q30.4887 458.32 25.6189 460.834 Q20.7174 463.317 20.7174 468.314 M15.6248 468.314 Q15.6248 460.325 21.9587 456.123 Q28.2607 451.89 40.2919 451.89 Q52.2913 451.89 58.6251 456.123 Q64.9272 460.325 64.9272 468.314 Q64.9272 476.303 58.6251 480.536 Q52.2913 484.737 40.2919 484.737 Q28.2607 484.737 21.9587 480.536 Q15.6248 476.303 15.6248 468.314 Z\" fill=\"#000000\" fill-rule=\"evenodd\" fill-opacity=\"1\" /><path clip-path=\"url(#clip020)\" d=\"M14.5426 442.342 L14.5426 437.249 Q22.0542 432.475 29.2474 430.12 Q36.4406 427.732 43.5384 427.732 Q50.668 427.732 57.8931 430.12 Q65.1182 432.475 72.5979 437.249 L72.5979 442.342 Q65.3091 438.109 58.1159 436.04 Q50.8908 433.939 43.5384 433.939 Q36.186 433.939 29.0246 436.04 Q21.8632 438.109 14.5426 442.342 Z\" fill=\"#000000\" fill-rule=\"evenodd\" fill-opacity=\"1\" /><circle clip-path=\"url(#clip022)\" cx=\"925.408\" cy=\"1384.24\" r=\"14\" fill=\"#009af9\" fill-rule=\"evenodd\" fill-opacity=\"0.5\" stroke=\"#000000\" stroke-opacity=\"0.5\" stroke-width=\"3.2\"/>\n",
       "<circle clip-path=\"url(#clip022)\" cx=\"558.126\" cy=\"1384.24\" r=\"14\" fill=\"#009af9\" fill-rule=\"evenodd\" fill-opacity=\"0.5\" stroke=\"#000000\" stroke-opacity=\"0.5\" stroke-width=\"3.2\"/>\n",
       "<circle clip-path=\"url(#clip022)\" cx=\"1161.01\" cy=\"1384.24\" r=\"14\" fill=\"#009af9\" fill-rule=\"evenodd\" fill-opacity=\"0.5\" stroke=\"#000000\" stroke-opacity=\"0.5\" stroke-width=\"3.2\"/>\n",
       "<circle clip-path=\"url(#clip022)\" cx=\"1430.98\" cy=\"1384.24\" r=\"14\" fill=\"#009af9\" fill-rule=\"evenodd\" fill-opacity=\"0.5\" stroke=\"#000000\" stroke-opacity=\"0.5\" stroke-width=\"3.2\"/>\n",
       "<circle clip-path=\"url(#clip022)\" cx=\"1435.45\" cy=\"1384.24\" r=\"14\" fill=\"#009af9\" fill-rule=\"evenodd\" fill-opacity=\"0.5\" stroke=\"#000000\" stroke-opacity=\"0.5\" stroke-width=\"3.2\"/>\n",
       "<circle clip-path=\"url(#clip022)\" cx=\"729.905\" cy=\"1384.24\" r=\"14\" fill=\"#009af9\" fill-rule=\"evenodd\" fill-opacity=\"0.5\" stroke=\"#000000\" stroke-opacity=\"0.5\" stroke-width=\"3.2\"/>\n",
       "<circle clip-path=\"url(#clip022)\" cx=\"1591.97\" cy=\"1384.24\" r=\"14\" fill=\"#009af9\" fill-rule=\"evenodd\" fill-opacity=\"0.5\" stroke=\"#000000\" stroke-opacity=\"0.5\" stroke-width=\"3.2\"/>\n",
       "<circle clip-path=\"url(#clip022)\" cx=\"1253.64\" cy=\"1384.24\" r=\"14\" fill=\"#009af9\" fill-rule=\"evenodd\" fill-opacity=\"0.5\" stroke=\"#000000\" stroke-opacity=\"0.5\" stroke-width=\"3.2\"/>\n",
       "<circle clip-path=\"url(#clip022)\" cx=\"1435.91\" cy=\"1384.24\" r=\"14\" fill=\"#009af9\" fill-rule=\"evenodd\" fill-opacity=\"0.5\" stroke=\"#000000\" stroke-opacity=\"0.5\" stroke-width=\"3.2\"/>\n",
       "<circle clip-path=\"url(#clip022)\" cx=\"772.737\" cy=\"1384.24\" r=\"14\" fill=\"#009af9\" fill-rule=\"evenodd\" fill-opacity=\"0.5\" stroke=\"#000000\" stroke-opacity=\"0.5\" stroke-width=\"3.2\"/>\n",
       "<circle clip-path=\"url(#clip022)\" cx=\"1403.39\" cy=\"1384.24\" r=\"14\" fill=\"#009af9\" fill-rule=\"evenodd\" fill-opacity=\"0.5\" stroke=\"#000000\" stroke-opacity=\"0.5\" stroke-width=\"3.2\"/>\n",
       "<circle clip-path=\"url(#clip022)\" cx=\"1820.22\" cy=\"1384.24\" r=\"14\" fill=\"#009af9\" fill-rule=\"evenodd\" fill-opacity=\"0.5\" stroke=\"#000000\" stroke-opacity=\"0.5\" stroke-width=\"3.2\"/>\n",
       "<circle clip-path=\"url(#clip022)\" cx=\"1000.06\" cy=\"1384.24\" r=\"14\" fill=\"#009af9\" fill-rule=\"evenodd\" fill-opacity=\"0.5\" stroke=\"#000000\" stroke-opacity=\"0.5\" stroke-width=\"3.2\"/>\n",
       "<circle clip-path=\"url(#clip022)\" cx=\"563.382\" cy=\"1384.24\" r=\"14\" fill=\"#009af9\" fill-rule=\"evenodd\" fill-opacity=\"0.5\" stroke=\"#000000\" stroke-opacity=\"0.5\" stroke-width=\"3.2\"/>\n",
       "<circle clip-path=\"url(#clip022)\" cx=\"1831.39\" cy=\"1384.24\" r=\"14\" fill=\"#009af9\" fill-rule=\"evenodd\" fill-opacity=\"0.5\" stroke=\"#000000\" stroke-opacity=\"0.5\" stroke-width=\"3.2\"/>\n",
       "<circle clip-path=\"url(#clip022)\" cx=\"1275.87\" cy=\"1384.24\" r=\"14\" fill=\"#009af9\" fill-rule=\"evenodd\" fill-opacity=\"0.5\" stroke=\"#000000\" stroke-opacity=\"0.5\" stroke-width=\"3.2\"/>\n",
       "<circle clip-path=\"url(#clip022)\" cx=\"1832.45\" cy=\"1384.24\" r=\"14\" fill=\"#009af9\" fill-rule=\"evenodd\" fill-opacity=\"0.5\" stroke=\"#000000\" stroke-opacity=\"0.5\" stroke-width=\"3.2\"/>\n",
       "<circle clip-path=\"url(#clip022)\" cx=\"1225.06\" cy=\"1384.24\" r=\"14\" fill=\"#009af9\" fill-rule=\"evenodd\" fill-opacity=\"0.5\" stroke=\"#000000\" stroke-opacity=\"0.5\" stroke-width=\"3.2\"/>\n",
       "<circle clip-path=\"url(#clip022)\" cx=\"868.129\" cy=\"1384.24\" r=\"14\" fill=\"#009af9\" fill-rule=\"evenodd\" fill-opacity=\"0.5\" stroke=\"#000000\" stroke-opacity=\"0.5\" stroke-width=\"3.2\"/>\n",
       "<circle clip-path=\"url(#clip022)\" cx=\"1397.65\" cy=\"1384.24\" r=\"14\" fill=\"#009af9\" fill-rule=\"evenodd\" fill-opacity=\"0.5\" stroke=\"#000000\" stroke-opacity=\"0.5\" stroke-width=\"3.2\"/>\n",
       "<circle clip-path=\"url(#clip022)\" cx=\"1729.14\" cy=\"484.794\" r=\"14\" fill=\"#e26f46\" fill-rule=\"evenodd\" fill-opacity=\"0.5\" stroke=\"#000000\" stroke-opacity=\"0.5\" stroke-width=\"3.2\"/>\n",
       "<circle clip-path=\"url(#clip022)\" cx=\"968.149\" cy=\"442.91\" r=\"14\" fill=\"#e26f46\" fill-rule=\"evenodd\" fill-opacity=\"0.5\" stroke=\"#000000\" stroke-opacity=\"0.5\" stroke-width=\"3.2\"/>\n",
       "<circle clip-path=\"url(#clip022)\" cx=\"1523.6\" cy=\"444.795\" r=\"14\" fill=\"#e26f46\" fill-rule=\"evenodd\" fill-opacity=\"0.5\" stroke=\"#000000\" stroke-opacity=\"0.5\" stroke-width=\"3.2\"/>\n",
       "<circle clip-path=\"url(#clip022)\" cx=\"335.643\" cy=\"560.287\" r=\"14\" fill=\"#e26f46\" fill-rule=\"evenodd\" fill-opacity=\"0.5\" stroke=\"#000000\" stroke-opacity=\"0.5\" stroke-width=\"3.2\"/>\n",
       "<circle clip-path=\"url(#clip022)\" cx=\"557.922\" cy=\"539.796\" r=\"14\" fill=\"#e26f46\" fill-rule=\"evenodd\" fill-opacity=\"0.5\" stroke=\"#000000\" stroke-opacity=\"0.5\" stroke-width=\"3.2\"/>\n",
       "<circle clip-path=\"url(#clip022)\" cx=\"943.073\" cy=\"449.263\" r=\"14\" fill=\"#e26f46\" fill-rule=\"evenodd\" fill-opacity=\"0.5\" stroke=\"#000000\" stroke-opacity=\"0.5\" stroke-width=\"3.2\"/>\n",
       "<circle clip-path=\"url(#clip022)\" cx=\"1521.69\" cy=\"507.646\" r=\"14\" fill=\"#e26f46\" fill-rule=\"evenodd\" fill-opacity=\"0.5\" stroke=\"#000000\" stroke-opacity=\"0.5\" stroke-width=\"3.2\"/>\n",
       "<circle clip-path=\"url(#clip022)\" cx=\"1393.26\" cy=\"535.712\" r=\"14\" fill=\"#e26f46\" fill-rule=\"evenodd\" fill-opacity=\"0.5\" stroke=\"#000000\" stroke-opacity=\"0.5\" stroke-width=\"3.2\"/>\n",
       "<circle clip-path=\"url(#clip022)\" cx=\"1023.87\" cy=\"452.737\" r=\"14\" fill=\"#e26f46\" fill-rule=\"evenodd\" fill-opacity=\"0.5\" stroke=\"#000000\" stroke-opacity=\"0.5\" stroke-width=\"3.2\"/>\n",
       "<circle clip-path=\"url(#clip022)\" cx=\"532.316\" cy=\"537.844\" r=\"14\" fill=\"#e26f46\" fill-rule=\"evenodd\" fill-opacity=\"0.5\" stroke=\"#000000\" stroke-opacity=\"0.5\" stroke-width=\"3.2\"/>\n",
       "<circle clip-path=\"url(#clip022)\" cx=\"465.873\" cy=\"457.118\" r=\"14\" fill=\"#e26f46\" fill-rule=\"evenodd\" fill-opacity=\"0.5\" stroke=\"#000000\" stroke-opacity=\"0.5\" stroke-width=\"3.2\"/>\n",
       "<circle clip-path=\"url(#clip022)\" cx=\"1733.48\" cy=\"555.039\" r=\"14\" fill=\"#e26f46\" fill-rule=\"evenodd\" fill-opacity=\"0.5\" stroke=\"#000000\" stroke-opacity=\"0.5\" stroke-width=\"3.2\"/>\n",
       "<circle clip-path=\"url(#clip022)\" cx=\"900.614\" cy=\"566.219\" r=\"14\" fill=\"#e26f46\" fill-rule=\"evenodd\" fill-opacity=\"0.5\" stroke=\"#000000\" stroke-opacity=\"0.5\" stroke-width=\"3.2\"/>\n",
       "<circle clip-path=\"url(#clip022)\" cx=\"1277.92\" cy=\"527.849\" r=\"14\" fill=\"#e26f46\" fill-rule=\"evenodd\" fill-opacity=\"0.5\" stroke=\"#000000\" stroke-opacity=\"0.5\" stroke-width=\"3.2\"/>\n",
       "<circle clip-path=\"url(#clip022)\" cx=\"1800.81\" cy=\"564.276\" r=\"14\" fill=\"#e26f46\" fill-rule=\"evenodd\" fill-opacity=\"0.5\" stroke=\"#000000\" stroke-opacity=\"0.5\" stroke-width=\"3.2\"/>\n",
       "<circle clip-path=\"url(#clip022)\" cx=\"1102.67\" cy=\"446.707\" r=\"14\" fill=\"#e26f46\" fill-rule=\"evenodd\" fill-opacity=\"0.5\" stroke=\"#000000\" stroke-opacity=\"0.5\" stroke-width=\"3.2\"/>\n",
       "<circle clip-path=\"url(#clip022)\" cx=\"1277.93\" cy=\"466.361\" r=\"14\" fill=\"#e26f46\" fill-rule=\"evenodd\" fill-opacity=\"0.5\" stroke=\"#000000\" stroke-opacity=\"0.5\" stroke-width=\"3.2\"/>\n",
       "<circle clip-path=\"url(#clip022)\" cx=\"1887.31\" cy=\"460.98\" r=\"14\" fill=\"#e26f46\" fill-rule=\"evenodd\" fill-opacity=\"0.5\" stroke=\"#000000\" stroke-opacity=\"0.5\" stroke-width=\"3.2\"/>\n",
       "<circle clip-path=\"url(#clip022)\" cx=\"533.98\" cy=\"565.086\" r=\"14\" fill=\"#e26f46\" fill-rule=\"evenodd\" fill-opacity=\"0.5\" stroke=\"#000000\" stroke-opacity=\"0.5\" stroke-width=\"3.2\"/>\n",
       "<circle clip-path=\"url(#clip022)\" cx=\"354.396\" cy=\"451.138\" r=\"14\" fill=\"#e26f46\" fill-rule=\"evenodd\" fill-opacity=\"0.5\" stroke=\"#000000\" stroke-opacity=\"0.5\" stroke-width=\"3.2\"/>\n",
       "<circle clip-path=\"url(#clip022)\" cx=\"1789.43\" cy=\"251.999\" r=\"14\" fill=\"#3da44d\" fill-rule=\"evenodd\" fill-opacity=\"0.5\" stroke=\"#000000\" stroke-opacity=\"0.5\" stroke-width=\"3.2\"/>\n",
       "<circle clip-path=\"url(#clip022)\" cx=\"456.583\" cy=\"251.999\" r=\"14\" fill=\"#3da44d\" fill-rule=\"evenodd\" fill-opacity=\"0.5\" stroke=\"#000000\" stroke-opacity=\"0.5\" stroke-width=\"3.2\"/>\n",
       "<circle clip-path=\"url(#clip022)\" cx=\"1139.78\" cy=\"251.999\" r=\"14\" fill=\"#3da44d\" fill-rule=\"evenodd\" fill-opacity=\"0.5\" stroke=\"#000000\" stroke-opacity=\"0.5\" stroke-width=\"3.2\"/>\n",
       "<circle clip-path=\"url(#clip022)\" cx=\"1683.47\" cy=\"251.999\" r=\"14\" fill=\"#3da44d\" fill-rule=\"evenodd\" fill-opacity=\"0.5\" stroke=\"#000000\" stroke-opacity=\"0.5\" stroke-width=\"3.2\"/>\n",
       "<circle clip-path=\"url(#clip022)\" cx=\"1471.63\" cy=\"251.999\" r=\"14\" fill=\"#3da44d\" fill-rule=\"evenodd\" fill-opacity=\"0.5\" stroke=\"#000000\" stroke-opacity=\"0.5\" stroke-width=\"3.2\"/>\n",
       "<circle clip-path=\"url(#clip022)\" cx=\"838.228\" cy=\"251.999\" r=\"14\" fill=\"#3da44d\" fill-rule=\"evenodd\" fill-opacity=\"0.5\" stroke=\"#000000\" stroke-opacity=\"0.5\" stroke-width=\"3.2\"/>\n",
       "<circle clip-path=\"url(#clip022)\" cx=\"2292.47\" cy=\"251.999\" r=\"14\" fill=\"#3da44d\" fill-rule=\"evenodd\" fill-opacity=\"0.5\" stroke=\"#000000\" stroke-opacity=\"0.5\" stroke-width=\"3.2\"/>\n",
       "<circle clip-path=\"url(#clip022)\" cx=\"353.165\" cy=\"251.999\" r=\"14\" fill=\"#3da44d\" fill-rule=\"evenodd\" fill-opacity=\"0.5\" stroke=\"#000000\" stroke-opacity=\"0.5\" stroke-width=\"3.2\"/>\n",
       "<circle clip-path=\"url(#clip022)\" cx=\"1940.03\" cy=\"251.999\" r=\"14\" fill=\"#3da44d\" fill-rule=\"evenodd\" fill-opacity=\"0.5\" stroke=\"#000000\" stroke-opacity=\"0.5\" stroke-width=\"3.2\"/>\n",
       "<circle clip-path=\"url(#clip022)\" cx=\"1778.48\" cy=\"251.999\" r=\"14\" fill=\"#3da44d\" fill-rule=\"evenodd\" fill-opacity=\"0.5\" stroke=\"#000000\" stroke-opacity=\"0.5\" stroke-width=\"3.2\"/>\n",
       "<circle clip-path=\"url(#clip022)\" cx=\"1875.91\" cy=\"251.999\" r=\"14\" fill=\"#3da44d\" fill-rule=\"evenodd\" fill-opacity=\"0.5\" stroke=\"#000000\" stroke-opacity=\"0.5\" stroke-width=\"3.2\"/>\n",
       "<circle clip-path=\"url(#clip022)\" cx=\"1853.15\" cy=\"251.999\" r=\"14\" fill=\"#3da44d\" fill-rule=\"evenodd\" fill-opacity=\"0.5\" stroke=\"#000000\" stroke-opacity=\"0.5\" stroke-width=\"3.2\"/>\n",
       "<circle clip-path=\"url(#clip022)\" cx=\"541.32\" cy=\"251.999\" r=\"14\" fill=\"#3da44d\" fill-rule=\"evenodd\" fill-opacity=\"0.5\" stroke=\"#000000\" stroke-opacity=\"0.5\" stroke-width=\"3.2\"/>\n",
       "<circle clip-path=\"url(#clip022)\" cx=\"1106.08\" cy=\"251.999\" r=\"14\" fill=\"#3da44d\" fill-rule=\"evenodd\" fill-opacity=\"0.5\" stroke=\"#000000\" stroke-opacity=\"0.5\" stroke-width=\"3.2\"/>\n",
       "<circle clip-path=\"url(#clip022)\" cx=\"950.848\" cy=\"251.999\" r=\"14\" fill=\"#3da44d\" fill-rule=\"evenodd\" fill-opacity=\"0.5\" stroke=\"#000000\" stroke-opacity=\"0.5\" stroke-width=\"3.2\"/>\n",
       "<circle clip-path=\"url(#clip022)\" cx=\"528.988\" cy=\"251.999\" r=\"14\" fill=\"#3da44d\" fill-rule=\"evenodd\" fill-opacity=\"0.5\" stroke=\"#000000\" stroke-opacity=\"0.5\" stroke-width=\"3.2\"/>\n",
       "<circle clip-path=\"url(#clip022)\" cx=\"1564.69\" cy=\"251.999\" r=\"14\" fill=\"#3da44d\" fill-rule=\"evenodd\" fill-opacity=\"0.5\" stroke=\"#000000\" stroke-opacity=\"0.5\" stroke-width=\"3.2\"/>\n",
       "<circle clip-path=\"url(#clip022)\" cx=\"773.796\" cy=\"251.999\" r=\"14\" fill=\"#3da44d\" fill-rule=\"evenodd\" fill-opacity=\"0.5\" stroke=\"#000000\" stroke-opacity=\"0.5\" stroke-width=\"3.2\"/>\n",
       "<circle clip-path=\"url(#clip022)\" cx=\"1653.96\" cy=\"251.999\" r=\"14\" fill=\"#3da44d\" fill-rule=\"evenodd\" fill-opacity=\"0.5\" stroke=\"#000000\" stroke-opacity=\"0.5\" stroke-width=\"3.2\"/>\n",
       "<circle clip-path=\"url(#clip022)\" cx=\"546.856\" cy=\"251.999\" r=\"14\" fill=\"#3da44d\" fill-rule=\"evenodd\" fill-opacity=\"0.5\" stroke=\"#000000\" stroke-opacity=\"0.5\" stroke-width=\"3.2\"/>\n",
       "<circle clip-path=\"url(#clip022)\" cx=\"459.167\" cy=\"443.738\" r=\"14\" fill=\"#c271d2\" fill-rule=\"evenodd\" fill-opacity=\"0.5\" stroke=\"#000000\" stroke-opacity=\"0.5\" stroke-width=\"3.2\"/>\n",
       "<circle clip-path=\"url(#clip022)\" cx=\"506.629\" cy=\"443.738\" r=\"14\" fill=\"#c271d2\" fill-rule=\"evenodd\" fill-opacity=\"0.5\" stroke=\"#000000\" stroke-opacity=\"0.5\" stroke-width=\"3.2\"/>\n",
       "<circle clip-path=\"url(#clip022)\" cx=\"447.196\" cy=\"443.738\" r=\"14\" fill=\"#c271d2\" fill-rule=\"evenodd\" fill-opacity=\"0.5\" stroke=\"#000000\" stroke-opacity=\"0.5\" stroke-width=\"3.2\"/>\n",
       "<circle clip-path=\"url(#clip022)\" cx=\"555.269\" cy=\"443.738\" r=\"14\" fill=\"#c271d2\" fill-rule=\"evenodd\" fill-opacity=\"0.5\" stroke=\"#000000\" stroke-opacity=\"0.5\" stroke-width=\"3.2\"/>\n",
       "<circle clip-path=\"url(#clip022)\" cx=\"494.985\" cy=\"443.738\" r=\"14\" fill=\"#c271d2\" fill-rule=\"evenodd\" fill-opacity=\"0.5\" stroke=\"#000000\" stroke-opacity=\"0.5\" stroke-width=\"3.2\"/>\n",
       "<circle clip-path=\"url(#clip022)\" cx=\"351.531\" cy=\"443.738\" r=\"14\" fill=\"#c271d2\" fill-rule=\"evenodd\" fill-opacity=\"0.5\" stroke=\"#000000\" stroke-opacity=\"0.5\" stroke-width=\"3.2\"/>\n",
       "<circle clip-path=\"url(#clip022)\" cx=\"303.587\" cy=\"443.738\" r=\"14\" fill=\"#c271d2\" fill-rule=\"evenodd\" fill-opacity=\"0.5\" stroke=\"#000000\" stroke-opacity=\"0.5\" stroke-width=\"3.2\"/>\n",
       "<circle clip-path=\"url(#clip022)\" cx=\"337.351\" cy=\"443.738\" r=\"14\" fill=\"#c271d2\" fill-rule=\"evenodd\" fill-opacity=\"0.5\" stroke=\"#000000\" stroke-opacity=\"0.5\" stroke-width=\"3.2\"/>\n",
       "<circle clip-path=\"url(#clip022)\" cx=\"494.603\" cy=\"443.738\" r=\"14\" fill=\"#c271d2\" fill-rule=\"evenodd\" fill-opacity=\"0.5\" stroke=\"#000000\" stroke-opacity=\"0.5\" stroke-width=\"3.2\"/>\n",
       "<circle clip-path=\"url(#clip022)\" cx=\"508.202\" cy=\"443.738\" r=\"14\" fill=\"#c271d2\" fill-rule=\"evenodd\" fill-opacity=\"0.5\" stroke=\"#000000\" stroke-opacity=\"0.5\" stroke-width=\"3.2\"/>\n",
       "<circle clip-path=\"url(#clip022)\" cx=\"487.663\" cy=\"443.738\" r=\"14\" fill=\"#c271d2\" fill-rule=\"evenodd\" fill-opacity=\"0.5\" stroke=\"#000000\" stroke-opacity=\"0.5\" stroke-width=\"3.2\"/>\n",
       "<circle clip-path=\"url(#clip022)\" cx=\"566.525\" cy=\"443.738\" r=\"14\" fill=\"#c271d2\" fill-rule=\"evenodd\" fill-opacity=\"0.5\" stroke=\"#000000\" stroke-opacity=\"0.5\" stroke-width=\"3.2\"/>\n",
       "<circle clip-path=\"url(#clip022)\" cx=\"408.013\" cy=\"443.738\" r=\"14\" fill=\"#c271d2\" fill-rule=\"evenodd\" fill-opacity=\"0.5\" stroke=\"#000000\" stroke-opacity=\"0.5\" stroke-width=\"3.2\"/>\n",
       "<circle clip-path=\"url(#clip022)\" cx=\"350.26\" cy=\"443.738\" r=\"14\" fill=\"#c271d2\" fill-rule=\"evenodd\" fill-opacity=\"0.5\" stroke=\"#000000\" stroke-opacity=\"0.5\" stroke-width=\"3.2\"/>\n",
       "<circle clip-path=\"url(#clip022)\" cx=\"545.04\" cy=\"443.738\" r=\"14\" fill=\"#c271d2\" fill-rule=\"evenodd\" fill-opacity=\"0.5\" stroke=\"#000000\" stroke-opacity=\"0.5\" stroke-width=\"3.2\"/>\n",
       "<circle clip-path=\"url(#clip022)\" cx=\"431.66\" cy=\"443.738\" r=\"14\" fill=\"#c271d2\" fill-rule=\"evenodd\" fill-opacity=\"0.5\" stroke=\"#000000\" stroke-opacity=\"0.5\" stroke-width=\"3.2\"/>\n",
       "<circle clip-path=\"url(#clip022)\" cx=\"565.006\" cy=\"443.738\" r=\"14\" fill=\"#c271d2\" fill-rule=\"evenodd\" fill-opacity=\"0.5\" stroke=\"#000000\" stroke-opacity=\"0.5\" stroke-width=\"3.2\"/>\n",
       "<circle clip-path=\"url(#clip022)\" cx=\"504.87\" cy=\"443.738\" r=\"14\" fill=\"#c271d2\" fill-rule=\"evenodd\" fill-opacity=\"0.5\" stroke=\"#000000\" stroke-opacity=\"0.5\" stroke-width=\"3.2\"/>\n",
       "<circle clip-path=\"url(#clip022)\" cx=\"432.522\" cy=\"443.738\" r=\"14\" fill=\"#c271d2\" fill-rule=\"evenodd\" fill-opacity=\"0.5\" stroke=\"#000000\" stroke-opacity=\"0.5\" stroke-width=\"3.2\"/>\n",
       "<circle clip-path=\"url(#clip022)\" cx=\"379.561\" cy=\"443.738\" r=\"14\" fill=\"#c271d2\" fill-rule=\"evenodd\" fill-opacity=\"0.5\" stroke=\"#000000\" stroke-opacity=\"0.5\" stroke-width=\"3.2\"/>\n",
       "<circle clip-path=\"url(#clip022)\" cx=\"556.338\" cy=\"86.901\" r=\"14\" fill=\"#ac8d18\" fill-rule=\"evenodd\" fill-opacity=\"0.5\" stroke=\"#000000\" stroke-opacity=\"0.5\" stroke-width=\"3.2\"/>\n",
       "<circle clip-path=\"url(#clip022)\" cx=\"598.081\" cy=\"101.109\" r=\"14\" fill=\"#ac8d18\" fill-rule=\"evenodd\" fill-opacity=\"0.5\" stroke=\"#000000\" stroke-opacity=\"0.5\" stroke-width=\"3.2\"/>\n",
       "<circle clip-path=\"url(#clip022)\" cx=\"284.222\" cy=\"101.648\" r=\"14\" fill=\"#ac8d18\" fill-rule=\"evenodd\" fill-opacity=\"0.5\" stroke=\"#000000\" stroke-opacity=\"0.5\" stroke-width=\"3.2\"/>\n",
       "<circle clip-path=\"url(#clip022)\" cx=\"534.907\" cy=\"107.999\" r=\"14\" fill=\"#ac8d18\" fill-rule=\"evenodd\" fill-opacity=\"0.5\" stroke=\"#000000\" stroke-opacity=\"0.5\" stroke-width=\"3.2\"/>\n",
       "<circle clip-path=\"url(#clip022)\" cx=\"314.53\" cy=\"88.5736\" r=\"14\" fill=\"#ac8d18\" fill-rule=\"evenodd\" fill-opacity=\"0.5\" stroke=\"#000000\" stroke-opacity=\"0.5\" stroke-width=\"3.2\"/>\n",
       "<circle clip-path=\"url(#clip022)\" cx=\"671.761\" cy=\"90.4438\" r=\"14\" fill=\"#ac8d18\" fill-rule=\"evenodd\" fill-opacity=\"0.5\" stroke=\"#000000\" stroke-opacity=\"0.5\" stroke-width=\"3.2\"/>\n",
       "<circle clip-path=\"url(#clip022)\" cx=\"607.781\" cy=\"89.5043\" r=\"14\" fill=\"#ac8d18\" fill-rule=\"evenodd\" fill-opacity=\"0.5\" stroke=\"#000000\" stroke-opacity=\"0.5\" stroke-width=\"3.2\"/>\n",
       "<circle clip-path=\"url(#clip022)\" cx=\"716.826\" cy=\"100.096\" r=\"14\" fill=\"#ac8d18\" fill-rule=\"evenodd\" fill-opacity=\"0.5\" stroke=\"#000000\" stroke-opacity=\"0.5\" stroke-width=\"3.2\"/>\n",
       "<circle clip-path=\"url(#clip022)\" cx=\"1067.71\" cy=\"104.126\" r=\"14\" fill=\"#ac8d18\" fill-rule=\"evenodd\" fill-opacity=\"0.5\" stroke=\"#000000\" stroke-opacity=\"0.5\" stroke-width=\"3.2\"/>\n",
       "<circle clip-path=\"url(#clip022)\" cx=\"620.308\" cy=\"95.1452\" r=\"14\" fill=\"#ac8d18\" fill-rule=\"evenodd\" fill-opacity=\"0.5\" stroke=\"#000000\" stroke-opacity=\"0.5\" stroke-width=\"3.2\"/>\n",
       "<circle clip-path=\"url(#clip022)\" cx=\"1162.56\" cy=\"105.9\" r=\"14\" fill=\"#ac8d18\" fill-rule=\"evenodd\" fill-opacity=\"0.5\" stroke=\"#000000\" stroke-opacity=\"0.5\" stroke-width=\"3.2\"/>\n",
       "<circle clip-path=\"url(#clip022)\" cx=\"613.454\" cy=\"97.9918\" r=\"14\" fill=\"#ac8d18\" fill-rule=\"evenodd\" fill-opacity=\"0.5\" stroke=\"#000000\" stroke-opacity=\"0.5\" stroke-width=\"3.2\"/>\n",
       "<circle clip-path=\"url(#clip022)\" cx=\"1105.78\" cy=\"93.0375\" r=\"14\" fill=\"#ac8d18\" fill-rule=\"evenodd\" fill-opacity=\"0.5\" stroke=\"#000000\" stroke-opacity=\"0.5\" stroke-width=\"3.2\"/>\n",
       "<circle clip-path=\"url(#clip022)\" cx=\"666.176\" cy=\"99.6183\" r=\"14\" fill=\"#ac8d18\" fill-rule=\"evenodd\" fill-opacity=\"0.5\" stroke=\"#000000\" stroke-opacity=\"0.5\" stroke-width=\"3.2\"/>\n",
       "<circle clip-path=\"url(#clip022)\" cx=\"1155.12\" cy=\"86.1857\" r=\"14\" fill=\"#ac8d18\" fill-rule=\"evenodd\" fill-opacity=\"0.5\" stroke=\"#000000\" stroke-opacity=\"0.5\" stroke-width=\"3.2\"/>\n",
       "<circle clip-path=\"url(#clip022)\" cx=\"945.77\" cy=\"104.025\" r=\"14\" fill=\"#ac8d18\" fill-rule=\"evenodd\" fill-opacity=\"0.5\" stroke=\"#000000\" stroke-opacity=\"0.5\" stroke-width=\"3.2\"/>\n",
       "<circle clip-path=\"url(#clip022)\" cx=\"620.454\" cy=\"105.362\" r=\"14\" fill=\"#ac8d18\" fill-rule=\"evenodd\" fill-opacity=\"0.5\" stroke=\"#000000\" stroke-opacity=\"0.5\" stroke-width=\"3.2\"/>\n",
       "<circle clip-path=\"url(#clip022)\" cx=\"532.617\" cy=\"98.5199\" r=\"14\" fill=\"#ac8d18\" fill-rule=\"evenodd\" fill-opacity=\"0.5\" stroke=\"#000000\" stroke-opacity=\"0.5\" stroke-width=\"3.2\"/>\n",
       "<circle clip-path=\"url(#clip022)\" cx=\"980.312\" cy=\"93.5245\" r=\"14\" fill=\"#ac8d18\" fill-rule=\"evenodd\" fill-opacity=\"0.5\" stroke=\"#000000\" stroke-opacity=\"0.5\" stroke-width=\"3.2\"/>\n",
       "<circle clip-path=\"url(#clip022)\" cx=\"800.334\" cy=\"90.9729\" r=\"14\" fill=\"#ac8d18\" fill-rule=\"evenodd\" fill-opacity=\"0.5\" stroke=\"#000000\" stroke-opacity=\"0.5\" stroke-width=\"3.2\"/>\n",
       "<circle clip-path=\"url(#clip022)\" cx=\"820.549\" cy=\"279.077\" r=\"14\" fill=\"#00a9ad\" fill-rule=\"evenodd\" fill-opacity=\"0.5\" stroke=\"#000000\" stroke-opacity=\"0.5\" stroke-width=\"3.2\"/>\n",
       "<circle clip-path=\"url(#clip022)\" cx=\"911.826\" cy=\"279.077\" r=\"14\" fill=\"#00a9ad\" fill-rule=\"evenodd\" fill-opacity=\"0.5\" stroke=\"#000000\" stroke-opacity=\"0.5\" stroke-width=\"3.2\"/>\n",
       "<circle clip-path=\"url(#clip022)\" cx=\"532.001\" cy=\"279.077\" r=\"14\" fill=\"#00a9ad\" fill-rule=\"evenodd\" fill-opacity=\"0.5\" stroke=\"#000000\" stroke-opacity=\"0.5\" stroke-width=\"3.2\"/>\n",
       "<circle clip-path=\"url(#clip022)\" cx=\"778.339\" cy=\"279.077\" r=\"14\" fill=\"#00a9ad\" fill-rule=\"evenodd\" fill-opacity=\"0.5\" stroke=\"#000000\" stroke-opacity=\"0.5\" stroke-width=\"3.2\"/>\n",
       "<circle clip-path=\"url(#clip022)\" cx=\"365.345\" cy=\"279.077\" r=\"14\" fill=\"#00a9ad\" fill-rule=\"evenodd\" fill-opacity=\"0.5\" stroke=\"#000000\" stroke-opacity=\"0.5\" stroke-width=\"3.2\"/>\n",
       "<circle clip-path=\"url(#clip022)\" cx=\"969.318\" cy=\"279.077\" r=\"14\" fill=\"#00a9ad\" fill-rule=\"evenodd\" fill-opacity=\"0.5\" stroke=\"#000000\" stroke-opacity=\"0.5\" stroke-width=\"3.2\"/>\n",
       "<circle clip-path=\"url(#clip022)\" cx=\"666.813\" cy=\"279.077\" r=\"14\" fill=\"#00a9ad\" fill-rule=\"evenodd\" fill-opacity=\"0.5\" stroke=\"#000000\" stroke-opacity=\"0.5\" stroke-width=\"3.2\"/>\n",
       "<circle clip-path=\"url(#clip022)\" cx=\"683.655\" cy=\"279.077\" r=\"14\" fill=\"#00a9ad\" fill-rule=\"evenodd\" fill-opacity=\"0.5\" stroke=\"#000000\" stroke-opacity=\"0.5\" stroke-width=\"3.2\"/>\n",
       "<circle clip-path=\"url(#clip022)\" cx=\"885.922\" cy=\"279.077\" r=\"14\" fill=\"#00a9ad\" fill-rule=\"evenodd\" fill-opacity=\"0.5\" stroke=\"#000000\" stroke-opacity=\"0.5\" stroke-width=\"3.2\"/>\n",
       "<circle clip-path=\"url(#clip022)\" cx=\"772.879\" cy=\"279.077\" r=\"14\" fill=\"#00a9ad\" fill-rule=\"evenodd\" fill-opacity=\"0.5\" stroke=\"#000000\" stroke-opacity=\"0.5\" stroke-width=\"3.2\"/>\n",
       "<circle clip-path=\"url(#clip022)\" cx=\"690.444\" cy=\"279.077\" r=\"14\" fill=\"#00a9ad\" fill-rule=\"evenodd\" fill-opacity=\"0.5\" stroke=\"#000000\" stroke-opacity=\"0.5\" stroke-width=\"3.2\"/>\n",
       "<circle clip-path=\"url(#clip022)\" cx=\"888.943\" cy=\"279.077\" r=\"14\" fill=\"#00a9ad\" fill-rule=\"evenodd\" fill-opacity=\"0.5\" stroke=\"#000000\" stroke-opacity=\"0.5\" stroke-width=\"3.2\"/>\n",
       "<circle clip-path=\"url(#clip022)\" cx=\"818.823\" cy=\"279.077\" r=\"14\" fill=\"#00a9ad\" fill-rule=\"evenodd\" fill-opacity=\"0.5\" stroke=\"#000000\" stroke-opacity=\"0.5\" stroke-width=\"3.2\"/>\n",
       "<circle clip-path=\"url(#clip022)\" cx=\"738.622\" cy=\"279.077\" r=\"14\" fill=\"#00a9ad\" fill-rule=\"evenodd\" fill-opacity=\"0.5\" stroke=\"#000000\" stroke-opacity=\"0.5\" stroke-width=\"3.2\"/>\n",
       "<circle clip-path=\"url(#clip022)\" cx=\"736.602\" cy=\"279.077\" r=\"14\" fill=\"#00a9ad\" fill-rule=\"evenodd\" fill-opacity=\"0.5\" stroke=\"#000000\" stroke-opacity=\"0.5\" stroke-width=\"3.2\"/>\n",
       "<circle clip-path=\"url(#clip022)\" cx=\"662.361\" cy=\"279.077\" r=\"14\" fill=\"#00a9ad\" fill-rule=\"evenodd\" fill-opacity=\"0.5\" stroke=\"#000000\" stroke-opacity=\"0.5\" stroke-width=\"3.2\"/>\n",
       "<circle clip-path=\"url(#clip022)\" cx=\"381.352\" cy=\"279.077\" r=\"14\" fill=\"#00a9ad\" fill-rule=\"evenodd\" fill-opacity=\"0.5\" stroke=\"#000000\" stroke-opacity=\"0.5\" stroke-width=\"3.2\"/>\n",
       "<circle clip-path=\"url(#clip022)\" cx=\"625.779\" cy=\"279.077\" r=\"14\" fill=\"#00a9ad\" fill-rule=\"evenodd\" fill-opacity=\"0.5\" stroke=\"#000000\" stroke-opacity=\"0.5\" stroke-width=\"3.2\"/>\n",
       "<circle clip-path=\"url(#clip022)\" cx=\"392.442\" cy=\"279.077\" r=\"14\" fill=\"#00a9ad\" fill-rule=\"evenodd\" fill-opacity=\"0.5\" stroke=\"#000000\" stroke-opacity=\"0.5\" stroke-width=\"3.2\"/>\n",
       "<circle clip-path=\"url(#clip022)\" cx=\"406.645\" cy=\"279.077\" r=\"14\" fill=\"#00a9ad\" fill-rule=\"evenodd\" fill-opacity=\"0.5\" stroke=\"#000000\" stroke-opacity=\"0.5\" stroke-width=\"3.2\"/>\n",
       "<circle clip-path=\"url(#clip022)\" cx=\"458.93\" cy=\"1172.66\" r=\"14\" fill=\"#ed5d92\" fill-rule=\"evenodd\" fill-opacity=\"0.5\" stroke=\"#000000\" stroke-opacity=\"0.5\" stroke-width=\"3.2\"/>\n",
       "<circle clip-path=\"url(#clip022)\" cx=\"466.945\" cy=\"1189.57\" r=\"14\" fill=\"#ed5d92\" fill-rule=\"evenodd\" fill-opacity=\"0.5\" stroke=\"#000000\" stroke-opacity=\"0.5\" stroke-width=\"3.2\"/>\n",
       "<circle clip-path=\"url(#clip022)\" cx=\"338.764\" cy=\"1203.52\" r=\"14\" fill=\"#ed5d92\" fill-rule=\"evenodd\" fill-opacity=\"0.5\" stroke=\"#000000\" stroke-opacity=\"0.5\" stroke-width=\"3.2\"/>\n",
       "<circle clip-path=\"url(#clip022)\" cx=\"394.417\" cy=\"1247.02\" r=\"14\" fill=\"#ed5d92\" fill-rule=\"evenodd\" fill-opacity=\"0.5\" stroke=\"#000000\" stroke-opacity=\"0.5\" stroke-width=\"3.2\"/>\n",
       "<circle clip-path=\"url(#clip022)\" cx=\"476.78\" cy=\"1239.41\" r=\"14\" fill=\"#ed5d92\" fill-rule=\"evenodd\" fill-opacity=\"0.5\" stroke=\"#000000\" stroke-opacity=\"0.5\" stroke-width=\"3.2\"/>\n",
       "<circle clip-path=\"url(#clip022)\" cx=\"405.837\" cy=\"1206.43\" r=\"14\" fill=\"#ed5d92\" fill-rule=\"evenodd\" fill-opacity=\"0.5\" stroke=\"#000000\" stroke-opacity=\"0.5\" stroke-width=\"3.2\"/>\n",
       "<circle clip-path=\"url(#clip022)\" cx=\"484.171\" cy=\"1250.78\" r=\"14\" fill=\"#ed5d92\" fill-rule=\"evenodd\" fill-opacity=\"0.5\" stroke=\"#000000\" stroke-opacity=\"0.5\" stroke-width=\"3.2\"/>\n",
       "<circle clip-path=\"url(#clip022)\" cx=\"337.113\" cy=\"1150.81\" r=\"14\" fill=\"#ed5d92\" fill-rule=\"evenodd\" fill-opacity=\"0.5\" stroke=\"#000000\" stroke-opacity=\"0.5\" stroke-width=\"3.2\"/>\n",
       "<circle clip-path=\"url(#clip022)\" cx=\"318.096\" cy=\"1112.48\" r=\"14\" fill=\"#ed5d92\" fill-rule=\"evenodd\" fill-opacity=\"0.5\" stroke=\"#000000\" stroke-opacity=\"0.5\" stroke-width=\"3.2\"/>\n",
       "<circle clip-path=\"url(#clip022)\" cx=\"441.655\" cy=\"1192.46\" r=\"14\" fill=\"#ed5d92\" fill-rule=\"evenodd\" fill-opacity=\"0.5\" stroke=\"#000000\" stroke-opacity=\"0.5\" stroke-width=\"3.2\"/>\n",
       "<circle clip-path=\"url(#clip022)\" cx=\"352.602\" cy=\"1131.85\" r=\"14\" fill=\"#ed5d92\" fill-rule=\"evenodd\" fill-opacity=\"0.5\" stroke=\"#000000\" stroke-opacity=\"0.5\" stroke-width=\"3.2\"/>\n",
       "<circle clip-path=\"url(#clip022)\" cx=\"492.743\" cy=\"1183.08\" r=\"14\" fill=\"#ed5d92\" fill-rule=\"evenodd\" fill-opacity=\"0.5\" stroke=\"#000000\" stroke-opacity=\"0.5\" stroke-width=\"3.2\"/>\n",
       "<circle clip-path=\"url(#clip022)\" cx=\"413.802\" cy=\"1114.33\" r=\"14\" fill=\"#ed5d92\" fill-rule=\"evenodd\" fill-opacity=\"0.5\" stroke=\"#000000\" stroke-opacity=\"0.5\" stroke-width=\"3.2\"/>\n",
       "<circle clip-path=\"url(#clip022)\" cx=\"398.239\" cy=\"1118.16\" r=\"14\" fill=\"#ed5d92\" fill-rule=\"evenodd\" fill-opacity=\"0.5\" stroke=\"#000000\" stroke-opacity=\"0.5\" stroke-width=\"3.2\"/>\n",
       "<circle clip-path=\"url(#clip022)\" cx=\"488.993\" cy=\"1139.11\" r=\"14\" fill=\"#ed5d92\" fill-rule=\"evenodd\" fill-opacity=\"0.5\" stroke=\"#000000\" stroke-opacity=\"0.5\" stroke-width=\"3.2\"/>\n",
       "<circle clip-path=\"url(#clip022)\" cx=\"338.476\" cy=\"1207.29\" r=\"14\" fill=\"#ed5d92\" fill-rule=\"evenodd\" fill-opacity=\"0.5\" stroke=\"#000000\" stroke-opacity=\"0.5\" stroke-width=\"3.2\"/>\n",
       "<circle clip-path=\"url(#clip022)\" cx=\"461.915\" cy=\"1131.62\" r=\"14\" fill=\"#ed5d92\" fill-rule=\"evenodd\" fill-opacity=\"0.5\" stroke=\"#000000\" stroke-opacity=\"0.5\" stroke-width=\"3.2\"/>\n",
       "<circle clip-path=\"url(#clip022)\" cx=\"328.23\" cy=\"1141.93\" r=\"14\" fill=\"#ed5d92\" fill-rule=\"evenodd\" fill-opacity=\"0.5\" stroke=\"#000000\" stroke-opacity=\"0.5\" stroke-width=\"3.2\"/>\n",
       "<circle clip-path=\"url(#clip022)\" cx=\"465.634\" cy=\"1150.58\" r=\"14\" fill=\"#ed5d92\" fill-rule=\"evenodd\" fill-opacity=\"0.5\" stroke=\"#000000\" stroke-opacity=\"0.5\" stroke-width=\"3.2\"/>\n",
       "<circle clip-path=\"url(#clip022)\" cx=\"319.131\" cy=\"1111.43\" r=\"14\" fill=\"#ed5d92\" fill-rule=\"evenodd\" fill-opacity=\"0.5\" stroke=\"#000000\" stroke-opacity=\"0.5\" stroke-width=\"3.2\"/>\n",
       "<circle clip-path=\"url(#clip022)\" cx=\"434.352\" cy=\"237.843\" r=\"14\" fill=\"#c68125\" fill-rule=\"evenodd\" fill-opacity=\"0.5\" stroke=\"#000000\" stroke-opacity=\"0.5\" stroke-width=\"3.2\"/>\n",
       "<circle clip-path=\"url(#clip022)\" cx=\"622.472\" cy=\"237.843\" r=\"14\" fill=\"#c68125\" fill-rule=\"evenodd\" fill-opacity=\"0.5\" stroke=\"#000000\" stroke-opacity=\"0.5\" stroke-width=\"3.2\"/>\n",
       "<circle clip-path=\"url(#clip022)\" cx=\"379.821\" cy=\"237.843\" r=\"14\" fill=\"#c68125\" fill-rule=\"evenodd\" fill-opacity=\"0.5\" stroke=\"#000000\" stroke-opacity=\"0.5\" stroke-width=\"3.2\"/>\n",
       "<circle clip-path=\"url(#clip022)\" cx=\"489.295\" cy=\"237.843\" r=\"14\" fill=\"#c68125\" fill-rule=\"evenodd\" fill-opacity=\"0.5\" stroke=\"#000000\" stroke-opacity=\"0.5\" stroke-width=\"3.2\"/>\n",
       "<circle clip-path=\"url(#clip022)\" cx=\"338.594\" cy=\"237.843\" r=\"14\" fill=\"#c68125\" fill-rule=\"evenodd\" fill-opacity=\"0.5\" stroke=\"#000000\" stroke-opacity=\"0.5\" stroke-width=\"3.2\"/>\n",
       "<circle clip-path=\"url(#clip022)\" cx=\"401.277\" cy=\"237.843\" r=\"14\" fill=\"#c68125\" fill-rule=\"evenodd\" fill-opacity=\"0.5\" stroke=\"#000000\" stroke-opacity=\"0.5\" stroke-width=\"3.2\"/>\n",
       "<circle clip-path=\"url(#clip022)\" cx=\"633.787\" cy=\"237.843\" r=\"14\" fill=\"#c68125\" fill-rule=\"evenodd\" fill-opacity=\"0.5\" stroke=\"#000000\" stroke-opacity=\"0.5\" stroke-width=\"3.2\"/>\n",
       "<circle clip-path=\"url(#clip022)\" cx=\"615.923\" cy=\"237.843\" r=\"14\" fill=\"#c68125\" fill-rule=\"evenodd\" fill-opacity=\"0.5\" stroke=\"#000000\" stroke-opacity=\"0.5\" stroke-width=\"3.2\"/>\n",
       "<circle clip-path=\"url(#clip022)\" cx=\"613.844\" cy=\"237.843\" r=\"14\" fill=\"#c68125\" fill-rule=\"evenodd\" fill-opacity=\"0.5\" stroke=\"#000000\" stroke-opacity=\"0.5\" stroke-width=\"3.2\"/>\n",
       "<circle clip-path=\"url(#clip022)\" cx=\"601.248\" cy=\"237.843\" r=\"14\" fill=\"#c68125\" fill-rule=\"evenodd\" fill-opacity=\"0.5\" stroke=\"#000000\" stroke-opacity=\"0.5\" stroke-width=\"3.2\"/>\n",
       "<circle clip-path=\"url(#clip022)\" cx=\"529.547\" cy=\"237.843\" r=\"14\" fill=\"#c68125\" fill-rule=\"evenodd\" fill-opacity=\"0.5\" stroke=\"#000000\" stroke-opacity=\"0.5\" stroke-width=\"3.2\"/>\n",
       "<circle clip-path=\"url(#clip022)\" cx=\"436.848\" cy=\"237.843\" r=\"14\" fill=\"#c68125\" fill-rule=\"evenodd\" fill-opacity=\"0.5\" stroke=\"#000000\" stroke-opacity=\"0.5\" stroke-width=\"3.2\"/>\n",
       "<circle clip-path=\"url(#clip022)\" cx=\"378.701\" cy=\"237.843\" r=\"14\" fill=\"#c68125\" fill-rule=\"evenodd\" fill-opacity=\"0.5\" stroke=\"#000000\" stroke-opacity=\"0.5\" stroke-width=\"3.2\"/>\n",
       "<circle clip-path=\"url(#clip022)\" cx=\"388.19\" cy=\"237.843\" r=\"14\" fill=\"#c68125\" fill-rule=\"evenodd\" fill-opacity=\"0.5\" stroke=\"#000000\" stroke-opacity=\"0.5\" stroke-width=\"3.2\"/>\n",
       "<circle clip-path=\"url(#clip022)\" cx=\"305.606\" cy=\"237.843\" r=\"14\" fill=\"#c68125\" fill-rule=\"evenodd\" fill-opacity=\"0.5\" stroke=\"#000000\" stroke-opacity=\"0.5\" stroke-width=\"3.2\"/>\n",
       "<circle clip-path=\"url(#clip022)\" cx=\"425.593\" cy=\"237.843\" r=\"14\" fill=\"#c68125\" fill-rule=\"evenodd\" fill-opacity=\"0.5\" stroke=\"#000000\" stroke-opacity=\"0.5\" stroke-width=\"3.2\"/>\n",
       "<circle clip-path=\"url(#clip022)\" cx=\"368.141\" cy=\"237.843\" r=\"14\" fill=\"#c68125\" fill-rule=\"evenodd\" fill-opacity=\"0.5\" stroke=\"#000000\" stroke-opacity=\"0.5\" stroke-width=\"3.2\"/>\n",
       "<circle clip-path=\"url(#clip022)\" cx=\"522.167\" cy=\"237.843\" r=\"14\" fill=\"#c68125\" fill-rule=\"evenodd\" fill-opacity=\"0.5\" stroke=\"#000000\" stroke-opacity=\"0.5\" stroke-width=\"3.2\"/>\n",
       "<circle clip-path=\"url(#clip022)\" cx=\"299.68\" cy=\"237.843\" r=\"14\" fill=\"#c68125\" fill-rule=\"evenodd\" fill-opacity=\"0.5\" stroke=\"#000000\" stroke-opacity=\"0.5\" stroke-width=\"3.2\"/>\n",
       "<circle clip-path=\"url(#clip022)\" cx=\"376.042\" cy=\"237.843\" r=\"14\" fill=\"#c68125\" fill-rule=\"evenodd\" fill-opacity=\"0.5\" stroke=\"#000000\" stroke-opacity=\"0.5\" stroke-width=\"3.2\"/>\n",
       "<circle clip-path=\"url(#clip022)\" cx=\"1000.28\" cy=\"537.36\" r=\"14\" fill=\"#00a98d\" fill-rule=\"evenodd\" fill-opacity=\"0.5\" stroke=\"#000000\" stroke-opacity=\"0.5\" stroke-width=\"3.2\"/>\n",
       "<circle clip-path=\"url(#clip022)\" cx=\"675.915\" cy=\"537.36\" r=\"14\" fill=\"#00a98d\" fill-rule=\"evenodd\" fill-opacity=\"0.5\" stroke=\"#000000\" stroke-opacity=\"0.5\" stroke-width=\"3.2\"/>\n",
       "<circle clip-path=\"url(#clip022)\" cx=\"511.328\" cy=\"537.36\" r=\"14\" fill=\"#00a98d\" fill-rule=\"evenodd\" fill-opacity=\"0.5\" stroke=\"#000000\" stroke-opacity=\"0.5\" stroke-width=\"3.2\"/>\n",
       "<circle clip-path=\"url(#clip022)\" cx=\"650.258\" cy=\"537.36\" r=\"14\" fill=\"#00a98d\" fill-rule=\"evenodd\" fill-opacity=\"0.5\" stroke=\"#000000\" stroke-opacity=\"0.5\" stroke-width=\"3.2\"/>\n",
       "<circle clip-path=\"url(#clip022)\" cx=\"878.875\" cy=\"537.36\" r=\"14\" fill=\"#00a98d\" fill-rule=\"evenodd\" fill-opacity=\"0.5\" stroke=\"#000000\" stroke-opacity=\"0.5\" stroke-width=\"3.2\"/>\n",
       "<circle clip-path=\"url(#clip022)\" cx=\"338.698\" cy=\"537.36\" r=\"14\" fill=\"#00a98d\" fill-rule=\"evenodd\" fill-opacity=\"0.5\" stroke=\"#000000\" stroke-opacity=\"0.5\" stroke-width=\"3.2\"/>\n",
       "<circle clip-path=\"url(#clip022)\" cx=\"500.374\" cy=\"537.36\" r=\"14\" fill=\"#00a98d\" fill-rule=\"evenodd\" fill-opacity=\"0.5\" stroke=\"#000000\" stroke-opacity=\"0.5\" stroke-width=\"3.2\"/>\n",
       "<circle clip-path=\"url(#clip022)\" cx=\"642.826\" cy=\"537.36\" r=\"14\" fill=\"#00a98d\" fill-rule=\"evenodd\" fill-opacity=\"0.5\" stroke=\"#000000\" stroke-opacity=\"0.5\" stroke-width=\"3.2\"/>\n",
       "<circle clip-path=\"url(#clip022)\" cx=\"647.539\" cy=\"537.36\" r=\"14\" fill=\"#00a98d\" fill-rule=\"evenodd\" fill-opacity=\"0.5\" stroke=\"#000000\" stroke-opacity=\"0.5\" stroke-width=\"3.2\"/>\n",
       "<circle clip-path=\"url(#clip022)\" cx=\"445.514\" cy=\"537.36\" r=\"14\" fill=\"#00a98d\" fill-rule=\"evenodd\" fill-opacity=\"0.5\" stroke=\"#000000\" stroke-opacity=\"0.5\" stroke-width=\"3.2\"/>\n",
       "<circle clip-path=\"url(#clip022)\" cx=\"642.115\" cy=\"537.36\" r=\"14\" fill=\"#00a98d\" fill-rule=\"evenodd\" fill-opacity=\"0.5\" stroke=\"#000000\" stroke-opacity=\"0.5\" stroke-width=\"3.2\"/>\n",
       "<circle clip-path=\"url(#clip022)\" cx=\"1087.8\" cy=\"537.36\" r=\"14\" fill=\"#00a98d\" fill-rule=\"evenodd\" fill-opacity=\"0.5\" stroke=\"#000000\" stroke-opacity=\"0.5\" stroke-width=\"3.2\"/>\n",
       "<circle clip-path=\"url(#clip022)\" cx=\"452.303\" cy=\"537.36\" r=\"14\" fill=\"#00a98d\" fill-rule=\"evenodd\" fill-opacity=\"0.5\" stroke=\"#000000\" stroke-opacity=\"0.5\" stroke-width=\"3.2\"/>\n",
       "<circle clip-path=\"url(#clip022)\" cx=\"713.092\" cy=\"537.36\" r=\"14\" fill=\"#00a98d\" fill-rule=\"evenodd\" fill-opacity=\"0.5\" stroke=\"#000000\" stroke-opacity=\"0.5\" stroke-width=\"3.2\"/>\n",
       "<circle clip-path=\"url(#clip022)\" cx=\"282.975\" cy=\"537.36\" r=\"14\" fill=\"#00a98d\" fill-rule=\"evenodd\" fill-opacity=\"0.5\" stroke=\"#000000\" stroke-opacity=\"0.5\" stroke-width=\"3.2\"/>\n",
       "<circle clip-path=\"url(#clip022)\" cx=\"444.425\" cy=\"537.36\" r=\"14\" fill=\"#00a98d\" fill-rule=\"evenodd\" fill-opacity=\"0.5\" stroke=\"#000000\" stroke-opacity=\"0.5\" stroke-width=\"3.2\"/>\n",
       "<circle clip-path=\"url(#clip022)\" cx=\"910.882\" cy=\"537.36\" r=\"14\" fill=\"#00a98d\" fill-rule=\"evenodd\" fill-opacity=\"0.5\" stroke=\"#000000\" stroke-opacity=\"0.5\" stroke-width=\"3.2\"/>\n",
       "<circle clip-path=\"url(#clip022)\" cx=\"742.906\" cy=\"537.36\" r=\"14\" fill=\"#00a98d\" fill-rule=\"evenodd\" fill-opacity=\"0.5\" stroke=\"#000000\" stroke-opacity=\"0.5\" stroke-width=\"3.2\"/>\n",
       "<circle clip-path=\"url(#clip022)\" cx=\"886.918\" cy=\"537.36\" r=\"14\" fill=\"#00a98d\" fill-rule=\"evenodd\" fill-opacity=\"0.5\" stroke=\"#000000\" stroke-opacity=\"0.5\" stroke-width=\"3.2\"/>\n",
       "<circle clip-path=\"url(#clip022)\" cx=\"361.55\" cy=\"537.36\" r=\"14\" fill=\"#00a98d\" fill-rule=\"evenodd\" fill-opacity=\"0.5\" stroke=\"#000000\" stroke-opacity=\"0.5\" stroke-width=\"3.2\"/>\n",
       "<circle clip-path=\"url(#clip022)\" cx=\"535.192\" cy=\"1159.36\" r=\"14\" fill=\"#8e971d\" fill-rule=\"evenodd\" fill-opacity=\"0.5\" stroke=\"#000000\" stroke-opacity=\"0.5\" stroke-width=\"3.2\"/>\n",
       "<circle clip-path=\"url(#clip022)\" cx=\"536.286\" cy=\"1159.36\" r=\"14\" fill=\"#8e971d\" fill-rule=\"evenodd\" fill-opacity=\"0.5\" stroke=\"#000000\" stroke-opacity=\"0.5\" stroke-width=\"3.2\"/>\n",
       "<circle clip-path=\"url(#clip022)\" cx=\"429.761\" cy=\"1159.36\" r=\"14\" fill=\"#8e971d\" fill-rule=\"evenodd\" fill-opacity=\"0.5\" stroke=\"#000000\" stroke-opacity=\"0.5\" stroke-width=\"3.2\"/>\n",
       "<circle clip-path=\"url(#clip022)\" cx=\"609.161\" cy=\"1159.36\" r=\"14\" fill=\"#8e971d\" fill-rule=\"evenodd\" fill-opacity=\"0.5\" stroke=\"#000000\" stroke-opacity=\"0.5\" stroke-width=\"3.2\"/>\n",
       "<circle clip-path=\"url(#clip022)\" cx=\"801.649\" cy=\"1159.36\" r=\"14\" fill=\"#8e971d\" fill-rule=\"evenodd\" fill-opacity=\"0.5\" stroke=\"#000000\" stroke-opacity=\"0.5\" stroke-width=\"3.2\"/>\n",
       "<circle clip-path=\"url(#clip022)\" cx=\"811.061\" cy=\"1159.36\" r=\"14\" fill=\"#8e971d\" fill-rule=\"evenodd\" fill-opacity=\"0.5\" stroke=\"#000000\" stroke-opacity=\"0.5\" stroke-width=\"3.2\"/>\n",
       "<circle clip-path=\"url(#clip022)\" cx=\"443.336\" cy=\"1159.36\" r=\"14\" fill=\"#8e971d\" fill-rule=\"evenodd\" fill-opacity=\"0.5\" stroke=\"#000000\" stroke-opacity=\"0.5\" stroke-width=\"3.2\"/>\n",
       "<circle clip-path=\"url(#clip022)\" cx=\"390.678\" cy=\"1159.36\" r=\"14\" fill=\"#8e971d\" fill-rule=\"evenodd\" fill-opacity=\"0.5\" stroke=\"#000000\" stroke-opacity=\"0.5\" stroke-width=\"3.2\"/>\n",
       "<circle clip-path=\"url(#clip022)\" cx=\"722.339\" cy=\"1159.36\" r=\"14\" fill=\"#8e971d\" fill-rule=\"evenodd\" fill-opacity=\"0.5\" stroke=\"#000000\" stroke-opacity=\"0.5\" stroke-width=\"3.2\"/>\n",
       "<circle clip-path=\"url(#clip022)\" cx=\"640.207\" cy=\"1159.36\" r=\"14\" fill=\"#8e971d\" fill-rule=\"evenodd\" fill-opacity=\"0.5\" stroke=\"#000000\" stroke-opacity=\"0.5\" stroke-width=\"3.2\"/>\n",
       "<circle clip-path=\"url(#clip022)\" cx=\"290.989\" cy=\"1159.36\" r=\"14\" fill=\"#8e971d\" fill-rule=\"evenodd\" fill-opacity=\"0.5\" stroke=\"#000000\" stroke-opacity=\"0.5\" stroke-width=\"3.2\"/>\n",
       "<circle clip-path=\"url(#clip022)\" cx=\"774.009\" cy=\"1159.36\" r=\"14\" fill=\"#8e971d\" fill-rule=\"evenodd\" fill-opacity=\"0.5\" stroke=\"#000000\" stroke-opacity=\"0.5\" stroke-width=\"3.2\"/>\n",
       "<circle clip-path=\"url(#clip022)\" cx=\"555.849\" cy=\"1159.36\" r=\"14\" fill=\"#8e971d\" fill-rule=\"evenodd\" fill-opacity=\"0.5\" stroke=\"#000000\" stroke-opacity=\"0.5\" stroke-width=\"3.2\"/>\n",
       "<circle clip-path=\"url(#clip022)\" cx=\"650.739\" cy=\"1159.36\" r=\"14\" fill=\"#8e971d\" fill-rule=\"evenodd\" fill-opacity=\"0.5\" stroke=\"#000000\" stroke-opacity=\"0.5\" stroke-width=\"3.2\"/>\n",
       "<circle clip-path=\"url(#clip022)\" cx=\"721\" cy=\"1159.36\" r=\"14\" fill=\"#8e971d\" fill-rule=\"evenodd\" fill-opacity=\"0.5\" stroke=\"#000000\" stroke-opacity=\"0.5\" stroke-width=\"3.2\"/>\n",
       "<circle clip-path=\"url(#clip022)\" cx=\"322.49\" cy=\"1159.36\" r=\"14\" fill=\"#8e971d\" fill-rule=\"evenodd\" fill-opacity=\"0.5\" stroke=\"#000000\" stroke-opacity=\"0.5\" stroke-width=\"3.2\"/>\n",
       "<circle clip-path=\"url(#clip022)\" cx=\"810.471\" cy=\"1159.36\" r=\"14\" fill=\"#8e971d\" fill-rule=\"evenodd\" fill-opacity=\"0.5\" stroke=\"#000000\" stroke-opacity=\"0.5\" stroke-width=\"3.2\"/>\n",
       "<circle clip-path=\"url(#clip022)\" cx=\"610.692\" cy=\"1159.36\" r=\"14\" fill=\"#8e971d\" fill-rule=\"evenodd\" fill-opacity=\"0.5\" stroke=\"#000000\" stroke-opacity=\"0.5\" stroke-width=\"3.2\"/>\n",
       "<circle clip-path=\"url(#clip022)\" cx=\"335.915\" cy=\"1159.36\" r=\"14\" fill=\"#8e971d\" fill-rule=\"evenodd\" fill-opacity=\"0.5\" stroke=\"#000000\" stroke-opacity=\"0.5\" stroke-width=\"3.2\"/>\n",
       "<circle clip-path=\"url(#clip022)\" cx=\"606.049\" cy=\"1159.36\" r=\"14\" fill=\"#8e971d\" fill-rule=\"evenodd\" fill-opacity=\"0.5\" stroke=\"#000000\" stroke-opacity=\"0.5\" stroke-width=\"3.2\"/>\n",
       "<path clip-path=\"url(#clip020)\" d=\"\n",
       "M1759.99 663.349 L2281.75 663.349 L2281.75 93.1086 L1759.99 93.1086  Z\n",
       "  \" fill=\"#ffffff\" fill-rule=\"evenodd\" fill-opacity=\"1\"/>\n",
       "<polyline clip-path=\"url(#clip020)\" style=\"stroke:#000000; stroke-linecap:butt; stroke-linejoin:round; stroke-width:4; stroke-opacity:1; fill:none\" points=\"\n",
       "  1759.99,663.349 2281.75,663.349 2281.75,93.1086 1759.99,93.1086 1759.99,663.349 \n",
       "  \"/>\n",
       "<circle clip-path=\"url(#clip020)\" cx=\"1854.66\" cy=\"144.949\" r=\"23\" fill=\"#009af9\" fill-rule=\"evenodd\" fill-opacity=\"0.5\" stroke=\"#000000\" stroke-opacity=\"0.5\" stroke-width=\"5.12\"/>\n",
       "<path clip-path=\"url(#clip020)\" d=\"M1977.2 130.331 L1977.2 135.261 Q1974.84 133.062 1972.15 131.974 Q1969.49 130.886 1966.48 130.886 Q1960.55 130.886 1957.41 134.52 Q1954.26 138.132 1954.26 144.983 Q1954.26 151.812 1957.41 155.446 Q1960.55 159.057 1966.48 159.057 Q1969.49 159.057 1972.15 157.969 Q1974.84 156.881 1977.2 154.682 L1977.2 159.567 Q1974.74 161.233 1971.99 162.067 Q1969.26 162.9 1966.2 162.9 Q1958.36 162.9 1953.84 158.108 Q1949.33 153.293 1949.33 144.983 Q1949.33 136.65 1953.84 131.858 Q1958.36 127.044 1966.2 127.044 Q1969.3 127.044 1972.04 127.877 Q1974.79 128.687 1977.2 130.331 Z\" fill=\"#000000\" fill-rule=\"evenodd\" fill-opacity=\"1\" /><path clip-path=\"url(#clip020)\" d=\"M1994.28 139.289 Q1990.86 139.289 1988.86 141.974 Q1986.87 144.636 1986.87 149.289 Q1986.87 153.942 1988.84 156.627 Q1990.83 159.289 1994.28 159.289 Q1997.68 159.289 1999.67 156.604 Q2001.67 153.918 2001.67 149.289 Q2001.67 144.682 1999.67 141.997 Q1997.68 139.289 1994.28 139.289 M1994.28 135.678 Q1999.84 135.678 2003.01 139.289 Q2006.18 142.9 2006.18 149.289 Q2006.18 155.655 2003.01 159.289 Q1999.84 162.9 1994.28 162.9 Q1988.7 162.9 1985.53 159.289 Q1982.38 155.655 1982.38 149.289 Q1982.38 142.9 1985.53 139.289 Q1988.7 135.678 1994.28 135.678 Z\" fill=\"#000000\" fill-rule=\"evenodd\" fill-opacity=\"1\" /><path clip-path=\"url(#clip020)\" d=\"M2028.26 140.284 Q2027.55 139.868 2026.69 139.682 Q2025.86 139.474 2024.84 139.474 Q2021.23 139.474 2019.28 141.835 Q2017.36 144.173 2017.36 148.571 L2017.36 162.229 L2013.08 162.229 L2013.08 136.303 L2017.36 136.303 L2017.36 140.331 Q2018.7 137.969 2020.86 136.835 Q2023.01 135.678 2026.09 135.678 Q2026.53 135.678 2027.06 135.747 Q2027.59 135.794 2028.24 135.909 L2028.26 140.284 Z\" fill=\"#000000\" fill-rule=\"evenodd\" fill-opacity=\"1\" /><path clip-path=\"url(#clip020)\" d=\"M2044.51 149.196 Q2039.35 149.196 2037.36 150.377 Q2035.37 151.557 2035.37 154.405 Q2035.37 156.673 2036.85 158.016 Q2038.36 159.335 2040.92 159.335 Q2044.47 159.335 2046.6 156.835 Q2048.75 154.312 2048.75 150.145 L2048.75 149.196 L2044.51 149.196 M2053.01 147.437 L2053.01 162.229 L2048.75 162.229 L2048.75 158.293 Q2047.29 160.655 2045.11 161.789 Q2042.94 162.9 2039.79 162.9 Q2035.81 162.9 2033.45 160.678 Q2031.11 158.432 2031.11 154.682 Q2031.11 150.307 2034.03 148.085 Q2036.97 145.863 2042.78 145.863 L2048.75 145.863 L2048.75 145.446 Q2048.75 142.507 2046.8 140.909 Q2044.88 139.289 2041.39 139.289 Q2039.17 139.289 2037.06 139.821 Q2034.95 140.354 2033.01 141.419 L2033.01 137.483 Q2035.35 136.581 2037.54 136.141 Q2039.74 135.678 2041.83 135.678 Q2047.45 135.678 2050.23 138.594 Q2053.01 141.511 2053.01 147.437 Z\" fill=\"#000000\" fill-rule=\"evenodd\" fill-opacity=\"1\" /><path clip-path=\"url(#clip020)\" d=\"M2080.44 137.298 L2080.44 141.28 Q2078.63 140.284 2076.8 139.798 Q2075 139.289 2073.15 139.289 Q2069 139.289 2066.71 141.928 Q2064.42 144.544 2064.42 149.289 Q2064.42 154.034 2066.71 156.673 Q2069 159.289 2073.15 159.289 Q2075 159.289 2076.8 158.803 Q2078.63 158.293 2080.44 157.298 L2080.44 161.233 Q2078.66 162.067 2076.73 162.483 Q2074.84 162.9 2072.68 162.9 Q2066.83 162.9 2063.38 159.219 Q2059.93 155.539 2059.93 149.289 Q2059.93 142.946 2063.4 139.312 Q2066.9 135.678 2072.96 135.678 Q2074.93 135.678 2076.8 136.095 Q2078.68 136.488 2080.44 137.298 Z\" fill=\"#000000\" fill-rule=\"evenodd\" fill-opacity=\"1\" /><path clip-path=\"url(#clip020)\" d=\"M2087.85 136.303 L2092.1 136.303 L2092.1 162.229 L2087.85 162.229 L2087.85 136.303 M2087.85 126.21 L2092.1 126.21 L2092.1 131.604 L2087.85 131.604 L2087.85 126.21 Z\" fill=\"#000000\" fill-rule=\"evenodd\" fill-opacity=\"1\" /><path clip-path=\"url(#clip020)\" d=\"M2122.57 146.581 L2122.57 162.229 L2118.31 162.229 L2118.31 146.719 Q2118.31 143.039 2116.87 141.21 Q2115.44 139.382 2112.57 139.382 Q2109.12 139.382 2107.13 141.581 Q2105.14 143.78 2105.14 147.576 L2105.14 162.229 L2100.85 162.229 L2100.85 136.303 L2105.14 136.303 L2105.14 140.331 Q2106.66 137.993 2108.73 136.835 Q2110.81 135.678 2113.52 135.678 Q2117.98 135.678 2120.28 138.456 Q2122.57 141.21 2122.57 146.581 Z\" fill=\"#000000\" fill-rule=\"evenodd\" fill-opacity=\"1\" /><path clip-path=\"url(#clip020)\" d=\"M2142.85 149.196 Q2137.68 149.196 2135.69 150.377 Q2133.7 151.557 2133.7 154.405 Q2133.7 156.673 2135.18 158.016 Q2136.69 159.335 2139.26 159.335 Q2142.8 159.335 2144.93 156.835 Q2147.08 154.312 2147.08 150.145 L2147.08 149.196 L2142.85 149.196 M2151.34 147.437 L2151.34 162.229 L2147.08 162.229 L2147.08 158.293 Q2145.62 160.655 2143.45 161.789 Q2141.27 162.9 2138.12 162.9 Q2134.14 162.9 2131.78 160.678 Q2129.44 158.432 2129.44 154.682 Q2129.44 150.307 2132.36 148.085 Q2135.3 145.863 2141.11 145.863 L2147.08 145.863 L2147.08 145.446 Q2147.08 142.507 2145.14 140.909 Q2143.22 139.289 2139.72 139.289 Q2137.5 139.289 2135.39 139.821 Q2133.29 140.354 2131.34 141.419 L2131.34 137.483 Q2133.68 136.581 2135.88 136.141 Q2138.08 135.678 2140.16 135.678 Q2145.79 135.678 2148.56 138.594 Q2151.34 141.511 2151.34 147.437 Z\" fill=\"#000000\" fill-rule=\"evenodd\" fill-opacity=\"1\" /><circle clip-path=\"url(#clip020)\" cx=\"1854.66\" cy=\"196.789\" r=\"23\" fill=\"#e26f46\" fill-rule=\"evenodd\" fill-opacity=\"0.5\" stroke=\"#000000\" stroke-opacity=\"0.5\" stroke-width=\"5.12\"/>\n",
       "<path clip-path=\"url(#clip020)\" d=\"M1949.33 179.509 L1954 179.509 L1954 193.675 L1970.99 193.675 L1970.99 179.509 L1975.67 179.509 L1975.67 214.069 L1970.99 214.069 L1970.99 197.61 L1954 197.61 L1954 214.069 L1949.33 214.069 L1949.33 179.509 Z\" fill=\"#000000\" fill-rule=\"evenodd\" fill-opacity=\"1\" /><path clip-path=\"url(#clip020)\" d=\"M1995.58 216.476 Q1993.77 221.106 1992.06 222.518 Q1990.35 223.93 1987.48 223.93 L1984.07 223.93 L1984.07 220.365 L1986.57 220.365 Q1988.33 220.365 1989.3 219.532 Q1990.28 218.698 1991.46 215.596 L1992.22 213.652 L1981.74 188.143 L1986.25 188.143 L1994.35 208.421 L2002.45 188.143 L2006.97 188.143 L1995.58 216.476 Z\" fill=\"#000000\" fill-rule=\"evenodd\" fill-opacity=\"1\" /><path clip-path=\"url(#clip020)\" d=\"M2016.97 210.18 L2016.97 223.93 L2012.68 223.93 L2012.68 188.143 L2016.97 188.143 L2016.97 192.078 Q2018.31 189.763 2020.35 188.652 Q2022.41 187.518 2025.25 187.518 Q2029.98 187.518 2032.92 191.268 Q2035.88 195.018 2035.88 201.129 Q2035.88 207.24 2032.92 210.99 Q2029.98 214.74 2025.25 214.74 Q2022.41 214.74 2020.35 213.629 Q2018.31 212.495 2016.97 210.18 M2031.46 201.129 Q2031.46 196.43 2029.51 193.768 Q2027.59 191.083 2024.21 191.083 Q2020.83 191.083 2018.89 193.768 Q2016.97 196.43 2016.97 201.129 Q2016.97 205.828 2018.89 208.513 Q2020.83 211.175 2024.21 211.175 Q2027.59 211.175 2029.51 208.513 Q2031.46 205.828 2031.46 201.129 Z\" fill=\"#000000\" fill-rule=\"evenodd\" fill-opacity=\"1\" /><path clip-path=\"url(#clip020)\" d=\"M2059.47 188.907 L2059.47 192.934 Q2057.66 192.009 2055.72 191.546 Q2053.77 191.083 2051.69 191.083 Q2048.52 191.083 2046.92 192.055 Q2045.35 193.027 2045.35 194.971 Q2045.35 196.453 2046.48 197.309 Q2047.61 198.143 2051.04 198.907 L2052.5 199.231 Q2057.04 200.203 2058.93 201.985 Q2060.86 203.745 2060.86 206.916 Q2060.86 210.527 2057.98 212.633 Q2055.14 214.74 2050.14 214.74 Q2048.05 214.74 2045.79 214.323 Q2043.54 213.93 2041.04 213.12 L2041.04 208.721 Q2043.4 209.948 2045.69 210.573 Q2047.98 211.175 2050.23 211.175 Q2053.24 211.175 2054.86 210.157 Q2056.48 209.115 2056.48 207.24 Q2056.48 205.504 2055.3 204.578 Q2054.14 203.652 2050.18 202.796 L2048.7 202.448 Q2044.74 201.615 2042.98 199.902 Q2041.23 198.166 2041.23 195.157 Q2041.23 191.499 2043.82 189.509 Q2046.41 187.518 2051.18 187.518 Q2053.54 187.518 2055.62 187.865 Q2057.71 188.212 2059.47 188.907 Z\" fill=\"#000000\" fill-rule=\"evenodd\" fill-opacity=\"1\" /><path clip-path=\"url(#clip020)\" d=\"M2067.64 188.143 L2071.9 188.143 L2071.9 214.069 L2067.64 214.069 L2067.64 188.143 M2067.64 178.05 L2071.9 178.05 L2071.9 183.444 L2067.64 183.444 L2067.64 178.05 Z\" fill=\"#000000\" fill-rule=\"evenodd\" fill-opacity=\"1\" /><path clip-path=\"url(#clip020)\" d=\"M2084.93 210.18 L2084.93 223.93 L2080.65 223.93 L2080.65 188.143 L2084.93 188.143 L2084.93 192.078 Q2086.27 189.763 2088.31 188.652 Q2090.37 187.518 2093.22 187.518 Q2097.94 187.518 2100.88 191.268 Q2103.84 195.018 2103.84 201.129 Q2103.84 207.24 2100.88 210.99 Q2097.94 214.74 2093.22 214.74 Q2090.37 214.74 2088.31 213.629 Q2086.27 212.495 2084.93 210.18 M2099.42 201.129 Q2099.42 196.43 2097.48 193.768 Q2095.55 191.083 2092.17 191.083 Q2088.79 191.083 2086.85 193.768 Q2084.93 196.43 2084.93 201.129 Q2084.93 205.828 2086.85 208.513 Q2088.79 211.175 2092.17 211.175 Q2095.55 211.175 2097.48 208.513 Q2099.42 205.828 2099.42 201.129 Z\" fill=\"#000000\" fill-rule=\"evenodd\" fill-opacity=\"1\" /><path clip-path=\"url(#clip020)\" d=\"M2133.08 200.041 L2133.08 202.124 L2113.49 202.124 Q2113.77 206.522 2116.13 208.837 Q2118.52 211.129 2122.75 211.129 Q2125.21 211.129 2127.5 210.527 Q2129.81 209.925 2132.08 208.721 L2132.08 212.749 Q2129.79 213.721 2127.38 214.231 Q2124.98 214.74 2122.5 214.74 Q2116.29 214.74 2112.66 211.129 Q2109.05 207.518 2109.05 201.36 Q2109.05 194.995 2112.48 191.268 Q2115.92 187.518 2121.76 187.518 Q2126.99 187.518 2130.02 190.897 Q2133.08 194.254 2133.08 200.041 M2128.82 198.791 Q2128.77 195.296 2126.85 193.212 Q2124.95 191.129 2121.8 191.129 Q2118.24 191.129 2116.09 193.143 Q2113.96 195.157 2113.63 198.814 L2128.82 198.791 Z\" fill=\"#000000\" fill-rule=\"evenodd\" fill-opacity=\"1\" /><path clip-path=\"url(#clip020)\" d=\"M2144.28 180.782 L2144.28 188.143 L2153.05 188.143 L2153.05 191.453 L2144.28 191.453 L2144.28 205.527 Q2144.28 208.698 2145.14 209.601 Q2146.02 210.504 2148.68 210.504 L2153.05 210.504 L2153.05 214.069 L2148.68 214.069 Q2143.75 214.069 2141.87 212.24 Q2140 210.388 2140 205.527 L2140 191.453 L2136.87 191.453 L2136.87 188.143 L2140 188.143 L2140 180.782 L2144.28 180.782 Z\" fill=\"#000000\" fill-rule=\"evenodd\" fill-opacity=\"1\" /><path clip-path=\"url(#clip020)\" d=\"M2180.83 200.041 L2180.83 202.124 L2161.25 202.124 Q2161.53 206.522 2163.89 208.837 Q2166.27 211.129 2170.51 211.129 Q2172.96 211.129 2175.25 210.527 Q2177.57 209.925 2179.84 208.721 L2179.84 212.749 Q2177.54 213.721 2175.14 214.231 Q2172.73 214.74 2170.25 214.74 Q2164.05 214.74 2160.41 211.129 Q2156.8 207.518 2156.8 201.36 Q2156.8 194.995 2160.23 191.268 Q2163.68 187.518 2169.51 187.518 Q2174.74 187.518 2177.78 190.897 Q2180.83 194.254 2180.83 200.041 M2176.57 198.791 Q2176.53 195.296 2174.6 193.212 Q2172.71 191.129 2169.56 191.129 Q2165.99 191.129 2163.84 193.143 Q2161.71 195.157 2161.39 198.814 L2176.57 198.791 Z\" fill=\"#000000\" fill-rule=\"evenodd\" fill-opacity=\"1\" /><path clip-path=\"url(#clip020)\" d=\"M2204.35 188.907 L2204.35 192.934 Q2202.54 192.009 2200.6 191.546 Q2198.66 191.083 2196.57 191.083 Q2193.4 191.083 2191.8 192.055 Q2190.23 193.027 2190.23 194.971 Q2190.23 196.453 2191.36 197.309 Q2192.5 198.143 2195.92 198.907 L2197.38 199.231 Q2201.92 200.203 2203.82 201.985 Q2205.74 203.745 2205.74 206.916 Q2205.74 210.527 2202.87 212.633 Q2200.02 214.74 2195.02 214.74 Q2192.94 214.74 2190.67 214.323 Q2188.42 213.93 2185.92 213.12 L2185.92 208.721 Q2188.28 209.948 2190.58 210.573 Q2192.87 211.175 2195.11 211.175 Q2198.12 211.175 2199.74 210.157 Q2201.36 209.115 2201.36 207.24 Q2201.36 205.504 2200.18 204.578 Q2199.03 203.652 2195.07 202.796 L2193.59 202.448 Q2189.63 201.615 2187.87 199.902 Q2186.11 198.166 2186.11 195.157 Q2186.11 191.499 2188.7 189.509 Q2191.29 187.518 2196.06 187.518 Q2198.42 187.518 2200.51 187.865 Q2202.59 188.212 2204.35 188.907 Z\" fill=\"#000000\" fill-rule=\"evenodd\" fill-opacity=\"1\" /><circle clip-path=\"url(#clip020)\" cx=\"1854.66\" cy=\"248.629\" r=\"23\" fill=\"#3da44d\" fill-rule=\"evenodd\" fill-opacity=\"0.5\" stroke=\"#000000\" stroke-opacity=\"0.5\" stroke-width=\"5.12\"/>\n",
       "<path clip-path=\"url(#clip020)\" d=\"M1971.57 232.483 L1971.57 237.043 Q1968.91 235.77 1966.55 235.145 Q1964.19 234.52 1961.99 234.52 Q1958.17 234.52 1956.09 236.001 Q1954.03 237.483 1954.03 240.214 Q1954.03 242.506 1955.39 243.687 Q1956.78 244.844 1960.62 245.562 L1963.45 246.14 Q1968.68 247.136 1971.16 249.659 Q1973.66 252.159 1973.66 256.372 Q1973.66 261.395 1970.28 263.987 Q1966.92 266.58 1960.42 266.58 Q1957.96 266.58 1955.18 266.024 Q1952.43 265.469 1949.47 264.381 L1949.47 259.566 Q1952.31 261.163 1955.05 261.973 Q1957.78 262.784 1960.42 262.784 Q1964.42 262.784 1966.6 261.21 Q1968.77 259.636 1968.77 256.719 Q1968.77 254.173 1967.2 252.737 Q1965.65 251.302 1962.08 250.585 L1959.24 250.029 Q1954 248.987 1951.67 246.765 Q1949.33 244.543 1949.33 240.585 Q1949.33 236.001 1952.55 233.362 Q1955.79 230.724 1961.46 230.724 Q1963.89 230.724 1966.41 231.163 Q1968.93 231.603 1971.57 232.483 Z\" fill=\"#000000\" fill-rule=\"evenodd\" fill-opacity=\"1\" /><path clip-path=\"url(#clip020)\" d=\"M1992.55 252.876 Q1987.38 252.876 1985.39 254.057 Q1983.4 255.237 1983.4 258.085 Q1983.4 260.353 1984.88 261.696 Q1986.39 263.015 1988.96 263.015 Q1992.5 263.015 1994.63 260.515 Q1996.78 257.992 1996.78 253.825 L1996.78 252.876 L1992.55 252.876 M2001.04 251.117 L2001.04 265.909 L1996.78 265.909 L1996.78 261.973 Q1995.32 264.335 1993.15 265.469 Q1990.97 266.58 1987.82 266.58 Q1983.84 266.58 1981.48 264.358 Q1979.14 262.112 1979.14 258.362 Q1979.14 253.987 1982.06 251.765 Q1985 249.543 1990.81 249.543 L1996.78 249.543 L1996.78 249.126 Q1996.78 246.187 1994.84 244.589 Q1992.92 242.969 1989.42 242.969 Q1987.2 242.969 1985.09 243.501 Q1982.99 244.034 1981.04 245.099 L1981.04 241.163 Q1983.38 240.261 1985.58 239.821 Q1987.78 239.358 1989.86 239.358 Q1995.49 239.358 1998.26 242.274 Q2001.04 245.191 2001.04 251.117 Z\" fill=\"#000000\" fill-rule=\"evenodd\" fill-opacity=\"1\" /><path clip-path=\"url(#clip020)\" d=\"M2031.36 239.983 L2021.99 252.599 L2031.85 265.909 L2026.83 265.909 L2019.28 255.723 L2011.73 265.909 L2006.71 265.909 L2016.78 252.344 L2007.57 239.983 L2012.59 239.983 L2019.47 249.219 L2026.34 239.983 L2031.36 239.983 Z\" fill=\"#000000\" fill-rule=\"evenodd\" fill-opacity=\"1\" /><path clip-path=\"url(#clip020)\" d=\"M2037.87 239.983 L2042.13 239.983 L2042.13 265.909 L2037.87 265.909 L2037.87 239.983 M2037.87 229.89 L2042.13 229.89 L2042.13 235.284 L2037.87 235.284 L2037.87 229.89 Z\" fill=\"#000000\" fill-rule=\"evenodd\" fill-opacity=\"1\" /><path clip-path=\"url(#clip020)\" d=\"M2069.7 240.978 L2069.7 244.96 Q2067.89 243.964 2066.06 243.478 Q2064.26 242.969 2062.41 242.969 Q2058.26 242.969 2055.97 245.608 Q2053.68 248.224 2053.68 252.969 Q2053.68 257.714 2055.97 260.353 Q2058.26 262.969 2062.41 262.969 Q2064.26 262.969 2066.06 262.483 Q2067.89 261.973 2069.7 260.978 L2069.7 264.913 Q2067.92 265.747 2065.99 266.163 Q2064.1 266.58 2061.94 266.58 Q2056.09 266.58 2052.64 262.899 Q2049.19 259.219 2049.19 252.969 Q2049.19 246.626 2052.66 242.992 Q2056.16 239.358 2062.22 239.358 Q2064.19 239.358 2066.06 239.775 Q2067.94 240.168 2069.7 240.978 Z\" fill=\"#000000\" fill-rule=\"evenodd\" fill-opacity=\"1\" /><path clip-path=\"url(#clip020)\" d=\"M2087.15 242.969 Q2083.73 242.969 2081.73 245.654 Q2079.74 248.316 2079.74 252.969 Q2079.74 257.622 2081.71 260.307 Q2083.7 262.969 2087.15 262.969 Q2090.55 262.969 2092.54 260.284 Q2094.54 257.598 2094.54 252.969 Q2094.54 248.362 2092.54 245.677 Q2090.55 242.969 2087.15 242.969 M2087.15 239.358 Q2092.71 239.358 2095.88 242.969 Q2099.05 246.58 2099.05 252.969 Q2099.05 259.335 2095.88 262.969 Q2092.71 266.58 2087.15 266.58 Q2081.57 266.58 2078.4 262.969 Q2075.25 259.335 2075.25 252.969 Q2075.25 246.58 2078.4 242.969 Q2081.57 239.358 2087.15 239.358 Z\" fill=\"#000000\" fill-rule=\"evenodd\" fill-opacity=\"1\" /><path clip-path=\"url(#clip020)\" d=\"M2106.11 229.89 L2110.37 229.89 L2110.37 265.909 L2106.11 265.909 L2106.11 229.89 Z\" fill=\"#000000\" fill-rule=\"evenodd\" fill-opacity=\"1\" /><path clip-path=\"url(#clip020)\" d=\"M2131.06 252.876 Q2125.9 252.876 2123.91 254.057 Q2121.92 255.237 2121.92 258.085 Q2121.92 260.353 2123.4 261.696 Q2124.91 263.015 2127.48 263.015 Q2131.02 263.015 2133.15 260.515 Q2135.3 257.992 2135.3 253.825 L2135.3 252.876 L2131.06 252.876 M2139.56 251.117 L2139.56 265.909 L2135.3 265.909 L2135.3 261.973 Q2133.84 264.335 2131.66 265.469 Q2129.49 266.58 2126.34 266.58 Q2122.36 266.58 2120 264.358 Q2117.66 262.112 2117.66 258.362 Q2117.66 253.987 2120.58 251.765 Q2123.52 249.543 2129.33 249.543 L2135.3 249.543 L2135.3 249.126 Q2135.3 246.187 2133.35 244.589 Q2131.43 242.969 2127.94 242.969 Q2125.72 242.969 2123.61 243.501 Q2121.5 244.034 2119.56 245.099 L2119.56 241.163 Q2121.9 240.261 2124.1 239.821 Q2126.29 239.358 2128.38 239.358 Q2134 239.358 2136.78 242.274 Q2139.56 245.191 2139.56 251.117 Z\" fill=\"#000000\" fill-rule=\"evenodd\" fill-opacity=\"1\" /><circle clip-path=\"url(#clip020)\" cx=\"1854.66\" cy=\"300.469\" r=\"23\" fill=\"#c271d2\" fill-rule=\"evenodd\" fill-opacity=\"0.5\" stroke=\"#000000\" stroke-opacity=\"0.5\" stroke-width=\"5.12\"/>\n",
       "<path clip-path=\"url(#clip020)\" d=\"M1949.33 283.189 L1978.56 283.189 L1978.56 287.124 L1966.3 287.124 L1966.3 317.749 L1961.6 317.749 L1961.6 287.124 L1949.33 287.124 L1949.33 283.189 Z\" fill=\"#000000\" fill-rule=\"evenodd\" fill-opacity=\"1\" /><path clip-path=\"url(#clip020)\" d=\"M1997.01 303.721 L1997.01 305.804 L1977.43 305.804 Q1977.71 310.202 1980.07 312.517 Q1982.45 314.809 1986.69 314.809 Q1989.14 314.809 1991.43 314.207 Q1993.75 313.605 1996.02 312.401 L1996.02 316.429 Q1993.73 317.401 1991.32 317.911 Q1988.91 318.42 1986.43 318.42 Q1980.23 318.42 1976.6 314.809 Q1972.99 311.198 1972.99 305.04 Q1972.99 298.675 1976.41 294.948 Q1979.86 291.198 1985.69 291.198 Q1990.92 291.198 1993.96 294.577 Q1997.01 297.934 1997.01 303.721 M1992.75 302.471 Q1992.71 298.976 1990.79 296.892 Q1988.89 294.809 1985.74 294.809 Q1982.17 294.809 1980.02 296.823 Q1977.89 298.837 1977.57 302.494 L1992.75 302.471 Z\" fill=\"#000000\" fill-rule=\"evenodd\" fill-opacity=\"1\" /><path clip-path=\"url(#clip020)\" d=\"M2019.03 295.804 Q2018.31 295.388 2017.45 295.202 Q2016.62 294.994 2015.6 294.994 Q2011.99 294.994 2010.05 297.355 Q2008.12 299.693 2008.12 304.091 L2008.12 317.749 L2003.84 317.749 L2003.84 291.823 L2008.12 291.823 L2008.12 295.851 Q2009.47 293.489 2011.62 292.355 Q2013.77 291.198 2016.85 291.198 Q2017.29 291.198 2017.82 291.267 Q2018.36 291.314 2019 291.429 L2019.03 295.804 Z\" fill=\"#000000\" fill-rule=\"evenodd\" fill-opacity=\"1\" /><path clip-path=\"url(#clip020)\" d=\"M2027.61 313.86 L2027.61 327.61 L2023.33 327.61 L2023.33 291.823 L2027.61 291.823 L2027.61 295.758 Q2028.96 293.443 2030.99 292.332 Q2033.05 291.198 2035.9 291.198 Q2040.62 291.198 2043.56 294.948 Q2046.53 298.698 2046.53 304.809 Q2046.53 310.92 2043.56 314.67 Q2040.62 318.42 2035.9 318.42 Q2033.05 318.42 2030.99 317.309 Q2028.96 316.175 2027.61 313.86 M2042.11 304.809 Q2042.11 300.11 2040.16 297.448 Q2038.24 294.763 2034.86 294.763 Q2031.48 294.763 2029.54 297.448 Q2027.61 300.11 2027.61 304.809 Q2027.61 309.508 2029.54 312.193 Q2031.48 314.855 2034.86 314.855 Q2038.24 314.855 2040.16 312.193 Q2042.11 309.508 2042.11 304.809 Z\" fill=\"#000000\" fill-rule=\"evenodd\" fill-opacity=\"1\" /><path clip-path=\"url(#clip020)\" d=\"M2070.11 292.587 L2070.11 296.614 Q2068.31 295.689 2066.36 295.226 Q2064.42 294.763 2062.34 294.763 Q2059.17 294.763 2057.57 295.735 Q2055.99 296.707 2055.99 298.651 Q2055.99 300.133 2057.13 300.989 Q2058.26 301.823 2061.69 302.587 L2063.15 302.911 Q2067.68 303.883 2069.58 305.665 Q2071.5 307.425 2071.5 310.596 Q2071.5 314.207 2068.63 316.313 Q2065.79 318.42 2060.79 318.42 Q2058.7 318.42 2056.43 318.003 Q2054.19 317.61 2051.69 316.8 L2051.69 312.401 Q2054.05 313.628 2056.34 314.253 Q2058.63 314.855 2060.88 314.855 Q2063.89 314.855 2065.51 313.837 Q2067.13 312.795 2067.13 310.92 Q2067.13 309.184 2065.95 308.258 Q2064.79 307.332 2060.83 306.476 L2059.35 306.128 Q2055.39 305.295 2053.63 303.582 Q2051.87 301.846 2051.87 298.837 Q2051.87 295.179 2054.47 293.189 Q2057.06 291.198 2061.83 291.198 Q2064.19 291.198 2066.27 291.545 Q2068.36 291.892 2070.11 292.587 Z\" fill=\"#000000\" fill-rule=\"evenodd\" fill-opacity=\"1\" /><path clip-path=\"url(#clip020)\" d=\"M2078.29 291.823 L2082.54 291.823 L2082.54 317.749 L2078.29 317.749 L2078.29 291.823 M2078.29 281.73 L2082.54 281.73 L2082.54 287.124 L2078.29 287.124 L2078.29 281.73 Z\" fill=\"#000000\" fill-rule=\"evenodd\" fill-opacity=\"1\" /><path clip-path=\"url(#clip020)\" d=\"M2095.58 313.86 L2095.58 327.61 L2091.29 327.61 L2091.29 291.823 L2095.58 291.823 L2095.58 295.758 Q2096.92 293.443 2098.96 292.332 Q2101.02 291.198 2103.86 291.198 Q2108.59 291.198 2111.53 294.948 Q2114.49 298.698 2114.49 304.809 Q2114.49 310.92 2111.53 314.67 Q2108.59 318.42 2103.86 318.42 Q2101.02 318.42 2098.96 317.309 Q2096.92 316.175 2095.58 313.86 M2110.07 304.809 Q2110.07 300.11 2108.12 297.448 Q2106.2 294.763 2102.82 294.763 Q2099.44 294.763 2097.5 297.448 Q2095.58 300.11 2095.58 304.809 Q2095.58 309.508 2097.5 312.193 Q2099.44 314.855 2102.82 314.855 Q2106.2 314.855 2108.12 312.193 Q2110.07 309.508 2110.07 304.809 Z\" fill=\"#000000\" fill-rule=\"evenodd\" fill-opacity=\"1\" /><path clip-path=\"url(#clip020)\" d=\"M2143.1 302.101 L2143.1 317.749 L2138.84 317.749 L2138.84 302.239 Q2138.84 298.559 2137.41 296.73 Q2135.97 294.902 2133.1 294.902 Q2129.65 294.902 2127.66 297.101 Q2125.67 299.3 2125.67 303.096 L2125.67 317.749 L2121.39 317.749 L2121.39 281.73 L2125.67 281.73 L2125.67 295.851 Q2127.2 293.513 2129.26 292.355 Q2131.34 291.198 2134.05 291.198 Q2138.52 291.198 2140.81 293.976 Q2143.1 296.73 2143.1 302.101 Z\" fill=\"#000000\" fill-rule=\"evenodd\" fill-opacity=\"1\" /><path clip-path=\"url(#clip020)\" d=\"M2161.64 294.809 Q2158.22 294.809 2156.22 297.494 Q2154.23 300.156 2154.23 304.809 Q2154.23 309.462 2156.2 312.147 Q2158.19 314.809 2161.64 314.809 Q2165.04 314.809 2167.04 312.124 Q2169.03 309.438 2169.03 304.809 Q2169.03 300.202 2167.04 297.517 Q2165.04 294.809 2161.64 294.809 M2161.64 291.198 Q2167.2 291.198 2170.37 294.809 Q2173.54 298.42 2173.54 304.809 Q2173.54 311.175 2170.37 314.809 Q2167.2 318.42 2161.64 318.42 Q2156.06 318.42 2152.89 314.809 Q2149.74 311.175 2149.74 304.809 Q2149.74 298.42 2152.89 294.809 Q2156.06 291.198 2161.64 291.198 Z\" fill=\"#000000\" fill-rule=\"evenodd\" fill-opacity=\"1\" /><path clip-path=\"url(#clip020)\" d=\"M2202.15 302.101 L2202.15 317.749 L2197.89 317.749 L2197.89 302.239 Q2197.89 298.559 2196.46 296.73 Q2195.02 294.902 2192.15 294.902 Q2188.7 294.902 2186.71 297.101 Q2184.72 299.3 2184.72 303.096 L2184.72 317.749 L2180.44 317.749 L2180.44 291.823 L2184.72 291.823 L2184.72 295.851 Q2186.25 293.513 2188.31 292.355 Q2190.39 291.198 2193.1 291.198 Q2197.57 291.198 2199.86 293.976 Q2202.15 296.73 2202.15 302.101 Z\" fill=\"#000000\" fill-rule=\"evenodd\" fill-opacity=\"1\" /><path clip-path=\"url(#clip020)\" d=\"M2232.82 303.721 L2232.82 305.804 L2213.24 305.804 Q2213.52 310.202 2215.88 312.517 Q2218.26 314.809 2222.5 314.809 Q2224.95 314.809 2227.24 314.207 Q2229.56 313.605 2231.83 312.401 L2231.83 316.429 Q2229.53 317.401 2227.13 317.911 Q2224.72 318.42 2222.24 318.42 Q2216.04 318.42 2212.41 314.809 Q2208.79 311.198 2208.79 305.04 Q2208.79 298.675 2212.22 294.948 Q2215.67 291.198 2221.5 291.198 Q2226.73 291.198 2229.77 294.577 Q2232.82 297.934 2232.82 303.721 M2228.56 302.471 Q2228.52 298.976 2226.59 296.892 Q2224.7 294.809 2221.55 294.809 Q2217.98 294.809 2215.83 296.823 Q2213.7 298.837 2213.38 302.494 L2228.56 302.471 Z\" fill=\"#000000\" fill-rule=\"evenodd\" fill-opacity=\"1\" /><circle clip-path=\"url(#clip020)\" cx=\"1854.66\" cy=\"352.309\" r=\"23\" fill=\"#ac8d18\" fill-rule=\"evenodd\" fill-opacity=\"0.5\" stroke=\"#000000\" stroke-opacity=\"0.5\" stroke-width=\"5.12\"/>\n",
       "<path clip-path=\"url(#clip020)\" d=\"M1949.86 335.029 L1977.01 335.029 L1977.01 338.593 L1955.16 365.653 L1977.55 365.653 L1977.55 369.589 L1949.33 369.589 L1949.33 366.024 L1971.18 338.964 L1949.86 338.964 L1949.86 335.029 Z\" fill=\"#000000\" fill-rule=\"evenodd\" fill-opacity=\"1\" /><path clip-path=\"url(#clip020)\" d=\"M1994.19 346.649 Q1990.76 346.649 1988.77 349.334 Q1986.78 351.996 1986.78 356.649 Q1986.78 361.302 1988.75 363.987 Q1990.74 366.649 1994.19 366.649 Q1997.59 366.649 1999.58 363.964 Q2001.57 361.278 2001.57 356.649 Q2001.57 352.042 1999.58 349.357 Q1997.59 346.649 1994.19 346.649 M1994.19 343.038 Q1999.74 343.038 2002.92 346.649 Q2006.09 350.26 2006.09 356.649 Q2006.09 363.015 2002.92 366.649 Q1999.74 370.26 1994.19 370.26 Q1988.61 370.26 1985.44 366.649 Q1982.29 363.015 1982.29 356.649 Q1982.29 350.26 1985.44 346.649 Q1988.61 343.038 1994.19 343.038 Z\" fill=\"#000000\" fill-rule=\"evenodd\" fill-opacity=\"1\" /><path clip-path=\"url(#clip020)\" d=\"M2029.67 344.427 L2029.67 348.454 Q2027.87 347.529 2025.92 347.066 Q2023.98 346.603 2021.9 346.603 Q2018.73 346.603 2017.13 347.575 Q2015.55 348.547 2015.55 350.491 Q2015.55 351.973 2016.69 352.829 Q2017.82 353.663 2021.25 354.427 L2022.71 354.751 Q2027.24 355.723 2029.14 357.505 Q2031.06 359.265 2031.06 362.436 Q2031.06 366.047 2028.19 368.153 Q2025.35 370.26 2020.35 370.26 Q2018.26 370.26 2015.99 369.843 Q2013.75 369.45 2011.25 368.64 L2011.25 364.241 Q2013.61 365.468 2015.9 366.093 Q2018.19 366.695 2020.44 366.695 Q2023.45 366.695 2025.07 365.677 Q2026.69 364.635 2026.69 362.76 Q2026.69 361.024 2025.51 360.098 Q2024.35 359.172 2020.39 358.316 L2018.91 357.968 Q2014.95 357.135 2013.19 355.422 Q2011.43 353.686 2011.43 350.677 Q2011.43 347.019 2014.03 345.029 Q2016.62 343.038 2021.39 343.038 Q2023.75 343.038 2025.83 343.385 Q2027.92 343.732 2029.67 344.427 Z\" fill=\"#000000\" fill-rule=\"evenodd\" fill-opacity=\"1\" /><path clip-path=\"url(#clip020)\" d=\"M2042.06 336.302 L2042.06 343.663 L2050.83 343.663 L2050.83 346.973 L2042.06 346.973 L2042.06 361.047 Q2042.06 364.218 2042.92 365.121 Q2043.79 366.024 2046.46 366.024 L2050.83 366.024 L2050.83 369.589 L2046.46 369.589 Q2041.53 369.589 2039.65 367.76 Q2037.78 365.908 2037.78 361.047 L2037.78 346.973 L2034.65 346.973 L2034.65 343.663 L2037.78 343.663 L2037.78 336.302 L2042.06 336.302 Z\" fill=\"#000000\" fill-rule=\"evenodd\" fill-opacity=\"1\" /><path clip-path=\"url(#clip020)\" d=\"M2078.61 355.561 L2078.61 357.644 L2059.03 357.644 Q2059.3 362.042 2061.67 364.357 Q2064.05 366.649 2068.29 366.649 Q2070.74 366.649 2073.03 366.047 Q2075.35 365.445 2077.61 364.241 L2077.61 368.269 Q2075.32 369.241 2072.92 369.751 Q2070.51 370.26 2068.03 370.26 Q2061.83 370.26 2058.19 366.649 Q2054.58 363.038 2054.58 356.88 Q2054.58 350.515 2058.01 346.788 Q2061.46 343.038 2067.29 343.038 Q2072.52 343.038 2075.55 346.417 Q2078.61 349.774 2078.61 355.561 M2074.35 354.311 Q2074.3 350.816 2072.38 348.732 Q2070.48 346.649 2067.34 346.649 Q2063.77 346.649 2061.62 348.663 Q2059.49 350.677 2059.17 354.334 L2074.35 354.311 Z\" fill=\"#000000\" fill-rule=\"evenodd\" fill-opacity=\"1\" /><path clip-path=\"url(#clip020)\" d=\"M2100.62 347.644 Q2099.91 347.228 2099.05 347.042 Q2098.22 346.834 2097.2 346.834 Q2093.59 346.834 2091.64 349.195 Q2089.72 351.533 2089.72 355.931 L2089.72 369.589 L2085.44 369.589 L2085.44 343.663 L2089.72 343.663 L2089.72 347.691 Q2091.06 345.329 2093.22 344.195 Q2095.37 343.038 2098.45 343.038 Q2098.89 343.038 2099.42 343.107 Q2099.95 343.154 2100.6 343.269 L2100.62 347.644 Z\" fill=\"#000000\" fill-rule=\"evenodd\" fill-opacity=\"1\" /><path clip-path=\"url(#clip020)\" d=\"M2114.1 346.649 Q2110.67 346.649 2108.68 349.334 Q2106.69 351.996 2106.69 356.649 Q2106.69 361.302 2108.66 363.987 Q2110.65 366.649 2114.1 366.649 Q2117.5 366.649 2119.49 363.964 Q2121.48 361.278 2121.48 356.649 Q2121.48 352.042 2119.49 349.357 Q2117.5 346.649 2114.1 346.649 M2114.1 343.038 Q2119.65 343.038 2122.82 346.649 Q2125.99 350.26 2125.99 356.649 Q2125.99 363.015 2122.82 366.649 Q2119.65 370.26 2114.1 370.26 Q2108.52 370.26 2105.35 366.649 Q2102.2 363.015 2102.2 356.649 Q2102.2 350.26 2105.35 346.649 Q2108.52 343.038 2114.1 343.038 Z\" fill=\"#000000\" fill-rule=\"evenodd\" fill-opacity=\"1\" /><path clip-path=\"url(#clip020)\" d=\"M2137.17 365.7 L2137.17 379.45 L2132.89 379.45 L2132.89 343.663 L2137.17 343.663 L2137.17 347.598 Q2138.52 345.283 2140.55 344.172 Q2142.61 343.038 2145.46 343.038 Q2150.18 343.038 2153.12 346.788 Q2156.09 350.538 2156.09 356.649 Q2156.09 362.76 2153.12 366.51 Q2150.18 370.26 2145.46 370.26 Q2142.61 370.26 2140.55 369.149 Q2138.52 368.015 2137.17 365.7 M2151.66 356.649 Q2151.66 351.95 2149.72 349.288 Q2147.8 346.603 2144.42 346.603 Q2141.04 346.603 2139.1 349.288 Q2137.17 351.95 2137.17 356.649 Q2137.17 361.348 2139.1 364.033 Q2141.04 366.695 2144.42 366.695 Q2147.8 366.695 2149.72 364.033 Q2151.66 361.348 2151.66 356.649 Z\" fill=\"#000000\" fill-rule=\"evenodd\" fill-opacity=\"1\" /><path clip-path=\"url(#clip020)\" d=\"M2179.67 344.427 L2179.67 348.454 Q2177.87 347.529 2175.92 347.066 Q2173.98 346.603 2171.9 346.603 Q2168.72 346.603 2167.13 347.575 Q2165.55 348.547 2165.55 350.491 Q2165.55 351.973 2166.69 352.829 Q2167.82 353.663 2171.25 354.427 L2172.71 354.751 Q2177.24 355.723 2179.14 357.505 Q2181.06 359.265 2181.06 362.436 Q2181.06 366.047 2178.19 368.153 Q2175.35 370.26 2170.35 370.26 Q2168.26 370.26 2165.99 369.843 Q2163.75 369.45 2161.25 368.64 L2161.25 364.241 Q2163.61 365.468 2165.9 366.093 Q2168.19 366.695 2170.44 366.695 Q2173.45 366.695 2175.07 365.677 Q2176.69 364.635 2176.69 362.76 Q2176.69 361.024 2175.51 360.098 Q2174.35 359.172 2170.39 358.316 L2168.91 357.968 Q2164.95 357.135 2163.19 355.422 Q2161.43 353.686 2161.43 350.677 Q2161.43 347.019 2164.03 345.029 Q2166.62 343.038 2171.39 343.038 Q2173.75 343.038 2175.83 343.385 Q2177.91 343.732 2179.67 344.427 Z\" fill=\"#000000\" fill-rule=\"evenodd\" fill-opacity=\"1\" /><circle clip-path=\"url(#clip020)\" cx=\"1854.66\" cy=\"404.149\" r=\"23\" fill=\"#00a9ad\" fill-rule=\"evenodd\" fill-opacity=\"0.5\" stroke=\"#000000\" stroke-opacity=\"0.5\" stroke-width=\"5.12\"/>\n",
       "<path clip-path=\"url(#clip020)\" d=\"M1949.86 386.869 L1977.01 386.869 L1977.01 390.433 L1955.16 417.493 L1977.55 417.493 L1977.55 421.429 L1949.33 421.429 L1949.33 417.864 L1971.18 390.804 L1949.86 390.804 L1949.86 386.869 Z\" fill=\"#000000\" fill-rule=\"evenodd\" fill-opacity=\"1\" /><path clip-path=\"url(#clip020)\" d=\"M1994.19 398.489 Q1990.76 398.489 1988.77 401.174 Q1986.78 403.836 1986.78 408.489 Q1986.78 413.142 1988.75 415.827 Q1990.74 418.489 1994.19 418.489 Q1997.59 418.489 1999.58 415.804 Q2001.57 413.118 2001.57 408.489 Q2001.57 403.882 1999.58 401.197 Q1997.59 398.489 1994.19 398.489 M1994.19 394.878 Q1999.74 394.878 2002.92 398.489 Q2006.09 402.1 2006.09 408.489 Q2006.09 414.855 2002.92 418.489 Q1999.74 422.1 1994.19 422.1 Q1988.61 422.1 1985.44 418.489 Q1982.29 414.855 1982.29 408.489 Q1982.29 402.1 1985.44 398.489 Q1988.61 394.878 1994.19 394.878 Z\" fill=\"#000000\" fill-rule=\"evenodd\" fill-opacity=\"1\" /><path clip-path=\"url(#clip020)\" d=\"M2029.67 396.267 L2029.67 400.294 Q2027.87 399.369 2025.92 398.906 Q2023.98 398.443 2021.9 398.443 Q2018.73 398.443 2017.13 399.415 Q2015.55 400.387 2015.55 402.331 Q2015.55 403.813 2016.69 404.669 Q2017.82 405.503 2021.25 406.267 L2022.71 406.591 Q2027.24 407.563 2029.14 409.345 Q2031.06 411.105 2031.06 414.276 Q2031.06 417.887 2028.19 419.993 Q2025.35 422.1 2020.35 422.1 Q2018.26 422.1 2015.99 421.683 Q2013.75 421.29 2011.25 420.48 L2011.25 416.081 Q2013.61 417.308 2015.9 417.933 Q2018.19 418.535 2020.44 418.535 Q2023.45 418.535 2025.07 417.517 Q2026.69 416.475 2026.69 414.6 Q2026.69 412.864 2025.51 411.938 Q2024.35 411.012 2020.39 410.156 L2018.91 409.808 Q2014.95 408.975 2013.19 407.262 Q2011.43 405.526 2011.43 402.517 Q2011.43 398.859 2014.03 396.869 Q2016.62 394.878 2021.39 394.878 Q2023.75 394.878 2025.83 395.225 Q2027.92 395.572 2029.67 396.267 Z\" fill=\"#000000\" fill-rule=\"evenodd\" fill-opacity=\"1\" /><path clip-path=\"url(#clip020)\" d=\"M2042.06 388.142 L2042.06 395.503 L2050.83 395.503 L2050.83 398.813 L2042.06 398.813 L2042.06 412.887 Q2042.06 416.058 2042.92 416.961 Q2043.79 417.864 2046.46 417.864 L2050.83 417.864 L2050.83 421.429 L2046.46 421.429 Q2041.53 421.429 2039.65 419.6 Q2037.78 417.748 2037.78 412.887 L2037.78 398.813 L2034.65 398.813 L2034.65 395.503 L2037.78 395.503 L2037.78 388.142 L2042.06 388.142 Z\" fill=\"#000000\" fill-rule=\"evenodd\" fill-opacity=\"1\" /><path clip-path=\"url(#clip020)\" d=\"M2078.61 407.401 L2078.61 409.484 L2059.03 409.484 Q2059.3 413.882 2061.67 416.197 Q2064.05 418.489 2068.29 418.489 Q2070.74 418.489 2073.03 417.887 Q2075.35 417.285 2077.61 416.081 L2077.61 420.109 Q2075.32 421.081 2072.92 421.591 Q2070.51 422.1 2068.03 422.1 Q2061.83 422.1 2058.19 418.489 Q2054.58 414.878 2054.58 408.72 Q2054.58 402.355 2058.01 398.628 Q2061.46 394.878 2067.29 394.878 Q2072.52 394.878 2075.55 398.257 Q2078.61 401.614 2078.61 407.401 M2074.35 406.151 Q2074.3 402.656 2072.38 400.572 Q2070.48 398.489 2067.34 398.489 Q2063.77 398.489 2061.62 400.503 Q2059.49 402.517 2059.17 406.174 L2074.35 406.151 Z\" fill=\"#000000\" fill-rule=\"evenodd\" fill-opacity=\"1\" /><path clip-path=\"url(#clip020)\" d=\"M2100.62 399.484 Q2099.91 399.068 2099.05 398.882 Q2098.22 398.674 2097.2 398.674 Q2093.59 398.674 2091.64 401.035 Q2089.72 403.373 2089.72 407.771 L2089.72 421.429 L2085.44 421.429 L2085.44 395.503 L2089.72 395.503 L2089.72 399.531 Q2091.06 397.169 2093.22 396.035 Q2095.37 394.878 2098.45 394.878 Q2098.89 394.878 2099.42 394.947 Q2099.95 394.994 2100.6 395.109 L2100.62 399.484 Z\" fill=\"#000000\" fill-rule=\"evenodd\" fill-opacity=\"1\" /><path clip-path=\"url(#clip020)\" d=\"M2114.1 398.489 Q2110.67 398.489 2108.68 401.174 Q2106.69 403.836 2106.69 408.489 Q2106.69 413.142 2108.66 415.827 Q2110.65 418.489 2114.1 418.489 Q2117.5 418.489 2119.49 415.804 Q2121.48 413.118 2121.48 408.489 Q2121.48 403.882 2119.49 401.197 Q2117.5 398.489 2114.1 398.489 M2114.1 394.878 Q2119.65 394.878 2122.82 398.489 Q2125.99 402.1 2125.99 408.489 Q2125.99 414.855 2122.82 418.489 Q2119.65 422.1 2114.1 422.1 Q2108.52 422.1 2105.35 418.489 Q2102.2 414.855 2102.2 408.489 Q2102.2 402.1 2105.35 398.489 Q2108.52 394.878 2114.1 394.878 Z\" fill=\"#000000\" fill-rule=\"evenodd\" fill-opacity=\"1\" /><path clip-path=\"url(#clip020)\" d=\"M2137.17 417.54 L2137.17 431.29 L2132.89 431.29 L2132.89 395.503 L2137.17 395.503 L2137.17 399.438 Q2138.52 397.123 2140.55 396.012 Q2142.61 394.878 2145.46 394.878 Q2150.18 394.878 2153.12 398.628 Q2156.09 402.378 2156.09 408.489 Q2156.09 414.6 2153.12 418.35 Q2150.18 422.1 2145.46 422.1 Q2142.61 422.1 2140.55 420.989 Q2138.52 419.855 2137.17 417.54 M2151.66 408.489 Q2151.66 403.79 2149.72 401.128 Q2147.8 398.443 2144.42 398.443 Q2141.04 398.443 2139.1 401.128 Q2137.17 403.79 2137.17 408.489 Q2137.17 413.188 2139.1 415.873 Q2141.04 418.535 2144.42 418.535 Q2147.8 418.535 2149.72 415.873 Q2151.66 413.188 2151.66 408.489 Z\" fill=\"#000000\" fill-rule=\"evenodd\" fill-opacity=\"1\" /><path clip-path=\"url(#clip020)\" d=\"M2179.67 396.267 L2179.67 400.294 Q2177.87 399.369 2175.92 398.906 Q2173.98 398.443 2171.9 398.443 Q2168.72 398.443 2167.13 399.415 Q2165.55 400.387 2165.55 402.331 Q2165.55 403.813 2166.69 404.669 Q2167.82 405.503 2171.25 406.267 L2172.71 406.591 Q2177.24 407.563 2179.14 409.345 Q2181.06 411.105 2181.06 414.276 Q2181.06 417.887 2178.19 419.993 Q2175.35 422.1 2170.35 422.1 Q2168.26 422.1 2165.99 421.683 Q2163.75 421.29 2161.25 420.48 L2161.25 416.081 Q2163.61 417.308 2165.9 417.933 Q2168.19 418.535 2170.44 418.535 Q2173.45 418.535 2175.07 417.517 Q2176.69 416.475 2176.69 414.6 Q2176.69 412.864 2175.51 411.938 Q2174.35 411.012 2170.39 410.156 L2168.91 409.808 Q2164.95 408.975 2163.19 407.262 Q2161.43 405.526 2161.43 402.517 Q2161.43 398.859 2164.03 396.869 Q2166.62 394.878 2171.39 394.878 Q2173.75 394.878 2175.83 395.225 Q2177.91 395.572 2179.67 396.267 Z\" fill=\"#000000\" fill-rule=\"evenodd\" fill-opacity=\"1\" /><circle clip-path=\"url(#clip020)\" cx=\"1854.66\" cy=\"455.989\" r=\"23\" fill=\"#ed5d92\" fill-rule=\"evenodd\" fill-opacity=\"0.5\" stroke=\"#000000\" stroke-opacity=\"0.5\" stroke-width=\"5.12\"/>\n",
       "<path clip-path=\"url(#clip020)\" d=\"M1977.2 441.371 L1977.2 446.301 Q1974.84 444.102 1972.15 443.014 Q1969.49 441.926 1966.48 441.926 Q1960.55 441.926 1957.41 445.56 Q1954.26 449.172 1954.26 456.023 Q1954.26 462.852 1957.41 466.486 Q1960.55 470.097 1966.48 470.097 Q1969.49 470.097 1972.15 469.009 Q1974.84 467.921 1977.2 465.722 L1977.2 470.607 Q1974.74 472.273 1971.99 473.107 Q1969.26 473.94 1966.2 473.94 Q1958.36 473.94 1953.84 469.148 Q1949.33 464.333 1949.33 456.023 Q1949.33 447.69 1953.84 442.898 Q1958.36 438.084 1966.2 438.084 Q1969.3 438.084 1972.04 438.917 Q1974.79 439.727 1977.2 441.371 Z\" fill=\"#000000\" fill-rule=\"evenodd\" fill-opacity=\"1\" /><path clip-path=\"url(#clip020)\" d=\"M1984.24 447.343 L1988.49 447.343 L1988.49 473.269 L1984.24 473.269 L1984.24 447.343 M1984.24 437.25 L1988.49 437.25 L1988.49 442.644 L1984.24 442.644 L1984.24 437.25 Z\" fill=\"#000000\" fill-rule=\"evenodd\" fill-opacity=\"1\" /><path clip-path=\"url(#clip020)\" d=\"M2012.43 451.324 Q2011.71 450.908 2010.86 450.722 Q2010.02 450.514 2009 450.514 Q2005.39 450.514 2003.45 452.875 Q2001.53 455.213 2001.53 459.611 L2001.53 473.269 L1997.24 473.269 L1997.24 447.343 L2001.53 447.343 L2001.53 451.371 Q2002.87 449.009 2005.02 447.875 Q2007.17 446.718 2010.25 446.718 Q2010.69 446.718 2011.23 446.787 Q2011.76 446.834 2012.41 446.949 L2012.43 451.324 Z\" fill=\"#000000\" fill-rule=\"evenodd\" fill-opacity=\"1\" /><path clip-path=\"url(#clip020)\" d=\"M2034.51 448.338 L2034.51 452.32 Q2032.71 451.324 2030.88 450.838 Q2029.07 450.329 2027.22 450.329 Q2023.08 450.329 2020.79 452.968 Q2018.49 455.584 2018.49 460.329 Q2018.49 465.074 2020.79 467.713 Q2023.08 470.329 2027.22 470.329 Q2029.07 470.329 2030.88 469.843 Q2032.71 469.333 2034.51 468.338 L2034.51 472.273 Q2032.73 473.107 2030.81 473.523 Q2028.91 473.94 2026.76 473.94 Q2020.9 473.94 2017.45 470.259 Q2014 466.579 2014 460.329 Q2014 453.986 2017.48 450.352 Q2020.97 446.718 2027.04 446.718 Q2029 446.718 2030.88 447.135 Q2032.75 447.528 2034.51 448.338 Z\" fill=\"#000000\" fill-rule=\"evenodd\" fill-opacity=\"1\" /><path clip-path=\"url(#clip020)\" d=\"M2041.48 463.037 L2041.48 447.343 L2045.74 447.343 L2045.74 462.875 Q2045.74 466.556 2047.17 468.408 Q2048.61 470.236 2051.48 470.236 Q2054.93 470.236 2056.92 468.037 Q2058.93 465.838 2058.93 462.042 L2058.93 447.343 L2063.19 447.343 L2063.19 473.269 L2058.93 473.269 L2058.93 469.287 Q2057.38 471.648 2055.32 472.806 Q2053.29 473.94 2050.58 473.94 Q2046.11 473.94 2043.79 471.162 Q2041.48 468.384 2041.48 463.037 M2052.2 446.718 L2052.2 446.718 Z\" fill=\"#000000\" fill-rule=\"evenodd\" fill-opacity=\"1\" /><path clip-path=\"url(#clip020)\" d=\"M2088.49 448.107 L2088.49 452.134 Q2086.69 451.209 2084.74 450.746 Q2082.8 450.283 2080.72 450.283 Q2077.54 450.283 2075.95 451.255 Q2074.37 452.227 2074.37 454.171 Q2074.37 455.653 2075.51 456.509 Q2076.64 457.343 2080.07 458.107 L2081.53 458.431 Q2086.06 459.403 2087.96 461.185 Q2089.88 462.945 2089.88 466.116 Q2089.88 469.727 2087.01 471.833 Q2084.17 473.94 2079.17 473.94 Q2077.08 473.94 2074.81 473.523 Q2072.57 473.13 2070.07 472.32 L2070.07 467.921 Q2072.43 469.148 2074.72 469.773 Q2077.01 470.375 2079.26 470.375 Q2082.27 470.375 2083.89 469.357 Q2085.51 468.315 2085.51 466.44 Q2085.51 464.704 2084.33 463.778 Q2083.17 462.852 2079.21 461.996 L2077.73 461.648 Q2073.77 460.815 2072.01 459.102 Q2070.25 457.366 2070.25 454.357 Q2070.25 450.699 2072.85 448.709 Q2075.44 446.718 2080.21 446.718 Q2082.57 446.718 2084.65 447.065 Q2086.73 447.412 2088.49 448.107 Z\" fill=\"#000000\" fill-rule=\"evenodd\" fill-opacity=\"1\" /><circle clip-path=\"url(#clip020)\" cx=\"1854.66\" cy=\"507.829\" r=\"23\" fill=\"#c68125\" fill-rule=\"evenodd\" fill-opacity=\"0.5\" stroke=\"#000000\" stroke-opacity=\"0.5\" stroke-width=\"5.12\"/>\n",
       "<path clip-path=\"url(#clip020)\" d=\"M1949.33 490.549 L1955.62 490.549 L1970.95 519.461 L1970.95 490.549 L1975.49 490.549 L1975.49 525.109 L1969.19 525.109 L1953.86 496.197 L1953.86 525.109 L1949.33 525.109 L1949.33 490.549 Z\" fill=\"#000000\" fill-rule=\"evenodd\" fill-opacity=\"1\" /><path clip-path=\"url(#clip020)\" d=\"M2006.78 511.081 L2006.78 513.164 L1987.2 513.164 Q1987.48 517.562 1989.84 519.877 Q1992.22 522.169 1996.46 522.169 Q1998.91 522.169 2001.2 521.567 Q2003.52 520.965 2005.79 519.761 L2005.79 523.789 Q2003.49 524.761 2001.09 525.271 Q1998.68 525.78 1996.2 525.78 Q1990 525.78 1986.36 522.169 Q1982.75 518.558 1982.75 512.4 Q1982.75 506.035 1986.18 502.308 Q1989.63 498.558 1995.46 498.558 Q2000.69 498.558 2003.73 501.937 Q2006.78 505.294 2006.78 511.081 M2002.52 509.831 Q2002.48 506.336 2000.55 504.252 Q1998.66 502.169 1995.51 502.169 Q1991.94 502.169 1989.79 504.183 Q1987.66 506.197 1987.34 509.854 L2002.52 509.831 Z\" fill=\"#000000\" fill-rule=\"evenodd\" fill-opacity=\"1\" /><path clip-path=\"url(#clip020)\" d=\"M2030.3 499.947 L2030.3 503.974 Q2028.49 503.049 2026.55 502.586 Q2024.61 502.123 2022.52 502.123 Q2019.35 502.123 2017.75 503.095 Q2016.18 504.067 2016.18 506.011 Q2016.18 507.493 2017.31 508.349 Q2018.45 509.183 2021.87 509.947 L2023.33 510.271 Q2027.87 511.243 2029.77 513.025 Q2031.69 514.785 2031.69 517.956 Q2031.69 521.567 2028.82 523.673 Q2025.97 525.78 2020.97 525.78 Q2018.89 525.78 2016.62 525.363 Q2014.37 524.97 2011.87 524.16 L2011.87 519.761 Q2014.23 520.988 2016.53 521.613 Q2018.82 522.215 2021.06 522.215 Q2024.07 522.215 2025.69 521.197 Q2027.31 520.155 2027.31 518.28 Q2027.31 516.544 2026.13 515.618 Q2024.98 514.692 2021.02 513.836 L2019.54 513.488 Q2015.58 512.655 2013.82 510.942 Q2012.06 509.206 2012.06 506.197 Q2012.06 502.539 2014.65 500.549 Q2017.24 498.558 2022.01 498.558 Q2024.37 498.558 2026.46 498.905 Q2028.54 499.252 2030.3 499.947 Z\" fill=\"#000000\" fill-rule=\"evenodd\" fill-opacity=\"1\" /><path clip-path=\"url(#clip020)\" d=\"M2048.52 502.169 Q2045.09 502.169 2043.1 504.854 Q2041.11 507.516 2041.11 512.169 Q2041.11 516.822 2043.08 519.507 Q2045.07 522.169 2048.52 522.169 Q2051.92 522.169 2053.91 519.484 Q2055.9 516.798 2055.9 512.169 Q2055.9 507.562 2053.91 504.877 Q2051.92 502.169 2048.52 502.169 M2048.52 498.558 Q2054.07 498.558 2057.24 502.169 Q2060.42 505.78 2060.42 512.169 Q2060.42 518.535 2057.24 522.169 Q2054.07 525.78 2048.52 525.78 Q2042.94 525.78 2039.77 522.169 Q2036.62 518.535 2036.62 512.169 Q2036.62 505.78 2039.77 502.169 Q2042.94 498.558 2048.52 498.558 Z\" fill=\"#000000\" fill-rule=\"evenodd\" fill-opacity=\"1\" /><path clip-path=\"url(#clip020)\" d=\"M2089.65 511.081 L2089.65 513.164 L2070.07 513.164 Q2070.35 517.562 2072.71 519.877 Q2075.09 522.169 2079.33 522.169 Q2081.78 522.169 2084.07 521.567 Q2086.39 520.965 2088.66 519.761 L2088.66 523.789 Q2086.36 524.761 2083.96 525.271 Q2081.55 525.78 2079.07 525.78 Q2072.87 525.78 2069.23 522.169 Q2065.62 518.558 2065.62 512.4 Q2065.62 506.035 2069.05 502.308 Q2072.5 498.558 2078.33 498.558 Q2083.56 498.558 2086.6 501.937 Q2089.65 505.294 2089.65 511.081 M2085.39 509.831 Q2085.35 506.336 2083.42 504.252 Q2081.53 502.169 2078.38 502.169 Q2074.81 502.169 2072.66 504.183 Q2070.53 506.197 2070.21 509.854 L2085.39 509.831 Z\" fill=\"#000000\" fill-rule=\"evenodd\" fill-opacity=\"1\" /><path clip-path=\"url(#clip020)\" d=\"M2118.19 509.461 L2118.19 525.109 L2113.93 525.109 L2113.93 509.599 Q2113.93 505.919 2112.5 504.09 Q2111.06 502.262 2108.19 502.262 Q2104.74 502.262 2102.75 504.461 Q2100.76 506.66 2100.76 510.456 L2100.76 525.109 L2096.48 525.109 L2096.48 499.183 L2100.76 499.183 L2100.76 503.211 Q2102.29 500.873 2104.35 499.715 Q2106.43 498.558 2109.14 498.558 Q2113.61 498.558 2115.9 501.336 Q2118.19 504.09 2118.19 509.461 Z\" fill=\"#000000\" fill-rule=\"evenodd\" fill-opacity=\"1\" /><path clip-path=\"url(#clip020)\" d=\"M2138.47 512.076 Q2133.31 512.076 2131.32 513.257 Q2129.33 514.437 2129.33 517.285 Q2129.33 519.553 2130.81 520.896 Q2132.31 522.215 2134.88 522.215 Q2138.42 522.215 2140.55 519.715 Q2142.71 517.192 2142.71 513.025 L2142.71 512.076 L2138.47 512.076 M2146.97 510.317 L2146.97 525.109 L2142.71 525.109 L2142.71 521.173 Q2141.25 523.535 2139.07 524.669 Q2136.9 525.78 2133.75 525.78 Q2129.77 525.78 2127.41 523.558 Q2125.07 521.312 2125.07 517.562 Q2125.07 513.187 2127.98 510.965 Q2130.92 508.743 2136.73 508.743 L2142.71 508.743 L2142.71 508.326 Q2142.71 505.387 2140.76 503.789 Q2138.84 502.169 2135.35 502.169 Q2133.12 502.169 2131.02 502.701 Q2128.91 503.234 2126.97 504.299 L2126.97 500.363 Q2129.3 499.461 2131.5 499.021 Q2133.7 498.558 2135.79 498.558 Q2141.41 498.558 2144.19 501.474 Q2146.97 504.391 2146.97 510.317 Z\" fill=\"#000000\" fill-rule=\"evenodd\" fill-opacity=\"1\" /><path clip-path=\"url(#clip020)\" d=\"M2172.27 499.947 L2172.27 503.974 Q2170.46 503.049 2168.52 502.586 Q2166.57 502.123 2164.49 502.123 Q2161.32 502.123 2159.72 503.095 Q2158.15 504.067 2158.15 506.011 Q2158.15 507.493 2159.28 508.349 Q2160.41 509.183 2163.84 509.947 L2165.3 510.271 Q2169.84 511.243 2171.73 513.025 Q2173.66 514.785 2173.66 517.956 Q2173.66 521.567 2170.79 523.673 Q2167.94 525.78 2162.94 525.78 Q2160.85 525.78 2158.59 525.363 Q2156.34 524.97 2153.84 524.16 L2153.84 519.761 Q2156.2 520.988 2158.49 521.613 Q2160.79 522.215 2163.03 522.215 Q2166.04 522.215 2167.66 521.197 Q2169.28 520.155 2169.28 518.28 Q2169.28 516.544 2168.1 515.618 Q2166.94 514.692 2162.98 513.836 L2161.5 513.488 Q2157.54 512.655 2155.79 510.942 Q2154.03 509.206 2154.03 506.197 Q2154.03 502.539 2156.62 500.549 Q2159.21 498.558 2163.98 498.558 Q2166.34 498.558 2168.42 498.905 Q2170.51 499.252 2172.27 499.947 Z\" fill=\"#000000\" fill-rule=\"evenodd\" fill-opacity=\"1\" /><circle clip-path=\"url(#clip020)\" cx=\"1854.66\" cy=\"559.669\" r=\"23\" fill=\"#00a98d\" fill-rule=\"evenodd\" fill-opacity=\"0.5\" stroke=\"#000000\" stroke-opacity=\"0.5\" stroke-width=\"5.12\"/>\n",
       "<path clip-path=\"url(#clip020)\" d=\"M1965.16 546.995 L1958.82 564.194 L1971.53 564.194 L1965.16 546.995 M1962.52 542.389 L1967.82 542.389 L1980.99 576.949 L1976.13 576.949 L1972.99 568.083 L1957.41 568.083 L1954.26 576.949 L1949.33 576.949 L1962.52 542.389 Z\" fill=\"#000000\" fill-rule=\"evenodd\" fill-opacity=\"1\" /><path clip-path=\"url(#clip020)\" d=\"M2007.2 562.921 L2007.2 565.004 L1987.61 565.004 Q1987.89 569.402 1990.25 571.717 Q1992.64 574.009 1996.87 574.009 Q1999.33 574.009 2001.62 573.407 Q2003.93 572.805 2006.2 571.601 L2006.2 575.629 Q2003.91 576.601 2001.5 577.111 Q1999.1 577.62 1996.62 577.62 Q1990.42 577.62 1986.78 574.009 Q1983.17 570.398 1983.17 564.24 Q1983.17 557.875 1986.6 554.148 Q1990.05 550.398 1995.88 550.398 Q2001.11 550.398 2004.14 553.777 Q2007.2 557.134 2007.2 562.921 M2002.94 561.671 Q2002.89 558.176 2000.97 556.092 Q1999.07 554.009 1995.92 554.009 Q1992.36 554.009 1990.21 556.023 Q1988.08 558.037 1987.75 561.694 L2002.94 561.671 Z\" fill=\"#000000\" fill-rule=\"evenodd\" fill-opacity=\"1\" /><path clip-path=\"url(#clip020)\" d=\"M2029.21 555.004 Q2028.49 554.588 2027.64 554.402 Q2026.8 554.194 2025.79 554.194 Q2022.17 554.194 2020.23 556.555 Q2018.31 558.893 2018.31 563.291 L2018.31 576.949 L2014.03 576.949 L2014.03 551.023 L2018.31 551.023 L2018.31 555.051 Q2019.65 552.689 2021.8 551.555 Q2023.96 550.398 2027.04 550.398 Q2027.48 550.398 2028.01 550.467 Q2028.54 550.514 2029.19 550.629 L2029.21 555.004 Z\" fill=\"#000000\" fill-rule=\"evenodd\" fill-opacity=\"1\" /><path clip-path=\"url(#clip020)\" d=\"M2042.68 554.009 Q2039.26 554.009 2037.27 556.694 Q2035.28 559.356 2035.28 564.009 Q2035.28 568.662 2037.24 571.347 Q2039.23 574.009 2042.68 574.009 Q2046.09 574.009 2048.08 571.324 Q2050.07 568.638 2050.07 564.009 Q2050.07 559.402 2048.08 556.717 Q2046.09 554.009 2042.68 554.009 M2042.68 550.398 Q2048.24 550.398 2051.41 554.009 Q2054.58 557.62 2054.58 564.009 Q2054.58 570.375 2051.41 574.009 Q2048.24 577.62 2042.68 577.62 Q2037.11 577.62 2033.93 574.009 Q2030.79 570.375 2030.79 564.009 Q2030.79 557.62 2033.93 554.009 Q2037.11 550.398 2042.68 550.398 Z\" fill=\"#000000\" fill-rule=\"evenodd\" fill-opacity=\"1\" /><path clip-path=\"url(#clip020)\" d=\"M2078.7 554.958 L2078.7 540.93 L2082.96 540.93 L2082.96 576.949 L2078.7 576.949 L2078.7 573.06 Q2077.36 575.375 2075.3 576.509 Q2073.26 577.62 2070.39 577.62 Q2065.69 577.62 2062.73 573.87 Q2059.79 570.12 2059.79 564.009 Q2059.79 557.898 2062.73 554.148 Q2065.69 550.398 2070.39 550.398 Q2073.26 550.398 2075.3 551.532 Q2077.36 552.643 2078.7 554.958 M2064.19 564.009 Q2064.19 568.708 2066.11 571.393 Q2068.05 574.055 2071.43 574.055 Q2074.81 574.055 2076.76 571.393 Q2078.7 568.708 2078.7 564.009 Q2078.7 559.31 2076.76 556.648 Q2074.81 553.963 2071.43 553.963 Q2068.05 553.963 2066.11 556.648 Q2064.19 559.31 2064.19 564.009 Z\" fill=\"#000000\" fill-rule=\"evenodd\" fill-opacity=\"1\" /><path clip-path=\"url(#clip020)\" d=\"M2106.76 555.004 Q2106.04 554.588 2105.18 554.402 Q2104.35 554.194 2103.33 554.194 Q2099.72 554.194 2097.78 556.555 Q2095.85 558.893 2095.85 563.291 L2095.85 576.949 L2091.57 576.949 L2091.57 551.023 L2095.85 551.023 L2095.85 555.051 Q2097.2 552.689 2099.35 551.555 Q2101.5 550.398 2104.58 550.398 Q2105.02 550.398 2105.55 550.467 Q2106.09 550.514 2106.73 550.629 L2106.76 555.004 Z\" fill=\"#000000\" fill-rule=\"evenodd\" fill-opacity=\"1\" /><path clip-path=\"url(#clip020)\" d=\"M2123.01 563.916 Q2117.85 563.916 2115.85 565.097 Q2113.86 566.277 2113.86 569.125 Q2113.86 571.393 2115.35 572.736 Q2116.85 574.055 2119.42 574.055 Q2122.96 574.055 2125.09 571.555 Q2127.24 569.032 2127.24 564.865 L2127.24 563.916 L2123.01 563.916 M2131.5 562.157 L2131.5 576.949 L2127.24 576.949 L2127.24 573.013 Q2125.79 575.375 2123.61 576.509 Q2121.43 577.62 2118.29 577.62 Q2114.3 577.62 2111.94 575.398 Q2109.6 573.152 2109.6 569.402 Q2109.6 565.027 2112.52 562.805 Q2115.46 560.583 2121.27 560.583 L2127.24 560.583 L2127.24 560.166 Q2127.24 557.227 2125.3 555.629 Q2123.38 554.009 2119.88 554.009 Q2117.66 554.009 2115.55 554.541 Q2113.45 555.074 2111.5 556.139 L2111.5 552.203 Q2113.84 551.301 2116.04 550.861 Q2118.24 550.398 2120.32 550.398 Q2125.95 550.398 2128.73 553.314 Q2131.5 556.231 2131.5 562.157 Z\" fill=\"#000000\" fill-rule=\"evenodd\" fill-opacity=\"1\" /><path clip-path=\"url(#clip020)\" d=\"M2160.46 556 Q2162.06 553.129 2164.28 551.764 Q2166.5 550.398 2169.51 550.398 Q2173.56 550.398 2175.76 553.245 Q2177.96 556.069 2177.96 561.301 L2177.96 576.949 L2173.68 576.949 L2173.68 561.439 Q2173.68 557.713 2172.36 555.907 Q2171.04 554.102 2168.33 554.102 Q2165.02 554.102 2163.1 556.301 Q2161.18 558.5 2161.18 562.296 L2161.18 576.949 L2156.9 576.949 L2156.9 561.439 Q2156.9 557.689 2155.58 555.907 Q2154.26 554.102 2151.5 554.102 Q2148.24 554.102 2146.32 556.324 Q2144.4 558.523 2144.4 562.296 L2144.4 576.949 L2140.11 576.949 L2140.11 551.023 L2144.4 551.023 L2144.4 555.051 Q2145.85 552.666 2147.89 551.532 Q2149.93 550.398 2152.73 550.398 Q2155.55 550.398 2157.52 551.833 Q2159.51 553.268 2160.46 556 Z\" fill=\"#000000\" fill-rule=\"evenodd\" fill-opacity=\"1\" /><path clip-path=\"url(#clip020)\" d=\"M2186.02 566.717 L2186.02 551.023 L2190.28 551.023 L2190.28 566.555 Q2190.28 570.236 2191.71 572.088 Q2193.15 573.916 2196.02 573.916 Q2199.47 573.916 2201.46 571.717 Q2203.47 569.518 2203.47 565.722 L2203.47 551.023 L2207.73 551.023 L2207.73 576.949 L2203.47 576.949 L2203.47 572.967 Q2201.92 575.328 2199.86 576.486 Q2197.82 577.62 2195.11 577.62 Q2190.65 577.62 2188.33 574.842 Q2186.02 572.064 2186.02 566.717 M2196.73 550.398 L2196.73 550.398 Z\" fill=\"#000000\" fill-rule=\"evenodd\" fill-opacity=\"1\" /><path clip-path=\"url(#clip020)\" d=\"M2233.03 551.787 L2233.03 555.814 Q2231.22 554.889 2229.28 554.426 Q2227.34 553.963 2225.25 553.963 Q2222.08 553.963 2220.48 554.935 Q2218.91 555.907 2218.91 557.851 Q2218.91 559.333 2220.04 560.189 Q2221.18 561.023 2224.6 561.787 L2226.06 562.111 Q2230.6 563.083 2232.5 564.865 Q2234.42 566.625 2234.42 569.796 Q2234.42 573.407 2231.55 575.513 Q2228.7 577.62 2223.7 577.62 Q2221.62 577.62 2219.35 577.203 Q2217.1 576.81 2214.6 576 L2214.6 571.601 Q2216.97 572.828 2219.26 573.453 Q2221.55 574.055 2223.79 574.055 Q2226.8 574.055 2228.42 573.037 Q2230.04 571.995 2230.04 570.12 Q2230.04 568.384 2228.86 567.458 Q2227.71 566.532 2223.75 565.676 L2222.27 565.328 Q2218.31 564.495 2216.55 562.782 Q2214.79 561.046 2214.79 558.037 Q2214.79 554.379 2217.38 552.389 Q2219.97 550.398 2224.74 550.398 Q2227.1 550.398 2229.19 550.745 Q2231.27 551.092 2233.03 551.787 Z\" fill=\"#000000\" fill-rule=\"evenodd\" fill-opacity=\"1\" /><circle clip-path=\"url(#clip020)\" cx=\"1854.66\" cy=\"611.509\" r=\"23\" fill=\"#8e971d\" fill-rule=\"evenodd\" fill-opacity=\"0.5\" stroke=\"#000000\" stroke-opacity=\"0.5\" stroke-width=\"5.12\"/>\n",
       "<path clip-path=\"url(#clip020)\" d=\"M1954 598.071 L1954 611.057 L1959.88 611.057 Q1963.15 611.057 1964.93 609.367 Q1966.71 607.678 1966.71 604.553 Q1966.71 601.451 1964.93 599.761 Q1963.15 598.071 1959.88 598.071 L1954 598.071 M1949.33 594.229 L1959.88 594.229 Q1965.69 594.229 1968.66 596.867 Q1971.64 599.483 1971.64 604.553 Q1971.64 609.668 1968.66 612.284 Q1965.69 614.9 1959.88 614.9 L1954 614.9 L1954 628.789 L1949.33 628.789 L1949.33 594.229 Z\" fill=\"#000000\" fill-rule=\"evenodd\" fill-opacity=\"1\" /><path clip-path=\"url(#clip020)\" d=\"M1999.28 613.141 L1999.28 628.789 L1995.02 628.789 L1995.02 613.279 Q1995.02 609.599 1993.59 607.77 Q1992.15 605.942 1989.28 605.942 Q1985.83 605.942 1983.84 608.141 Q1981.85 610.34 1981.85 614.136 L1981.85 628.789 L1977.57 628.789 L1977.57 592.77 L1981.85 592.77 L1981.85 606.891 Q1983.38 604.553 1985.44 603.395 Q1987.52 602.238 1990.23 602.238 Q1994.7 602.238 1996.99 605.016 Q1999.28 607.77 1999.28 613.141 Z\" fill=\"#000000\" fill-rule=\"evenodd\" fill-opacity=\"1\" /><path clip-path=\"url(#clip020)\" d=\"M2029.95 614.761 L2029.95 616.844 L2010.37 616.844 Q2010.65 621.242 2013.01 623.557 Q2015.39 625.849 2019.63 625.849 Q2022.08 625.849 2024.37 625.247 Q2026.69 624.645 2028.96 623.441 L2028.96 627.469 Q2026.67 628.441 2024.26 628.951 Q2021.85 629.46 2019.37 629.46 Q2013.17 629.46 2009.54 625.849 Q2005.92 622.238 2005.92 616.08 Q2005.92 609.715 2009.35 605.988 Q2012.8 602.238 2018.63 602.238 Q2023.86 602.238 2026.9 605.617 Q2029.95 608.974 2029.95 614.761 M2025.69 613.511 Q2025.65 610.016 2023.73 607.932 Q2021.83 605.849 2018.68 605.849 Q2015.11 605.849 2012.96 607.863 Q2010.83 609.877 2010.51 613.534 L2025.69 613.511 Z\" fill=\"#000000\" fill-rule=\"evenodd\" fill-opacity=\"1\" /><path clip-path=\"url(#clip020)\" d=\"M2054 606.798 L2054 592.77 L2058.26 592.77 L2058.26 628.789 L2054 628.789 L2054 624.9 Q2052.66 627.215 2050.6 628.349 Q2048.56 629.46 2045.69 629.46 Q2040.99 629.46 2038.03 625.71 Q2035.09 621.96 2035.09 615.849 Q2035.09 609.738 2038.03 605.988 Q2040.99 602.238 2045.69 602.238 Q2048.56 602.238 2050.6 603.372 Q2052.66 604.483 2054 606.798 M2039.49 615.849 Q2039.49 620.548 2041.41 623.233 Q2043.36 625.895 2046.73 625.895 Q2050.11 625.895 2052.06 623.233 Q2054 620.548 2054 615.849 Q2054 611.15 2052.06 608.488 Q2050.11 605.803 2046.73 605.803 Q2043.36 605.803 2041.41 608.488 Q2039.49 611.15 2039.49 615.849 Z\" fill=\"#000000\" fill-rule=\"evenodd\" fill-opacity=\"1\" /><path clip-path=\"url(#clip020)\" d=\"M2067.04 602.863 L2071.29 602.863 L2071.29 628.789 L2067.04 628.789 L2067.04 602.863 M2067.04 592.77 L2071.29 592.77 L2071.29 598.164 L2067.04 598.164 L2067.04 592.77 Z\" fill=\"#000000\" fill-rule=\"evenodd\" fill-opacity=\"1\" /><path clip-path=\"url(#clip020)\" d=\"M2101.76 613.141 L2101.76 628.789 L2097.5 628.789 L2097.5 613.279 Q2097.5 609.599 2096.06 607.77 Q2094.63 605.942 2091.76 605.942 Q2088.31 605.942 2086.32 608.141 Q2084.33 610.34 2084.33 614.136 L2084.33 628.789 L2080.04 628.789 L2080.04 602.863 L2084.33 602.863 L2084.33 606.891 Q2085.85 604.553 2087.92 603.395 Q2090 602.238 2092.71 602.238 Q2097.17 602.238 2099.47 605.016 Q2101.76 607.77 2101.76 613.141 Z\" fill=\"#000000\" fill-rule=\"evenodd\" fill-opacity=\"1\" /><path clip-path=\"url(#clip020)\" d=\"M2122.04 615.756 Q2116.87 615.756 2114.88 616.937 Q2112.89 618.117 2112.89 620.965 Q2112.89 623.233 2114.37 624.576 Q2115.88 625.895 2118.45 625.895 Q2121.99 625.895 2124.12 623.395 Q2126.27 620.872 2126.27 616.705 L2126.27 615.756 L2122.04 615.756 M2130.53 613.997 L2130.53 628.789 L2126.27 628.789 L2126.27 624.853 Q2124.81 627.215 2122.64 628.349 Q2120.46 629.46 2117.31 629.46 Q2113.33 629.46 2110.97 627.238 Q2108.63 624.992 2108.63 621.242 Q2108.63 616.867 2111.55 614.645 Q2114.49 612.423 2120.3 612.423 L2126.27 612.423 L2126.27 612.006 Q2126.27 609.067 2124.33 607.469 Q2122.41 605.849 2118.91 605.849 Q2116.69 605.849 2114.58 606.381 Q2112.48 606.914 2110.53 607.979 L2110.53 604.043 Q2112.87 603.141 2115.07 602.701 Q2117.27 602.238 2119.35 602.238 Q2124.98 602.238 2127.75 605.154 Q2130.53 608.071 2130.53 613.997 Z\" fill=\"#000000\" fill-rule=\"evenodd\" fill-opacity=\"1\" /></svg>\n"
      ]
     },
     "metadata": {},
     "output_type": "display_data"
    }
   ],
   "source": [
    "function gethpds(df)\n",
    "    ages = [x.mrca.data for x in eachrow(df)]\n",
    "    abunds = collect(zip(df[!, :Minimum], df[!, :Maximum]))\n",
    "    return ages, abunds\n",
    "end\n",
    "\n",
    "function get_data(island)\n",
    "    df = load_sheet()\n",
    "    df = get_abunds(df, island)\n",
    "    df = read_nexus(df)\n",
    "    df = get_mrcas(df, island, false)\n",
    "    df\n",
    "end\n",
    "df = get_data(\"Reunion\")\n",
    "\n",
    "nsamps = 20\n",
    "ages, abunds = gethpds(df)\n",
    "print(abunds)\n",
    "plt = []\n",
    "plot()\n",
    "for i in 1:length(ages)\n",
    "    # Get 95% HPD on height\n",
    "    height_min, height_max = ages[i][\"height_range\"]\n",
    "    heights = rand(Uniform(height_min, height_max), nsamps)\n",
    "    abund = rand(Uniform(abunds[i][1], abunds[i][2].+0.001), nsamps)\n",
    "    plt = scatter!(heights, abund, xaxis=(\"Age (Mya)\"),\n",
    "                        yaxis=(\"Abundance (log10)\", :log),\n",
    "#                        c=distinguishable_colors(10),\n",
    "#                        c=colormap(\"Blues\", 10),\n",
    "                        markeralpha=0.5,\n",
    "                        title=\"\",\n",
    "                        label=df.Genus[i])\n",
    "end\n",
    "display(plt)\n",
    "png(\"Reunion_HPD_SAAD.png\")"
   ]
  },
  {
   "cell_type": "markdown",
   "metadata": {},
   "source": [
    "### Truncated normal sampling"
   ]
  },
  {
   "cell_type": "code",
   "execution_count": 457,
   "metadata": {},
   "outputs": [
    {
     "name": "stdout",
     "output_type": "stream",
     "text": [
      "75255.10204081633"
     ]
    },
    {
     "data": {
      "text/plain": [
       "5-element Array{Float64,1}:\n",
       " 20500.000001253302\n",
       " 20500.000002669356\n",
       " 20500.000001057237\n",
       " 20500.000002211917\n",
       " 20500.00000344966"
      ]
     },
     "execution_count": 457,
     "metadata": {},
     "output_type": "execute_result"
    }
   ],
   "source": [
    "SD = sqrt(100) * (50000 - 20500)/3.92\n",
    "print(SD)\n",
    "rand(TruncatedNormal(2500, .2, 20500, 20501), 5)\n"
   ]
  },
  {
   "cell_type": "code",
   "execution_count": 13,
   "metadata": {},
   "outputs": [
    {
     "data": {
      "image/svg+xml": [
       "<?xml version=\"1.0\" encoding=\"utf-8\"?>\n",
       "<svg xmlns=\"http://www.w3.org/2000/svg\" xmlns:xlink=\"http://www.w3.org/1999/xlink\" width=\"600\" height=\"400\" viewBox=\"0 0 2400 1600\">\n",
       "<defs>\n",
       "  <clipPath id=\"clip700\">\n",
       "    <rect x=\"0\" y=\"0\" width=\"2400\" height=\"1600\"/>\n",
       "  </clipPath>\n",
       "</defs>\n",
       "<path clip-path=\"url(#clip700)\" d=\"\n",
       "M0 1600 L2400 1600 L2400 0 L0 0  Z\n",
       "  \" fill=\"#ffffff\" fill-rule=\"evenodd\" fill-opacity=\"1\"/>\n",
       "<defs>\n",
       "  <clipPath id=\"clip701\">\n",
       "    <rect x=\"480\" y=\"0\" width=\"1681\" height=\"1600\"/>\n",
       "  </clipPath>\n",
       "</defs>\n",
       "<path clip-path=\"url(#clip700)\" d=\"\n",
       "M218.315 1423.18 L2352.76 1423.18 L2352.76 47.2441 L218.315 47.2441  Z\n",
       "  \" fill=\"#ffffff\" fill-rule=\"evenodd\" fill-opacity=\"1\"/>\n",
       "<defs>\n",
       "  <clipPath id=\"clip702\">\n",
       "    <rect x=\"218\" y=\"47\" width=\"2135\" height=\"1377\"/>\n",
       "  </clipPath>\n",
       "</defs>\n",
       "<polyline clip-path=\"url(#clip702)\" style=\"stroke:#000000; stroke-width:2; stroke-opacity:0.1; fill:none\" points=\"\n",
       "  275.785,1423.18 275.785,47.2441 \n",
       "  \"/>\n",
       "<polyline clip-path=\"url(#clip702)\" style=\"stroke:#000000; stroke-width:2; stroke-opacity:0.1; fill:none\" points=\"\n",
       "  951.546,1423.18 951.546,47.2441 \n",
       "  \"/>\n",
       "<polyline clip-path=\"url(#clip702)\" style=\"stroke:#000000; stroke-width:2; stroke-opacity:0.1; fill:none\" points=\"\n",
       "  1627.31,1423.18 1627.31,47.2441 \n",
       "  \"/>\n",
       "<polyline clip-path=\"url(#clip702)\" style=\"stroke:#000000; stroke-width:2; stroke-opacity:0.1; fill:none\" points=\"\n",
       "  2303.07,1423.18 2303.07,47.2441 \n",
       "  \"/>\n",
       "<polyline clip-path=\"url(#clip700)\" style=\"stroke:#000000; stroke-width:4; stroke-opacity:1; fill:none\" points=\"\n",
       "  218.315,1423.18 2352.76,1423.18 \n",
       "  \"/>\n",
       "<polyline clip-path=\"url(#clip700)\" style=\"stroke:#000000; stroke-width:4; stroke-opacity:1; fill:none\" points=\"\n",
       "  275.785,1423.18 275.785,1406.67 \n",
       "  \"/>\n",
       "<polyline clip-path=\"url(#clip700)\" style=\"stroke:#000000; stroke-width:4; stroke-opacity:1; fill:none\" points=\"\n",
       "  951.546,1423.18 951.546,1406.67 \n",
       "  \"/>\n",
       "<polyline clip-path=\"url(#clip700)\" style=\"stroke:#000000; stroke-width:4; stroke-opacity:1; fill:none\" points=\"\n",
       "  1627.31,1423.18 1627.31,1406.67 \n",
       "  \"/>\n",
       "<polyline clip-path=\"url(#clip700)\" style=\"stroke:#000000; stroke-width:4; stroke-opacity:1; fill:none\" points=\"\n",
       "  2303.07,1423.18 2303.07,1406.67 \n",
       "  \"/>\n",
       "<path clip-path=\"url(#clip700)\" d=\"M 0 0 M275.785 1452.37 Q272.174 1452.37 270.345 1455.94 Q268.54 1459.48 268.54 1466.61 Q268.54 1473.71 270.345 1477.28 Q272.174 1480.82 275.785 1480.82 Q279.419 1480.82 281.225 1477.28 Q283.053 1473.71 283.053 1466.61 Q283.053 1459.48 281.225 1455.94 Q279.419 1452.37 275.785 1452.37 M275.785 1448.67 Q281.595 1448.67 284.651 1453.27 Q287.729 1457.86 287.729 1466.61 Q287.729 1475.33 284.651 1479.94 Q281.595 1484.52 275.785 1484.52 Q269.975 1484.52 266.896 1479.94 Q263.841 1475.33 263.841 1466.61 Q263.841 1457.86 266.896 1453.27 Q269.975 1448.67 275.785 1448.67 Z\" fill=\"#000000\" fill-rule=\"evenodd\" fill-opacity=\"1\" /><path clip-path=\"url(#clip700)\" d=\"M 0 0 M941.928 1479.92 L949.567 1479.92 L949.567 1453.55 L941.257 1455.22 L941.257 1450.96 L949.521 1449.29 L954.197 1449.29 L954.197 1479.92 L961.836 1479.92 L961.836 1483.85 L941.928 1483.85 L941.928 1479.92 Z\" fill=\"#000000\" fill-rule=\"evenodd\" fill-opacity=\"1\" /><path clip-path=\"url(#clip700)\" d=\"M 0 0 M1621.96 1479.92 L1638.28 1479.92 L1638.28 1483.85 L1616.34 1483.85 L1616.34 1479.92 Q1619 1477.16 1623.58 1472.53 Q1628.19 1467.88 1629.37 1466.54 Q1631.61 1464.01 1632.49 1462.28 Q1633.4 1460.52 1633.4 1458.83 Q1633.4 1456.07 1631.45 1454.34 Q1629.53 1452.6 1626.43 1452.6 Q1624.23 1452.6 1621.78 1453.37 Q1619.34 1454.13 1616.57 1455.68 L1616.57 1450.96 Q1619.39 1449.82 1621.84 1449.25 Q1624.3 1448.67 1626.34 1448.67 Q1631.71 1448.67 1634.9 1451.35 Q1638.09 1454.04 1638.09 1458.53 Q1638.09 1460.66 1637.28 1462.58 Q1636.5 1464.48 1634.39 1467.07 Q1633.81 1467.74 1630.71 1470.96 Q1627.61 1474.15 1621.96 1479.92 Z\" fill=\"#000000\" fill-rule=\"evenodd\" fill-opacity=\"1\" /><path clip-path=\"url(#clip700)\" d=\"M 0 0 M2307.32 1465.22 Q2310.67 1465.94 2312.55 1468.2 Q2314.45 1470.47 2314.45 1473.81 Q2314.45 1478.92 2310.93 1481.72 Q2307.41 1484.52 2300.93 1484.52 Q2298.75 1484.52 2296.44 1484.08 Q2294.15 1483.67 2291.69 1482.81 L2291.69 1478.3 Q2293.64 1479.43 2295.95 1480.01 Q2298.27 1480.59 2300.79 1480.59 Q2305.19 1480.59 2307.48 1478.85 Q2309.79 1477.12 2309.79 1473.81 Q2309.79 1470.75 2307.64 1469.04 Q2305.51 1467.3 2301.69 1467.3 L2297.66 1467.3 L2297.66 1463.46 L2301.88 1463.46 Q2305.33 1463.46 2307.15 1462.09 Q2308.98 1460.7 2308.98 1458.11 Q2308.98 1455.45 2307.09 1454.04 Q2305.21 1452.6 2301.69 1452.6 Q2299.77 1452.6 2297.57 1453.02 Q2295.37 1453.44 2292.73 1454.31 L2292.73 1450.15 Q2295.4 1449.41 2297.71 1449.04 Q2300.05 1448.67 2302.11 1448.67 Q2307.43 1448.67 2310.53 1451.1 Q2313.64 1453.5 2313.64 1457.63 Q2313.64 1460.5 2311.99 1462.49 Q2310.35 1464.45 2307.32 1465.22 Z\" fill=\"#000000\" fill-rule=\"evenodd\" fill-opacity=\"1\" /><path clip-path=\"url(#clip700)\" d=\"M 0 0 M1158.84 1514.86 L1150.12 1538.51 L1167.59 1538.51 L1158.84 1514.86 M1155.21 1508.52 L1162.5 1508.52 L1180.61 1556.04 L1173.93 1556.04 L1169.6 1543.85 L1148.18 1543.85 L1143.85 1556.04 L1137.07 1556.04 L1155.21 1508.52 Z\" fill=\"#000000\" fill-rule=\"evenodd\" fill-opacity=\"1\" /><path clip-path=\"url(#clip700)\" d=\"M 0 0 M1210.21 1537.81 Q1210.21 1531.44 1207.57 1527.94 Q1204.96 1524.44 1200.22 1524.44 Q1195.51 1524.44 1192.87 1527.94 Q1190.26 1531.44 1190.26 1537.81 Q1190.26 1544.14 1192.87 1547.64 Q1195.51 1551.14 1200.22 1551.14 Q1204.96 1551.14 1207.57 1547.64 Q1210.21 1544.14 1210.21 1537.81 M1216.07 1551.62 Q1216.07 1560.72 1212.03 1565.15 Q1207.99 1569.6 1199.65 1569.6 Q1196.56 1569.6 1193.82 1569.13 Q1191.08 1568.68 1188.51 1567.72 L1188.51 1562.03 Q1191.08 1563.43 1193.6 1564.1 Q1196.11 1564.76 1198.72 1564.76 Q1204.48 1564.76 1207.35 1561.74 Q1210.21 1558.75 1210.21 1552.67 L1210.21 1549.77 Q1208.4 1552.92 1205.57 1554.48 Q1202.73 1556.04 1198.79 1556.04 Q1192.23 1556.04 1188.22 1551.05 Q1184.21 1546.05 1184.21 1537.81 Q1184.21 1529.53 1188.22 1524.53 Q1192.23 1519.54 1198.79 1519.54 Q1202.73 1519.54 1205.57 1521.1 Q1208.4 1522.66 1210.21 1525.81 L1210.21 1520.4 L1216.07 1520.4 L1216.07 1551.62 Z\" fill=\"#000000\" fill-rule=\"evenodd\" fill-opacity=\"1\" /><path clip-path=\"url(#clip700)\" d=\"M 0 0 M1252.7 1536.76 L1252.7 1539.62 L1225.78 1539.62 Q1226.16 1545.67 1229.41 1548.85 Q1232.68 1552 1238.51 1552 Q1241.88 1552 1245.03 1551.17 Q1248.22 1550.35 1251.34 1548.69 L1251.34 1554.23 Q1248.18 1555.57 1244.87 1556.27 Q1241.56 1556.97 1238.16 1556.97 Q1229.63 1556.97 1224.63 1552 Q1219.67 1547.04 1219.67 1538.57 Q1219.67 1529.82 1224.38 1524.69 Q1229.12 1519.54 1237.14 1519.54 Q1244.33 1519.54 1248.5 1524.18 Q1252.7 1528.8 1252.7 1536.76 M1246.85 1535.04 Q1246.78 1530.23 1244.14 1527.37 Q1241.53 1524.5 1237.2 1524.5 Q1232.3 1524.5 1229.34 1527.27 Q1226.41 1530.04 1225.97 1535.07 L1246.85 1535.04 Z\" fill=\"#000000\" fill-rule=\"evenodd\" fill-opacity=\"1\" /><path clip-path=\"url(#clip700)\" d=\"M 0 0 M1293.64 1506.58 Q1289.37 1513.9 1287.3 1521.06 Q1285.23 1528.23 1285.23 1535.58 Q1285.23 1542.93 1287.3 1550.16 Q1289.4 1557.35 1293.64 1564.64 L1288.54 1564.64 Q1283.77 1557.16 1281.38 1549.93 Q1279.03 1542.71 1279.03 1535.58 Q1279.03 1528.48 1281.38 1521.29 Q1283.74 1514.09 1288.54 1506.58 L1293.64 1506.58 Z\" fill=\"#000000\" fill-rule=\"evenodd\" fill-opacity=\"1\" /><path clip-path=\"url(#clip700)\" d=\"M 0 0 M1300.03 1508.52 L1309.61 1508.52 L1321.74 1540.86 L1333.93 1508.52 L1343.51 1508.52 L1343.51 1556.04 L1337.24 1556.04 L1337.24 1514.32 L1324.99 1546.91 L1318.53 1546.91 L1306.27 1514.32 L1306.27 1556.04 L1300.03 1556.04 L1300.03 1508.52 Z\" fill=\"#000000\" fill-rule=\"evenodd\" fill-opacity=\"1\" /><path clip-path=\"url(#clip700)\" d=\"M 0 0 M1364.49 1559.35 Q1362 1565.72 1359.65 1567.66 Q1357.29 1569.6 1353.35 1569.6 L1348.67 1569.6 L1348.67 1564.7 L1352.11 1564.7 Q1354.52 1564.7 1355.86 1563.56 Q1357.2 1562.41 1358.82 1558.14 L1359.87 1555.47 L1345.45 1520.4 L1351.66 1520.4 L1362.8 1548.28 L1373.94 1520.4 L1380.15 1520.4 L1364.49 1559.35 Z\" fill=\"#000000\" fill-rule=\"evenodd\" fill-opacity=\"1\" /><path clip-path=\"url(#clip700)\" d=\"M 0 0 M1402.49 1538.12 Q1395.39 1538.12 1392.65 1539.75 Q1389.92 1541.37 1389.92 1545.29 Q1389.92 1548.4 1391.95 1550.25 Q1394.02 1552.07 1397.56 1552.07 Q1402.43 1552.07 1405.35 1548.63 Q1408.31 1545.16 1408.31 1539.43 L1408.31 1538.12 L1402.49 1538.12 M1414.17 1535.71 L1414.17 1556.04 L1408.31 1556.04 L1408.31 1550.63 Q1406.31 1553.88 1403.32 1555.44 Q1400.33 1556.97 1396 1556.97 Q1390.52 1556.97 1387.28 1553.91 Q1384.06 1550.82 1384.06 1545.67 Q1384.06 1539.65 1388.07 1536.6 Q1392.11 1533.54 1400.1 1533.54 L1408.31 1533.54 L1408.31 1532.97 Q1408.31 1528.93 1405.64 1526.73 Q1403 1524.5 1398.19 1524.5 Q1395.14 1524.5 1392.24 1525.23 Q1389.34 1525.97 1386.67 1527.43 L1386.67 1522.02 Q1389.89 1520.78 1392.91 1520.17 Q1395.93 1519.54 1398.8 1519.54 Q1406.53 1519.54 1410.35 1523.55 Q1414.17 1527.56 1414.17 1535.71 Z\" fill=\"#000000\" fill-rule=\"evenodd\" fill-opacity=\"1\" /><path clip-path=\"url(#clip700)\" d=\"M 0 0 M1419.39 1506.58 L1424.48 1506.58 Q1429.26 1514.09 1431.61 1521.29 Q1434 1528.48 1434 1535.58 Q1434 1542.71 1431.61 1549.93 Q1429.26 1557.16 1424.48 1564.64 L1419.39 1564.64 Q1423.62 1557.35 1425.69 1550.16 Q1427.79 1542.93 1427.79 1535.58 Q1427.79 1528.23 1425.69 1521.06 Q1423.62 1513.9 1419.39 1506.58 Z\" fill=\"#000000\" fill-rule=\"evenodd\" fill-opacity=\"1\" /><polyline clip-path=\"url(#clip702)\" style=\"stroke:#000000; stroke-width:2; stroke-opacity:0.1; fill:none\" points=\"\n",
       "  218.315,1365.39 2352.76,1365.39 \n",
       "  \"/>\n",
       "<polyline clip-path=\"url(#clip702)\" style=\"stroke:#000000; stroke-width:2; stroke-opacity:0.1; fill:none\" points=\"\n",
       "  218.315,1023.13 2352.76,1023.13 \n",
       "  \"/>\n",
       "<polyline clip-path=\"url(#clip702)\" style=\"stroke:#000000; stroke-width:2; stroke-opacity:0.1; fill:none\" points=\"\n",
       "  218.315,680.863 2352.76,680.863 \n",
       "  \"/>\n",
       "<polyline clip-path=\"url(#clip702)\" style=\"stroke:#000000; stroke-width:2; stroke-opacity:0.1; fill:none\" points=\"\n",
       "  218.315,338.597 2352.76,338.597 \n",
       "  \"/>\n",
       "<polyline clip-path=\"url(#clip700)\" style=\"stroke:#000000; stroke-width:4; stroke-opacity:1; fill:none\" points=\"\n",
       "  218.315,1423.18 218.315,47.2441 \n",
       "  \"/>\n",
       "<polyline clip-path=\"url(#clip700)\" style=\"stroke:#000000; stroke-width:4; stroke-opacity:1; fill:none\" points=\"\n",
       "  218.315,1365.39 243.929,1365.39 \n",
       "  \"/>\n",
       "<polyline clip-path=\"url(#clip700)\" style=\"stroke:#000000; stroke-width:4; stroke-opacity:1; fill:none\" points=\"\n",
       "  218.315,1023.13 243.929,1023.13 \n",
       "  \"/>\n",
       "<polyline clip-path=\"url(#clip700)\" style=\"stroke:#000000; stroke-width:4; stroke-opacity:1; fill:none\" points=\"\n",
       "  218.315,680.863 243.929,680.863 \n",
       "  \"/>\n",
       "<polyline clip-path=\"url(#clip700)\" style=\"stroke:#000000; stroke-width:4; stroke-opacity:1; fill:none\" points=\"\n",
       "  218.315,338.597 243.929,338.597 \n",
       "  \"/>\n",
       "<path clip-path=\"url(#clip700)\" d=\"M 0 0 M117.565 1385.19 L125.203 1385.19 L125.203 1358.82 L116.893 1360.49 L116.893 1356.23 L125.157 1354.56 L129.833 1354.56 L129.833 1385.19 L137.472 1385.19 L137.472 1389.12 L117.565 1389.12 L117.565 1385.19 Z\" fill=\"#000000\" fill-rule=\"evenodd\" fill-opacity=\"1\" /><path clip-path=\"url(#clip700)\" d=\"M 0 0 M152.541 1357.64 Q148.93 1357.64 147.101 1361.21 Q145.296 1364.75 145.296 1371.88 Q145.296 1378.98 147.101 1382.55 Q148.93 1386.09 152.541 1386.09 Q156.175 1386.09 157.981 1382.55 Q159.81 1378.98 159.81 1371.88 Q159.81 1364.75 157.981 1361.21 Q156.175 1357.64 152.541 1357.64 M152.541 1353.94 Q158.351 1353.94 161.407 1358.54 Q164.486 1363.13 164.486 1371.88 Q164.486 1380.6 161.407 1385.21 Q158.351 1389.79 152.541 1389.79 Q146.731 1389.79 143.652 1385.21 Q140.597 1380.6 140.597 1371.88 Q140.597 1363.13 143.652 1358.54 Q146.731 1353.94 152.541 1353.94 Z\" fill=\"#000000\" fill-rule=\"evenodd\" fill-opacity=\"1\" /><path clip-path=\"url(#clip700)\" d=\"M 0 0 M169.056 1358.51 L182.315 1358.51 L182.315 1361.71 L164.486 1361.71 L164.486 1358.51 Q166.648 1356.28 170.372 1352.51 Q174.115 1348.73 175.074 1347.64 Q176.899 1345.59 177.613 1344.18 Q178.347 1342.75 178.347 1341.38 Q178.347 1339.14 176.767 1337.73 Q175.206 1336.32 172.686 1336.32 Q170.899 1336.32 168.905 1336.94 Q166.931 1337.56 164.674 1338.82 L164.674 1334.99 Q166.968 1334.06 168.962 1333.59 Q170.955 1333.12 172.611 1333.12 Q176.974 1333.12 179.569 1335.31 Q182.165 1337.49 182.165 1341.14 Q182.165 1342.87 181.507 1344.43 Q180.867 1345.97 179.156 1348.08 Q178.685 1348.62 176.165 1351.24 Q173.645 1353.83 169.056 1358.51 Z\" fill=\"#000000\" fill-rule=\"evenodd\" fill-opacity=\"1\" /><path clip-path=\"url(#clip700)\" d=\"M 0 0 M116.906 1042.92 L124.545 1042.92 L124.545 1016.56 L116.235 1018.22 L116.235 1013.96 L124.499 1012.3 L129.175 1012.3 L129.175 1042.92 L136.814 1042.92 L136.814 1046.86 L116.906 1046.86 L116.906 1042.92 Z\" fill=\"#000000\" fill-rule=\"evenodd\" fill-opacity=\"1\" /><path clip-path=\"url(#clip700)\" d=\"M 0 0 M151.883 1015.38 Q148.272 1015.38 146.443 1018.94 Q144.638 1022.48 144.638 1029.61 Q144.638 1036.72 146.443 1040.28 Q148.272 1043.82 151.883 1043.82 Q155.517 1043.82 157.323 1040.28 Q159.151 1036.72 159.151 1029.61 Q159.151 1022.48 157.323 1018.94 Q155.517 1015.38 151.883 1015.38 M151.883 1011.67 Q157.693 1011.67 160.749 1016.28 Q163.827 1020.86 163.827 1029.61 Q163.827 1038.34 160.749 1042.94 Q157.693 1047.53 151.883 1047.53 Q146.073 1047.53 142.994 1042.94 Q139.939 1038.34 139.939 1029.61 Q139.939 1020.86 142.994 1016.28 Q146.073 1011.67 151.883 1011.67 Z\" fill=\"#000000\" fill-rule=\"evenodd\" fill-opacity=\"1\" /><path clip-path=\"url(#clip700)\" d=\"M 0 0 M176.523 1004.31 Q179.25 1004.89 180.773 1006.73 Q182.315 1008.58 182.315 1011.28 Q182.315 1015.44 179.457 1017.72 Q176.598 1019.99 171.332 1019.99 Q169.564 1019.99 167.683 1019.63 Q165.821 1019.3 163.827 1018.6 L163.827 1014.93 Q165.407 1015.85 167.288 1016.32 Q169.169 1016.79 171.219 1016.79 Q174.792 1016.79 176.654 1015.38 Q178.535 1013.97 178.535 1011.28 Q178.535 1008.8 176.786 1007.41 Q175.056 1006 171.952 1006 L168.68 1006 L168.68 1002.88 L172.103 1002.88 Q174.905 1002.88 176.391 1001.77 Q177.877 1000.64 177.877 998.532 Q177.877 996.369 176.334 995.222 Q174.811 994.055 171.952 994.055 Q170.391 994.055 168.604 994.394 Q166.818 994.733 164.674 995.447 L164.674 992.062 Q166.837 991.46 168.717 991.159 Q170.617 990.858 172.291 990.858 Q176.617 990.858 179.137 992.833 Q181.657 994.789 181.657 998.137 Q181.657 1000.47 180.322 1002.09 Q178.986 1003.69 176.523 1004.31 Z\" fill=\"#000000\" fill-rule=\"evenodd\" fill-opacity=\"1\" /><path clip-path=\"url(#clip700)\" d=\"M 0 0 M114.931 700.655 L122.57 700.655 L122.57 674.29 L114.26 675.957 L114.26 671.697 L122.524 670.031 L127.2 670.031 L127.2 700.655 L134.839 700.655 L134.839 704.591 L114.931 704.591 L114.931 700.655 Z\" fill=\"#000000\" fill-rule=\"evenodd\" fill-opacity=\"1\" /><path clip-path=\"url(#clip700)\" d=\"M 0 0 M149.908 673.109 Q146.297 673.109 144.468 676.674 Q142.663 680.216 142.663 687.345 Q142.663 694.452 144.468 698.017 Q146.297 701.558 149.908 701.558 Q153.542 701.558 155.348 698.017 Q157.177 694.452 157.177 687.345 Q157.177 680.216 155.348 676.674 Q153.542 673.109 149.908 673.109 M149.908 669.406 Q155.718 669.406 158.774 674.012 Q161.852 678.595 161.852 687.345 Q161.852 696.072 158.774 700.679 Q155.718 705.262 149.908 705.262 Q144.098 705.262 141.019 700.679 Q137.964 696.072 137.964 687.345 Q137.964 678.595 141.019 674.012 Q144.098 669.406 149.908 669.406 Z\" fill=\"#000000\" fill-rule=\"evenodd\" fill-opacity=\"1\" /><path clip-path=\"url(#clip700)\" d=\"M 0 0 M174.529 652.41 L164.937 667.4 L174.529 667.4 L174.529 652.41 M173.532 649.1 L178.309 649.1 L178.309 667.4 L182.315 667.4 L182.315 670.56 L178.309 670.56 L178.309 677.18 L174.529 677.18 L174.529 670.56 L161.852 670.56 L161.852 666.892 L173.532 649.1 Z\" fill=\"#000000\" fill-rule=\"evenodd\" fill-opacity=\"1\" /><path clip-path=\"url(#clip700)\" d=\"M 0 0 M117.226 358.39 L124.865 358.39 L124.865 332.024 L116.555 333.691 L116.555 329.432 L124.819 327.765 L129.494 327.765 L129.494 358.39 L137.133 358.39 L137.133 362.325 L117.226 362.325 L117.226 358.39 Z\" fill=\"#000000\" fill-rule=\"evenodd\" fill-opacity=\"1\" /><path clip-path=\"url(#clip700)\" d=\"M 0 0 M152.203 330.844 Q148.592 330.844 146.763 334.408 Q144.957 337.95 144.957 345.08 Q144.957 352.186 146.763 355.751 Q148.592 359.293 152.203 359.293 Q155.837 359.293 157.642 355.751 Q159.471 352.186 159.471 345.08 Q159.471 337.95 157.642 334.408 Q155.837 330.844 152.203 330.844 M152.203 327.14 Q158.013 327.14 161.068 331.746 Q164.147 336.33 164.147 345.08 Q164.147 353.806 161.068 358.413 Q158.013 362.996 152.203 362.996 Q146.393 362.996 143.314 358.413 Q140.258 353.806 140.258 345.08 Q140.258 336.33 143.314 331.746 Q146.393 327.14 152.203 327.14 Z\" fill=\"#000000\" fill-rule=\"evenodd\" fill-opacity=\"1\" /><path clip-path=\"url(#clip700)\" d=\"M 0 0 M165.332 306.835 L180.246 306.835 L180.246 310.032 L168.811 310.032 L168.811 316.916 Q169.639 316.633 170.466 316.502 Q171.294 316.351 172.122 316.351 Q176.823 316.351 179.569 318.928 Q182.315 321.505 182.315 325.906 Q182.315 330.438 179.494 332.959 Q176.673 335.46 171.538 335.46 Q169.771 335.46 167.927 335.159 Q166.103 334.858 164.147 334.256 L164.147 330.438 Q165.84 331.36 167.645 331.811 Q169.451 332.263 171.463 332.263 Q174.717 332.263 176.617 330.551 Q178.516 328.84 178.516 325.906 Q178.516 322.972 176.617 321.26 Q174.717 319.549 171.463 319.549 Q169.94 319.549 168.416 319.887 Q166.912 320.226 165.332 320.94 L165.332 306.835 Z\" fill=\"#000000\" fill-rule=\"evenodd\" fill-opacity=\"1\" /><path clip-path=\"url(#clip700)\" d=\"M 0 0 M46.818 985.114 L70.4666 993.835 L70.4666 976.361 L46.818 985.114 M40.4842 988.742 L40.4842 981.453 L88.0042 963.343 L88.0042 970.027 L75.8138 974.356 L75.8138 995.776 L88.0042 1000.1 L88.0042 1006.88 L40.4842 988.742 Z\" fill=\"#000000\" fill-rule=\"evenodd\" fill-opacity=\"1\" /><path clip-path=\"url(#clip700)\" d=\"M 0 0 M70.212 931.61 Q63.7508 931.61 60.0905 934.284 Q56.3984 936.925 56.3984 941.572 Q56.3984 946.219 60.0905 948.893 Q63.7508 951.535 70.212 951.535 Q76.6732 951.535 80.3653 948.893 Q84.0256 946.219 84.0256 941.572 Q84.0256 936.925 80.3653 934.284 Q76.6732 931.61 70.212 931.61 M57.7671 951.535 Q54.5842 949.689 53.0564 946.888 Q51.4968 944.055 51.4968 940.14 Q51.4968 933.647 56.6531 929.605 Q61.8093 925.531 70.212 925.531 Q78.6147 925.531 83.771 929.605 Q88.9272 933.647 88.9272 940.14 Q88.9272 944.055 87.3994 946.888 Q85.8398 949.689 82.657 951.535 L88.0042 951.535 L88.0042 957.423 L38.479 957.423 L38.479 951.535 L57.7671 951.535 Z\" fill=\"#000000\" fill-rule=\"evenodd\" fill-opacity=\"1\" /><path clip-path=\"url(#clip700)\" d=\"M 0 0 M73.9359 919.993 L52.3562 919.993 L52.3562 914.136 L73.7131 914.136 Q78.7739 914.136 81.3202 912.163 Q83.8346 910.189 83.8346 906.243 Q83.8346 901.5 80.8109 898.763 Q77.7872 895.994 72.5673 895.994 L52.3562 895.994 L52.3562 890.137 L88.0042 890.137 L88.0042 895.994 L82.5296 895.994 Q85.7762 898.126 87.3676 900.959 Q88.9272 903.76 88.9272 907.484 Q88.9272 913.627 85.1078 916.81 Q81.2883 919.993 73.9359 919.993 M51.4968 905.256 L51.4968 905.256 Z\" fill=\"#000000\" fill-rule=\"evenodd\" fill-opacity=\"1\" /><path clip-path=\"url(#clip700)\" d=\"M 0 0 M66.4881 854.362 L88.0042 854.362 L88.0042 860.219 L66.679 860.219 Q61.6183 860.219 59.1038 862.192 Q56.5894 864.165 56.5894 868.112 Q56.5894 872.854 59.6131 875.592 Q62.6368 878.329 67.8567 878.329 L88.0042 878.329 L88.0042 884.217 L52.3562 884.217 L52.3562 878.329 L57.8944 878.329 Q54.6797 876.228 53.0883 873.396 Q51.4968 870.531 51.4968 866.807 Q51.4968 860.664 55.3163 857.513 Q59.1038 854.362 66.4881 854.362 Z\" fill=\"#000000\" fill-rule=\"evenodd\" fill-opacity=\"1\" /><path clip-path=\"url(#clip700)\" d=\"M 0 0 M57.7671 824.762 L38.479 824.762 L38.479 818.905 L88.0042 818.905 L88.0042 824.762 L82.657 824.762 Q85.8398 826.608 87.3994 829.44 Q88.9272 832.241 88.9272 836.188 Q88.9272 842.649 83.771 846.723 Q78.6147 850.765 70.212 850.765 Q61.8093 850.765 56.6531 846.723 Q51.4968 842.649 51.4968 836.188 Q51.4968 832.241 53.0564 829.44 Q54.5842 826.608 57.7671 824.762 M70.212 844.718 Q76.6732 844.718 80.3653 842.076 Q84.0256 839.403 84.0256 834.756 Q84.0256 830.109 80.3653 827.435 Q76.6732 824.762 70.212 824.762 Q63.7508 824.762 60.0905 827.435 Q56.3984 830.109 56.3984 834.756 Q56.3984 839.403 60.0905 842.076 Q63.7508 844.718 70.212 844.718 Z\" fill=\"#000000\" fill-rule=\"evenodd\" fill-opacity=\"1\" /><path clip-path=\"url(#clip700)\" d=\"M 0 0 M70.0847 796.561 Q70.0847 803.659 71.7079 806.396 Q73.3312 809.134 77.2461 809.134 Q80.3653 809.134 82.2114 807.097 Q84.0256 805.028 84.0256 801.495 Q84.0256 796.625 80.5881 793.697 Q77.1188 790.737 71.3897 790.737 L70.0847 790.737 L70.0847 796.561 M67.6657 784.88 L88.0042 784.88 L88.0042 790.737 L82.5933 790.737 Q85.8398 792.742 87.3994 795.734 Q88.9272 798.726 88.9272 803.054 Q88.9272 808.529 85.8716 811.776 Q82.7843 814.99 77.6281 814.99 Q71.6125 814.99 68.5569 810.98 Q65.5014 806.938 65.5014 798.949 L65.5014 790.737 L64.9285 790.737 Q60.8862 790.737 58.6901 793.41 Q56.4621 796.052 56.4621 800.858 Q56.4621 803.914 57.1941 806.81 Q57.9262 809.707 59.3903 812.38 L53.9795 812.38 Q52.7381 809.166 52.1334 806.142 Q51.4968 803.118 51.4968 800.254 Q51.4968 792.519 55.5072 788.7 Q59.5176 784.88 67.6657 784.88 Z\" fill=\"#000000\" fill-rule=\"evenodd\" fill-opacity=\"1\" /><path clip-path=\"url(#clip700)\" d=\"M 0 0 M66.4881 749.105 L88.0042 749.105 L88.0042 754.962 L66.679 754.962 Q61.6183 754.962 59.1038 756.935 Q56.5894 758.908 56.5894 762.855 Q56.5894 767.598 59.6131 770.335 Q62.6368 773.072 67.8567 773.072 L88.0042 773.072 L88.0042 778.96 L52.3562 778.96 L52.3562 773.072 L57.8944 773.072 Q54.6797 770.971 53.0883 768.139 Q51.4968 765.274 51.4968 761.55 Q51.4968 755.407 55.3163 752.256 Q59.1038 749.105 66.4881 749.105 Z\" fill=\"#000000\" fill-rule=\"evenodd\" fill-opacity=\"1\" /><path clip-path=\"url(#clip700)\" d=\"M 0 0 M53.7248 717.308 L59.1993 717.308 Q57.8307 719.791 57.1623 722.305 Q56.4621 724.788 56.4621 727.334 Q56.4621 733.032 60.0905 736.183 Q63.6872 739.334 70.212 739.334 Q76.7369 739.334 80.3653 736.183 Q83.9619 733.032 83.9619 727.334 Q83.9619 724.788 83.2935 722.305 Q82.5933 719.791 81.2247 717.308 L86.6355 717.308 Q87.7814 719.759 88.3543 722.401 Q88.9272 725.011 88.9272 727.971 Q88.9272 736.024 83.8664 740.766 Q78.8057 745.508 70.212 745.508 Q61.491 745.508 56.4939 740.734 Q51.4968 735.928 51.4968 727.589 Q51.4968 724.884 52.0697 722.305 Q52.6108 719.727 53.7248 717.308 Z\" fill=\"#000000\" fill-rule=\"evenodd\" fill-opacity=\"1\" /><path clip-path=\"url(#clip700)\" d=\"M 0 0 M68.7161 680.674 L71.5806 680.674 L71.5806 707.601 Q77.6281 707.219 80.8109 703.972 Q83.9619 700.694 83.9619 694.869 Q83.9619 691.495 83.1344 688.344 Q82.3069 685.162 80.6518 682.042 L86.1899 682.042 Q87.5267 685.193 88.227 688.504 Q88.9272 691.814 88.9272 695.219 Q88.9272 703.749 83.9619 708.747 Q78.9967 713.712 70.5303 713.712 Q61.7774 713.712 56.6531 709.001 Q51.4968 704.259 51.4968 696.238 Q51.4968 689.045 56.1438 684.875 Q60.7589 680.674 68.7161 680.674 M66.9973 686.53 Q62.1912 686.594 59.3266 689.236 Q56.4621 691.846 56.4621 696.174 Q56.4621 701.076 59.2312 704.036 Q62.0002 706.964 67.0292 707.41 L66.9973 686.53 Z\" fill=\"#000000\" fill-rule=\"evenodd\" fill-opacity=\"1\" /><path clip-path=\"url(#clip700)\" d=\"M 0 0 M38.5426 639.742 Q45.8632 644.007 53.0246 646.076 Q60.186 648.145 67.5384 648.145 Q74.8908 648.145 82.1159 646.076 Q89.3091 643.975 96.5979 639.742 L96.5979 644.835 Q89.1182 649.609 81.8931 651.996 Q74.668 654.352 67.5384 654.352 Q60.4406 654.352 53.2474 651.996 Q46.0542 649.641 38.5426 644.835 L38.5426 639.742 Z\" fill=\"#000000\" fill-rule=\"evenodd\" fill-opacity=\"1\" /><path clip-path=\"url(#clip700)\" d=\"M 0 0 M38.479 633.599 L38.479 627.743 L88.0042 627.743 L88.0042 633.599 L38.479 633.599 Z\" fill=\"#000000\" fill-rule=\"evenodd\" fill-opacity=\"1\" /><path clip-path=\"url(#clip700)\" d=\"M 0 0 M56.4621 607.786 Q56.4621 612.497 60.1542 615.234 Q63.8145 617.972 70.212 617.972 Q76.6095 617.972 80.3017 615.266 Q83.9619 612.529 83.9619 607.786 Q83.9619 603.108 80.2698 600.37 Q76.5777 597.633 70.212 597.633 Q63.8781 597.633 60.186 600.37 Q56.4621 603.108 56.4621 607.786 M51.4968 607.786 Q51.4968 600.148 56.4621 595.787 Q61.4273 591.427 70.212 591.427 Q78.9649 591.427 83.9619 595.787 Q88.9272 600.148 88.9272 607.786 Q88.9272 615.457 83.9619 619.818 Q78.9649 624.146 70.212 624.146 Q61.4273 624.146 56.4621 619.818 Q51.4968 615.457 51.4968 607.786 Z\" fill=\"#000000\" fill-rule=\"evenodd\" fill-opacity=\"1\" /><path clip-path=\"url(#clip700)\" d=\"M 0 0 M69.7664 561.826 Q63.4007 561.826 59.8996 564.468 Q56.3984 567.078 56.3984 571.82 Q56.3984 576.531 59.8996 579.173 Q63.4007 581.783 69.7664 581.783 Q76.1003 581.783 79.6014 579.173 Q83.1026 576.531 83.1026 571.82 Q83.1026 567.078 79.6014 564.468 Q76.1003 561.826 69.7664 561.826 M83.58 555.97 Q92.683 555.97 97.1071 560.012 Q101.563 564.054 101.563 572.393 Q101.563 575.48 101.086 578.218 Q100.64 580.955 99.6852 583.533 L93.9879 583.533 Q95.3884 580.955 96.0568 578.441 Q96.7252 575.926 96.7252 573.316 Q96.7252 567.555 93.7015 564.691 Q90.7096 561.826 84.6303 561.826 L81.7339 561.826 Q84.885 563.64 86.4446 566.473 Q88.0042 569.306 88.0042 573.252 Q88.0042 579.809 83.0071 583.82 Q78.01 587.83 69.7664 587.83 Q61.491 587.83 56.4939 583.82 Q51.4968 579.809 51.4968 573.252 Q51.4968 569.306 53.0564 566.473 Q54.616 563.64 57.7671 561.826 L52.3562 561.826 L52.3562 555.97 L83.58 555.97 Z\" fill=\"#000000\" fill-rule=\"evenodd\" fill-opacity=\"1\" /><path clip-path=\"url(#clip700)\" d=\"M 0 0 M82.5933 547.885 L82.5933 537.382 L46.3406 537.382 L48.6323 548.808 L42.7758 548.808 L40.4842 537.445 L40.4842 531.016 L82.5933 531.016 L82.5933 520.513 L88.0042 520.513 L88.0042 547.885 L82.5933 547.885 Z\" fill=\"#000000\" fill-rule=\"evenodd\" fill-opacity=\"1\" /><path clip-path=\"url(#clip700)\" d=\"M 0 0 M44.7174 499.792 Q44.7174 504.757 49.6189 507.272 Q54.4887 509.755 64.2919 509.755 Q74.0633 509.755 78.9649 507.272 Q83.8346 504.757 83.8346 499.792 Q83.8346 494.795 78.9649 492.313 Q74.0633 489.798 64.2919 489.798 Q54.4887 489.798 49.6189 492.313 Q44.7174 494.795 44.7174 499.792 M39.6248 499.792 Q39.6248 491.803 45.9587 487.602 Q52.2607 483.369 64.2919 483.369 Q76.2913 483.369 82.6251 487.602 Q88.9272 491.803 88.9272 499.792 Q88.9272 507.781 82.6251 512.014 Q76.2913 516.216 64.2919 516.216 Q52.2607 516.216 45.9587 512.014 Q39.6248 507.781 39.6248 499.792 Z\" fill=\"#000000\" fill-rule=\"evenodd\" fill-opacity=\"1\" /><path clip-path=\"url(#clip700)\" d=\"M 0 0 M38.5426 478.149 L38.5426 473.056 Q46.0542 468.282 53.2474 465.927 Q60.4406 463.54 67.5384 463.54 Q74.668 463.54 81.8931 465.927 Q89.1182 468.282 96.5979 473.056 L96.5979 478.149 Q89.3091 473.916 82.1159 471.847 Q74.8908 469.746 67.5384 469.746 Q60.186 469.746 53.0246 471.847 Q45.8632 473.916 38.5426 478.149 Z\" fill=\"#000000\" fill-rule=\"evenodd\" fill-opacity=\"1\" /><circle clip-path=\"url(#clip702)\" cx=\"807.345\" cy=\"1383.84\" r=\"14\" fill=\"#009af9\" fill-rule=\"evenodd\" fill-opacity=\"0.5\" stroke=\"#000000\" stroke-opacity=\"0.5\" stroke-width=\"3.2\"/>\n",
       "<circle clip-path=\"url(#clip702)\" cx=\"989.239\" cy=\"1383.45\" r=\"14\" fill=\"#009af9\" fill-rule=\"evenodd\" fill-opacity=\"0.5\" stroke=\"#000000\" stroke-opacity=\"0.5\" stroke-width=\"3.2\"/>\n",
       "<circle clip-path=\"url(#clip702)\" cx=\"1083.52\" cy=\"1382.97\" r=\"14\" fill=\"#009af9\" fill-rule=\"evenodd\" fill-opacity=\"0.5\" stroke=\"#000000\" stroke-opacity=\"0.5\" stroke-width=\"3.2\"/>\n",
       "<circle clip-path=\"url(#clip702)\" cx=\"981.249\" cy=\"1384.14\" r=\"14\" fill=\"#009af9\" fill-rule=\"evenodd\" fill-opacity=\"0.5\" stroke=\"#000000\" stroke-opacity=\"0.5\" stroke-width=\"3.2\"/>\n",
       "<circle clip-path=\"url(#clip702)\" cx=\"1009.66\" cy=\"1384.15\" r=\"14\" fill=\"#009af9\" fill-rule=\"evenodd\" fill-opacity=\"0.5\" stroke=\"#000000\" stroke-opacity=\"0.5\" stroke-width=\"3.2\"/>\n",
       "<circle clip-path=\"url(#clip702)\" cx=\"812.821\" cy=\"1383.21\" r=\"14\" fill=\"#009af9\" fill-rule=\"evenodd\" fill-opacity=\"0.5\" stroke=\"#000000\" stroke-opacity=\"0.5\" stroke-width=\"3.2\"/>\n",
       "<circle clip-path=\"url(#clip702)\" cx=\"720.141\" cy=\"1384.24\" r=\"14\" fill=\"#009af9\" fill-rule=\"evenodd\" fill-opacity=\"0.5\" stroke=\"#000000\" stroke-opacity=\"0.5\" stroke-width=\"3.2\"/>\n",
       "<circle clip-path=\"url(#clip702)\" cx=\"677.997\" cy=\"1382.8\" r=\"14\" fill=\"#009af9\" fill-rule=\"evenodd\" fill-opacity=\"0.5\" stroke=\"#000000\" stroke-opacity=\"0.5\" stroke-width=\"3.2\"/>\n",
       "<circle clip-path=\"url(#clip702)\" cx=\"766.017\" cy=\"1384\" r=\"14\" fill=\"#009af9\" fill-rule=\"evenodd\" fill-opacity=\"0.5\" stroke=\"#000000\" stroke-opacity=\"0.5\" stroke-width=\"3.2\"/>\n",
       "<circle clip-path=\"url(#clip702)\" cx=\"958.438\" cy=\"1384\" r=\"14\" fill=\"#009af9\" fill-rule=\"evenodd\" fill-opacity=\"0.5\" stroke=\"#000000\" stroke-opacity=\"0.5\" stroke-width=\"3.2\"/>\n",
       "<circle clip-path=\"url(#clip702)\" cx=\"493.965\" cy=\"483.033\" r=\"14\" fill=\"#e26f46\" fill-rule=\"evenodd\" fill-opacity=\"0.5\" stroke=\"#000000\" stroke-opacity=\"0.5\" stroke-width=\"3.2\"/>\n",
       "<circle clip-path=\"url(#clip702)\" cx=\"1253.84\" cy=\"529.179\" r=\"14\" fill=\"#e26f46\" fill-rule=\"evenodd\" fill-opacity=\"0.5\" stroke=\"#000000\" stroke-opacity=\"0.5\" stroke-width=\"3.2\"/>\n",
       "<circle clip-path=\"url(#clip702)\" cx=\"612.149\" cy=\"469.138\" r=\"14\" fill=\"#e26f46\" fill-rule=\"evenodd\" fill-opacity=\"0.5\" stroke=\"#000000\" stroke-opacity=\"0.5\" stroke-width=\"3.2\"/>\n",
       "<circle clip-path=\"url(#clip702)\" cx=\"850.192\" cy=\"455.48\" r=\"14\" fill=\"#e26f46\" fill-rule=\"evenodd\" fill-opacity=\"0.5\" stroke=\"#000000\" stroke-opacity=\"0.5\" stroke-width=\"3.2\"/>\n",
       "<circle clip-path=\"url(#clip702)\" cx=\"535.628\" cy=\"465.214\" r=\"14\" fill=\"#e26f46\" fill-rule=\"evenodd\" fill-opacity=\"0.5\" stroke=\"#000000\" stroke-opacity=\"0.5\" stroke-width=\"3.2\"/>\n",
       "<circle clip-path=\"url(#clip702)\" cx=\"631.311\" cy=\"532.009\" r=\"14\" fill=\"#e26f46\" fill-rule=\"evenodd\" fill-opacity=\"0.5\" stroke=\"#000000\" stroke-opacity=\"0.5\" stroke-width=\"3.2\"/>\n",
       "<circle clip-path=\"url(#clip702)\" cx=\"962.818\" cy=\"556.134\" r=\"14\" fill=\"#e26f46\" fill-rule=\"evenodd\" fill-opacity=\"0.5\" stroke=\"#000000\" stroke-opacity=\"0.5\" stroke-width=\"3.2\"/>\n",
       "<circle clip-path=\"url(#clip702)\" cx=\"902.951\" cy=\"515.999\" r=\"14\" fill=\"#e26f46\" fill-rule=\"evenodd\" fill-opacity=\"0.5\" stroke=\"#000000\" stroke-opacity=\"0.5\" stroke-width=\"3.2\"/>\n",
       "<circle clip-path=\"url(#clip702)\" cx=\"658.825\" cy=\"465.741\" r=\"14\" fill=\"#e26f46\" fill-rule=\"evenodd\" fill-opacity=\"0.5\" stroke=\"#000000\" stroke-opacity=\"0.5\" stroke-width=\"3.2\"/>\n",
       "<circle clip-path=\"url(#clip702)\" cx=\"964.789\" cy=\"527.967\" r=\"14\" fill=\"#e26f46\" fill-rule=\"evenodd\" fill-opacity=\"0.5\" stroke=\"#000000\" stroke-opacity=\"0.5\" stroke-width=\"3.2\"/>\n",
       "<circle clip-path=\"url(#clip702)\" cx=\"569.05\" cy=\"251.226\" r=\"14\" fill=\"#3da44d\" fill-rule=\"evenodd\" fill-opacity=\"0.5\" stroke=\"#000000\" stroke-opacity=\"0.5\" stroke-width=\"3.2\"/>\n",
       "<circle clip-path=\"url(#clip702)\" cx=\"953.782\" cy=\"251.226\" r=\"14\" fill=\"#3da44d\" fill-rule=\"evenodd\" fill-opacity=\"0.5\" stroke=\"#000000\" stroke-opacity=\"0.5\" stroke-width=\"3.2\"/>\n",
       "<circle clip-path=\"url(#clip702)\" cx=\"932.699\" cy=\"251.226\" r=\"14\" fill=\"#3da44d\" fill-rule=\"evenodd\" fill-opacity=\"0.5\" stroke=\"#000000\" stroke-opacity=\"0.5\" stroke-width=\"3.2\"/>\n",
       "<circle clip-path=\"url(#clip702)\" cx=\"697.508\" cy=\"251.226\" r=\"14\" fill=\"#3da44d\" fill-rule=\"evenodd\" fill-opacity=\"0.5\" stroke=\"#000000\" stroke-opacity=\"0.5\" stroke-width=\"3.2\"/>\n",
       "<circle clip-path=\"url(#clip702)\" cx=\"481.942\" cy=\"251.226\" r=\"14\" fill=\"#3da44d\" fill-rule=\"evenodd\" fill-opacity=\"0.5\" stroke=\"#000000\" stroke-opacity=\"0.5\" stroke-width=\"3.2\"/>\n",
       "<circle clip-path=\"url(#clip702)\" cx=\"1408.04\" cy=\"251.226\" r=\"14\" fill=\"#3da44d\" fill-rule=\"evenodd\" fill-opacity=\"0.5\" stroke=\"#000000\" stroke-opacity=\"0.5\" stroke-width=\"3.2\"/>\n",
       "<circle clip-path=\"url(#clip702)\" cx=\"1288.63\" cy=\"251.226\" r=\"14\" fill=\"#3da44d\" fill-rule=\"evenodd\" fill-opacity=\"0.5\" stroke=\"#000000\" stroke-opacity=\"0.5\" stroke-width=\"3.2\"/>\n",
       "<circle clip-path=\"url(#clip702)\" cx=\"1392.54\" cy=\"251.226\" r=\"14\" fill=\"#3da44d\" fill-rule=\"evenodd\" fill-opacity=\"0.5\" stroke=\"#000000\" stroke-opacity=\"0.5\" stroke-width=\"3.2\"/>\n",
       "<circle clip-path=\"url(#clip702)\" cx=\"559.504\" cy=\"251.226\" r=\"14\" fill=\"#3da44d\" fill-rule=\"evenodd\" fill-opacity=\"0.5\" stroke=\"#000000\" stroke-opacity=\"0.5\" stroke-width=\"3.2\"/>\n",
       "<circle clip-path=\"url(#clip702)\" cx=\"1054.33\" cy=\"251.226\" r=\"14\" fill=\"#3da44d\" fill-rule=\"evenodd\" fill-opacity=\"0.5\" stroke=\"#000000\" stroke-opacity=\"0.5\" stroke-width=\"3.2\"/>\n",
       "<circle clip-path=\"url(#clip702)\" cx=\"334.835\" cy=\"443.121\" r=\"14\" fill=\"#c271d2\" fill-rule=\"evenodd\" fill-opacity=\"0.5\" stroke=\"#000000\" stroke-opacity=\"0.5\" stroke-width=\"3.2\"/>\n",
       "<circle clip-path=\"url(#clip702)\" cx=\"382.63\" cy=\"443.121\" r=\"14\" fill=\"#c271d2\" fill-rule=\"evenodd\" fill-opacity=\"0.5\" stroke=\"#000000\" stroke-opacity=\"0.5\" stroke-width=\"3.2\"/>\n",
       "<circle clip-path=\"url(#clip702)\" cx=\"300.217\" cy=\"443.123\" r=\"14\" fill=\"#c271d2\" fill-rule=\"evenodd\" fill-opacity=\"0.5\" stroke=\"#000000\" stroke-opacity=\"0.5\" stroke-width=\"3.2\"/>\n",
       "<circle clip-path=\"url(#clip702)\" cx=\"451.806\" cy=\"443.122\" r=\"14\" fill=\"#c271d2\" fill-rule=\"evenodd\" fill-opacity=\"0.5\" stroke=\"#000000\" stroke-opacity=\"0.5\" stroke-width=\"3.2\"/>\n",
       "<circle clip-path=\"url(#clip702)\" cx=\"391.827\" cy=\"443.121\" r=\"14\" fill=\"#c271d2\" fill-rule=\"evenodd\" fill-opacity=\"0.5\" stroke=\"#000000\" stroke-opacity=\"0.5\" stroke-width=\"3.2\"/>\n",
       "<circle clip-path=\"url(#clip702)\" cx=\"327.421\" cy=\"443.123\" r=\"14\" fill=\"#c271d2\" fill-rule=\"evenodd\" fill-opacity=\"0.5\" stroke=\"#000000\" stroke-opacity=\"0.5\" stroke-width=\"3.2\"/>\n",
       "<circle clip-path=\"url(#clip702)\" cx=\"380.254\" cy=\"443.123\" r=\"14\" fill=\"#c271d2\" fill-rule=\"evenodd\" fill-opacity=\"0.5\" stroke=\"#000000\" stroke-opacity=\"0.5\" stroke-width=\"3.2\"/>\n",
       "<circle clip-path=\"url(#clip702)\" cx=\"281.739\" cy=\"443.123\" r=\"14\" fill=\"#c271d2\" fill-rule=\"evenodd\" fill-opacity=\"0.5\" stroke=\"#000000\" stroke-opacity=\"0.5\" stroke-width=\"3.2\"/>\n",
       "<circle clip-path=\"url(#clip702)\" cx=\"318.563\" cy=\"443.122\" r=\"14\" fill=\"#c271d2\" fill-rule=\"evenodd\" fill-opacity=\"0.5\" stroke=\"#000000\" stroke-opacity=\"0.5\" stroke-width=\"3.2\"/>\n",
       "<circle clip-path=\"url(#clip702)\" cx=\"381.184\" cy=\"443.121\" r=\"14\" fill=\"#c271d2\" fill-rule=\"evenodd\" fill-opacity=\"0.5\" stroke=\"#000000\" stroke-opacity=\"0.5\" stroke-width=\"3.2\"/>\n",
       "<circle clip-path=\"url(#clip702)\" cx=\"832.642\" cy=\"96.0995\" r=\"14\" fill=\"#ac8d18\" fill-rule=\"evenodd\" fill-opacity=\"0.5\" stroke=\"#000000\" stroke-opacity=\"0.5\" stroke-width=\"3.2\"/>\n",
       "<circle clip-path=\"url(#clip702)\" cx=\"742.266\" cy=\"87.8717\" r=\"14\" fill=\"#ac8d18\" fill-rule=\"evenodd\" fill-opacity=\"0.5\" stroke=\"#000000\" stroke-opacity=\"0.5\" stroke-width=\"3.2\"/>\n",
       "<circle clip-path=\"url(#clip702)\" cx=\"881.247\" cy=\"92.3922\" r=\"14\" fill=\"#ac8d18\" fill-rule=\"evenodd\" fill-opacity=\"0.5\" stroke=\"#000000\" stroke-opacity=\"0.5\" stroke-width=\"3.2\"/>\n",
       "<circle clip-path=\"url(#clip702)\" cx=\"530.252\" cy=\"104.2\" r=\"14\" fill=\"#ac8d18\" fill-rule=\"evenodd\" fill-opacity=\"0.5\" stroke=\"#000000\" stroke-opacity=\"0.5\" stroke-width=\"3.2\"/>\n",
       "<circle clip-path=\"url(#clip702)\" cx=\"642.44\" cy=\"93.9474\" r=\"14\" fill=\"#ac8d18\" fill-rule=\"evenodd\" fill-opacity=\"0.5\" stroke=\"#000000\" stroke-opacity=\"0.5\" stroke-width=\"3.2\"/>\n",
       "<circle clip-path=\"url(#clip702)\" cx=\"625.421\" cy=\"109.456\" r=\"14\" fill=\"#ac8d18\" fill-rule=\"evenodd\" fill-opacity=\"0.5\" stroke=\"#000000\" stroke-opacity=\"0.5\" stroke-width=\"3.2\"/>\n",
       "<circle clip-path=\"url(#clip702)\" cx=\"293.598\" cy=\"88.6753\" r=\"14\" fill=\"#ac8d18\" fill-rule=\"evenodd\" fill-opacity=\"0.5\" stroke=\"#000000\" stroke-opacity=\"0.5\" stroke-width=\"3.2\"/>\n",
       "<circle clip-path=\"url(#clip702)\" cx=\"643.816\" cy=\"89.8617\" r=\"14\" fill=\"#ac8d18\" fill-rule=\"evenodd\" fill-opacity=\"0.5\" stroke=\"#000000\" stroke-opacity=\"0.5\" stroke-width=\"3.2\"/>\n",
       "<circle clip-path=\"url(#clip702)\" cx=\"389.327\" cy=\"86.1857\" r=\"14\" fill=\"#ac8d18\" fill-rule=\"evenodd\" fill-opacity=\"0.5\" stroke=\"#000000\" stroke-opacity=\"0.5\" stroke-width=\"3.2\"/>\n",
       "<circle clip-path=\"url(#clip702)\" cx=\"707.176\" cy=\"97.6018\" r=\"14\" fill=\"#ac8d18\" fill-rule=\"evenodd\" fill-opacity=\"0.5\" stroke=\"#000000\" stroke-opacity=\"0.5\" stroke-width=\"3.2\"/>\n",
       "<circle clip-path=\"url(#clip702)\" cx=\"369\" cy=\"278.327\" r=\"14\" fill=\"#00a9ad\" fill-rule=\"evenodd\" fill-opacity=\"0.5\" stroke=\"#000000\" stroke-opacity=\"0.5\" stroke-width=\"3.2\"/>\n",
       "<circle clip-path=\"url(#clip702)\" cx=\"322.447\" cy=\"278.327\" r=\"14\" fill=\"#00a9ad\" fill-rule=\"evenodd\" fill-opacity=\"0.5\" stroke=\"#000000\" stroke-opacity=\"0.5\" stroke-width=\"3.2\"/>\n",
       "<circle clip-path=\"url(#clip702)\" cx=\"303.811\" cy=\"278.327\" r=\"14\" fill=\"#00a9ad\" fill-rule=\"evenodd\" fill-opacity=\"0.5\" stroke=\"#000000\" stroke-opacity=\"0.5\" stroke-width=\"3.2\"/>\n",
       "<circle clip-path=\"url(#clip702)\" cx=\"339.568\" cy=\"278.327\" r=\"14\" fill=\"#00a9ad\" fill-rule=\"evenodd\" fill-opacity=\"0.5\" stroke=\"#000000\" stroke-opacity=\"0.5\" stroke-width=\"3.2\"/>\n",
       "<circle clip-path=\"url(#clip702)\" cx=\"410.26\" cy=\"278.327\" r=\"14\" fill=\"#00a9ad\" fill-rule=\"evenodd\" fill-opacity=\"0.5\" stroke=\"#000000\" stroke-opacity=\"0.5\" stroke-width=\"3.2\"/>\n",
       "<circle clip-path=\"url(#clip702)\" cx=\"390.128\" cy=\"278.327\" r=\"14\" fill=\"#00a9ad\" fill-rule=\"evenodd\" fill-opacity=\"0.5\" stroke=\"#000000\" stroke-opacity=\"0.5\" stroke-width=\"3.2\"/>\n",
       "<circle clip-path=\"url(#clip702)\" cx=\"278.724\" cy=\"278.327\" r=\"14\" fill=\"#00a9ad\" fill-rule=\"evenodd\" fill-opacity=\"0.5\" stroke=\"#000000\" stroke-opacity=\"0.5\" stroke-width=\"3.2\"/>\n",
       "<circle clip-path=\"url(#clip702)\" cx=\"370.836\" cy=\"278.327\" r=\"14\" fill=\"#00a9ad\" fill-rule=\"evenodd\" fill-opacity=\"0.5\" stroke=\"#000000\" stroke-opacity=\"0.5\" stroke-width=\"3.2\"/>\n",
       "<circle clip-path=\"url(#clip702)\" cx=\"707.731\" cy=\"278.327\" r=\"14\" fill=\"#00a9ad\" fill-rule=\"evenodd\" fill-opacity=\"0.5\" stroke=\"#000000\" stroke-opacity=\"0.5\" stroke-width=\"3.2\"/>\n",
       "<circle clip-path=\"url(#clip702)\" cx=\"616.323\" cy=\"278.327\" r=\"14\" fill=\"#00a9ad\" fill-rule=\"evenodd\" fill-opacity=\"0.5\" stroke=\"#000000\" stroke-opacity=\"0.5\" stroke-width=\"3.2\"/>\n",
       "<circle clip-path=\"url(#clip702)\" cx=\"370.194\" cy=\"1157.61\" r=\"14\" fill=\"#ed5d92\" fill-rule=\"evenodd\" fill-opacity=\"0.5\" stroke=\"#000000\" stroke-opacity=\"0.5\" stroke-width=\"3.2\"/>\n",
       "<circle clip-path=\"url(#clip702)\" cx=\"319.619\" cy=\"1147.88\" r=\"14\" fill=\"#ed5d92\" fill-rule=\"evenodd\" fill-opacity=\"0.5\" stroke=\"#000000\" stroke-opacity=\"0.5\" stroke-width=\"3.2\"/>\n",
       "<circle clip-path=\"url(#clip702)\" cx=\"342.155\" cy=\"1159.14\" r=\"14\" fill=\"#ed5d92\" fill-rule=\"evenodd\" fill-opacity=\"0.5\" stroke=\"#000000\" stroke-opacity=\"0.5\" stroke-width=\"3.2\"/>\n",
       "<circle clip-path=\"url(#clip702)\" cx=\"396.086\" cy=\"1117.07\" r=\"14\" fill=\"#ed5d92\" fill-rule=\"evenodd\" fill-opacity=\"0.5\" stroke=\"#000000\" stroke-opacity=\"0.5\" stroke-width=\"3.2\"/>\n",
       "<circle clip-path=\"url(#clip702)\" cx=\"382.426\" cy=\"1235.73\" r=\"14\" fill=\"#ed5d92\" fill-rule=\"evenodd\" fill-opacity=\"0.5\" stroke=\"#000000\" stroke-opacity=\"0.5\" stroke-width=\"3.2\"/>\n",
       "<circle clip-path=\"url(#clip702)\" cx=\"402.744\" cy=\"1248.4\" r=\"14\" fill=\"#ed5d92\" fill-rule=\"evenodd\" fill-opacity=\"0.5\" stroke=\"#000000\" stroke-opacity=\"0.5\" stroke-width=\"3.2\"/>\n",
       "<circle clip-path=\"url(#clip702)\" cx=\"370.879\" cy=\"1158.58\" r=\"14\" fill=\"#ed5d92\" fill-rule=\"evenodd\" fill-opacity=\"0.5\" stroke=\"#000000\" stroke-opacity=\"0.5\" stroke-width=\"3.2\"/>\n",
       "<circle clip-path=\"url(#clip702)\" cx=\"345.992\" cy=\"1110.33\" r=\"14\" fill=\"#ed5d92\" fill-rule=\"evenodd\" fill-opacity=\"0.5\" stroke=\"#000000\" stroke-opacity=\"0.5\" stroke-width=\"3.2\"/>\n",
       "<circle clip-path=\"url(#clip702)\" cx=\"285.638\" cy=\"1121.06\" r=\"14\" fill=\"#ed5d92\" fill-rule=\"evenodd\" fill-opacity=\"0.5\" stroke=\"#000000\" stroke-opacity=\"0.5\" stroke-width=\"3.2\"/>\n",
       "<circle clip-path=\"url(#clip702)\" cx=\"410.896\" cy=\"1150.77\" r=\"14\" fill=\"#ed5d92\" fill-rule=\"evenodd\" fill-opacity=\"0.5\" stroke=\"#000000\" stroke-opacity=\"0.5\" stroke-width=\"3.2\"/>\n",
       "<circle clip-path=\"url(#clip702)\" cx=\"453.356\" cy=\"237.058\" r=\"14\" fill=\"#c68125\" fill-rule=\"evenodd\" fill-opacity=\"0.5\" stroke=\"#000000\" stroke-opacity=\"0.5\" stroke-width=\"3.2\"/>\n",
       "<circle clip-path=\"url(#clip702)\" cx=\"435.919\" cy=\"237.059\" r=\"14\" fill=\"#c68125\" fill-rule=\"evenodd\" fill-opacity=\"0.5\" stroke=\"#000000\" stroke-opacity=\"0.5\" stroke-width=\"3.2\"/>\n",
       "<circle clip-path=\"url(#clip702)\" cx=\"492.169\" cy=\"237.058\" r=\"14\" fill=\"#c68125\" fill-rule=\"evenodd\" fill-opacity=\"0.5\" stroke=\"#000000\" stroke-opacity=\"0.5\" stroke-width=\"3.2\"/>\n",
       "<circle clip-path=\"url(#clip702)\" cx=\"386.933\" cy=\"237.059\" r=\"14\" fill=\"#c68125\" fill-rule=\"evenodd\" fill-opacity=\"0.5\" stroke=\"#000000\" stroke-opacity=\"0.5\" stroke-width=\"3.2\"/>\n",
       "<circle clip-path=\"url(#clip702)\" cx=\"316.712\" cy=\"237.059\" r=\"14\" fill=\"#c68125\" fill-rule=\"evenodd\" fill-opacity=\"0.5\" stroke=\"#000000\" stroke-opacity=\"0.5\" stroke-width=\"3.2\"/>\n",
       "<circle clip-path=\"url(#clip702)\" cx=\"484.249\" cy=\"237.059\" r=\"14\" fill=\"#c68125\" fill-rule=\"evenodd\" fill-opacity=\"0.5\" stroke=\"#000000\" stroke-opacity=\"0.5\" stroke-width=\"3.2\"/>\n",
       "<circle clip-path=\"url(#clip702)\" cx=\"313.9\" cy=\"237.059\" r=\"14\" fill=\"#c68125\" fill-rule=\"evenodd\" fill-opacity=\"0.5\" stroke=\"#000000\" stroke-opacity=\"0.5\" stroke-width=\"3.2\"/>\n",
       "<circle clip-path=\"url(#clip702)\" cx=\"432.72\" cy=\"237.059\" r=\"14\" fill=\"#c68125\" fill-rule=\"evenodd\" fill-opacity=\"0.5\" stroke=\"#000000\" stroke-opacity=\"0.5\" stroke-width=\"3.2\"/>\n",
       "<circle clip-path=\"url(#clip702)\" cx=\"373.823\" cy=\"237.058\" r=\"14\" fill=\"#c68125\" fill-rule=\"evenodd\" fill-opacity=\"0.5\" stroke=\"#000000\" stroke-opacity=\"0.5\" stroke-width=\"3.2\"/>\n",
       "<circle clip-path=\"url(#clip702)\" cx=\"474.112\" cy=\"237.058\" r=\"14\" fill=\"#c68125\" fill-rule=\"evenodd\" fill-opacity=\"0.5\" stroke=\"#000000\" stroke-opacity=\"0.5\" stroke-width=\"3.2\"/>\n",
       "<circle clip-path=\"url(#clip702)\" cx=\"860.833\" cy=\"536.817\" r=\"14\" fill=\"#00a98d\" fill-rule=\"evenodd\" fill-opacity=\"0.5\" stroke=\"#000000\" stroke-opacity=\"0.5\" stroke-width=\"3.2\"/>\n",
       "<circle clip-path=\"url(#clip702)\" cx=\"606.265\" cy=\"536.82\" r=\"14\" fill=\"#00a98d\" fill-rule=\"evenodd\" fill-opacity=\"0.5\" stroke=\"#000000\" stroke-opacity=\"0.5\" stroke-width=\"3.2\"/>\n",
       "<circle clip-path=\"url(#clip702)\" cx=\"347.469\" cy=\"536.816\" r=\"14\" fill=\"#00a98d\" fill-rule=\"evenodd\" fill-opacity=\"0.5\" stroke=\"#000000\" stroke-opacity=\"0.5\" stroke-width=\"3.2\"/>\n",
       "<circle clip-path=\"url(#clip702)\" cx=\"309.577\" cy=\"536.819\" r=\"14\" fill=\"#00a98d\" fill-rule=\"evenodd\" fill-opacity=\"0.5\" stroke=\"#000000\" stroke-opacity=\"0.5\" stroke-width=\"3.2\"/>\n",
       "<circle clip-path=\"url(#clip702)\" cx=\"634.041\" cy=\"536.821\" r=\"14\" fill=\"#00a98d\" fill-rule=\"evenodd\" fill-opacity=\"0.5\" stroke=\"#000000\" stroke-opacity=\"0.5\" stroke-width=\"3.2\"/>\n",
       "<circle clip-path=\"url(#clip702)\" cx=\"435.638\" cy=\"536.818\" r=\"14\" fill=\"#00a98d\" fill-rule=\"evenodd\" fill-opacity=\"0.5\" stroke=\"#000000\" stroke-opacity=\"0.5\" stroke-width=\"3.2\"/>\n",
       "<circle clip-path=\"url(#clip702)\" cx=\"703.969\" cy=\"536.821\" r=\"14\" fill=\"#00a98d\" fill-rule=\"evenodd\" fill-opacity=\"0.5\" stroke=\"#000000\" stroke-opacity=\"0.5\" stroke-width=\"3.2\"/>\n",
       "<circle clip-path=\"url(#clip702)\" cx=\"853.556\" cy=\"536.817\" r=\"14\" fill=\"#00a98d\" fill-rule=\"evenodd\" fill-opacity=\"0.5\" stroke=\"#000000\" stroke-opacity=\"0.5\" stroke-width=\"3.2\"/>\n",
       "<circle clip-path=\"url(#clip702)\" cx=\"603.082\" cy=\"536.817\" r=\"14\" fill=\"#00a98d\" fill-rule=\"evenodd\" fill-opacity=\"0.5\" stroke=\"#000000\" stroke-opacity=\"0.5\" stroke-width=\"3.2\"/>\n",
       "<circle clip-path=\"url(#clip702)\" cx=\"705.68\" cy=\"536.82\" r=\"14\" fill=\"#00a98d\" fill-rule=\"evenodd\" fill-opacity=\"0.5\" stroke=\"#000000\" stroke-opacity=\"0.5\" stroke-width=\"3.2\"/>\n",
       "<circle clip-path=\"url(#clip702)\" cx=\"1720.5\" cy=\"1159.15\" r=\"14\" fill=\"#8e971d\" fill-rule=\"evenodd\" fill-opacity=\"0.5\" stroke=\"#000000\" stroke-opacity=\"0.5\" stroke-width=\"3.2\"/>\n",
       "<circle clip-path=\"url(#clip702)\" cx=\"650.816\" cy=\"1159.16\" r=\"14\" fill=\"#8e971d\" fill-rule=\"evenodd\" fill-opacity=\"0.5\" stroke=\"#000000\" stroke-opacity=\"0.5\" stroke-width=\"3.2\"/>\n",
       "<circle clip-path=\"url(#clip702)\" cx=\"1803.21\" cy=\"1158.98\" r=\"14\" fill=\"#8e971d\" fill-rule=\"evenodd\" fill-opacity=\"0.5\" stroke=\"#000000\" stroke-opacity=\"0.5\" stroke-width=\"3.2\"/>\n",
       "<circle clip-path=\"url(#clip702)\" cx=\"2193.12\" cy=\"1159.17\" r=\"14\" fill=\"#8e971d\" fill-rule=\"evenodd\" fill-opacity=\"0.5\" stroke=\"#000000\" stroke-opacity=\"0.5\" stroke-width=\"3.2\"/>\n",
       "<circle clip-path=\"url(#clip702)\" cx=\"2292.35\" cy=\"1159.28\" r=\"14\" fill=\"#8e971d\" fill-rule=\"evenodd\" fill-opacity=\"0.5\" stroke=\"#000000\" stroke-opacity=\"0.5\" stroke-width=\"3.2\"/>\n",
       "<circle clip-path=\"url(#clip702)\" cx=\"1343.61\" cy=\"1159.01\" r=\"14\" fill=\"#8e971d\" fill-rule=\"evenodd\" fill-opacity=\"0.5\" stroke=\"#000000\" stroke-opacity=\"0.5\" stroke-width=\"3.2\"/>\n",
       "<circle clip-path=\"url(#clip702)\" cx=\"549.898\" cy=\"1159.11\" r=\"14\" fill=\"#8e971d\" fill-rule=\"evenodd\" fill-opacity=\"0.5\" stroke=\"#000000\" stroke-opacity=\"0.5\" stroke-width=\"3.2\"/>\n",
       "<circle clip-path=\"url(#clip702)\" cx=\"356.248\" cy=\"1159.31\" r=\"14\" fill=\"#8e971d\" fill-rule=\"evenodd\" fill-opacity=\"0.5\" stroke=\"#000000\" stroke-opacity=\"0.5\" stroke-width=\"3.2\"/>\n",
       "<circle clip-path=\"url(#clip702)\" cx=\"2263.42\" cy=\"1159.05\" r=\"14\" fill=\"#8e971d\" fill-rule=\"evenodd\" fill-opacity=\"0.5\" stroke=\"#000000\" stroke-opacity=\"0.5\" stroke-width=\"3.2\"/>\n",
       "<circle clip-path=\"url(#clip702)\" cx=\"1276.63\" cy=\"1159.12\" r=\"14\" fill=\"#8e971d\" fill-rule=\"evenodd\" fill-opacity=\"0.5\" stroke=\"#000000\" stroke-opacity=\"0.5\" stroke-width=\"3.2\"/>\n",
       "<path clip-path=\"url(#clip700)\" d=\"\n",
       "M1781.81 758.389 L2281.61 758.389 L2281.61 93.1086 L1781.81 93.1086  Z\n",
       "  \" fill=\"#ffffff\" fill-rule=\"evenodd\" fill-opacity=\"1\"/>\n",
       "<polyline clip-path=\"url(#clip700)\" style=\"stroke:#000000; stroke-width:4; stroke-opacity:1; fill:none\" points=\"\n",
       "  1781.81,758.389 2281.61,758.389 2281.61,93.1086 1781.81,93.1086 1781.81,758.389 \n",
       "  \"/>\n",
       "<circle clip-path=\"url(#clip700)\" cx=\"1876.67\" cy=\"153.589\" r=\"23\" fill=\"#009af9\" fill-rule=\"evenodd\" fill-opacity=\"0.5\" stroke=\"#000000\" stroke-opacity=\"0.5\" stroke-width=\"5.12\"/>\n",
       "<path clip-path=\"url(#clip700)\" d=\"M 0 0 M1999.41 138.971 L1999.41 143.901 Q1997.05 141.702 1994.36 140.614 Q1991.7 139.526 1988.69 139.526 Q1982.77 139.526 1979.62 143.16 Q1976.47 146.772 1976.47 153.623 Q1976.47 160.452 1979.62 164.086 Q1982.77 167.697 1988.69 167.697 Q1991.7 167.697 1994.36 166.609 Q1997.05 165.521 1999.41 163.322 L1999.41 168.207 Q1996.95 169.873 1994.2 170.707 Q1991.47 171.54 1988.41 171.54 Q1980.57 171.54 1976.05 166.748 Q1971.54 161.933 1971.54 153.623 Q1971.54 145.29 1976.05 140.498 Q1980.57 135.684 1988.41 135.684 Q1991.52 135.684 1994.25 136.517 Q1997 137.327 1999.41 138.971 Z\" fill=\"#000000\" fill-rule=\"evenodd\" fill-opacity=\"1\" /><path clip-path=\"url(#clip700)\" d=\"M 0 0 M2013.92 147.929 Q2010.5 147.929 2008.51 150.614 Q2006.52 153.276 2006.52 157.929 Q2006.52 162.582 2008.48 165.267 Q2010.47 167.929 2013.92 167.929 Q2017.33 167.929 2019.32 165.244 Q2021.31 162.558 2021.31 157.929 Q2021.31 153.322 2019.32 150.637 Q2017.33 147.929 2013.92 147.929 M2013.92 144.318 Q2019.48 144.318 2022.65 147.929 Q2025.82 151.54 2025.82 157.929 Q2025.82 164.295 2022.65 167.929 Q2019.48 171.54 2013.92 171.54 Q2008.34 171.54 2005.17 167.929 Q2002.02 164.295 2002.02 157.929 Q2002.02 151.54 2005.17 147.929 Q2008.34 144.318 2013.92 144.318 Z\" fill=\"#000000\" fill-rule=\"evenodd\" fill-opacity=\"1\" /><path clip-path=\"url(#clip700)\" d=\"M 0 0 M2045.31 148.924 Q2044.59 148.508 2043.74 148.322 Q2042.9 148.114 2041.89 148.114 Q2038.27 148.114 2036.33 150.475 Q2034.41 152.813 2034.41 157.211 L2034.41 170.869 L2030.13 170.869 L2030.13 144.943 L2034.41 144.943 L2034.41 148.971 Q2035.75 146.609 2037.9 145.475 Q2040.06 144.318 2043.14 144.318 Q2043.58 144.318 2044.11 144.387 Q2044.64 144.434 2045.29 144.549 L2045.31 148.924 Z\" fill=\"#000000\" fill-rule=\"evenodd\" fill-opacity=\"1\" /><path clip-path=\"url(#clip700)\" d=\"M 0 0 M2061.56 157.836 Q2056.4 157.836 2054.41 159.017 Q2052.42 160.197 2052.42 163.045 Q2052.42 165.313 2053.9 166.656 Q2055.4 167.975 2057.97 167.975 Q2061.51 167.975 2063.64 165.475 Q2065.8 162.952 2065.8 158.785 L2065.8 157.836 L2061.56 157.836 M2070.06 156.077 L2070.06 170.869 L2065.8 170.869 L2065.8 166.933 Q2064.34 169.295 2062.16 170.429 Q2059.99 171.54 2056.84 171.54 Q2052.86 171.54 2050.5 169.318 Q2048.16 167.072 2048.16 163.322 Q2048.16 158.947 2051.08 156.725 Q2054.01 154.503 2059.82 154.503 L2065.8 154.503 L2065.8 154.086 Q2065.8 151.147 2063.85 149.549 Q2061.93 147.929 2058.44 147.929 Q2056.21 147.929 2054.11 148.461 Q2052 148.994 2050.06 150.059 L2050.06 146.123 Q2052.39 145.221 2054.59 144.781 Q2056.79 144.318 2058.88 144.318 Q2064.5 144.318 2067.28 147.234 Q2070.06 150.151 2070.06 156.077 Z\" fill=\"#000000\" fill-rule=\"evenodd\" fill-opacity=\"1\" /><path clip-path=\"url(#clip700)\" d=\"M 0 0 M2093.18 145.938 L2093.18 149.92 Q2091.38 148.924 2089.55 148.438 Q2087.74 147.929 2085.89 147.929 Q2081.75 147.929 2079.45 150.568 Q2077.16 153.184 2077.16 157.929 Q2077.16 162.674 2079.45 165.313 Q2081.75 167.929 2085.89 167.929 Q2087.74 167.929 2089.55 167.443 Q2091.38 166.933 2093.18 165.938 L2093.18 169.873 Q2091.4 170.707 2089.48 171.123 Q2087.58 171.54 2085.43 171.54 Q2079.57 171.54 2076.12 167.859 Q2072.67 164.179 2072.67 157.929 Q2072.67 151.586 2076.14 147.952 Q2079.64 144.318 2085.7 144.318 Q2087.67 144.318 2089.55 144.735 Q2091.42 145.128 2093.18 145.938 Z\" fill=\"#000000\" fill-rule=\"evenodd\" fill-opacity=\"1\" /><path clip-path=\"url(#clip700)\" d=\"M 0 0 M2097.65 144.943 L2101.91 144.943 L2101.91 170.869 L2097.65 170.869 L2097.65 144.943 M2097.65 134.85 L2101.91 134.85 L2101.91 140.244 L2097.65 140.244 L2097.65 134.85 Z\" fill=\"#000000\" fill-rule=\"evenodd\" fill-opacity=\"1\" /><path clip-path=\"url(#clip700)\" d=\"M 0 0 M2127.93 155.221 L2127.93 170.869 L2123.67 170.869 L2123.67 155.359 Q2123.67 151.679 2122.23 149.85 Q2120.8 148.022 2117.93 148.022 Q2114.48 148.022 2112.49 150.221 Q2110.5 152.42 2110.5 156.216 L2110.5 170.869 L2106.21 170.869 L2106.21 144.943 L2110.5 144.943 L2110.5 148.971 Q2112.02 146.633 2114.08 145.475 Q2116.17 144.318 2118.88 144.318 Q2123.34 144.318 2125.63 147.096 Q2127.93 149.85 2127.93 155.221 Z\" fill=\"#000000\" fill-rule=\"evenodd\" fill-opacity=\"1\" /><path clip-path=\"url(#clip700)\" d=\"M 0 0 M2144.18 157.836 Q2139.01 157.836 2137.02 159.017 Q2135.03 160.197 2135.03 163.045 Q2135.03 165.313 2136.51 166.656 Q2138.02 167.975 2140.59 167.975 Q2144.13 167.975 2146.26 165.475 Q2148.41 162.952 2148.41 158.785 L2148.41 157.836 L2144.18 157.836 M2152.67 156.077 L2152.67 170.869 L2148.41 170.869 L2148.41 166.933 Q2146.95 169.295 2144.78 170.429 Q2142.6 171.54 2139.45 171.54 Q2135.47 171.54 2133.11 169.318 Q2130.77 167.072 2130.77 163.322 Q2130.77 158.947 2133.69 156.725 Q2136.63 154.503 2142.44 154.503 L2148.41 154.503 L2148.41 154.086 Q2148.41 151.147 2146.47 149.549 Q2144.55 147.929 2141.05 147.929 Q2138.83 147.929 2136.72 148.461 Q2134.62 148.994 2132.67 150.059 L2132.67 146.123 Q2135.01 145.221 2137.21 144.781 Q2139.41 144.318 2141.49 144.318 Q2147.12 144.318 2149.89 147.234 Q2152.67 150.151 2152.67 156.077 Z\" fill=\"#000000\" fill-rule=\"evenodd\" fill-opacity=\"1\" /><circle clip-path=\"url(#clip700)\" cx=\"1876.67\" cy=\"214.069\" r=\"23\" fill=\"#e26f46\" fill-rule=\"evenodd\" fill-opacity=\"0.5\" stroke=\"#000000\" stroke-opacity=\"0.5\" stroke-width=\"5.12\"/>\n",
       "<path clip-path=\"url(#clip700)\" d=\"M 0 0 M1971.54 196.789 L1976.21 196.789 L1976.21 210.955 L1993.2 210.955 L1993.2 196.789 L1997.88 196.789 L1997.88 231.349 L1993.2 231.349 L1993.2 214.89 L1976.21 214.89 L1976.21 231.349 L1971.54 231.349 L1971.54 196.789 Z\" fill=\"#000000\" fill-rule=\"evenodd\" fill-opacity=\"1\" /><path clip-path=\"url(#clip700)\" d=\"M 0 0 M2013.14 233.756 Q2011.33 238.386 2009.62 239.798 Q2007.9 241.21 2005.03 241.21 L2001.63 241.21 L2001.63 237.645 L2004.13 237.645 Q2005.89 237.645 2006.86 236.812 Q2007.83 235.978 2009.02 232.876 L2009.78 230.932 L1999.29 205.423 L2003.81 205.423 L2011.91 225.701 L2020.01 205.423 L2024.52 205.423 L2013.14 233.756 Z\" fill=\"#000000\" fill-rule=\"evenodd\" fill-opacity=\"1\" /><path clip-path=\"url(#clip700)\" d=\"M 0 0 M2033.11 227.46 L2033.11 241.21 L2028.83 241.21 L2028.83 205.423 L2033.11 205.423 L2033.11 209.358 Q2034.45 207.043 2036.49 205.932 Q2038.55 204.798 2041.4 204.798 Q2046.12 204.798 2049.06 208.548 Q2052.02 212.298 2052.02 218.409 Q2052.02 224.52 2049.06 228.27 Q2046.12 232.02 2041.4 232.02 Q2038.55 232.02 2036.49 230.909 Q2034.45 229.775 2033.11 227.46 M2047.6 218.409 Q2047.6 213.71 2045.66 211.048 Q2043.74 208.363 2040.36 208.363 Q2036.98 208.363 2035.03 211.048 Q2033.11 213.71 2033.11 218.409 Q2033.11 223.108 2035.03 225.793 Q2036.98 228.455 2040.36 228.455 Q2043.74 228.455 2045.66 225.793 Q2047.6 223.108 2047.6 218.409 Z\" fill=\"#000000\" fill-rule=\"evenodd\" fill-opacity=\"1\" /><path clip-path=\"url(#clip700)\" d=\"M 0 0 M2073.02 206.187 L2073.02 210.214 Q2071.21 209.289 2069.27 208.826 Q2067.32 208.363 2065.24 208.363 Q2062.07 208.363 2060.47 209.335 Q2058.9 210.307 2058.9 212.251 Q2058.9 213.733 2060.03 214.589 Q2061.17 215.423 2064.59 216.187 L2066.05 216.511 Q2070.59 217.483 2072.49 219.265 Q2074.41 221.025 2074.41 224.196 Q2074.41 227.807 2071.54 229.913 Q2068.69 232.02 2063.69 232.02 Q2061.61 232.02 2059.34 231.603 Q2057.09 231.21 2054.59 230.4 L2054.59 226.001 Q2056.95 227.228 2059.25 227.853 Q2061.54 228.455 2063.78 228.455 Q2066.79 228.455 2068.41 227.437 Q2070.03 226.395 2070.03 224.52 Q2070.03 222.784 2068.85 221.858 Q2067.7 220.932 2063.74 220.076 L2062.26 219.728 Q2058.3 218.895 2056.54 217.182 Q2054.78 215.446 2054.78 212.437 Q2054.78 208.779 2057.37 206.789 Q2059.96 204.798 2064.73 204.798 Q2067.09 204.798 2069.18 205.145 Q2071.26 205.492 2073.02 206.187 Z\" fill=\"#000000\" fill-rule=\"evenodd\" fill-opacity=\"1\" /><path clip-path=\"url(#clip700)\" d=\"M 0 0 M2078.88 205.423 L2083.14 205.423 L2083.14 231.349 L2078.88 231.349 L2078.88 205.423 M2078.88 195.33 L2083.14 195.33 L2083.14 200.724 L2078.88 200.724 L2078.88 195.33 Z\" fill=\"#000000\" fill-rule=\"evenodd\" fill-opacity=\"1\" /><path clip-path=\"url(#clip700)\" d=\"M 0 0 M2091.72 227.46 L2091.72 241.21 L2087.44 241.21 L2087.44 205.423 L2091.72 205.423 L2091.72 209.358 Q2093.07 207.043 2095.1 205.932 Q2097.16 204.798 2100.01 204.798 Q2104.73 204.798 2107.67 208.548 Q2110.63 212.298 2110.63 218.409 Q2110.63 224.52 2107.67 228.27 Q2104.73 232.02 2100.01 232.02 Q2097.16 232.02 2095.1 230.909 Q2093.07 229.775 2091.72 227.46 M2106.21 218.409 Q2106.21 213.71 2104.27 211.048 Q2102.35 208.363 2098.97 208.363 Q2095.59 208.363 2093.64 211.048 Q2091.72 213.71 2091.72 218.409 Q2091.72 223.108 2093.64 225.793 Q2095.59 228.455 2098.97 228.455 Q2102.35 228.455 2104.27 225.793 Q2106.21 223.108 2106.21 218.409 Z\" fill=\"#000000\" fill-rule=\"evenodd\" fill-opacity=\"1\" /><path clip-path=\"url(#clip700)\" d=\"M 0 0 M2137.28 217.321 L2137.28 219.404 L2117.7 219.404 Q2117.97 223.802 2120.33 226.117 Q2122.72 228.409 2126.95 228.409 Q2129.41 228.409 2131.7 227.807 Q2134.01 227.205 2136.28 226.001 L2136.28 230.029 Q2133.99 231.001 2131.58 231.511 Q2129.18 232.02 2126.7 232.02 Q2120.5 232.02 2116.86 228.409 Q2113.25 224.798 2113.25 218.64 Q2113.25 212.275 2116.68 208.548 Q2120.13 204.798 2125.96 204.798 Q2131.19 204.798 2134.22 208.177 Q2137.28 211.534 2137.28 217.321 M2133.02 216.071 Q2132.97 212.576 2131.05 210.492 Q2129.15 208.409 2126.01 208.409 Q2122.44 208.409 2120.29 210.423 Q2118.16 212.437 2117.83 216.094 L2133.02 216.071 Z\" fill=\"#000000\" fill-rule=\"evenodd\" fill-opacity=\"1\" /><path clip-path=\"url(#clip700)\" d=\"M 0 0 M2145.96 198.062 L2145.96 205.423 L2154.73 205.423 L2154.73 208.733 L2145.96 208.733 L2145.96 222.807 Q2145.96 225.978 2146.82 226.881 Q2147.69 227.784 2150.36 227.784 L2154.73 227.784 L2154.73 231.349 L2150.36 231.349 Q2145.43 231.349 2143.55 229.52 Q2141.68 227.668 2141.68 222.807 L2141.68 208.733 L2138.55 208.733 L2138.55 205.423 L2141.68 205.423 L2141.68 198.062 L2145.96 198.062 Z\" fill=\"#000000\" fill-rule=\"evenodd\" fill-opacity=\"1\" /><path clip-path=\"url(#clip700)\" d=\"M 0 0 M2181.38 217.321 L2181.38 219.404 L2161.79 219.404 Q2162.07 223.802 2164.43 226.117 Q2166.82 228.409 2171.05 228.409 Q2173.5 228.409 2175.8 227.807 Q2178.11 227.205 2180.38 226.001 L2180.38 230.029 Q2178.09 231.001 2175.68 231.511 Q2173.27 232.02 2170.8 232.02 Q2164.59 232.02 2160.96 228.409 Q2157.35 224.798 2157.35 218.64 Q2157.35 212.275 2160.77 208.548 Q2164.22 204.798 2170.06 204.798 Q2175.29 204.798 2178.32 208.177 Q2181.38 211.534 2181.38 217.321 M2177.12 216.071 Q2177.07 212.576 2175.15 210.492 Q2173.25 208.409 2170.1 208.409 Q2166.54 208.409 2164.38 210.423 Q2162.25 212.437 2161.93 216.094 L2177.12 216.071 Z\" fill=\"#000000\" fill-rule=\"evenodd\" fill-opacity=\"1\" /><path clip-path=\"url(#clip700)\" d=\"M 0 0 M2202.37 206.187 L2202.37 210.214 Q2200.56 209.289 2198.62 208.826 Q2196.68 208.363 2194.59 208.363 Q2191.42 208.363 2189.82 209.335 Q2188.25 210.307 2188.25 212.251 Q2188.25 213.733 2189.38 214.589 Q2190.52 215.423 2193.94 216.187 L2195.4 216.511 Q2199.94 217.483 2201.84 219.265 Q2203.76 221.025 2203.76 224.196 Q2203.76 227.807 2200.89 229.913 Q2198.04 232.02 2193.04 232.02 Q2190.96 232.02 2188.69 231.603 Q2186.44 231.21 2183.94 230.4 L2183.94 226.001 Q2186.31 227.228 2188.6 227.853 Q2190.89 228.455 2193.13 228.455 Q2196.14 228.455 2197.76 227.437 Q2199.38 226.395 2199.38 224.52 Q2199.38 222.784 2198.2 221.858 Q2197.05 220.932 2193.09 220.076 L2191.61 219.728 Q2187.65 218.895 2185.89 217.182 Q2184.13 215.446 2184.13 212.437 Q2184.13 208.779 2186.72 206.789 Q2189.32 204.798 2194.08 204.798 Q2196.44 204.798 2198.53 205.145 Q2200.61 205.492 2202.37 206.187 Z\" fill=\"#000000\" fill-rule=\"evenodd\" fill-opacity=\"1\" /><circle clip-path=\"url(#clip700)\" cx=\"1876.67\" cy=\"274.549\" r=\"23\" fill=\"#3da44d\" fill-rule=\"evenodd\" fill-opacity=\"0.5\" stroke=\"#000000\" stroke-opacity=\"0.5\" stroke-width=\"5.12\"/>\n",
       "<path clip-path=\"url(#clip700)\" d=\"M 0 0 M1993.78 258.403 L1993.78 262.963 Q1991.12 261.69 1988.76 261.065 Q1986.4 260.44 1984.2 260.44 Q1980.38 260.44 1978.3 261.921 Q1976.24 263.403 1976.24 266.134 Q1976.24 268.426 1977.6 269.607 Q1978.99 270.764 1982.83 271.482 L1985.66 272.06 Q1990.89 273.056 1993.37 275.579 Q1995.87 278.079 1995.87 282.292 Q1995.87 287.315 1992.49 289.907 Q1989.13 292.5 1982.63 292.5 Q1980.17 292.5 1977.39 291.944 Q1974.64 291.389 1971.68 290.301 L1971.68 285.486 Q1974.52 287.083 1977.26 287.893 Q1979.99 288.704 1982.63 288.704 Q1986.63 288.704 1988.81 287.13 Q1990.98 285.556 1990.98 282.639 Q1990.98 280.093 1989.41 278.657 Q1987.86 277.222 1984.29 276.505 L1981.45 275.949 Q1976.21 274.907 1973.88 272.685 Q1971.54 270.463 1971.54 266.505 Q1971.54 261.921 1974.76 259.282 Q1978 256.644 1983.67 256.644 Q1986.1 256.644 1988.62 257.083 Q1991.14 257.523 1993.78 258.403 Z\" fill=\"#000000\" fill-rule=\"evenodd\" fill-opacity=\"1\" /><path clip-path=\"url(#clip700)\" d=\"M 0 0 M2012.12 278.796 Q2006.95 278.796 2004.96 279.977 Q2002.97 281.157 2002.97 284.005 Q2002.97 286.273 2004.45 287.616 Q2005.96 288.935 2008.53 288.935 Q2012.07 288.935 2014.2 286.435 Q2016.35 283.912 2016.35 279.745 L2016.35 278.796 L2012.12 278.796 M2020.61 277.037 L2020.61 291.829 L2016.35 291.829 L2016.35 287.893 Q2014.89 290.255 2012.72 291.389 Q2010.54 292.5 2007.39 292.5 Q2003.41 292.5 2001.05 290.278 Q1998.71 288.032 1998.71 284.282 Q1998.71 279.907 2001.63 277.685 Q2004.57 275.463 2010.38 275.463 L2016.35 275.463 L2016.35 275.046 Q2016.35 272.107 2014.41 270.509 Q2012.49 268.889 2008.99 268.889 Q2006.77 268.889 2004.66 269.421 Q2002.56 269.954 2000.61 271.019 L2000.61 267.083 Q2002.95 266.181 2005.15 265.741 Q2007.35 265.278 2009.43 265.278 Q2015.06 265.278 2017.83 268.194 Q2020.61 271.111 2020.61 277.037 Z\" fill=\"#000000\" fill-rule=\"evenodd\" fill-opacity=\"1\" /><path clip-path=\"url(#clip700)\" d=\"M 0 0 M2046.63 265.903 L2037.26 278.519 L2047.12 291.829 L2042.09 291.829 L2034.55 281.643 L2027 291.829 L2021.98 291.829 L2032.05 278.264 L2022.83 265.903 L2027.86 265.903 L2034.73 275.139 L2041.61 265.903 L2046.63 265.903 Z\" fill=\"#000000\" fill-rule=\"evenodd\" fill-opacity=\"1\" /><path clip-path=\"url(#clip700)\" d=\"M 0 0 M2051.58 265.903 L2055.84 265.903 L2055.84 291.829 L2051.58 291.829 L2051.58 265.903 M2051.58 255.81 L2055.84 255.81 L2055.84 261.204 L2051.58 261.204 L2051.58 255.81 Z\" fill=\"#000000\" fill-rule=\"evenodd\" fill-opacity=\"1\" /><path clip-path=\"url(#clip700)\" d=\"M 0 0 M2078.97 266.898 L2078.97 270.88 Q2077.16 269.884 2075.33 269.398 Q2073.53 268.889 2071.68 268.889 Q2067.53 268.889 2065.24 271.528 Q2062.95 274.144 2062.95 278.889 Q2062.95 283.634 2065.24 286.273 Q2067.53 288.889 2071.68 288.889 Q2073.53 288.889 2075.33 288.403 Q2077.16 287.893 2078.97 286.898 L2078.97 290.833 Q2077.19 291.667 2075.26 292.083 Q2073.37 292.5 2071.21 292.5 Q2065.36 292.5 2061.91 288.819 Q2058.46 285.139 2058.46 278.889 Q2058.46 272.546 2061.93 268.912 Q2065.43 265.278 2071.49 265.278 Q2073.46 265.278 2075.33 265.695 Q2077.21 266.088 2078.97 266.898 Z\" fill=\"#000000\" fill-rule=\"evenodd\" fill-opacity=\"1\" /><path clip-path=\"url(#clip700)\" d=\"M 0 0 M2093.48 268.889 Q2090.06 268.889 2088.07 271.574 Q2086.07 274.236 2086.07 278.889 Q2086.07 283.542 2088.04 286.227 Q2090.03 288.889 2093.48 288.889 Q2096.88 288.889 2098.88 286.204 Q2100.87 283.518 2100.87 278.889 Q2100.87 274.282 2098.88 271.597 Q2096.88 268.889 2093.48 268.889 M2093.48 265.278 Q2099.04 265.278 2102.21 268.889 Q2105.38 272.5 2105.38 278.889 Q2105.38 285.255 2102.21 288.889 Q2099.04 292.5 2093.48 292.5 Q2087.9 292.5 2084.73 288.889 Q2081.58 285.255 2081.58 278.889 Q2081.58 272.5 2084.73 268.889 Q2087.9 265.278 2093.48 265.278 Z\" fill=\"#000000\" fill-rule=\"evenodd\" fill-opacity=\"1\" /><path clip-path=\"url(#clip700)\" d=\"M 0 0 M2109.85 255.81 L2114.11 255.81 L2114.11 291.829 L2109.85 291.829 L2109.85 255.81 Z\" fill=\"#000000\" fill-rule=\"evenodd\" fill-opacity=\"1\" /><path clip-path=\"url(#clip700)\" d=\"M 0 0 M2130.36 278.796 Q2125.19 278.796 2123.2 279.977 Q2121.21 281.157 2121.21 284.005 Q2121.21 286.273 2122.69 287.616 Q2124.2 288.935 2126.77 288.935 Q2130.31 288.935 2132.44 286.435 Q2134.59 283.912 2134.59 279.745 L2134.59 278.796 L2130.36 278.796 M2138.85 277.037 L2138.85 291.829 L2134.59 291.829 L2134.59 287.893 Q2133.13 290.255 2130.96 291.389 Q2128.78 292.5 2125.63 292.5 Q2121.65 292.5 2119.29 290.278 Q2116.95 288.032 2116.95 284.282 Q2116.95 279.907 2119.87 277.685 Q2122.81 275.463 2128.62 275.463 L2134.59 275.463 L2134.59 275.046 Q2134.59 272.107 2132.65 270.509 Q2130.73 268.889 2127.23 268.889 Q2125.01 268.889 2122.9 269.421 Q2120.8 269.954 2118.85 271.019 L2118.85 267.083 Q2121.19 266.181 2123.39 265.741 Q2125.59 265.278 2127.67 265.278 Q2133.3 265.278 2136.07 268.194 Q2138.85 271.111 2138.85 277.037 Z\" fill=\"#000000\" fill-rule=\"evenodd\" fill-opacity=\"1\" /><circle clip-path=\"url(#clip700)\" cx=\"1876.67\" cy=\"335.029\" r=\"23\" fill=\"#c271d2\" fill-rule=\"evenodd\" fill-opacity=\"0.5\" stroke=\"#000000\" stroke-opacity=\"0.5\" stroke-width=\"5.12\"/>\n",
       "<path clip-path=\"url(#clip700)\" d=\"M 0 0 M1971.54 317.749 L2000.77 317.749 L2000.77 321.684 L1988.51 321.684 L1988.51 352.309 L1983.81 352.309 L1983.81 321.684 L1971.54 321.684 L1971.54 317.749 Z\" fill=\"#000000\" fill-rule=\"evenodd\" fill-opacity=\"1\" /><path clip-path=\"url(#clip700)\" d=\"M 0 0 M2019.36 338.281 L2019.36 340.364 L1999.78 340.364 Q2000.06 344.762 2002.42 347.077 Q2004.8 349.369 2009.04 349.369 Q2011.49 349.369 2013.78 348.767 Q2016.1 348.165 2018.37 346.961 L2018.37 350.989 Q2016.08 351.961 2013.67 352.471 Q2011.26 352.98 2008.78 352.98 Q2002.58 352.98 1998.95 349.369 Q1995.33 345.758 1995.33 339.6 Q1995.33 333.235 1998.76 329.508 Q2002.21 325.758 2008.04 325.758 Q2013.27 325.758 2016.31 329.137 Q2019.36 332.494 2019.36 338.281 M2015.1 337.031 Q2015.06 333.536 2013.14 331.452 Q2011.24 329.369 2008.09 329.369 Q2004.52 329.369 2002.37 331.383 Q2000.24 333.397 1999.92 337.054 L2015.1 337.031 Z\" fill=\"#000000\" fill-rule=\"evenodd\" fill-opacity=\"1\" /><path clip-path=\"url(#clip700)\" d=\"M 0 0 M2038.85 330.364 Q2038.14 329.948 2037.28 329.762 Q2036.45 329.554 2035.43 329.554 Q2031.82 329.554 2029.87 331.915 Q2027.95 334.253 2027.95 338.651 L2027.95 352.309 L2023.67 352.309 L2023.67 326.383 L2027.95 326.383 L2027.95 330.411 Q2029.29 328.049 2031.45 326.915 Q2033.6 325.758 2036.68 325.758 Q2037.12 325.758 2037.65 325.827 Q2038.18 325.874 2038.83 325.989 L2038.85 330.364 Z\" fill=\"#000000\" fill-rule=\"evenodd\" fill-opacity=\"1\" /><path clip-path=\"url(#clip700)\" d=\"M 0 0 M2047.44 348.42 L2047.44 362.17 L2043.16 362.17 L2043.16 326.383 L2047.44 326.383 L2047.44 330.318 Q2048.78 328.003 2050.82 326.892 Q2052.88 325.758 2055.73 325.758 Q2060.45 325.758 2063.39 329.508 Q2066.35 333.258 2066.35 339.369 Q2066.35 345.48 2063.39 349.23 Q2060.45 352.98 2055.73 352.98 Q2052.88 352.98 2050.82 351.869 Q2048.78 350.735 2047.44 348.42 M2061.93 339.369 Q2061.93 334.67 2059.99 332.008 Q2058.07 329.323 2054.69 329.323 Q2051.31 329.323 2049.36 332.008 Q2047.44 334.67 2047.44 339.369 Q2047.44 344.068 2049.36 346.753 Q2051.31 349.415 2054.69 349.415 Q2058.07 349.415 2059.99 346.753 Q2061.93 344.068 2061.93 339.369 Z\" fill=\"#000000\" fill-rule=\"evenodd\" fill-opacity=\"1\" /><path clip-path=\"url(#clip700)\" d=\"M 0 0 M2087.35 327.147 L2087.35 331.174 Q2085.54 330.249 2083.6 329.786 Q2081.65 329.323 2079.57 329.323 Q2076.4 329.323 2074.8 330.295 Q2073.23 331.267 2073.23 333.211 Q2073.23 334.693 2074.36 335.549 Q2075.5 336.383 2078.92 337.147 L2080.38 337.471 Q2084.92 338.443 2086.82 340.225 Q2088.74 341.985 2088.74 345.156 Q2088.74 348.767 2085.87 350.873 Q2083.02 352.98 2078.02 352.98 Q2075.94 352.98 2073.67 352.563 Q2071.42 352.17 2068.92 351.36 L2068.92 346.961 Q2071.28 348.188 2073.57 348.813 Q2075.87 349.415 2078.11 349.415 Q2081.12 349.415 2082.74 348.397 Q2084.36 347.355 2084.36 345.48 Q2084.36 343.744 2083.18 342.818 Q2082.02 341.892 2078.07 341.036 L2076.58 340.688 Q2072.63 339.855 2070.87 338.142 Q2069.11 336.406 2069.11 333.397 Q2069.11 329.739 2071.7 327.749 Q2074.29 325.758 2079.06 325.758 Q2081.42 325.758 2083.51 326.105 Q2085.59 326.452 2087.35 327.147 Z\" fill=\"#000000\" fill-rule=\"evenodd\" fill-opacity=\"1\" /><path clip-path=\"url(#clip700)\" d=\"M 0 0 M2093.2 326.383 L2097.46 326.383 L2097.46 352.309 L2093.2 352.309 L2093.2 326.383 M2093.2 316.29 L2097.46 316.29 L2097.46 321.684 L2093.2 321.684 L2093.2 316.29 Z\" fill=\"#000000\" fill-rule=\"evenodd\" fill-opacity=\"1\" /><path clip-path=\"url(#clip700)\" d=\"M 0 0 M2106.05 348.42 L2106.05 362.17 L2101.77 362.17 L2101.77 326.383 L2106.05 326.383 L2106.05 330.318 Q2107.39 328.003 2109.43 326.892 Q2111.49 325.758 2114.34 325.758 Q2119.06 325.758 2122 329.508 Q2124.96 333.258 2124.96 339.369 Q2124.96 345.48 2122 349.23 Q2119.06 352.98 2114.34 352.98 Q2111.49 352.98 2109.43 351.869 Q2107.39 350.735 2106.05 348.42 M2120.54 339.369 Q2120.54 334.67 2118.6 332.008 Q2116.68 329.323 2113.3 329.323 Q2109.92 329.323 2107.97 332.008 Q2106.05 334.67 2106.05 339.369 Q2106.05 344.068 2107.97 346.753 Q2109.92 349.415 2113.3 349.415 Q2116.68 349.415 2118.6 346.753 Q2120.54 344.068 2120.54 339.369 Z\" fill=\"#000000\" fill-rule=\"evenodd\" fill-opacity=\"1\" /><path clip-path=\"url(#clip700)\" d=\"M 0 0 M2150.98 336.661 L2150.98 352.309 L2146.72 352.309 L2146.72 336.799 Q2146.72 333.119 2145.29 331.29 Q2143.85 329.462 2140.98 329.462 Q2137.53 329.462 2135.54 331.661 Q2133.55 333.86 2133.55 337.656 L2133.55 352.309 L2129.27 352.309 L2129.27 316.29 L2133.55 316.29 L2133.55 330.411 Q2135.08 328.073 2137.14 326.915 Q2139.22 325.758 2141.93 325.758 Q2146.4 325.758 2148.69 328.536 Q2150.98 331.29 2150.98 336.661 Z\" fill=\"#000000\" fill-rule=\"evenodd\" fill-opacity=\"1\" /><path clip-path=\"url(#clip700)\" d=\"M 0 0 M2165.5 329.369 Q2162.07 329.369 2160.08 332.054 Q2158.09 334.716 2158.09 339.369 Q2158.09 344.022 2160.06 346.707 Q2162.05 349.369 2165.5 349.369 Q2168.9 349.369 2170.89 346.684 Q2172.88 343.998 2172.88 339.369 Q2172.88 334.762 2170.89 332.077 Q2168.9 329.369 2165.5 329.369 M2165.5 325.758 Q2171.05 325.758 2174.22 329.369 Q2177.39 332.98 2177.39 339.369 Q2177.39 345.735 2174.22 349.369 Q2171.05 352.98 2165.5 352.98 Q2159.92 352.98 2156.75 349.369 Q2153.6 345.735 2153.6 339.369 Q2153.6 332.98 2156.75 329.369 Q2159.92 325.758 2165.5 325.758 Z\" fill=\"#000000\" fill-rule=\"evenodd\" fill-opacity=\"1\" /><path clip-path=\"url(#clip700)\" d=\"M 0 0 M2203.41 336.661 L2203.41 352.309 L2199.15 352.309 L2199.15 336.799 Q2199.15 333.119 2197.72 331.29 Q2196.28 329.462 2193.41 329.462 Q2189.96 329.462 2187.97 331.661 Q2185.98 333.86 2185.98 337.656 L2185.98 352.309 L2181.7 352.309 L2181.7 326.383 L2185.98 326.383 L2185.98 330.411 Q2187.51 328.073 2189.57 326.915 Q2191.65 325.758 2194.36 325.758 Q2198.83 325.758 2201.12 328.536 Q2203.41 331.29 2203.41 336.661 Z\" fill=\"#000000\" fill-rule=\"evenodd\" fill-opacity=\"1\" /><path clip-path=\"url(#clip700)\" d=\"M 0 0 M2230.06 338.281 L2230.06 340.364 L2210.47 340.364 Q2210.75 344.762 2213.11 347.077 Q2215.5 349.369 2219.73 349.369 Q2222.19 349.369 2224.48 348.767 Q2226.79 348.165 2229.06 346.961 L2229.06 350.989 Q2226.77 351.961 2224.36 352.471 Q2221.95 352.98 2219.48 352.98 Q2213.27 352.98 2209.64 349.369 Q2206.03 345.758 2206.03 339.6 Q2206.03 333.235 2209.45 329.508 Q2212.9 325.758 2218.74 325.758 Q2223.97 325.758 2227 329.137 Q2230.06 332.494 2230.06 338.281 M2225.8 337.031 Q2225.75 333.536 2223.83 331.452 Q2221.93 329.369 2218.78 329.369 Q2215.22 329.369 2213.06 331.383 Q2210.94 333.397 2210.61 337.054 L2225.8 337.031 Z\" fill=\"#000000\" fill-rule=\"evenodd\" fill-opacity=\"1\" /><circle clip-path=\"url(#clip700)\" cx=\"1876.67\" cy=\"395.509\" r=\"23\" fill=\"#ac8d18\" fill-rule=\"evenodd\" fill-opacity=\"0.5\" stroke=\"#000000\" stroke-opacity=\"0.5\" stroke-width=\"5.12\"/>\n",
       "<path clip-path=\"url(#clip700)\" d=\"M 0 0 M1972.07 378.229 L1999.22 378.229 L1999.22 381.793 L1977.37 408.853 L1999.76 408.853 L1999.76 412.789 L1971.54 412.789 L1971.54 409.224 L1993.39 382.164 L1972.07 382.164 L1972.07 378.229 Z\" fill=\"#000000\" fill-rule=\"evenodd\" fill-opacity=\"1\" /><path clip-path=\"url(#clip700)\" d=\"M 0 0 M2014.27 389.849 Q2010.84 389.849 2008.85 392.534 Q2006.86 395.196 2006.86 399.849 Q2006.86 404.502 2008.83 407.187 Q2010.82 409.849 2014.27 409.849 Q2017.67 409.849 2019.66 407.164 Q2021.65 404.478 2021.65 399.849 Q2021.65 395.242 2019.66 392.557 Q2017.67 389.849 2014.27 389.849 M2014.27 386.238 Q2019.83 386.238 2023 389.849 Q2026.17 393.46 2026.17 399.849 Q2026.17 406.215 2023 409.849 Q2019.83 413.46 2014.27 413.46 Q2008.69 413.46 2005.52 409.849 Q2002.37 406.215 2002.37 399.849 Q2002.37 393.46 2005.52 389.849 Q2008.69 386.238 2014.27 386.238 Z\" fill=\"#000000\" fill-rule=\"evenodd\" fill-opacity=\"1\" /><path clip-path=\"url(#clip700)\" d=\"M 0 0 M2047.16 387.627 L2047.16 391.654 Q2045.36 390.729 2043.41 390.266 Q2041.47 389.803 2039.39 389.803 Q2036.21 389.803 2034.62 390.775 Q2033.04 391.747 2033.04 393.691 Q2033.04 395.173 2034.18 396.029 Q2035.31 396.863 2038.74 397.627 L2040.2 397.951 Q2044.73 398.923 2046.63 400.705 Q2048.55 402.465 2048.55 405.636 Q2048.55 409.247 2045.68 411.353 Q2042.83 413.46 2037.83 413.46 Q2035.75 413.46 2033.48 413.043 Q2031.24 412.65 2028.74 411.84 L2028.74 407.441 Q2031.1 408.668 2033.39 409.293 Q2035.68 409.895 2037.93 409.895 Q2040.94 409.895 2042.56 408.877 Q2044.18 407.835 2044.18 405.96 Q2044.18 404.224 2043 403.298 Q2041.84 402.372 2037.88 401.516 L2036.4 401.168 Q2032.44 400.335 2030.68 398.622 Q2028.92 396.886 2028.92 393.877 Q2028.92 390.219 2031.51 388.229 Q2034.11 386.238 2038.88 386.238 Q2041.24 386.238 2043.32 386.585 Q2045.4 386.932 2047.16 387.627 Z\" fill=\"#000000\" fill-rule=\"evenodd\" fill-opacity=\"1\" /><path clip-path=\"url(#clip700)\" d=\"M 0 0 M2057.23 379.502 L2057.23 386.863 L2066.01 386.863 L2066.01 390.173 L2057.23 390.173 L2057.23 404.247 Q2057.23 407.418 2058.09 408.321 Q2058.97 409.224 2061.63 409.224 L2066.01 409.224 L2066.01 412.789 L2061.63 412.789 Q2056.7 412.789 2054.82 410.96 Q2052.95 409.108 2052.95 404.247 L2052.95 390.173 L2049.83 390.173 L2049.83 386.863 L2052.95 386.863 L2052.95 379.502 L2057.23 379.502 Z\" fill=\"#000000\" fill-rule=\"evenodd\" fill-opacity=\"1\" /><path clip-path=\"url(#clip700)\" d=\"M 0 0 M2092.65 398.761 L2092.65 400.844 L2073.07 400.844 Q2073.34 405.242 2075.7 407.557 Q2078.09 409.849 2082.32 409.849 Q2084.78 409.849 2087.07 409.247 Q2089.38 408.645 2091.65 407.441 L2091.65 411.469 Q2089.36 412.441 2086.95 412.951 Q2084.55 413.46 2082.07 413.46 Q2075.87 413.46 2072.23 409.849 Q2068.62 406.238 2068.62 400.08 Q2068.62 393.715 2072.05 389.988 Q2075.5 386.238 2081.33 386.238 Q2086.56 386.238 2089.59 389.617 Q2092.65 392.974 2092.65 398.761 M2088.39 397.511 Q2088.34 394.016 2086.42 391.932 Q2084.52 389.849 2081.38 389.849 Q2077.81 389.849 2075.66 391.863 Q2073.53 393.877 2073.2 397.534 L2088.39 397.511 Z\" fill=\"#000000\" fill-rule=\"evenodd\" fill-opacity=\"1\" /><path clip-path=\"url(#clip700)\" d=\"M 0 0 M2112.14 390.844 Q2111.42 390.428 2110.57 390.242 Q2109.73 390.034 2108.71 390.034 Q2105.1 390.034 2103.16 392.395 Q2101.24 394.733 2101.24 399.131 L2101.24 412.789 L2096.95 412.789 L2096.95 386.863 L2101.24 386.863 L2101.24 390.891 Q2102.58 388.529 2104.73 387.395 Q2106.88 386.238 2109.96 386.238 Q2110.4 386.238 2110.94 386.307 Q2111.47 386.354 2112.12 386.469 L2112.14 390.844 Z\" fill=\"#000000\" fill-rule=\"evenodd\" fill-opacity=\"1\" /><path clip-path=\"url(#clip700)\" d=\"M 0 0 M2125.61 389.849 Q2122.19 389.849 2120.2 392.534 Q2118.2 395.196 2118.2 399.849 Q2118.2 404.502 2120.17 407.187 Q2122.16 409.849 2125.61 409.849 Q2129.01 409.849 2131.01 407.164 Q2133 404.478 2133 399.849 Q2133 395.242 2131.01 392.557 Q2129.01 389.849 2125.61 389.849 M2125.61 386.238 Q2131.17 386.238 2134.34 389.849 Q2137.51 393.46 2137.51 399.849 Q2137.51 406.215 2134.34 409.849 Q2131.17 413.46 2125.61 413.46 Q2120.03 413.46 2116.86 409.849 Q2113.71 406.215 2113.71 399.849 Q2113.71 393.46 2116.86 389.849 Q2120.03 386.238 2125.61 386.238 Z\" fill=\"#000000\" fill-rule=\"evenodd\" fill-opacity=\"1\" /><path clip-path=\"url(#clip700)\" d=\"M 0 0 M2146.1 408.9 L2146.1 422.65 L2141.82 422.65 L2141.82 386.863 L2146.1 386.863 L2146.1 390.798 Q2147.44 388.483 2149.48 387.372 Q2151.54 386.238 2154.38 386.238 Q2159.11 386.238 2162.05 389.988 Q2165.01 393.738 2165.01 399.849 Q2165.01 405.96 2162.05 409.71 Q2159.11 413.46 2154.38 413.46 Q2151.54 413.46 2149.48 412.349 Q2147.44 411.215 2146.1 408.9 M2160.59 399.849 Q2160.59 395.15 2158.64 392.488 Q2156.72 389.803 2153.34 389.803 Q2149.96 389.803 2148.02 392.488 Q2146.1 395.15 2146.1 399.849 Q2146.1 404.548 2148.02 407.233 Q2149.96 409.895 2153.34 409.895 Q2156.72 409.895 2158.64 407.233 Q2160.59 404.548 2160.59 399.849 Z\" fill=\"#000000\" fill-rule=\"evenodd\" fill-opacity=\"1\" /><path clip-path=\"url(#clip700)\" d=\"M 0 0 M2186 387.627 L2186 391.654 Q2184.2 390.729 2182.25 390.266 Q2180.31 389.803 2178.23 389.803 Q2175.06 389.803 2173.46 390.775 Q2171.88 391.747 2171.88 393.691 Q2171.88 395.173 2173.02 396.029 Q2174.15 396.863 2177.58 397.627 L2179.04 397.951 Q2183.57 398.923 2185.47 400.705 Q2187.39 402.465 2187.39 405.636 Q2187.39 409.247 2184.52 411.353 Q2181.68 413.46 2176.68 413.46 Q2174.59 413.46 2172.32 413.043 Q2170.08 412.65 2167.58 411.84 L2167.58 407.441 Q2169.94 408.668 2172.23 409.293 Q2174.52 409.895 2176.77 409.895 Q2179.78 409.895 2181.4 408.877 Q2183.02 407.835 2183.02 405.96 Q2183.02 404.224 2181.84 403.298 Q2180.68 402.372 2176.72 401.516 L2175.24 401.168 Q2171.28 400.335 2169.52 398.622 Q2167.76 396.886 2167.76 393.877 Q2167.76 390.219 2170.36 388.229 Q2172.95 386.238 2177.72 386.238 Q2180.08 386.238 2182.16 386.585 Q2184.25 386.932 2186 387.627 Z\" fill=\"#000000\" fill-rule=\"evenodd\" fill-opacity=\"1\" /><circle clip-path=\"url(#clip700)\" cx=\"1876.67\" cy=\"455.989\" r=\"23\" fill=\"#00a9ad\" fill-rule=\"evenodd\" fill-opacity=\"0.5\" stroke=\"#000000\" stroke-opacity=\"0.5\" stroke-width=\"5.12\"/>\n",
       "<path clip-path=\"url(#clip700)\" d=\"M 0 0 M1972.07 438.709 L1999.22 438.709 L1999.22 442.273 L1977.37 469.333 L1999.76 469.333 L1999.76 473.269 L1971.54 473.269 L1971.54 469.704 L1993.39 442.644 L1972.07 442.644 L1972.07 438.709 Z\" fill=\"#000000\" fill-rule=\"evenodd\" fill-opacity=\"1\" /><path clip-path=\"url(#clip700)\" d=\"M 0 0 M2014.27 450.329 Q2010.84 450.329 2008.85 453.014 Q2006.86 455.676 2006.86 460.329 Q2006.86 464.982 2008.83 467.667 Q2010.82 470.329 2014.27 470.329 Q2017.67 470.329 2019.66 467.644 Q2021.65 464.958 2021.65 460.329 Q2021.65 455.722 2019.66 453.037 Q2017.67 450.329 2014.27 450.329 M2014.27 446.718 Q2019.83 446.718 2023 450.329 Q2026.17 453.94 2026.17 460.329 Q2026.17 466.695 2023 470.329 Q2019.83 473.94 2014.27 473.94 Q2008.69 473.94 2005.52 470.329 Q2002.37 466.695 2002.37 460.329 Q2002.37 453.94 2005.52 450.329 Q2008.69 446.718 2014.27 446.718 Z\" fill=\"#000000\" fill-rule=\"evenodd\" fill-opacity=\"1\" /><path clip-path=\"url(#clip700)\" d=\"M 0 0 M2047.16 448.107 L2047.16 452.134 Q2045.36 451.209 2043.41 450.746 Q2041.47 450.283 2039.39 450.283 Q2036.21 450.283 2034.62 451.255 Q2033.04 452.227 2033.04 454.171 Q2033.04 455.653 2034.18 456.509 Q2035.31 457.343 2038.74 458.107 L2040.2 458.431 Q2044.73 459.403 2046.63 461.185 Q2048.55 462.945 2048.55 466.116 Q2048.55 469.727 2045.68 471.833 Q2042.83 473.94 2037.83 473.94 Q2035.75 473.94 2033.48 473.523 Q2031.24 473.13 2028.74 472.32 L2028.74 467.921 Q2031.1 469.148 2033.39 469.773 Q2035.68 470.375 2037.93 470.375 Q2040.94 470.375 2042.56 469.357 Q2044.18 468.315 2044.18 466.44 Q2044.18 464.704 2043 463.778 Q2041.84 462.852 2037.88 461.996 L2036.4 461.648 Q2032.44 460.815 2030.68 459.102 Q2028.92 457.366 2028.92 454.357 Q2028.92 450.699 2031.51 448.709 Q2034.11 446.718 2038.88 446.718 Q2041.24 446.718 2043.32 447.065 Q2045.4 447.412 2047.16 448.107 Z\" fill=\"#000000\" fill-rule=\"evenodd\" fill-opacity=\"1\" /><path clip-path=\"url(#clip700)\" d=\"M 0 0 M2057.23 439.982 L2057.23 447.343 L2066.01 447.343 L2066.01 450.653 L2057.23 450.653 L2057.23 464.727 Q2057.23 467.898 2058.09 468.801 Q2058.97 469.704 2061.63 469.704 L2066.01 469.704 L2066.01 473.269 L2061.63 473.269 Q2056.7 473.269 2054.82 471.44 Q2052.95 469.588 2052.95 464.727 L2052.95 450.653 L2049.83 450.653 L2049.83 447.343 L2052.95 447.343 L2052.95 439.982 L2057.23 439.982 Z\" fill=\"#000000\" fill-rule=\"evenodd\" fill-opacity=\"1\" /><path clip-path=\"url(#clip700)\" d=\"M 0 0 M2092.65 459.241 L2092.65 461.324 L2073.07 461.324 Q2073.34 465.722 2075.7 468.037 Q2078.09 470.329 2082.32 470.329 Q2084.78 470.329 2087.07 469.727 Q2089.38 469.125 2091.65 467.921 L2091.65 471.949 Q2089.36 472.921 2086.95 473.431 Q2084.55 473.94 2082.07 473.94 Q2075.87 473.94 2072.23 470.329 Q2068.62 466.718 2068.62 460.56 Q2068.62 454.195 2072.05 450.468 Q2075.5 446.718 2081.33 446.718 Q2086.56 446.718 2089.59 450.097 Q2092.65 453.454 2092.65 459.241 M2088.39 457.991 Q2088.34 454.496 2086.42 452.412 Q2084.52 450.329 2081.38 450.329 Q2077.81 450.329 2075.66 452.343 Q2073.53 454.357 2073.2 458.014 L2088.39 457.991 Z\" fill=\"#000000\" fill-rule=\"evenodd\" fill-opacity=\"1\" /><path clip-path=\"url(#clip700)\" d=\"M 0 0 M2112.14 451.324 Q2111.42 450.908 2110.57 450.722 Q2109.73 450.514 2108.71 450.514 Q2105.1 450.514 2103.16 452.875 Q2101.24 455.213 2101.24 459.611 L2101.24 473.269 L2096.95 473.269 L2096.95 447.343 L2101.24 447.343 L2101.24 451.371 Q2102.58 449.009 2104.73 447.875 Q2106.88 446.718 2109.96 446.718 Q2110.4 446.718 2110.94 446.787 Q2111.47 446.834 2112.12 446.949 L2112.14 451.324 Z\" fill=\"#000000\" fill-rule=\"evenodd\" fill-opacity=\"1\" /><path clip-path=\"url(#clip700)\" d=\"M 0 0 M2125.61 450.329 Q2122.19 450.329 2120.2 453.014 Q2118.2 455.676 2118.2 460.329 Q2118.2 464.982 2120.17 467.667 Q2122.16 470.329 2125.61 470.329 Q2129.01 470.329 2131.01 467.644 Q2133 464.958 2133 460.329 Q2133 455.722 2131.01 453.037 Q2129.01 450.329 2125.61 450.329 M2125.61 446.718 Q2131.17 446.718 2134.34 450.329 Q2137.51 453.94 2137.51 460.329 Q2137.51 466.695 2134.34 470.329 Q2131.17 473.94 2125.61 473.94 Q2120.03 473.94 2116.86 470.329 Q2113.71 466.695 2113.71 460.329 Q2113.71 453.94 2116.86 450.329 Q2120.03 446.718 2125.61 446.718 Z\" fill=\"#000000\" fill-rule=\"evenodd\" fill-opacity=\"1\" /><path clip-path=\"url(#clip700)\" d=\"M 0 0 M2146.1 469.38 L2146.1 483.13 L2141.82 483.13 L2141.82 447.343 L2146.1 447.343 L2146.1 451.278 Q2147.44 448.963 2149.48 447.852 Q2151.54 446.718 2154.38 446.718 Q2159.11 446.718 2162.05 450.468 Q2165.01 454.218 2165.01 460.329 Q2165.01 466.44 2162.05 470.19 Q2159.11 473.94 2154.38 473.94 Q2151.54 473.94 2149.48 472.829 Q2147.44 471.695 2146.1 469.38 M2160.59 460.329 Q2160.59 455.63 2158.64 452.968 Q2156.72 450.283 2153.34 450.283 Q2149.96 450.283 2148.02 452.968 Q2146.1 455.63 2146.1 460.329 Q2146.1 465.028 2148.02 467.713 Q2149.96 470.375 2153.34 470.375 Q2156.72 470.375 2158.64 467.713 Q2160.59 465.028 2160.59 460.329 Z\" fill=\"#000000\" fill-rule=\"evenodd\" fill-opacity=\"1\" /><path clip-path=\"url(#clip700)\" d=\"M 0 0 M2186 448.107 L2186 452.134 Q2184.2 451.209 2182.25 450.746 Q2180.31 450.283 2178.23 450.283 Q2175.06 450.283 2173.46 451.255 Q2171.88 452.227 2171.88 454.171 Q2171.88 455.653 2173.02 456.509 Q2174.15 457.343 2177.58 458.107 L2179.04 458.431 Q2183.57 459.403 2185.47 461.185 Q2187.39 462.945 2187.39 466.116 Q2187.39 469.727 2184.52 471.833 Q2181.68 473.94 2176.68 473.94 Q2174.59 473.94 2172.32 473.523 Q2170.08 473.13 2167.58 472.32 L2167.58 467.921 Q2169.94 469.148 2172.23 469.773 Q2174.52 470.375 2176.77 470.375 Q2179.78 470.375 2181.4 469.357 Q2183.02 468.315 2183.02 466.44 Q2183.02 464.704 2181.84 463.778 Q2180.68 462.852 2176.72 461.996 L2175.24 461.648 Q2171.28 460.815 2169.52 459.102 Q2167.76 457.366 2167.76 454.357 Q2167.76 450.699 2170.36 448.709 Q2172.95 446.718 2177.72 446.718 Q2180.08 446.718 2182.16 447.065 Q2184.25 447.412 2186 448.107 Z\" fill=\"#000000\" fill-rule=\"evenodd\" fill-opacity=\"1\" /><circle clip-path=\"url(#clip700)\" cx=\"1876.67\" cy=\"516.469\" r=\"23\" fill=\"#ed5d92\" fill-rule=\"evenodd\" fill-opacity=\"0.5\" stroke=\"#000000\" stroke-opacity=\"0.5\" stroke-width=\"5.12\"/>\n",
       "<path clip-path=\"url(#clip700)\" d=\"M 0 0 M1999.41 501.851 L1999.41 506.781 Q1997.05 504.582 1994.36 503.494 Q1991.7 502.406 1988.69 502.406 Q1982.77 502.406 1979.62 506.04 Q1976.47 509.652 1976.47 516.503 Q1976.47 523.332 1979.62 526.966 Q1982.77 530.577 1988.69 530.577 Q1991.7 530.577 1994.36 529.489 Q1997.05 528.401 1999.41 526.202 L1999.41 531.087 Q1996.95 532.753 1994.2 533.587 Q1991.47 534.42 1988.41 534.42 Q1980.57 534.42 1976.05 529.628 Q1971.54 524.813 1971.54 516.503 Q1971.54 508.17 1976.05 503.378 Q1980.57 498.564 1988.41 498.564 Q1991.52 498.564 1994.25 499.397 Q1997 500.207 1999.41 501.851 Z\" fill=\"#000000\" fill-rule=\"evenodd\" fill-opacity=\"1\" /><path clip-path=\"url(#clip700)\" d=\"M 0 0 M2003.88 507.823 L2008.14 507.823 L2008.14 533.749 L2003.88 533.749 L2003.88 507.823 M2003.88 497.73 L2008.14 497.73 L2008.14 503.124 L2003.88 503.124 L2003.88 497.73 Z\" fill=\"#000000\" fill-rule=\"evenodd\" fill-opacity=\"1\" /><path clip-path=\"url(#clip700)\" d=\"M 0 0 M2027.63 511.804 Q2026.91 511.388 2026.05 511.202 Q2025.22 510.994 2024.2 510.994 Q2020.59 510.994 2018.64 513.355 Q2016.72 515.693 2016.72 520.091 L2016.72 533.749 L2012.44 533.749 L2012.44 507.823 L2016.72 507.823 L2016.72 511.851 Q2018.07 509.489 2020.22 508.355 Q2022.37 507.198 2025.45 507.198 Q2025.89 507.198 2026.42 507.267 Q2026.95 507.314 2027.6 507.429 L2027.63 511.804 Z\" fill=\"#000000\" fill-rule=\"evenodd\" fill-opacity=\"1\" /><path clip-path=\"url(#clip700)\" d=\"M 0 0 M2049.71 508.818 L2049.71 512.8 Q2047.9 511.804 2046.08 511.318 Q2044.27 510.809 2042.42 510.809 Q2038.27 510.809 2035.98 513.448 Q2033.69 516.064 2033.69 520.809 Q2033.69 525.554 2035.98 528.193 Q2038.27 530.809 2042.42 530.809 Q2044.27 530.809 2046.08 530.323 Q2047.9 529.813 2049.71 528.818 L2049.71 532.753 Q2047.93 533.587 2046.01 534.003 Q2044.11 534.42 2041.95 534.42 Q2036.1 534.42 2032.65 530.739 Q2029.2 527.059 2029.2 520.809 Q2029.2 514.466 2032.67 510.832 Q2036.17 507.198 2042.23 507.198 Q2044.2 507.198 2046.08 507.615 Q2047.95 508.008 2049.71 508.818 Z\" fill=\"#000000\" fill-rule=\"evenodd\" fill-opacity=\"1\" /><path clip-path=\"url(#clip700)\" d=\"M 0 0 M2053.74 523.517 L2053.74 507.823 L2058 507.823 L2058 523.355 Q2058 527.036 2059.43 528.888 Q2060.87 530.716 2063.74 530.716 Q2067.19 530.716 2069.18 528.517 Q2071.19 526.318 2071.19 522.522 L2071.19 507.823 L2075.45 507.823 L2075.45 533.749 L2071.19 533.749 L2071.19 529.767 Q2069.64 532.128 2067.58 533.286 Q2065.54 534.42 2062.83 534.42 Q2058.37 534.42 2056.05 531.642 Q2053.74 528.864 2053.74 523.517 M2064.45 507.198 L2064.45 507.198 Z\" fill=\"#000000\" fill-rule=\"evenodd\" fill-opacity=\"1\" /><path clip-path=\"url(#clip700)\" d=\"M 0 0 M2096.45 508.587 L2096.45 512.614 Q2094.64 511.689 2092.7 511.226 Q2090.75 510.763 2088.67 510.763 Q2085.5 510.763 2083.9 511.735 Q2082.32 512.707 2082.32 514.651 Q2082.32 516.133 2083.46 516.989 Q2084.59 517.823 2088.02 518.587 L2089.48 518.911 Q2094.01 519.883 2095.91 521.665 Q2097.83 523.425 2097.83 526.596 Q2097.83 530.207 2094.96 532.313 Q2092.12 534.42 2087.12 534.42 Q2085.03 534.42 2082.76 534.003 Q2080.52 533.61 2078.02 532.8 L2078.02 528.401 Q2080.38 529.628 2082.67 530.253 Q2084.96 530.855 2087.21 530.855 Q2090.22 530.855 2091.84 529.837 Q2093.46 528.795 2093.46 526.92 Q2093.46 525.184 2092.28 524.258 Q2091.12 523.332 2087.16 522.476 L2085.68 522.128 Q2081.72 521.295 2079.96 519.582 Q2078.2 517.846 2078.2 514.837 Q2078.2 511.179 2080.8 509.189 Q2083.39 507.198 2088.16 507.198 Q2090.52 507.198 2092.6 507.545 Q2094.69 507.892 2096.45 508.587 Z\" fill=\"#000000\" fill-rule=\"evenodd\" fill-opacity=\"1\" /><circle clip-path=\"url(#clip700)\" cx=\"1876.67\" cy=\"576.949\" r=\"23\" fill=\"#c68125\" fill-rule=\"evenodd\" fill-opacity=\"0.5\" stroke=\"#000000\" stroke-opacity=\"0.5\" stroke-width=\"5.12\"/>\n",
       "<path clip-path=\"url(#clip700)\" d=\"M 0 0 M1971.54 559.669 L1977.83 559.669 L1993.16 588.581 L1993.16 559.669 L1997.7 559.669 L1997.7 594.229 L1991.4 594.229 L1976.08 565.317 L1976.08 594.229 L1971.54 594.229 L1971.54 559.669 Z\" fill=\"#000000\" fill-rule=\"evenodd\" fill-opacity=\"1\" /><path clip-path=\"url(#clip700)\" d=\"M 0 0 M2024.34 580.201 L2024.34 582.284 L2004.76 582.284 Q2005.03 586.682 2007.39 588.997 Q2009.78 591.289 2014.02 591.289 Q2016.47 591.289 2018.76 590.687 Q2021.08 590.085 2023.34 588.881 L2023.34 592.909 Q2021.05 593.881 2018.64 594.391 Q2016.24 594.9 2013.76 594.9 Q2007.56 594.9 2003.92 591.289 Q2000.31 587.678 2000.31 581.52 Q2000.31 575.155 2003.74 571.428 Q2007.19 567.678 2013.02 567.678 Q2018.25 567.678 2021.28 571.057 Q2024.34 574.414 2024.34 580.201 M2020.08 578.951 Q2020.03 575.456 2018.11 573.372 Q2016.21 571.289 2013.07 571.289 Q2009.5 571.289 2007.35 573.303 Q2005.22 575.317 2004.89 578.974 L2020.08 578.951 Z\" fill=\"#000000\" fill-rule=\"evenodd\" fill-opacity=\"1\" /><path clip-path=\"url(#clip700)\" d=\"M 0 0 M2045.33 569.067 L2045.33 573.094 Q2043.53 572.169 2041.58 571.706 Q2039.64 571.243 2037.56 571.243 Q2034.39 571.243 2032.79 572.215 Q2031.21 573.187 2031.21 575.131 Q2031.21 576.613 2032.35 577.469 Q2033.48 578.303 2036.91 579.067 L2038.37 579.391 Q2042.9 580.363 2044.8 582.145 Q2046.72 583.905 2046.72 587.076 Q2046.72 590.687 2043.85 592.793 Q2041.01 594.9 2036.01 594.9 Q2033.92 594.9 2031.65 594.483 Q2029.41 594.09 2026.91 593.28 L2026.91 588.881 Q2029.27 590.108 2031.56 590.733 Q2033.85 591.335 2036.1 591.335 Q2039.11 591.335 2040.73 590.317 Q2042.35 589.275 2042.35 587.4 Q2042.35 585.664 2041.17 584.738 Q2040.01 583.812 2036.05 582.956 L2034.57 582.608 Q2030.61 581.775 2028.85 580.062 Q2027.09 578.326 2027.09 575.317 Q2027.09 571.659 2029.69 569.669 Q2032.28 567.678 2037.05 567.678 Q2039.41 567.678 2041.49 568.025 Q2043.58 568.372 2045.33 569.067 Z\" fill=\"#000000\" fill-rule=\"evenodd\" fill-opacity=\"1\" /><path clip-path=\"url(#clip700)\" d=\"M 0 0 M2061.24 571.289 Q2057.81 571.289 2055.82 573.974 Q2053.83 576.636 2053.83 581.289 Q2053.83 585.942 2055.8 588.627 Q2057.79 591.289 2061.24 591.289 Q2064.64 591.289 2066.63 588.604 Q2068.62 585.918 2068.62 581.289 Q2068.62 576.682 2066.63 573.997 Q2064.64 571.289 2061.24 571.289 M2061.24 567.678 Q2066.79 567.678 2069.96 571.289 Q2073.14 574.9 2073.14 581.289 Q2073.14 587.655 2069.96 591.289 Q2066.79 594.9 2061.24 594.9 Q2055.66 594.9 2052.49 591.289 Q2049.34 587.655 2049.34 581.289 Q2049.34 574.9 2052.49 571.289 Q2055.66 567.678 2061.24 567.678 Z\" fill=\"#000000\" fill-rule=\"evenodd\" fill-opacity=\"1\" /><path clip-path=\"url(#clip700)\" d=\"M 0 0 M2099.78 580.201 L2099.78 582.284 L2080.2 582.284 Q2080.47 586.682 2082.83 588.997 Q2085.22 591.289 2089.45 591.289 Q2091.91 591.289 2094.2 590.687 Q2096.51 590.085 2098.78 588.881 L2098.78 592.909 Q2096.49 593.881 2094.08 594.391 Q2091.68 594.9 2089.2 594.9 Q2083 594.9 2079.36 591.289 Q2075.75 587.678 2075.75 581.52 Q2075.75 575.155 2079.18 571.428 Q2082.63 567.678 2088.46 567.678 Q2093.69 567.678 2096.72 571.057 Q2099.78 574.414 2099.78 580.201 M2095.52 578.951 Q2095.47 575.456 2093.55 573.372 Q2091.65 571.289 2088.51 571.289 Q2084.94 571.289 2082.79 573.303 Q2080.66 575.317 2080.33 578.974 L2095.52 578.951 Z\" fill=\"#000000\" fill-rule=\"evenodd\" fill-opacity=\"1\" /><path clip-path=\"url(#clip700)\" d=\"M 0 0 M2125.8 578.581 L2125.8 594.229 L2121.54 594.229 L2121.54 578.719 Q2121.54 575.039 2120.1 573.21 Q2118.67 571.382 2115.8 571.382 Q2112.35 571.382 2110.36 573.581 Q2108.37 575.78 2108.37 579.576 L2108.37 594.229 L2104.08 594.229 L2104.08 568.303 L2108.37 568.303 L2108.37 572.331 Q2109.89 569.993 2111.95 568.835 Q2114.04 567.678 2116.75 567.678 Q2121.21 567.678 2123.51 570.456 Q2125.8 573.21 2125.8 578.581 Z\" fill=\"#000000\" fill-rule=\"evenodd\" fill-opacity=\"1\" /><path clip-path=\"url(#clip700)\" d=\"M 0 0 M2142.05 581.196 Q2136.88 581.196 2134.89 582.377 Q2132.9 583.557 2132.9 586.405 Q2132.9 588.673 2134.38 590.016 Q2135.89 591.335 2138.46 591.335 Q2142 591.335 2144.13 588.835 Q2146.28 586.312 2146.28 582.145 L2146.28 581.196 L2142.05 581.196 M2150.54 579.437 L2150.54 594.229 L2146.28 594.229 L2146.28 590.293 Q2144.82 592.655 2142.65 593.789 Q2140.47 594.9 2137.32 594.9 Q2133.34 594.9 2130.98 592.678 Q2128.64 590.432 2128.64 586.682 Q2128.64 582.307 2131.56 580.085 Q2134.5 577.863 2140.31 577.863 L2146.28 577.863 L2146.28 577.446 Q2146.28 574.507 2144.34 572.909 Q2142.42 571.289 2138.92 571.289 Q2136.7 571.289 2134.59 571.821 Q2132.49 572.354 2130.54 573.419 L2130.54 569.483 Q2132.88 568.581 2135.08 568.141 Q2137.28 567.678 2139.36 567.678 Q2144.99 567.678 2147.76 570.594 Q2150.54 573.511 2150.54 579.437 Z\" fill=\"#000000\" fill-rule=\"evenodd\" fill-opacity=\"1\" /><path clip-path=\"url(#clip700)\" d=\"M 0 0 M2171.54 569.067 L2171.54 573.094 Q2169.73 572.169 2167.79 571.706 Q2165.84 571.243 2163.76 571.243 Q2160.59 571.243 2158.99 572.215 Q2157.42 573.187 2157.42 575.131 Q2157.42 576.613 2158.55 577.469 Q2159.69 578.303 2163.11 579.067 L2164.57 579.391 Q2169.11 580.363 2171 582.145 Q2172.93 583.905 2172.93 587.076 Q2172.93 590.687 2170.06 592.793 Q2167.21 594.9 2162.21 594.9 Q2160.13 594.9 2157.86 594.483 Q2155.61 594.09 2153.11 593.28 L2153.11 588.881 Q2155.47 590.108 2157.76 590.733 Q2160.06 591.335 2162.3 591.335 Q2165.31 591.335 2166.93 590.317 Q2168.55 589.275 2168.55 587.4 Q2168.55 585.664 2167.37 584.738 Q2166.21 583.812 2162.25 582.956 L2160.77 582.608 Q2156.82 581.775 2155.06 580.062 Q2153.3 578.326 2153.3 575.317 Q2153.3 571.659 2155.89 569.669 Q2158.48 567.678 2163.25 567.678 Q2165.61 567.678 2167.69 568.025 Q2169.78 568.372 2171.54 569.067 Z\" fill=\"#000000\" fill-rule=\"evenodd\" fill-opacity=\"1\" /><circle clip-path=\"url(#clip700)\" cx=\"1876.67\" cy=\"637.429\" r=\"23\" fill=\"#00a98d\" fill-rule=\"evenodd\" fill-opacity=\"0.5\" stroke=\"#000000\" stroke-opacity=\"0.5\" stroke-width=\"5.12\"/>\n",
       "<path clip-path=\"url(#clip700)\" d=\"M 0 0 M1987.37 624.755 L1981.03 641.954 L1993.74 641.954 L1987.37 624.755 M1984.73 620.149 L1990.03 620.149 L2003.2 654.709 L1998.34 654.709 L1995.2 645.843 L1979.62 645.843 L1976.47 654.709 L1971.54 654.709 L1984.73 620.149 Z\" fill=\"#000000\" fill-rule=\"evenodd\" fill-opacity=\"1\" /><path clip-path=\"url(#clip700)\" d=\"M 0 0 M2029.01 640.681 L2029.01 642.764 L2009.43 642.764 Q2009.71 647.162 2012.07 649.477 Q2014.45 651.769 2018.69 651.769 Q2021.14 651.769 2023.44 651.167 Q2025.75 650.565 2028.02 649.361 L2028.02 653.389 Q2025.73 654.361 2023.32 654.871 Q2020.91 655.38 2018.44 655.38 Q2012.23 655.38 2008.6 651.769 Q2004.99 648.158 2004.99 642 Q2004.99 635.635 2008.41 631.908 Q2011.86 628.158 2017.7 628.158 Q2022.93 628.158 2025.96 631.537 Q2029.01 634.894 2029.01 640.681 M2024.76 639.431 Q2024.71 635.936 2022.79 633.852 Q2020.89 631.769 2017.74 631.769 Q2014.18 631.769 2012.02 633.783 Q2009.89 635.797 2009.57 639.454 L2024.76 639.431 Z\" fill=\"#000000\" fill-rule=\"evenodd\" fill-opacity=\"1\" /><path clip-path=\"url(#clip700)\" d=\"M 0 0 M2048.51 632.764 Q2047.79 632.348 2046.93 632.162 Q2046.1 631.954 2045.08 631.954 Q2041.47 631.954 2039.52 634.315 Q2037.6 636.653 2037.6 641.051 L2037.6 654.709 L2033.32 654.709 L2033.32 628.783 L2037.6 628.783 L2037.6 632.811 Q2038.95 630.449 2041.1 629.315 Q2043.25 628.158 2046.33 628.158 Q2046.77 628.158 2047.3 628.227 Q2047.83 628.274 2048.48 628.389 L2048.51 632.764 Z\" fill=\"#000000\" fill-rule=\"evenodd\" fill-opacity=\"1\" /><path clip-path=\"url(#clip700)\" d=\"M 0 0 M2061.98 631.769 Q2058.55 631.769 2056.56 634.454 Q2054.57 637.116 2054.57 641.769 Q2054.57 646.422 2056.54 649.107 Q2058.53 651.769 2061.98 651.769 Q2065.38 651.769 2067.37 649.084 Q2069.36 646.398 2069.36 641.769 Q2069.36 637.162 2067.37 634.477 Q2065.38 631.769 2061.98 631.769 M2061.98 628.158 Q2067.53 628.158 2070.7 631.769 Q2073.88 635.38 2073.88 641.769 Q2073.88 648.135 2070.7 651.769 Q2067.53 655.38 2061.98 655.38 Q2056.4 655.38 2053.23 651.769 Q2050.08 648.135 2050.08 641.769 Q2050.08 635.38 2053.23 631.769 Q2056.4 628.158 2061.98 628.158 Z\" fill=\"#000000\" fill-rule=\"evenodd\" fill-opacity=\"1\" /><path clip-path=\"url(#clip700)\" d=\"M 0 0 M2095.4 632.718 L2095.4 618.69 L2099.66 618.69 L2099.66 654.709 L2095.4 654.709 L2095.4 650.82 Q2094.06 653.135 2092 654.269 Q2089.96 655.38 2087.09 655.38 Q2082.39 655.38 2079.43 651.63 Q2076.49 647.88 2076.49 641.769 Q2076.49 635.658 2079.43 631.908 Q2082.39 628.158 2087.09 628.158 Q2089.96 628.158 2092 629.292 Q2094.06 630.403 2095.4 632.718 M2080.89 641.769 Q2080.89 646.468 2082.81 649.153 Q2084.76 651.815 2088.13 651.815 Q2091.51 651.815 2093.46 649.153 Q2095.4 646.468 2095.4 641.769 Q2095.4 637.07 2093.46 634.408 Q2091.51 631.723 2088.13 631.723 Q2084.76 631.723 2082.81 634.408 Q2080.89 637.07 2080.89 641.769 Z\" fill=\"#000000\" fill-rule=\"evenodd\" fill-opacity=\"1\" /><path clip-path=\"url(#clip700)\" d=\"M 0 0 M2119.15 632.764 Q2118.44 632.348 2117.58 632.162 Q2116.75 631.954 2115.73 631.954 Q2112.12 631.954 2110.17 634.315 Q2108.25 636.653 2108.25 641.051 L2108.25 654.709 L2103.97 654.709 L2103.97 628.783 L2108.25 628.783 L2108.25 632.811 Q2109.59 630.449 2111.75 629.315 Q2113.9 628.158 2116.98 628.158 Q2117.42 628.158 2117.95 628.227 Q2118.48 628.274 2119.13 628.389 L2119.15 632.764 Z\" fill=\"#000000\" fill-rule=\"evenodd\" fill-opacity=\"1\" /><path clip-path=\"url(#clip700)\" d=\"M 0 0 M2135.4 641.676 Q2130.24 641.676 2128.25 642.857 Q2126.26 644.037 2126.26 646.885 Q2126.26 649.153 2127.74 650.496 Q2129.25 651.815 2131.82 651.815 Q2135.36 651.815 2137.49 649.315 Q2139.64 646.792 2139.64 642.625 L2139.64 641.676 L2135.4 641.676 M2143.9 639.917 L2143.9 654.709 L2139.64 654.709 L2139.64 650.773 Q2138.18 653.135 2136.01 654.269 Q2133.83 655.38 2130.68 655.38 Q2126.7 655.38 2124.34 653.158 Q2122 650.912 2122 647.162 Q2122 642.787 2124.92 640.565 Q2127.86 638.343 2133.67 638.343 L2139.64 638.343 L2139.64 637.926 Q2139.64 634.987 2137.69 633.389 Q2135.77 631.769 2132.28 631.769 Q2130.06 631.769 2127.95 632.301 Q2125.84 632.834 2123.9 633.899 L2123.9 629.963 Q2126.24 629.061 2128.44 628.621 Q2130.63 628.158 2132.72 628.158 Q2138.34 628.158 2141.12 631.074 Q2143.9 633.991 2143.9 639.917 Z\" fill=\"#000000\" fill-rule=\"evenodd\" fill-opacity=\"1\" /><path clip-path=\"url(#clip700)\" d=\"M 0 0 M2168.55 633.76 Q2170.15 630.889 2172.37 629.524 Q2174.59 628.158 2177.6 628.158 Q2181.65 628.158 2183.85 631.005 Q2186.05 633.829 2186.05 639.061 L2186.05 654.709 L2181.77 654.709 L2181.77 639.199 Q2181.77 635.473 2180.45 633.667 Q2179.13 631.862 2176.42 631.862 Q2173.11 631.862 2171.19 634.061 Q2169.27 636.26 2169.27 640.056 L2169.27 654.709 L2164.99 654.709 L2164.99 639.199 Q2164.99 635.449 2163.67 633.667 Q2162.35 631.862 2159.59 631.862 Q2156.33 631.862 2154.41 634.084 Q2152.49 636.283 2152.49 640.056 L2152.49 654.709 L2148.2 654.709 L2148.2 628.783 L2152.49 628.783 L2152.49 632.811 Q2153.94 630.426 2155.98 629.292 Q2158.02 628.158 2160.82 628.158 Q2163.64 628.158 2165.61 629.593 Q2167.6 631.028 2168.55 633.76 Z\" fill=\"#000000\" fill-rule=\"evenodd\" fill-opacity=\"1\" /><path clip-path=\"url(#clip700)\" d=\"M 0 0 M2190.08 644.477 L2190.08 628.783 L2194.34 628.783 L2194.34 644.315 Q2194.34 647.996 2195.77 649.848 Q2197.21 651.676 2200.08 651.676 Q2203.53 651.676 2205.52 649.477 Q2207.53 647.278 2207.53 643.482 L2207.53 628.783 L2211.79 628.783 L2211.79 654.709 L2207.53 654.709 L2207.53 650.727 Q2205.98 653.088 2203.92 654.246 Q2201.88 655.38 2199.18 655.38 Q2194.71 655.38 2192.39 652.602 Q2190.08 649.824 2190.08 644.477 M2200.8 628.158 L2200.8 628.158 Z\" fill=\"#000000\" fill-rule=\"evenodd\" fill-opacity=\"1\" /><path clip-path=\"url(#clip700)\" d=\"M 0 0 M2232.79 629.547 L2232.79 633.574 Q2230.98 632.649 2229.04 632.186 Q2227.09 631.723 2225.01 631.723 Q2221.84 631.723 2220.24 632.695 Q2218.67 633.667 2218.67 635.611 Q2218.67 637.093 2219.8 637.949 Q2220.94 638.783 2224.36 639.547 L2225.82 639.871 Q2230.36 640.843 2232.25 642.625 Q2234.18 644.385 2234.18 647.556 Q2234.18 651.167 2231.31 653.273 Q2228.46 655.38 2223.46 655.38 Q2221.38 655.38 2219.11 654.963 Q2216.86 654.57 2214.36 653.76 L2214.36 649.361 Q2216.72 650.588 2219.01 651.213 Q2221.31 651.815 2223.55 651.815 Q2226.56 651.815 2228.18 650.797 Q2229.8 649.755 2229.8 647.88 Q2229.8 646.144 2228.62 645.218 Q2227.46 644.292 2223.5 643.436 L2222.02 643.088 Q2218.06 642.255 2216.31 640.542 Q2214.55 638.806 2214.55 635.797 Q2214.55 632.139 2217.14 630.149 Q2219.73 628.158 2224.5 628.158 Q2226.86 628.158 2228.94 628.505 Q2231.03 628.852 2232.79 629.547 Z\" fill=\"#000000\" fill-rule=\"evenodd\" fill-opacity=\"1\" /><circle clip-path=\"url(#clip700)\" cx=\"1876.67\" cy=\"697.909\" r=\"23\" fill=\"#8e971d\" fill-rule=\"evenodd\" fill-opacity=\"0.5\" stroke=\"#000000\" stroke-opacity=\"0.5\" stroke-width=\"5.12\"/>\n",
       "<path clip-path=\"url(#clip700)\" d=\"M 0 0 M1976.21 684.471 L1976.21 697.457 L1982.09 697.457 Q1985.36 697.457 1987.14 695.767 Q1988.92 694.078 1988.92 690.953 Q1988.92 687.851 1987.14 686.161 Q1985.36 684.471 1982.09 684.471 L1976.21 684.471 M1971.54 680.629 L1982.09 680.629 Q1987.9 680.629 1990.87 683.267 Q1993.85 685.883 1993.85 690.953 Q1993.85 696.068 1990.87 698.684 Q1987.9 701.3 1982.09 701.3 L1976.21 701.3 L1976.21 715.189 L1971.54 715.189 L1971.54 680.629 Z\" fill=\"#000000\" fill-rule=\"evenodd\" fill-opacity=\"1\" /><path clip-path=\"url(#clip700)\" d=\"M 0 0 M2019.87 699.541 L2019.87 715.189 L2015.61 715.189 L2015.61 699.679 Q2015.61 695.999 2014.18 694.17 Q2012.74 692.342 2009.87 692.342 Q2006.42 692.342 2004.43 694.541 Q2002.44 696.74 2002.44 700.536 L2002.44 715.189 L1998.16 715.189 L1998.16 679.17 L2002.44 679.17 L2002.44 693.291 Q2003.97 690.953 2006.03 689.795 Q2008.11 688.638 2010.82 688.638 Q2015.29 688.638 2017.58 691.416 Q2019.87 694.17 2019.87 699.541 Z\" fill=\"#000000\" fill-rule=\"evenodd\" fill-opacity=\"1\" /><path clip-path=\"url(#clip700)\" d=\"M 0 0 M2046.51 701.161 L2046.51 703.244 L2026.93 703.244 Q2027.21 707.642 2029.57 709.957 Q2031.95 712.249 2036.19 712.249 Q2038.64 712.249 2040.94 711.647 Q2043.25 711.045 2045.52 709.841 L2045.52 713.869 Q2043.23 714.841 2040.82 715.351 Q2038.41 715.86 2035.94 715.86 Q2029.73 715.86 2026.1 712.249 Q2022.49 708.638 2022.49 702.48 Q2022.49 696.115 2025.91 692.388 Q2029.36 688.638 2035.2 688.638 Q2040.43 688.638 2043.46 692.017 Q2046.51 695.374 2046.51 701.161 M2042.26 699.911 Q2042.21 696.416 2040.29 694.332 Q2038.39 692.249 2035.24 692.249 Q2031.68 692.249 2029.52 694.263 Q2027.39 696.277 2027.07 699.934 L2042.26 699.911 Z\" fill=\"#000000\" fill-rule=\"evenodd\" fill-opacity=\"1\" /><path clip-path=\"url(#clip700)\" d=\"M 0 0 M2068.04 693.198 L2068.04 679.17 L2072.3 679.17 L2072.3 715.189 L2068.04 715.189 L2068.04 711.3 Q2066.7 713.615 2064.64 714.749 Q2062.6 715.86 2059.73 715.86 Q2055.03 715.86 2052.07 712.11 Q2049.13 708.36 2049.13 702.249 Q2049.13 696.138 2052.07 692.388 Q2055.03 688.638 2059.73 688.638 Q2062.6 688.638 2064.64 689.772 Q2066.7 690.883 2068.04 693.198 M2053.53 702.249 Q2053.53 706.948 2055.45 709.633 Q2057.39 712.295 2060.77 712.295 Q2064.15 712.295 2066.1 709.633 Q2068.04 706.948 2068.04 702.249 Q2068.04 697.55 2066.1 694.888 Q2064.15 692.203 2060.77 692.203 Q2057.39 692.203 2055.45 694.888 Q2053.53 697.55 2053.53 702.249 Z\" fill=\"#000000\" fill-rule=\"evenodd\" fill-opacity=\"1\" /><path clip-path=\"url(#clip700)\" d=\"M 0 0 M2076.77 689.263 L2081.03 689.263 L2081.03 715.189 L2076.77 715.189 L2076.77 689.263 M2076.77 679.17 L2081.03 679.17 L2081.03 684.564 L2076.77 684.564 L2076.77 679.17 Z\" fill=\"#000000\" fill-rule=\"evenodd\" fill-opacity=\"1\" /><path clip-path=\"url(#clip700)\" d=\"M 0 0 M2107.05 699.541 L2107.05 715.189 L2102.79 715.189 L2102.79 699.679 Q2102.79 695.999 2101.35 694.17 Q2099.92 692.342 2097.05 692.342 Q2093.6 692.342 2091.61 694.541 Q2089.62 696.74 2089.62 700.536 L2089.62 715.189 L2085.33 715.189 L2085.33 689.263 L2089.62 689.263 L2089.62 693.291 Q2091.14 690.953 2093.2 689.795 Q2095.29 688.638 2098 688.638 Q2102.46 688.638 2104.76 691.416 Q2107.05 694.17 2107.05 699.541 Z\" fill=\"#000000\" fill-rule=\"evenodd\" fill-opacity=\"1\" /><path clip-path=\"url(#clip700)\" d=\"M 0 0 M2123.3 702.156 Q2118.13 702.156 2116.14 703.337 Q2114.15 704.517 2114.15 707.365 Q2114.15 709.633 2115.63 710.976 Q2117.14 712.295 2119.71 712.295 Q2123.25 712.295 2125.38 709.795 Q2127.53 707.272 2127.53 703.105 L2127.53 702.156 L2123.3 702.156 M2131.79 700.397 L2131.79 715.189 L2127.53 715.189 L2127.53 711.253 Q2126.07 713.615 2123.9 714.749 Q2121.72 715.86 2118.57 715.86 Q2114.59 715.86 2112.23 713.638 Q2109.89 711.392 2109.89 707.642 Q2109.89 703.267 2112.81 701.045 Q2115.75 698.823 2121.56 698.823 L2127.53 698.823 L2127.53 698.406 Q2127.53 695.467 2125.59 693.869 Q2123.67 692.249 2120.17 692.249 Q2117.95 692.249 2115.84 692.781 Q2113.74 693.314 2111.79 694.379 L2111.79 690.443 Q2114.13 689.541 2116.33 689.101 Q2118.53 688.638 2120.61 688.638 Q2126.24 688.638 2129.01 691.554 Q2131.79 694.471 2131.79 700.397 Z\" fill=\"#000000\" fill-rule=\"evenodd\" fill-opacity=\"1\" /></svg>\n"
      ]
     },
     "metadata": {},
     "output_type": "display_data"
    }
   ],
   "source": [
    "function gethpds(df)\n",
    "    ages = [x.mrca.data for x in eachrow(df)]\n",
    "    abunds = collect(zip(df[:Minimum], df[:Maximum]))\n",
    "    return ages, abunds\n",
    "end\n",
    "\n",
    "nsamps = 10\n",
    "ages, abunds = gethpds(df)\n",
    "plt = []\n",
    "plot()\n",
    "for i in 1:length(ages)\n",
    "    # Get 95% HPD on height\n",
    "    height_mean = ages[i][\"height\"]\n",
    "    height_min, height_max = ages[i][\"height_range\"]\n",
    "    height_sd = sqrt(100) * (height_max - height_min)/3.92\n",
    "    heights = rand(TruncatedNormal(height_mean, height_sd, height_min, height_max), nsamps)\n",
    "\n",
    "    abund_mean = (abunds[i][1] + abunds[i][2])/2\n",
    "    abund_sd = sqrt(100) * (abunds[i][2]+1 - abunds[i][1])/3.92\n",
    "    abund = rand(TruncatedNormal(abund_mean, abund_sd, abunds[i][1], abunds[i][2]+1), nsamps)\n",
    "    plt = scatter!(heights, abund, xaxis=(\"Age (Mya)\"),\n",
    "                        yaxis=(\"Abundance (log10)\", :log),\n",
    "#                        c=distinguishable_colors(10),\n",
    "#                        c=colormap(\"Blues\", 10),\n",
    "                        markeralpha=0.5,\n",
    "                        title=\"\",\n",
    "                        label=df.Genus[i])\n",
    "end\n",
    "display(plt)"
   ]
  },
  {
   "cell_type": "code",
   "execution_count": 16,
   "metadata": {},
   "outputs": [
    {
     "data": {
      "text/plain": [
       "Dict{String,Any} with 13 entries:\n",
       "  \"rate_95%_HPD\"   => [0.00304144, 0.0276798]\n",
       "  \"length_median\"  => 1.48356\n",
       "  \"rate\"           => 0.0143389\n",
       "  \"length_range\"   => [0.373883, 6.3083]\n",
       "  \"height_range\"   => [1.52923e-6, 1.51957]\n",
       "  \"length\"         => 1.57452\n",
       "  \"height\"         => 0.0674896\n",
       "  \"rate_median\"    => 0.0133214\n",
       "  \"length_95%_HPD\" => [0.629274, 2.72531]\n",
       "  \"rate_range\"     => [0.000703024, 0.0762231]\n",
       "  \"height_95%_HPD\" => [1.52923e-6, 0.223422]\n",
       "  \"height_median\"  => 0.039872\n",
       "  \"posterior\"      => 1.0"
      ]
     },
     "execution_count": 16,
     "metadata": {},
     "output_type": "execute_result"
    }
   ],
   "source": [
    "ages[2]\n",
    "#abunds"
   ]
  },
  {
   "cell_type": "markdown",
   "metadata": {},
   "source": [
    "# Prototyping and experimentation below here"
   ]
  },
  {
   "cell_type": "markdown",
   "metadata": {},
   "source": [
    "## Get the tree and clade age"
   ]
  },
  {
   "cell_type": "code",
   "execution_count": 98,
   "metadata": {},
   "outputs": [
    {
     "name": "stderr",
     "output_type": "stream",
     "text": [
      "┌ Info: Created a tree called \"TREE1\"\n",
      "└ @ Phylo /home/isaac/tmp/julia/Phylo.jl/src/newick.jl:500\n"
     ]
    },
    {
     "data": {
      "text/plain": [
       "TreeSet with 1 trees, each with 46 tips.\n",
       "Tree names are TREE1\n",
       "\n",
       "TREE1: LinkTree{OneRoot,String,LinkNode{OneRoot,String,Dict{String,Any},LinkBranch{OneRoot,String,Dict{String,Any},Float64}},LinkBranch{OneRoot,String,Dict{String,Any},Float64},Dict{String,Any}} with 46 tips, 91 nodes and 90 branches.\n",
       "Leaf names are Saxicola_caprata_Indonesia_EU421124, Saxicola_caprata_Indonesia_CytB_EU421122_, Saxicola_caprata_Indonesia_CytB_EU421123, Saxicola_caprata_Indonesia_CytB_HM633373_, Saxicola_insignis_Nepal_CytB_EU421117_, ... [40 omitted] ... and Saxicola_torquata_Nepal_CytB_EU421088_\n"
      ]
     },
     "execution_count": 98,
     "metadata": {},
     "output_type": "execute_result"
    }
   ],
   "source": [
    "ts = open(parsenexus, Phylo.path(\"/home/isaac/tmp/julia/SAADs_Toy_Dataset/Saxicola/Saxicola_maxcred.tre\"))"
   ]
  },
  {
   "cell_type": "code",
   "execution_count": 99,
   "metadata": {},
   "outputs": [
    {
     "data": {
      "image/svg+xml": [
       "<?xml version=\"1.0\" encoding=\"utf-8\"?>\n",
       "<svg xmlns=\"http://www.w3.org/2000/svg\" xmlns:xlink=\"http://www.w3.org/1999/xlink\" width=\"1000\" height=\"1000\" viewBox=\"0 0 4000 4000\">\n",
       "<defs>\n",
       "  <clipPath id=\"clip900\">\n",
       "    <rect x=\"0\" y=\"0\" width=\"4000\" height=\"4000\"/>\n",
       "  </clipPath>\n",
       "</defs>\n",
       "<path clip-path=\"url(#clip900)\" d=\"\n",
       "M0 4000 L4000 4000 L4000 0 L0 0  Z\n",
       "  \" fill=\"#ffffff\" fill-rule=\"evenodd\" fill-opacity=\"1\"/>\n",
       "<defs>\n",
       "  <clipPath id=\"clip901\">\n",
       "    <rect x=\"800\" y=\"400\" width=\"2801\" height=\"2801\"/>\n",
       "  </clipPath>\n",
       "</defs>\n",
       "<path clip-path=\"url(#clip900)\" d=\"\n",
       "M155.191 3845.17 L3952.76 3845.17 L3952.76 47.2441 L155.191 47.2441  Z\n",
       "  \" fill=\"#ffffff\" fill-rule=\"evenodd\" fill-opacity=\"1\"/>\n",
       "<defs>\n",
       "  <clipPath id=\"clip902\">\n",
       "    <rect x=\"155\" y=\"47\" width=\"3799\" height=\"3799\"/>\n",
       "  </clipPath>\n",
       "</defs>\n",
       "<polyline clip-path=\"url(#clip902)\" style=\"stroke:#000000; stroke-width:4; stroke-opacity:1; fill:none\" points=\"\n",
       "  313.423,2774.44 313.423,3493.84 1208.78,3493.84 \n",
       "  \"/>\n",
       "<polyline clip-path=\"url(#clip902)\" style=\"stroke:#000000; stroke-width:4; stroke-opacity:1; fill:none\" points=\"\n",
       "  1208.78,3493.84 1208.78,3568.48 3285.07,3568.48 \n",
       "  \"/>\n",
       "<polyline clip-path=\"url(#clip902)\" style=\"stroke:#000000; stroke-width:4; stroke-opacity:1; fill:none\" points=\"\n",
       "  3285.07,3568.48 3285.07,3638.15 3376.48,3638.15 \n",
       "  \"/>\n",
       "<polyline clip-path=\"url(#clip902)\" style=\"stroke:#000000; stroke-width:4; stroke-opacity:1; fill:none\" points=\"\n",
       "  3376.48,3638.15 3376.48,3697.87 3430.75,3697.87 \n",
       "  \"/>\n",
       "<polyline clip-path=\"url(#clip902)\" style=\"stroke:#000000; stroke-width:4; stroke-opacity:1; fill:none\" points=\"\n",
       "  3430.75,3697.87 3430.75,3737.68 3478.06,3737.68 \n",
       "  \"/>\n",
       "<polyline clip-path=\"url(#clip902)\" style=\"stroke:#000000; stroke-width:4; stroke-opacity:1; fill:none\" points=\"\n",
       "  3430.75,3697.87 3430.75,3658.06 3478.06,3658.06 \n",
       "  \"/>\n",
       "<polyline clip-path=\"url(#clip902)\" style=\"stroke:#000000; stroke-width:4; stroke-opacity:1; fill:none\" points=\"\n",
       "  3376.48,3638.15 3376.48,3578.44 3478.06,3578.44 \n",
       "  \"/>\n",
       "<polyline clip-path=\"url(#clip902)\" style=\"stroke:#000000; stroke-width:4; stroke-opacity:1; fill:none\" points=\"\n",
       "  3285.07,3568.48 3285.07,3498.82 3478.06,3498.82 \n",
       "  \"/>\n",
       "<polyline clip-path=\"url(#clip902)\" style=\"stroke:#000000; stroke-width:4; stroke-opacity:1; fill:none\" points=\"\n",
       "  1208.78,3493.84 1208.78,3419.2 3478.06,3419.2 \n",
       "  \"/>\n",
       "<polyline clip-path=\"url(#clip902)\" style=\"stroke:#000000; stroke-width:4; stroke-opacity:1; fill:none\" points=\"\n",
       "  313.423,2774.44 313.423,2055.04 935.515,2055.04 \n",
       "  \"/>\n",
       "<polyline clip-path=\"url(#clip902)\" style=\"stroke:#000000; stroke-width:4; stroke-opacity:1; fill:none\" points=\"\n",
       "  935.515,2055.04 935.515,3250 2605.72,3250 \n",
       "  \"/>\n",
       "<polyline clip-path=\"url(#clip902)\" style=\"stroke:#000000; stroke-width:4; stroke-opacity:1; fill:none\" points=\"\n",
       "  2605.72,3250 2605.72,3339.57 3478.06,3339.57 \n",
       "  \"/>\n",
       "<polyline clip-path=\"url(#clip902)\" style=\"stroke:#000000; stroke-width:4; stroke-opacity:1; fill:none\" points=\"\n",
       "  2605.72,3250 2605.72,3160.43 3431.34,3160.43 \n",
       "  \"/>\n",
       "<polyline clip-path=\"url(#clip902)\" style=\"stroke:#000000; stroke-width:4; stroke-opacity:1; fill:none\" points=\"\n",
       "  3431.34,3160.43 3431.34,3220.14 3461.11,3220.14 \n",
       "  \"/>\n",
       "<polyline clip-path=\"url(#clip902)\" style=\"stroke:#000000; stroke-width:4; stroke-opacity:1; fill:none\" points=\"\n",
       "  3461.11,3220.14 3461.11,3259.95 3478.06,3259.95 \n",
       "  \"/>\n",
       "<polyline clip-path=\"url(#clip902)\" style=\"stroke:#000000; stroke-width:4; stroke-opacity:1; fill:none\" points=\"\n",
       "  3461.11,3220.14 3461.11,3180.33 3478.06,3180.33 \n",
       "  \"/>\n",
       "<polyline clip-path=\"url(#clip902)\" style=\"stroke:#000000; stroke-width:4; stroke-opacity:1; fill:none\" points=\"\n",
       "  3431.34,3160.43 3431.34,3100.71 3478.06,3100.71 \n",
       "  \"/>\n",
       "<polyline clip-path=\"url(#clip902)\" style=\"stroke:#000000; stroke-width:4; stroke-opacity:1; fill:none\" points=\"\n",
       "  935.515,2055.04 935.515,860.086 1308.91,860.086 \n",
       "  \"/>\n",
       "<polyline clip-path=\"url(#clip902)\" style=\"stroke:#000000; stroke-width:4; stroke-opacity:1; fill:none\" points=\"\n",
       "  1308.91,860.086 1308.91,1505.72 1899.27,1505.72 \n",
       "  \"/>\n",
       "<polyline clip-path=\"url(#clip902)\" style=\"stroke:#000000; stroke-width:4; stroke-opacity:1; fill:none\" points=\"\n",
       "  1899.27,1505.72 1899.27,2115.25 2344.68,2115.25 \n",
       "  \"/>\n",
       "<polyline clip-path=\"url(#clip902)\" style=\"stroke:#000000; stroke-width:4; stroke-opacity:1; fill:none\" points=\"\n",
       "  2344.68,2115.25 2344.68,2493.29 2661.09,2493.29 \n",
       "  \"/>\n",
       "<polyline clip-path=\"url(#clip902)\" style=\"stroke:#000000; stroke-width:4; stroke-opacity:1; fill:none\" points=\"\n",
       "  2661.09,2493.29 2661.09,2896.06 2895.8,2896.06 \n",
       "  \"/>\n",
       "<polyline clip-path=\"url(#clip902)\" style=\"stroke:#000000; stroke-width:4; stroke-opacity:1; fill:none\" points=\"\n",
       "  2895.8,2896.06 2895.8,3021.09 3478.06,3021.09 \n",
       "  \"/>\n",
       "<polyline clip-path=\"url(#clip902)\" style=\"stroke:#000000; stroke-width:4; stroke-opacity:1; fill:none\" points=\"\n",
       "  2895.8,2896.06 2895.8,2771.03 3283.58,2771.03 \n",
       "  \"/>\n",
       "<polyline clip-path=\"url(#clip902)\" style=\"stroke:#000000; stroke-width:4; stroke-opacity:1; fill:none\" points=\"\n",
       "  3283.58,2771.03 3283.58,2941.47 3478.06,2941.47 \n",
       "  \"/>\n",
       "<polyline clip-path=\"url(#clip902)\" style=\"stroke:#000000; stroke-width:4; stroke-opacity:1; fill:none\" points=\"\n",
       "  3283.58,2771.03 3283.58,2600.59 3325.35,2600.59 \n",
       "  \"/>\n",
       "<polyline clip-path=\"url(#clip902)\" style=\"stroke:#000000; stroke-width:4; stroke-opacity:1; fill:none\" points=\"\n",
       "  3325.35,2600.59 3325.35,2737.44 3349.31,2737.44 \n",
       "  \"/>\n",
       "<polyline clip-path=\"url(#clip902)\" style=\"stroke:#000000; stroke-width:4; stroke-opacity:1; fill:none\" points=\"\n",
       "  3349.31,2737.44 3349.31,2861.85 3478.06,2861.85 \n",
       "  \"/>\n",
       "<polyline clip-path=\"url(#clip902)\" style=\"stroke:#000000; stroke-width:4; stroke-opacity:1; fill:none\" points=\"\n",
       "  3349.31,2737.44 3349.31,2613.03 3369.15,2613.03 \n",
       "  \"/>\n",
       "<polyline clip-path=\"url(#clip902)\" style=\"stroke:#000000; stroke-width:4; stroke-opacity:1; fill:none\" points=\"\n",
       "  3369.15,2613.03 3369.15,2682.7 3394.1,2682.7 \n",
       "  \"/>\n",
       "<polyline clip-path=\"url(#clip902)\" style=\"stroke:#000000; stroke-width:4; stroke-opacity:1; fill:none\" points=\"\n",
       "  3394.1,2682.7 3394.1,2742.42 3447.89,2742.42 \n",
       "  \"/>\n",
       "<polyline clip-path=\"url(#clip902)\" style=\"stroke:#000000; stroke-width:4; stroke-opacity:1; fill:none\" points=\"\n",
       "  3447.89,2742.42 3447.89,2782.23 3478.06,2782.23 \n",
       "  \"/>\n",
       "<polyline clip-path=\"url(#clip902)\" style=\"stroke:#000000; stroke-width:4; stroke-opacity:1; fill:none\" points=\"\n",
       "  3447.89,2742.42 3447.89,2702.61 3478.06,2702.61 \n",
       "  \"/>\n",
       "<polyline clip-path=\"url(#clip902)\" style=\"stroke:#000000; stroke-width:4; stroke-opacity:1; fill:none\" points=\"\n",
       "  3394.1,2682.7 3394.1,2622.98 3478.06,2622.98 \n",
       "  \"/>\n",
       "<polyline clip-path=\"url(#clip902)\" style=\"stroke:#000000; stroke-width:4; stroke-opacity:1; fill:none\" points=\"\n",
       "  3369.15,2613.03 3369.15,2543.36 3478.06,2543.36 \n",
       "  \"/>\n",
       "<polyline clip-path=\"url(#clip902)\" style=\"stroke:#000000; stroke-width:4; stroke-opacity:1; fill:none\" points=\"\n",
       "  3325.35,2600.59 3325.35,2463.74 3478.06,2463.74 \n",
       "  \"/>\n",
       "<polyline clip-path=\"url(#clip902)\" style=\"stroke:#000000; stroke-width:4; stroke-opacity:1; fill:none\" points=\"\n",
       "  2661.09,2493.29 2661.09,2090.52 3232.34,2090.52 \n",
       "  \"/>\n",
       "<polyline clip-path=\"url(#clip902)\" style=\"stroke:#000000; stroke-width:4; stroke-opacity:1; fill:none\" points=\"\n",
       "  3232.34,2090.52 3232.34,2214.93 3337,2214.93 \n",
       "  \"/>\n",
       "<polyline clip-path=\"url(#clip902)\" style=\"stroke:#000000; stroke-width:4; stroke-opacity:1; fill:none\" points=\"\n",
       "  3337,2214.93 3337,2284.6 3397.15,2284.6 \n",
       "  \"/>\n",
       "<polyline clip-path=\"url(#clip902)\" style=\"stroke:#000000; stroke-width:4; stroke-opacity:1; fill:none\" points=\"\n",
       "  3397.15,2284.6 3397.15,2344.31 3436.62,2344.31 \n",
       "  \"/>\n",
       "<polyline clip-path=\"url(#clip902)\" style=\"stroke:#000000; stroke-width:4; stroke-opacity:1; fill:none\" points=\"\n",
       "  3436.62,2344.31 3436.62,2384.12 3478.06,2384.12 \n",
       "  \"/>\n",
       "<polyline clip-path=\"url(#clip902)\" style=\"stroke:#000000; stroke-width:4; stroke-opacity:1; fill:none\" points=\"\n",
       "  3436.62,2344.31 3436.62,2304.5 3478.06,2304.5 \n",
       "  \"/>\n",
       "<polyline clip-path=\"url(#clip902)\" style=\"stroke:#000000; stroke-width:4; stroke-opacity:1; fill:none\" points=\"\n",
       "  3397.15,2284.6 3397.15,2224.88 3478.06,2224.88 \n",
       "  \"/>\n",
       "<polyline clip-path=\"url(#clip902)\" style=\"stroke:#000000; stroke-width:4; stroke-opacity:1; fill:none\" points=\"\n",
       "  3337,2214.93 3337,2145.26 3478.06,2145.26 \n",
       "  \"/>\n",
       "<polyline clip-path=\"url(#clip902)\" style=\"stroke:#000000; stroke-width:4; stroke-opacity:1; fill:none\" points=\"\n",
       "  3232.34,2090.52 3232.34,1966.11 3364.05,1966.11 \n",
       "  \"/>\n",
       "<polyline clip-path=\"url(#clip902)\" style=\"stroke:#000000; stroke-width:4; stroke-opacity:1; fill:none\" points=\"\n",
       "  3364.05,1966.11 3364.05,2025.83 3447.66,2025.83 \n",
       "  \"/>\n",
       "<polyline clip-path=\"url(#clip902)\" style=\"stroke:#000000; stroke-width:4; stroke-opacity:1; fill:none\" points=\"\n",
       "  3447.66,2025.83 3447.66,2065.64 3478.06,2065.64 \n",
       "  \"/>\n",
       "<polyline clip-path=\"url(#clip902)\" style=\"stroke:#000000; stroke-width:4; stroke-opacity:1; fill:none\" points=\"\n",
       "  3447.66,2025.83 3447.66,1986.02 3478.06,1986.02 \n",
       "  \"/>\n",
       "<polyline clip-path=\"url(#clip902)\" style=\"stroke:#000000; stroke-width:4; stroke-opacity:1; fill:none\" points=\"\n",
       "  3364.05,1966.11 3364.05,1906.4 3478.06,1906.4 \n",
       "  \"/>\n",
       "<polyline clip-path=\"url(#clip902)\" style=\"stroke:#000000; stroke-width:4; stroke-opacity:1; fill:none\" points=\"\n",
       "  2344.68,2115.25 2344.68,1737.2 3088.72,1737.2 \n",
       "  \"/>\n",
       "<polyline clip-path=\"url(#clip902)\" style=\"stroke:#000000; stroke-width:4; stroke-opacity:1; fill:none\" points=\"\n",
       "  3088.72,1737.2 3088.72,1826.77 3478.06,1826.77 \n",
       "  \"/>\n",
       "<polyline clip-path=\"url(#clip902)\" style=\"stroke:#000000; stroke-width:4; stroke-opacity:1; fill:none\" points=\"\n",
       "  3088.72,1737.2 3088.72,1647.63 3262.39,1647.63 \n",
       "  \"/>\n",
       "<polyline clip-path=\"url(#clip902)\" style=\"stroke:#000000; stroke-width:4; stroke-opacity:1; fill:none\" points=\"\n",
       "  3262.39,1647.63 3262.39,1707.34 3394.28,1707.34 \n",
       "  \"/>\n",
       "<polyline clip-path=\"url(#clip902)\" style=\"stroke:#000000; stroke-width:4; stroke-opacity:1; fill:none\" points=\"\n",
       "  3394.28,1707.34 3394.28,1747.15 3478.06,1747.15 \n",
       "  \"/>\n",
       "<polyline clip-path=\"url(#clip902)\" style=\"stroke:#000000; stroke-width:4; stroke-opacity:1; fill:none\" points=\"\n",
       "  3394.28,1707.34 3394.28,1667.53 3478.06,1667.53 \n",
       "  \"/>\n",
       "<polyline clip-path=\"url(#clip902)\" style=\"stroke:#000000; stroke-width:4; stroke-opacity:1; fill:none\" points=\"\n",
       "  3262.39,1647.63 3262.39,1587.91 3478.06,1587.91 \n",
       "  \"/>\n",
       "<polyline clip-path=\"url(#clip902)\" style=\"stroke:#000000; stroke-width:4; stroke-opacity:1; fill:none\" points=\"\n",
       "  1899.27,1505.72 1899.27,896.203 2182.65,896.203 \n",
       "  \"/>\n",
       "<polyline clip-path=\"url(#clip902)\" style=\"stroke:#000000; stroke-width:4; stroke-opacity:1; fill:none\" points=\"\n",
       "  2182.65,896.203 2182.65,1199.76 2459.01,1199.76 \n",
       "  \"/>\n",
       "<polyline clip-path=\"url(#clip902)\" style=\"stroke:#000000; stroke-width:4; stroke-opacity:1; fill:none\" points=\"\n",
       "  2459.01,1199.76 2459.01,1359 3376.41,1359 \n",
       "  \"/>\n",
       "<polyline clip-path=\"url(#clip902)\" style=\"stroke:#000000; stroke-width:4; stroke-opacity:1; fill:none\" points=\"\n",
       "  3376.41,1359 3376.41,1448.57 3416.86,1448.57 \n",
       "  \"/>\n",
       "<polyline clip-path=\"url(#clip902)\" style=\"stroke:#000000; stroke-width:4; stroke-opacity:1; fill:none\" points=\"\n",
       "  3416.86,1448.57 3416.86,1508.29 3478.06,1508.29 \n",
       "  \"/>\n",
       "<polyline clip-path=\"url(#clip902)\" style=\"stroke:#000000; stroke-width:4; stroke-opacity:1; fill:none\" points=\"\n",
       "  3416.86,1448.57 3416.86,1388.86 3449.42,1388.86 \n",
       "  \"/>\n",
       "<polyline clip-path=\"url(#clip902)\" style=\"stroke:#000000; stroke-width:4; stroke-opacity:1; fill:none\" points=\"\n",
       "  3449.42,1388.86 3449.42,1428.67 3478.06,1428.67 \n",
       "  \"/>\n",
       "<polyline clip-path=\"url(#clip902)\" style=\"stroke:#000000; stroke-width:4; stroke-opacity:1; fill:none\" points=\"\n",
       "  3449.42,1388.86 3449.42,1349.05 3478.06,1349.05 \n",
       "  \"/>\n",
       "<polyline clip-path=\"url(#clip902)\" style=\"stroke:#000000; stroke-width:4; stroke-opacity:1; fill:none\" points=\"\n",
       "  3376.41,1359 3376.41,1269.43 3478.06,1269.43 \n",
       "  \"/>\n",
       "<polyline clip-path=\"url(#clip902)\" style=\"stroke:#000000; stroke-width:4; stroke-opacity:1; fill:none\" points=\"\n",
       "  2459.01,1199.76 2459.01,1040.52 3328.95,1040.52 \n",
       "  \"/>\n",
       "<polyline clip-path=\"url(#clip902)\" style=\"stroke:#000000; stroke-width:4; stroke-opacity:1; fill:none\" points=\"\n",
       "  3328.95,1040.52 3328.95,1150 3442.78,1150 \n",
       "  \"/>\n",
       "<polyline clip-path=\"url(#clip902)\" style=\"stroke:#000000; stroke-width:4; stroke-opacity:1; fill:none\" points=\"\n",
       "  3442.78,1150 3442.78,1189.81 3478.06,1189.81 \n",
       "  \"/>\n",
       "<polyline clip-path=\"url(#clip902)\" style=\"stroke:#000000; stroke-width:4; stroke-opacity:1; fill:none\" points=\"\n",
       "  3442.78,1150 3442.78,1110.19 3478.06,1110.19 \n",
       "  \"/>\n",
       "<polyline clip-path=\"url(#clip902)\" style=\"stroke:#000000; stroke-width:4; stroke-opacity:1; fill:none\" points=\"\n",
       "  3328.95,1040.52 3328.95,931.038 3395.92,931.038 \n",
       "  \"/>\n",
       "<polyline clip-path=\"url(#clip902)\" style=\"stroke:#000000; stroke-width:4; stroke-opacity:1; fill:none\" points=\"\n",
       "  3395.92,931.038 3395.92,990.753 3449.99,990.753 \n",
       "  \"/>\n",
       "<polyline clip-path=\"url(#clip902)\" style=\"stroke:#000000; stroke-width:4; stroke-opacity:1; fill:none\" points=\"\n",
       "  3449.99,990.753 3449.99,1030.56 3478.06,1030.56 \n",
       "  \"/>\n",
       "<polyline clip-path=\"url(#clip902)\" style=\"stroke:#000000; stroke-width:4; stroke-opacity:1; fill:none\" points=\"\n",
       "  3449.99,990.753 3449.99,950.943 3478.06,950.943 \n",
       "  \"/>\n",
       "<polyline clip-path=\"url(#clip902)\" style=\"stroke:#000000; stroke-width:4; stroke-opacity:1; fill:none\" points=\"\n",
       "  3395.92,931.038 3395.92,871.322 3478.06,871.322 \n",
       "  \"/>\n",
       "<polyline clip-path=\"url(#clip902)\" style=\"stroke:#000000; stroke-width:4; stroke-opacity:1; fill:none\" points=\"\n",
       "  2182.65,896.203 2182.65,592.648 3248.34,592.648 \n",
       "  \"/>\n",
       "<polyline clip-path=\"url(#clip902)\" style=\"stroke:#000000; stroke-width:4; stroke-opacity:1; fill:none\" points=\"\n",
       "  3248.34,592.648 3248.34,731.985 3345.35,731.985 \n",
       "  \"/>\n",
       "<polyline clip-path=\"url(#clip902)\" style=\"stroke:#000000; stroke-width:4; stroke-opacity:1; fill:none\" points=\"\n",
       "  3345.35,731.985 3345.35,791.701 3478.06,791.701 \n",
       "  \"/>\n",
       "<polyline clip-path=\"url(#clip902)\" style=\"stroke:#000000; stroke-width:4; stroke-opacity:1; fill:none\" points=\"\n",
       "  3345.35,731.985 3345.35,672.269 3422.7,672.269 \n",
       "  \"/>\n",
       "<polyline clip-path=\"url(#clip902)\" style=\"stroke:#000000; stroke-width:4; stroke-opacity:1; fill:none\" points=\"\n",
       "  3422.7,672.269 3422.7,712.08 3478.06,712.08 \n",
       "  \"/>\n",
       "<polyline clip-path=\"url(#clip902)\" style=\"stroke:#000000; stroke-width:4; stroke-opacity:1; fill:none\" points=\"\n",
       "  3422.7,672.269 3422.7,632.459 3478.06,632.459 \n",
       "  \"/>\n",
       "<polyline clip-path=\"url(#clip902)\" style=\"stroke:#000000; stroke-width:4; stroke-opacity:1; fill:none\" points=\"\n",
       "  3248.34,592.648 3248.34,453.311 3327.11,453.311 \n",
       "  \"/>\n",
       "<polyline clip-path=\"url(#clip902)\" style=\"stroke:#000000; stroke-width:4; stroke-opacity:1; fill:none\" points=\"\n",
       "  3327.11,453.311 3327.11,513.027 3357.49,513.027 \n",
       "  \"/>\n",
       "<polyline clip-path=\"url(#clip902)\" style=\"stroke:#000000; stroke-width:4; stroke-opacity:1; fill:none\" points=\"\n",
       "  3357.49,513.027 3357.49,552.838 3478.06,552.838 \n",
       "  \"/>\n",
       "<polyline clip-path=\"url(#clip902)\" style=\"stroke:#000000; stroke-width:4; stroke-opacity:1; fill:none\" points=\"\n",
       "  3357.49,513.027 3357.49,473.217 3478.06,473.217 \n",
       "  \"/>\n",
       "<polyline clip-path=\"url(#clip902)\" style=\"stroke:#000000; stroke-width:4; stroke-opacity:1; fill:none\" points=\"\n",
       "  3327.11,453.311 3327.11,393.596 3478.06,393.596 \n",
       "  \"/>\n",
       "<polyline clip-path=\"url(#clip902)\" style=\"stroke:#000000; stroke-width:4; stroke-opacity:1; fill:none\" points=\"\n",
       "  1308.91,860.086 1308.91,214.448 2750.25,214.448 \n",
       "  \"/>\n",
       "<polyline clip-path=\"url(#clip902)\" style=\"stroke:#000000; stroke-width:4; stroke-opacity:1; fill:none\" points=\"\n",
       "  2750.25,214.448 2750.25,274.164 3300.13,274.164 \n",
       "  \"/>\n",
       "<polyline clip-path=\"url(#clip902)\" style=\"stroke:#000000; stroke-width:4; stroke-opacity:1; fill:none\" points=\"\n",
       "  3300.13,274.164 3300.13,313.975 3478.06,313.975 \n",
       "  \"/>\n",
       "<polyline clip-path=\"url(#clip902)\" style=\"stroke:#000000; stroke-width:4; stroke-opacity:1; fill:none\" points=\"\n",
       "  3300.13,274.164 3300.13,234.354 3478.06,234.354 \n",
       "  \"/>\n",
       "<polyline clip-path=\"url(#clip902)\" style=\"stroke:#000000; stroke-width:4; stroke-opacity:1; fill:none\" points=\"\n",
       "  2750.25,214.448 2750.25,154.733 3478.06,154.733 \n",
       "  \"/>\n",
       "</svg>\n"
      ]
     },
     "execution_count": 99,
     "metadata": {},
     "output_type": "execute_result"
    }
   ],
   "source": [
    "plot(ts[\"TREE1\"], showtips=true)"
   ]
  },
  {
   "cell_type": "code",
   "execution_count": 100,
   "metadata": {},
   "outputs": [
    {
     "data": {
      "text/plain": [
       "LinkTree{OneRoot,String,LinkNode{OneRoot,String,Dict{String,Any},LinkBranch{OneRoot,String,Dict{String,Any},Float64}},LinkBranch{OneRoot,String,Dict{String,Any},Float64},Dict{String,Any}} with 46 tips, 91 nodes and 90 branches.\n",
       "Leaf names are Saxicola_caprata_Indonesia_EU421124, Saxicola_caprata_Indonesia_CytB_EU421122_, Saxicola_caprata_Indonesia_CytB_EU421123, Saxicola_caprata_Indonesia_CytB_HM633373_, Saxicola_insignis_Nepal_CytB_EU421117_, ... [40 omitted] ... and Saxicola_torquata_Nepal_CytB_EU421088_\n"
      ]
     },
     "execution_count": 100,
     "metadata": {},
     "output_type": "execute_result"
    }
   ],
   "source": [
    "tre = ts[\"TREE1\"]"
   ]
  },
  {
   "cell_type": "code",
   "execution_count": 101,
   "metadata": {},
   "outputs": [
    {
     "data": {
      "text/plain": [
       "LinkNode Node 72, an internal node with 1 inbound and 2 outbound connections (branches 60 and 51, 52)\n"
      ]
     },
     "execution_count": 101,
     "metadata": {},
     "output_type": "execute_result"
    }
   ],
   "source": [
    "target = \"Saxicola_tectes\"\n",
    "\n",
    "function getmrca(tre, target, verbose=false)\n",
    "    lfs = [x for x in getleaves(tre) if occursin(target, string(x))]\n",
    "    if verbose\n",
    "        println(lfs)\n",
    "    end\n",
    "    anc = [getancestors(tre, x) for x in lfs]\n",
    "    mrca = intersect(anc...)[1]\n",
    "end\n",
    "getmrca(tre, target)"
   ]
  },
  {
   "cell_type": "code",
   "execution_count": 263,
   "metadata": {},
   "outputs": [
    {
     "name": "stdout",
     "output_type": "stream",
     "text": [
      "[:getancestors, :getbranch, :getbranchdata, :getbranches, :getbranchinfo, :getbranchname, :getbranchnames, :getbranchrecord, :getchildren, :getdescendants, :getheight, :getinbound, :getleafinfo, :getleafnames, :getleaves, :getlength, :getnode, :getnodedata, :getnodename, :getnodenames, :getnoderecord, :getnodes, :getonetree, :getoutbounds, :getparent, :getroot, :getrootdistance, :getrootheight, :getroots, :gettreeinfo, :gettreename, :gettreenames, :gettrees][:getonetree, :gettreeinfo, :gettreename, :gettreenames, :gettrees, :ntrees, :treeiter, :treenameiter, :treenametype]"
     ]
    }
   ],
   "source": [
    "print([x for x in names(Phylo) if occursin(\"get\", string(x))])\n",
    "print([x for x in names(Phylo) if occursin(\"tree\", string(x))])"
   ]
  },
  {
   "cell_type": "markdown",
   "metadata": {},
   "source": [
    "## Trash"
   ]
  },
  {
   "cell_type": "markdown",
   "metadata": {},
   "source": [
    "### Identifying name parsing issues"
   ]
  },
  {
   "cell_type": "code",
   "execution_count": 23,
   "metadata": {},
   "outputs": [
    {
     "name": "stdout",
     "output_type": "stream",
     "text": [
      "Set([\"438650\", \"_Nesoenas_picturata_Reunion\", \"503\", \"_Nesoenas_picturata_Madagascar\", \"_Columba_livia_Utah\", \"59755\", \"433029\", \"427328\", \"436499\", \"873\", \"352779\", \"423\", \"_Streptopelia_orientalis_Russia\", \"47282\", \"429308\", \"2109\", \"_Columba_rupestris_Mongolia\", \"436422\", \"436498\", \"352781\"])\n",
      "[\"2109_Nesoenas_picturata_Reunion\", \"352779_Nesoenas_picturata_Madagascar\", \"352781_Nesoenas_picturata_Madagascar\", \"423_Columba_livia_Utah\", \"427328_Nesoenas_picturata_Madagascar\", \"429308_Nesoenas_picturata_Madagascar\", \"433029_Nesoenas_picturata_Madagascar\", \"436422_Nesoenas_picturata_Madagascar\", \"436498_Nesoenas_picturata_Madagascar\", \"436499_Nesoenas_picturata_Madagascar\", \"438650_Nesoenas_picturata_Madagascar\", \"47282_Streptopelia_orientalis_Russia\", \"503_Nesoenas_picturata_Reunion\", \"59755_Columba_rupestris_Mongolia\", \"873_Nesoenas_picturata_Reunion\"]\n"
     ]
    }
   ],
   "source": [
    "## Coracina/Zosterops - Can't have period in taxon name\n",
    "# Dictionary from parser\n",
    "#wat = Dict(\"HM002980\" => \"HM002980\",\"MG776867\" => \"MG776867\",\"MK617557\" => \"MK617557\",\"EF052773\" => \"EF052773\",\"HM002979\" => \"HM002979\",\"HM002961\" => \"HM002961\",\"KF818978\" => \"KF818978\",\"EF052777\" => \"EF052777\",\"EF052782\" => \"EF052782\",\"HM002978\" => \"HM002978\",\"HM002962\" => \"HM002962\",\"EF052696\" => \"EF052696\",\"DQ468946\" => \"DQ468946\",\"HM002959\" => \"HM002959\",\".1\" => \".1\",\"DQ468948\" => \"DQ468948\",\"KF818977\" => \"KF818977\",\"EF052781\" => \"EF052781\",\"JQ864445\" => \"JQ864445\",\"EF052778\" => \"EF052778\",\"MF149726\" => \"MF149726\",\"DQ468944\" => \"DQ468944\",\"DQ468943\" => \"DQ468943\",\"HM002964\" => \"HM002964\",\"DQ468956\" => \"DQ468956\",\"MF149728\" => \"MF149728\",\"HM002956\" => \"HM002956\",\"HM002988\" => \"HM002988\",\"DQ468953\" => \"DQ468953\",\"KF818980\" => \"KF818980\",\"HM002971\" => \"HM002971\",\"EF052779\" => \"EF052779\",\"DQ468955\" => \"DQ468955\",\"HM002976\" => \"HM002976\",\"HM002982\" => \"HM002982\",\"EF052697\" => \"EF052697\",\"MF149727\" => \"MF149727\",\"HM002960\" => \"HM002960\",\"AY529948\" => \"AY529948\",\"HM002974\" => \"HM002974\",\"MG776869\" => \"MG776869\",\"HM002965\" => \"HM002965\",\"HM002958\" => \"HM002958\",\"DQ468958\" => \"DQ468958\",\"HM002957\" => \"HM002957\",\"EF052685\" => \"EF052685\",\"DQ468951\" => \"DQ468951\",\"DQ468949\" => \"DQ468949\",\"KF818979\" => \"KF818979\",\"DQ468952\" => \"DQ468952\",\"HM002967\" => \"HM002967\",\"EF052774\" => \"EF052774\",\"HM002968\" => \"HM002968\",\"HM002973\" => \"HM002973\",\"KJ455391\" => \"KJ455391\",\"HM002954\" => \"HM002954\",\"EF052686\" => \"EF052686\",\"JQ864444\" => \"JQ864444\",\"DQ468957\" => \"DQ468957\",\"MG776868\" => \"MG776868\",\"DQ468954\" => \"DQ468954\",\"HM002953\" => \"HM002953\",\"DQ468942\" => \"DQ468942\",\"EF052687\" => \"EF052687\",\"HM002975\" => \"HM002975\",\"MK617556\" => \"MK617556\",\"EF052780\" => \"EF052780\",\"HM002966\" => \"HM002966\",\"DQ468947\" => \"DQ468947\",\"HM002977\" => \"HM002977\",\"DQ468950\" => \"DQ468950\",\"HM002955\" => \"HM002955\",\"EF052776\" => \"EF052776\",\"DQ468945\" => \"DQ468945\",\"HM002969\" => \"HM002969\",\"HM002952\" => \"HM002952\")\n",
    "# taxanames from the file\n",
    "#watnames = [\"AY529948\", \"DQ468942\", \"DQ468943\", \"DQ468944\", \"DQ468945\", \"DQ468946\", \"DQ468947\", \"DQ468948\", \"DQ468949\", \"DQ468950\", \"DQ468951\", \"DQ468952\", \"DQ468953\", \"DQ468954\", \"DQ468955\", \"DQ468956\", \"DQ468957\", \"DQ468958\", \"EF052685\", \"EF052686\", \"EF052687\", \"EF052696\", \"EF052697\", \"EF052773\", \"EF052774\", \"EF052776\", \"EF052777\", \"EF052778\", \"EF052779\", \"EF052780\", \"EF052781\", \"EF052782\", \"HM002952\", \"HM002953\", \"HM002954\", \"HM002955\", \"HM002956\", \"HM002957\", \"HM002958\", \"HM002959\", \"HM002960\", \"HM002961\", \"HM002962\", \"HM002964\", \"HM002965\", \"HM002966\", \"HM002967\", \"HM002968\", \"HM002969\", \"HM002971\", \"HM002973\", \"HM002974\", \"HM002975\", \"HM002976\", \"HM002977\", \"HM002978\", \"HM002979\", \"HM002980\", \"HM002982\", \"HM002988\", \"JQ864444\", \"JQ864445\", \"KF818977\", \"KF818978\", \"KF818979\", \"KF818980\", \"KJ455391\", \"MF149726\", \"MF149727\", \"MF149728\", \"MG776867\", \"MG776868\", \"MG776869\", \"MK617556\", \"MK617557\"]\n",
    "\n",
    "## Nesoenas - Taxon names can't begin with numeric\n",
    "wat = Dict(\"ATP86136_Columba_plumbea_Brazil\" => \"ATP86136_Columba_plumbea_Brazil\",\"SDK_4_Streptopelia_hypopyrrha_Cameroon\" => \"SDK_4_Streptopelia_hypopyrrha_Cameroon\",\"438650\" => \"438650\",\"503\" => \"503\",\"SDK1_Streptopelia_decaocto_Netherlands\" => \"SDK1_Streptopelia_decaocto_Netherlands\",\"L565_Nesoenas_picturata_Mauritius\" => \"L565_Nesoenas_picturata_Mauritius\",\"SDK1_Streptopelia_roseogrisea_Cameroon\" => \"SDK1_Streptopelia_roseogrisea_Cameroon\",\"L598_Nesoenas_picturata_Aldabra\" => \"L598_Nesoenas_picturata_Aldabra\",\"SDK1_Streptopelia_bitorquata_Captive\" => \"SDK1_Streptopelia_bitorquata_Captive\",\"436499\" => \"436499\",\"B995_Geotrygon_montana_Peru\" => \"B995_Geotrygon_montana_Peru\",\"B4024_Reinwardtoena_browni_Captive\" => \"B4024_Reinwardtoena_browni_Captive\",\"B34270_Streptopelia_semitorquata_South_Africa\" => \"B34270_Streptopelia_semitorquata_South_Africa\",\"L593_Nesoenas_picturata_Aldabra\" => \"L593_Nesoenas_picturata_Aldabra\",\"PRS2168_Streptopelia_vinacea_Central_Africa_Rep\" => \"PRS2168_Streptopelia_vinacea_Central_Africa_Rep\",\"_Streptopelia_orientalis_Russia\" => \"_Streptopelia_orientalis_Russia\",\"47282\" => \"47282\",\"SEA074_Macropygia_tenurirostris_Philippines\" => \"SEA074_Macropygia_tenurirostris_Philippines\",\"SML1045_Columba_subvinacea_Peru\" => \"SML1045_Columba_subvinacea_Peru\",\"DHC1_Columba_fasciata_Utah\" => \"DHC1_Columba_fasciata_Utah\",\"_Columba_rupestris_Mongolia\" => \"_Columba_rupestris_Mongolia\",\"KPJ5_Zenaida_macroura_Arizona\" => \"KPJ5_Zenaida_macroura_Arizona\",\"L594_Nesoenas_picturata_Aldabra\" => \"L594_Nesoenas_picturata_Aldabra\",\"436422\" => \"436422\",\"L566_Nesoenas_picturata_Seychelles\" => \"L566_Nesoenas_picturata_Seychelles\",\"L616A_Nesoenas_picturata_Comoros\" => \"L616A_Nesoenas_picturata_Comoros\",\"436498\" => \"436498\",\"DHC5_Leptotila_verrauxi_Texas\" => \"DHC5_Leptotila_verrauxi_Texas\",\"DW4712_Streptopelia_chinensis_Philippines\" => \"DW4712_Streptopelia_chinensis_Philippines\",\"SDK1_Columba_pulchrichollis_Captive\" => \"SDK1_Columba_pulchrichollis_Captive\",\"B34209_Streptopelia_senegalensis_South_Africa\" => \"B34209_Streptopelia_senegalensis_South_Africa\",\"CC2_Columba_arquatrix_South_Africa\" => \"CC2_Columba_arquatrix_South_Africa\",\"B34271_Streptopelia_capicola_South_Africa\" => \"B34271_Streptopelia_capicola_South_Africa\",\"AJB556_Columba_oenops_Peru\" => \"AJB556_Columba_oenops_Peru\",\"L597_Nesoenas_picturata_Aldabra\" => \"L597_Nesoenas_picturata_Aldabra\",\"_Nesoenas_picturata_Reunion\" => \"_Nesoenas_picturata_Reunion\",\"L591_Nesoenas_picturata_Aldabra\" => \"L591_Nesoenas_picturata_Aldabra\",\"_Nesoenas_picturata_Madagascar\" => \"_Nesoenas_picturata_Madagascar\",\"KPJ5_Zenaida_asiatica_Arizona\" => \"KPJ5_Zenaida_asiatica_Arizona\",\"L615A_Nesoenas_picturata_Comoros\" => \"L615A_Nesoenas_picturata_Comoros\",\"_Columba_livia_Utah\" => \"_Columba_livia_Utah\",\"59755\" => \"59755\",\"MKL82_Macropygia_mackinlayi_Solomon\" => \"MKL82_Macropygia_mackinlayi_Solomon\",\"SDK1_Streptopelia_decipiens_Cameroon\" => \"SDK1_Streptopelia_decipiens_Cameroon\",\"433029\" => \"433029\",\"427328\" => \"427328\",\"B793_Leptotila_rufaxilla_Peru\" => \"B793_Leptotila_rufaxilla_Peru\",\"DAB236_Streptopelia_turtur_Kazakhstan\" => \"DAB236_Streptopelia_turtur_Kazakhstan\",\"CC1_Nesoenas_picturata_Madagascar\" => \"CC1_Nesoenas_picturata_Madagascar\",\"B34209_Columba_guinea_South_Africa\" => \"B34209_Columba_guinea_South_Africa\",\"873\" => \"873\",\"L595_Nesoenas_picturata_Aldabra\" => \"L595_Nesoenas_picturata_Aldabra\",\"352779\" => \"352779\",\"TA_Nesoenas_mayeri_Captive\" => \"TA_Nesoenas_mayeri_Captive\",\"423\" => \"423\",\"B2096_Columba_speciosa_Mexico\" => \"B2096_Columba_speciosa_Mexico\",\"L563_Nesoenas_picturata_Seychelles\" => \"L563_Nesoenas_picturata_Seychelles\",\"SDK2_Streptopelia_tranquebarica_Captive\" => \"SDK2_Streptopelia_tranquebarica_Captive\",\"L592_Nesoenas_picturata_Aldabra\" => \"L592_Nesoenas_picturata_Aldabra\",\"429308\" => \"429308\",\"2109\" => \"2109\",\"TA_Columba_palumbus_Captive\" => \"TA_Columba_palumbus_Captive\",\"L600_Nesoenas_picturata_Aldabra\" => \"L600_Nesoenas_picturata_Aldabra\",\"B1798_Columba_leucocephala_Florida\" => \"B1798_Columba_leucocephala_Florida\",\"352781\" => \"352781\")\n",
    "watnames = [\"2109_Nesoenas_picturata_Reunion\", \"352779_Nesoenas_picturata_Madagascar\", \"352781_Nesoenas_picturata_Madagascar\", \"423_Columba_livia_Utah\", \"427328_Nesoenas_picturata_Madagascar\", \"429308_Nesoenas_picturata_Madagascar\", \"433029_Nesoenas_picturata_Madagascar\", \"436422_Nesoenas_picturata_Madagascar\", \"436498_Nesoenas_picturata_Madagascar\", \"436499_Nesoenas_picturata_Madagascar\", \"438650_Nesoenas_picturata_Madagascar\", \"47282_Streptopelia_orientalis_Russia\", \"503_Nesoenas_picturata_Reunion\", \"59755_Columba_rupestris_Mongolia\", \"873_Nesoenas_picturata_Reunion\", \"AJB556_Columba_oenops_Peru\", \"ATP86136_Columba_plumbea_Brazil\", \"B1798_Columba_leucocephala_Florida\", \"B2096_Columba_speciosa_Mexico\", \"B34209_Columba_guinea_South_Africa\", \"B34209_Streptopelia_senegalensis_South_Africa\", \"B34270_Streptopelia_semitorquata_South_Africa\", \"B34271_Streptopelia_capicola_South_Africa\", \"B4024_Reinwardtoena_browni_Captive\", \"B793_Leptotila_rufaxilla_Peru\", \"B995_Geotrygon_montana_Peru\", \"CC1_Nesoenas_picturata_Madagascar\", \"CC2_Columba_arquatrix_South_Africa\", \"DAB236_Streptopelia_turtur_Kazakhstan\", \"DHC1_Columba_fasciata_Utah\", \"DHC5_Leptotila_verrauxi_Texas\", \"DW4712_Streptopelia_chinensis_Philippines\", \"KPJ5_Zenaida_asiatica_Arizona\", \"KPJ5_Zenaida_macroura_Arizona\", \"L563_Nesoenas_picturata_Seychelles\", \"L565_Nesoenas_picturata_Mauritius\", \"L566_Nesoenas_picturata_Seychelles\", \"L591_Nesoenas_picturata_Aldabra\", \"L592_Nesoenas_picturata_Aldabra\", \"L593_Nesoenas_picturata_Aldabra\", \"L594_Nesoenas_picturata_Aldabra\", \"L595_Nesoenas_picturata_Aldabra\", \"L597_Nesoenas_picturata_Aldabra\", \"L598_Nesoenas_picturata_Aldabra\", \"L600_Nesoenas_picturata_Aldabra\", \"L615A_Nesoenas_picturata_Comoros\", \"L616A_Nesoenas_picturata_Comoros\", \"MKL82_Macropygia_mackinlayi_Solomon\", \"PRS2168_Streptopelia_vinacea_Central_Africa_Rep\", \"SDK1_Columba_pulchrichollis_Captive\", \"SDK1_Streptopelia_bitorquata_Captive\", \"SDK1_Streptopelia_decaocto_Netherlands\", \"SDK1_Streptopelia_decipiens_Cameroon\", \"SDK1_Streptopelia_roseogrisea_Cameroon\", \"SDK2_Streptopelia_tranquebarica_Captive\", \"SDK_4_Streptopelia_hypopyrrha_Cameroon\", \"SEA074_Macropygia_tenurirostris_Philippines\", \"SML1045_Columba_subvinacea_Peru\", \"TA_Columba_palumbus_Captive\", \"TA_Nesoenas_mayeri_Captive\"]\n",
    "length(watnames)\n",
    "println(setdiff(keys(wat), watnames))\n",
    "println(setdiff(watnames, keys(wat)))"
   ]
  },
  {
   "cell_type": "markdown",
   "metadata": {},
   "source": [
    "### How to generate the taxa list errors"
   ]
  },
  {
   "cell_type": "code",
   "execution_count": 55,
   "metadata": {},
   "outputs": [
    {
     "name": "stderr",
     "output_type": "stream",
     "text": [
      "┌ Warning: Dict(\"AY529948\" => \"AY529948\",\"_Nesoenas_picturata_Reunion\" => \"_Nesoenas_picturata_Reunion\",\".1\" => \".1\",\"2108\" => \"2108\",\"_2109_Nesoenas_picturata_Reunion\" => \"_2109_Nesoenas_picturata_Reunion\")\n",
      "└ @ Phylo /home/isaac/tmp/julia/Phylo.jl/src/newick.jl:443\n",
      "┌ Warning: Taxa list length (5) and ntax (3) do not match\n",
      "└ @ Phylo /home/isaac/tmp/julia/Phylo.jl/src/newick.jl:444\n",
      "┌ Warning: Missing ',' in taxa block, but in 'trees -> translate' block\n",
      "└ @ Phylo /home/isaac/tmp/julia/Phylo.jl/src/newick.jl:476\n",
      "┌ Warning: Missing ';' in taxa block, but in 'trees -> translate' block\n",
      "└ @ Phylo /home/isaac/tmp/julia/Phylo.jl/src/newick.jl:476\n",
      "┌ Warning: Missing 'TREE1' in taxa block, but in 'trees -> translate' block\n",
      "└ @ Phylo /home/isaac/tmp/julia/Phylo.jl/src/newick.jl:476\n",
      "┌ Warning: Missing '[' in taxa block, but in 'trees -> translate' block\n",
      "└ @ Phylo /home/isaac/tmp/julia/Phylo.jl/src/newick.jl:476\n",
      "┌ Warning: Missing 'R' in taxa block, but in 'trees -> translate' block\n",
      "└ @ Phylo /home/isaac/tmp/julia/Phylo.jl/src/newick.jl:476\n",
      "┌ Warning: Missing '(' in taxa block, but in 'trees -> translate' block\n",
      "└ @ Phylo /home/isaac/tmp/julia/Phylo.jl/src/newick.jl:476\n",
      "┌ Warning: Missing ':' in taxa block, but in 'trees -> translate' block\n",
      "└ @ Phylo /home/isaac/tmp/julia/Phylo.jl/src/newick.jl:476\n",
      "┌ Warning: Missing ',' in taxa block, but in 'trees -> translate' block\n",
      "└ @ Phylo /home/isaac/tmp/julia/Phylo.jl/src/newick.jl:476\n",
      "┌ Warning: Missing '0.18127275' in taxa block, but in 'trees -> translate' block\n",
      "└ @ Phylo /home/isaac/tmp/julia/Phylo.jl/src/newick.jl:476\n",
      "┌ Warning: Missing ':' in taxa block, but in 'trees -> translate' block\n",
      "└ @ Phylo /home/isaac/tmp/julia/Phylo.jl/src/newick.jl:476\n",
      "┌ Warning: Missing ')' in taxa block, but in 'trees -> translate' block\n",
      "└ @ Phylo /home/isaac/tmp/julia/Phylo.jl/src/newick.jl:476\n",
      "┌ Warning: Missing ':' in taxa block, but in 'trees -> translate' block\n",
      "└ @ Phylo /home/isaac/tmp/julia/Phylo.jl/src/newick.jl:476\n",
      "┌ Warning: Missing ')' in taxa block, but in 'trees -> translate' block\n",
      "└ @ Phylo /home/isaac/tmp/julia/Phylo.jl/src/newick.jl:476\n"
     ]
    },
    {
     "data": {
      "text/plain": [
       "TreeSet with 0 trees, each with 0 tips.\n",
       "Tree names are \n"
      ]
     },
     "execution_count": 55,
     "metadata": {},
     "output_type": "execute_result"
    }
   ],
   "source": [
    "nex = \"\"\"#NEXUS\n",
    "\n",
    "Begin taxa;\n",
    "    Dimensions ntax=3;\n",
    "    TaxLabels\n",
    "        _2109_Nesoenas_picturata_Reunion\n",
    "        2108_Nesoenas_picturata_Reunion\n",
    "        AY529948.1\n",
    "        ;\n",
    "End;\n",
    "Begin trees;\n",
    "    Translate\n",
    "        1 _2109_Nesoenas_picturata_Reunion,\n",
    "        2 2108_Nesoenas_picturata_Reunion,\n",
    "        3 AY529948.1\n",
    "        ;\n",
    "    tree TREE1 = [&R] (2:0.2311195,(1:0.18127275,3:0.18127275)3:0.049846749999999995);\n",
    "End;\n",
    "\"\"\"\n",
    "open(\"/tmp/tmp.tre\",\"w\") do io\n",
    "   println(io, nex)\n",
    "end\n",
    "\n",
    "ts = open(parsenexus, Phylo.path(\"/tmp/tmp.tre\"))\n"
   ]
  },
  {
   "cell_type": "code",
   "execution_count": 208,
   "metadata": {},
   "outputs": [
    {
     "data": {
      "text/plain": [
       "5-element Array{LinkNode{OneRoot,String,Dict{String,Any},LinkBranch{OneRoot,String,Dict{String,Any},Float64}},1}:\n",
       " LinkNode Saxicola_tectes_REUNION_EU190909, a tip of the tree with an incoming connection (branch 45).\n",
       "\n",
       " LinkNode Saxicola_tectes_REUNION_EU190910, a tip of the tree with an incoming connection (branch 46).\n",
       "\n",
       " LinkNode Saxicola_tectes_REUNION_EU190911, a tip of the tree with an incoming connection (branch 47).\n",
       "\n",
       " LinkNode Saxicola_tectes_REUNION_EU190912, a tip of the tree with an incoming connection (branch 48).\n",
       "\n",
       " LinkNode Saxicola_tectes_REUNION_EU421119_, a tip of the tree with an incoming connection (branch 50).\n"
      ]
     },
     "execution_count": 208,
     "metadata": {},
     "output_type": "execute_result"
    }
   ],
   "source": [
    "tre = ts[\"TREE1\"]\n",
    "\n",
    "## Get all the leaves of interest\n",
    "target = \"Saxicola_tectes\"\n",
    "lfs = [x for x in getleaves(tre) if occursin(target, string(x))]\n",
    "lfs[1].data\n",
    "lfs"
   ]
  },
  {
   "cell_type": "code",
   "execution_count": 243,
   "metadata": {},
   "outputs": [
    {
     "name": "stdout",
     "output_type": "stream",
     "text": [
      "LinkNode Saxicola_tectes_REUNION_EU190909, a tip of the tree with an incoming connection (branch 45).\n",
      "\n",
      "1.7469238015989779e-7LinkBranch 45, from node Node 69 to node Saxicola_tectes_REUNION_EU190909 (length 0.08762820910797045).\n",
      "\n",
      "LinkNode{OneRoot,String,Dict{String,Any},LinkBranch{OneRoot,String,Dict{String,Any},Float64}}[LinkNode Node 69, an internal node with 1 inbound and 2 outbound connections (branches 51 and 45, 46)\n",
      ", LinkNode Node 72, an internal node with 1 inbound and 2 outbound connections (branches 60 and 51, 52)\n",
      ", LinkNode Node 76, an internal node with 1 inbound and 2 outbound connections (branches 71 and 59, 60)\n",
      ", LinkNode Node 82, an internal node with 1 inbound and 2 outbound connections (branches 74 and 71, 72)\n",
      ", LinkNode Node 83, an internal node with 1 inbound and 2 outbound connections (branches 79 and 73, 74)\n",
      ", LinkNode Node 86, an internal node with 1 inbound and 2 outbound connections (branches 88 and 79, 80)\n",
      ", LinkNode Node 90, an internal node with 1 inbound and 2 outbound connections (branches 90 and 87, 88)\n",
      ", LinkNode Node 91, a root node with 2 outbound connections (branches 89, 90)\n",
      "]\n",
      "Union{Missing, LinkBranch{OneRoot,String,Dict{String,Any},Float64}}[LinkBranch 51, from node Node 72 to node Node 69 (length 0.2827475497629843).\n",
      ", LinkBranch 60, from node Node 76 to node Node 72 (length 2.1608519381889932).\n",
      ", LinkBranch 71, from node Node 82 to node Node 76 (length 0.6864492691057751).\n",
      ", LinkBranch 74, from node Node 83 to node Node 82 (length 0.7038909004633225).\n",
      ", LinkBranch 79, from node Node 86 to node Node 83 (length 1.466418942178675).\n",
      ", LinkBranch 88, from node Node 90 to node Node 86 (length 0.9274696034406134).\n",
      ", LinkBranch 90, from node Node 91 to node Node 90 (length 1.5452214406695175).\n",
      ", missing]\n",
      "[0.08762838380035061, 0.37037593356333487, 2.531227871752328, 3.217677140858103, 3.9215680413214256, 5.387986983500101, 6.315456586940714, 7.8606780276102315]"
     ]
    },
    {
     "data": {
      "text/plain": [
       "LinkNode Node 72, an internal node with 1 inbound and 2 outbound connections (branches 60 and 51, 52)\n"
      ]
     },
     "execution_count": 243,
     "metadata": {},
     "output_type": "execute_result"
    }
   ],
   "source": [
    "anc = [getancestors(tre, x) for x in lfs]\n",
    "println(lfs[1])\n",
    "println(lfs[1].data[\"height\"], lfs[1].inbound)\n",
    "println(anc[1])\n",
    "println([x.inbound for x in anc[1]])\n",
    "print([x.data[\"height\"] for x in anc[1]])\n",
    "mrca = intersect(anc...)[1]\n",
    "#mrca"
   ]
  },
  {
   "cell_type": "code",
   "execution_count": 278,
   "metadata": {},
   "outputs": [
    {
     "data": {
      "text/plain": [
       "Dict{String,Any} with 13 entries:\n",
       "  \"rate_95%_HPD\"   => [0.00659642, 0.0214815]\n",
       "  \"length_median\"  => 2.26023\n",
       "  \"rate\"           => 0.0127974\n",
       "  \"length_range\"   => [0.350405, 6.71901]\n",
       "  \"height_range\"   => [0.0667782, 1.9467]\n",
       "  \"length\"         => 2.32865\n",
       "  \"height\"         => 0.370376\n",
       "  \"rate_median\"    => 0.0116503\n",
       "  \"length_95%_HPD\" => [1.08399, 3.66729]\n",
       "  \"rate_range\"     => [0.00287563, 0.0661195]\n",
       "  \"height_95%_HPD\" => [0.13001, 0.657064]\n",
       "  \"height_median\"  => 0.345065\n",
       "  \"posterior\"      => 0.9996"
      ]
     },
     "execution_count": 278,
     "metadata": {},
     "output_type": "execute_result"
    }
   ],
   "source": [
    "keeptips!(tre, lfs)\n",
    "plot(tre)\n",
    "getnode(tre, \"Node 72\").data"
   ]
  },
  {
   "cell_type": "code",
   "execution_count": 20,
   "metadata": {},
   "outputs": [
    {
     "name": "stdout",
     "output_type": "stream",
     "text": [
      "Reunion\n",
      "([0.7193396464076218, 0.06748956554590739, 0.37037593356333487, 0.02815927511276756, 0.12171336597321285, 0.10180970562703719, 0.022642568761800347, 0.05794101756357291, 0.06006412791448501, 0.2661623967485962], Any[88, 20500, 180000, 49500, 465000, 150000, 200, 198000, 26354, 400])\n",
      "Mauritius\n",
      "([0.7193396464076218, 0.143429941925178, 0.1146682342793967, 0.5442962791558384, 0.07625165171674868, 0.17162736542487242, 0.33737550893310325, 0.018616997618832228, 2.119025680390747, 0.029253141083029576, 0.04906314569492196, 0.2661623967485962], Any[520, 216, 560, 533, 200, 191, 68000, 350, 380, 200000, 4172, 300])\n",
      "Rodriguez\n",
      "(Any[], Any[])\n"
     ]
    }
   ],
   "source": [
    "for island in [\"Reunion\", \"Mauritius\", \"Rodriguez\"]\n",
    "    print(island, \"\\n\")\n",
    "    tdf = load_sheet()\n",
    "    tdf = get_abunds(tdf, island)\n",
    "    tdf = read_nexus(tdf)\n",
    "    tdf = get_mrcas(tdf, island)\n",
    "    print(getdata(tdf), \"\\n\")\n",
    "end\n",
    "plot()\n",
    "plot_saad(\"Reunion\")\n",
    "plot_saad(\"Mauritius\")\n",
    "png(\"Mascarene_SAAD\")"
   ]
  }
 ],
 "metadata": {
  "kernelspec": {
   "display_name": "Julia 1.5.2",
   "language": "julia",
   "name": "julia-1.5"
  },
  "language_info": {
   "file_extension": ".jl",
   "mimetype": "application/julia",
   "name": "julia",
   "version": "1.5.2"
  }
 },
 "nbformat": 4,
 "nbformat_minor": 4
}
